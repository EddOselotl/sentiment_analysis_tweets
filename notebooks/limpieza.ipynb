{
  "nbformat": 4,
  "nbformat_minor": 0,
  "metadata": {
    "colab": {
      "name": "modelado_ejemplo_2.ipynb",
      "provenance": [],
      "collapsed_sections": [],
      "toc_visible": true,
      "include_colab_link": true
    },
    "kernelspec": {
      "display_name": "itam_intro_to_ds",
      "language": "python",
      "name": "itam_intro_to_ds"
    },
    "language_info": {
      "codemirror_mode": {
        "name": "ipython",
        "version": 3
      },
      "file_extension": ".py",
      "mimetype": "text/x-python",
      "name": "python",
      "nbconvert_exporter": "python",
      "pygments_lexer": "ipython3",
      "version": "3.7.4"
    }
  },
  "cells": [
    {
      "cell_type": "markdown",
      "metadata": {
        "id": "view-in-github",
        "colab_type": "text"
      },
      "source": [
        "<a href=\"https://colab.research.google.com/github/caroacostatovany/sentiment_analysis_tweets/blob/main/notebooks/limpieza.ipynb\" target=\"_parent\"><img src=\"https://colab.research.google.com/assets/colab-badge.svg\" alt=\"Open In Colab\"/></a>"
      ]
    },
    {
      "cell_type": "markdown",
      "metadata": {
        "id": "fzAL3d4hF4MZ"
      },
      "source": [
        "# NOTEBOOK DE LIMPIEZA"
      ]
    },
    {
      "cell_type": "code",
      "metadata": {
        "id": "TrmrcgOf0Wd_",
        "outputId": "b424b1ea-62a3-435f-c100-29d8b44ad5e1",
        "colab": {
          "base_uri": "https://localhost:8080/"
        }
      },
      "source": [
        "!pip install \"git+https://github.com/ElenaVillano/sentiment_analysis_tweets.git#egg=nlptweet&subdirectory=src\" --quiet"
      ],
      "execution_count": 26,
      "outputs": [
        {
          "output_type": "stream",
          "text": [
            "  Building wheel for nlptweet (setup.py) ... \u001b[?25l\u001b[?25hdone\n"
          ],
          "name": "stdout"
        }
      ]
    },
    {
      "cell_type": "code",
      "metadata": {
        "id": "pg5YRy3E1jMT",
        "outputId": "b84b75f6-f5f3-465c-9d53-8b0803723c3b",
        "colab": {
          "base_uri": "https://localhost:8080/"
        }
      },
      "source": [
        "!pip uninstall nlptweet"
      ],
      "execution_count": 25,
      "outputs": [
        {
          "output_type": "stream",
          "text": [
            "Uninstalling nlptweet-0.1:\n",
            "  Would remove:\n",
            "    /usr/local/lib/python3.7/dist-packages/nlp/*\n",
            "    /usr/local/lib/python3.7/dist-packages/nlptweet-0.1.dist-info/*\n",
            "Proceed (y/n)? y\n",
            "  Successfully uninstalled nlptweet-0.1\n"
          ],
          "name": "stdout"
        }
      ]
    },
    {
      "cell_type": "code",
      "metadata": {
        "colab": {
          "base_uri": "https://localhost:8080/"
        },
        "id": "mpmrJ_G_pgnP",
        "outputId": "121e86ff-dc4b-4c71-9cbf-beabf09728f4"
      },
      "source": [
        "import pandas as pd\n",
        "import numpy as np\n",
        "import matplotlib.pyplot as plt\n",
        "import datetime\n",
        "import nltk\n",
        "import string\n",
        "# Nuestro paquete\n",
        "import nlp\n",
        "\n",
        "\n",
        "#call the nltk downloader\n",
        "nltk.download('punkt')\n",
        "\n",
        "from dateutil import parser\n",
        "\n",
        "#from sklearn.model_selection import train_test_split\n",
        "\n",
        "# Carga un set de stopwords predefinidas\n",
        "from nltk.corpus import stopwords\n",
        "\n",
        "from nltk.tokenize import sent_tokenize, word_tokenize\n",
        "from nltk.stem import PorterStemmer\n",
        "from nltk.stem import LancasterStemmer"
      ],
      "execution_count": 27,
      "outputs": [
        {
          "output_type": "stream",
          "text": [
            "[nltk_data] Downloading package punkt to /root/nltk_data...\n",
            "[nltk_data]   Package punkt is already up-to-date!\n"
          ],
          "name": "stdout"
        }
      ]
    },
    {
      "cell_type": "code",
      "metadata": {
        "id": "UP5nN_Ns0WeJ"
      },
      "source": [
        "# Nombramiento de columnas\n",
        "col_names = ['target', # Polaridad del twet 0=negativo, 2=neutral, 4=positivo\n",
        "             'ids',    # ID tweet\n",
        "             'date',   # Fecha y hora del tweet\n",
        "             'flag',   # QUERY\n",
        "             'user',   # Usuario del tweet\n",
        "             'text']   # Texto del tweety"
      ],
      "execution_count": 18,
      "outputs": []
    },
    {
      "cell_type": "markdown",
      "metadata": {
        "id": "EbcoouZtnEUf"
      },
      "source": [
        "# Carga y limpieza de datos"
      ]
    },
    {
      "cell_type": "code",
      "metadata": {
        "colab": {
          "resources": {
            "http://localhost:8080/nbextensions/google.colab/files.js": {
              "data": "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",
              "ok": true,
              "headers": [
                [
                  "content-type",
                  "application/javascript"
                ]
              ],
              "status": 200,
              "status_text": ""
            }
          },
          "base_uri": "https://localhost:8080/",
          "height": 73
        },
        "id": "j6uJdbk2nKCX",
        "outputId": "adb6a33e-52b6-48c4-a3fc-386e6043e884"
      },
      "source": [
        "# Requiered to select a file to be imported into colab\n",
        "# Not useful if running locally\n",
        "from google.colab import files\n",
        "uploaded = files.upload()"
      ],
      "execution_count": 4,
      "outputs": [
        {
          "output_type": "display_data",
          "data": {
            "text/html": [
              "\n",
              "     <input type=\"file\" id=\"files-f7b32f68-4a8a-4881-963e-3000225f49de\" name=\"files[]\" multiple disabled\n",
              "        style=\"border:none\" />\n",
              "     <output id=\"result-f7b32f68-4a8a-4881-963e-3000225f49de\">\n",
              "      Upload widget is only available when the cell has been executed in the\n",
              "      current browser session. Please rerun this cell to enable.\n",
              "      </output>\n",
              "      <script src=\"/nbextensions/google.colab/files.js\"></script> "
            ],
            "text/plain": [
              "<IPython.core.display.HTML object>"
            ]
          },
          "metadata": {
            "tags": []
          }
        },
        {
          "output_type": "stream",
          "text": [
            "Saving training.1600000.processed.noemoticon.csv to training.1600000.processed.noemoticon.csv\n"
          ],
          "name": "stdout"
        }
      ]
    },
    {
      "cell_type": "code",
      "metadata": {
        "id": "Z5P449bk0WeL"
      },
      "source": [
        "data =  pd.read_csv('training.1600000.processed.noemoticon.csv',\n",
        "                 encoding='latin-1', names=col_names)"
      ],
      "execution_count": 94,
      "outputs": []
    },
    {
      "cell_type": "code",
      "metadata": {
        "colab": {
          "base_uri": "https://localhost:8080/"
        },
        "id": "zs77X44P0WeM",
        "outputId": "1a7e5697-e7c1-4729-8d2f-0f22cb015409"
      },
      "source": [
        "print(data.shape)"
      ],
      "execution_count": 95,
      "outputs": [
        {
          "output_type": "stream",
          "text": [
            "(1600000, 6)\n"
          ],
          "name": "stdout"
        }
      ]
    },
    {
      "cell_type": "code",
      "metadata": {
        "colab": {
          "base_uri": "https://localhost:8080/",
          "height": 287
        },
        "id": "UGANa9pX0WeO",
        "outputId": "d9f26390-200a-4c22-989a-f164ca606c29"
      },
      "source": [
        "# Ejemplo\n",
        "data.loc[[4,8,27,41,44,35,48,155]]"
      ],
      "execution_count": 96,
      "outputs": [
        {
          "output_type": "execute_result",
          "data": {
            "text/html": [
              "<div>\n",
              "<style scoped>\n",
              "    .dataframe tbody tr th:only-of-type {\n",
              "        vertical-align: middle;\n",
              "    }\n",
              "\n",
              "    .dataframe tbody tr th {\n",
              "        vertical-align: top;\n",
              "    }\n",
              "\n",
              "    .dataframe thead th {\n",
              "        text-align: right;\n",
              "    }\n",
              "</style>\n",
              "<table border=\"1\" class=\"dataframe\">\n",
              "  <thead>\n",
              "    <tr style=\"text-align: right;\">\n",
              "      <th></th>\n",
              "      <th>target</th>\n",
              "      <th>ids</th>\n",
              "      <th>date</th>\n",
              "      <th>flag</th>\n",
              "      <th>user</th>\n",
              "      <th>text</th>\n",
              "    </tr>\n",
              "  </thead>\n",
              "  <tbody>\n",
              "    <tr>\n",
              "      <th>4</th>\n",
              "      <td>0</td>\n",
              "      <td>1467811193</td>\n",
              "      <td>Mon Apr 06 22:19:57 PDT 2009</td>\n",
              "      <td>NO_QUERY</td>\n",
              "      <td>Karoli</td>\n",
              "      <td>@nationwideclass no, it's not behaving at all....</td>\n",
              "    </tr>\n",
              "    <tr>\n",
              "      <th>8</th>\n",
              "      <td>0</td>\n",
              "      <td>1467811795</td>\n",
              "      <td>Mon Apr 06 22:20:05 PDT 2009</td>\n",
              "      <td>NO_QUERY</td>\n",
              "      <td>2Hood4Hollywood</td>\n",
              "      <td>@Tatiana_K nope they didn't have it</td>\n",
              "    </tr>\n",
              "    <tr>\n",
              "      <th>27</th>\n",
              "      <td>0</td>\n",
              "      <td>1467814883</td>\n",
              "      <td>Mon Apr 06 22:20:52 PDT 2009</td>\n",
              "      <td>NO_QUERY</td>\n",
              "      <td>gagoo</td>\n",
              "      <td>im sad now  Miss.Lilly</td>\n",
              "    </tr>\n",
              "    <tr>\n",
              "      <th>41</th>\n",
              "      <td>0</td>\n",
              "      <td>1467818481</td>\n",
              "      <td>Mon Apr 06 22:21:46 PDT 2009</td>\n",
              "      <td>NO_QUERY</td>\n",
              "      <td>lionslamb</td>\n",
              "      <td>He's the reason for the teardrops on my guitar...</td>\n",
              "    </tr>\n",
              "    <tr>\n",
              "      <th>44</th>\n",
              "      <td>0</td>\n",
              "      <td>1467819022</td>\n",
              "      <td>Mon Apr 06 22:21:56 PDT 2009</td>\n",
              "      <td>NO_QUERY</td>\n",
              "      <td>hpfangirl94</td>\n",
              "      <td>Falling asleep. Just heard about that Tracy gi...</td>\n",
              "    </tr>\n",
              "    <tr>\n",
              "      <th>35</th>\n",
              "      <td>0</td>\n",
              "      <td>1467816749</td>\n",
              "      <td>Mon Apr 06 22:21:20 PDT 2009</td>\n",
              "      <td>NO_QUERY</td>\n",
              "      <td>scarletletterm</td>\n",
              "      <td>ok I'm sick and spent an hour sitting in the s...</td>\n",
              "    </tr>\n",
              "    <tr>\n",
              "      <th>48</th>\n",
              "      <td>0</td>\n",
              "      <td>1467820206</td>\n",
              "      <td>Mon Apr 06 22:22:13 PDT 2009</td>\n",
              "      <td>NO_QUERY</td>\n",
              "      <td>peacoats</td>\n",
              "      <td>is strangely sad about LiLo and SamRo breaking...</td>\n",
              "    </tr>\n",
              "    <tr>\n",
              "      <th>155</th>\n",
              "      <td>0</td>\n",
              "      <td>1467845157</td>\n",
              "      <td>Mon Apr 06 22:28:51 PDT 2009</td>\n",
              "      <td>NO_QUERY</td>\n",
              "      <td>styletrain</td>\n",
              "      <td>Man Work is Hard</td>\n",
              "    </tr>\n",
              "  </tbody>\n",
              "</table>\n",
              "</div>"
            ],
            "text/plain": [
              "     target  ...                                               text\n",
              "4         0  ...  @nationwideclass no, it's not behaving at all....\n",
              "8         0  ...               @Tatiana_K nope they didn't have it \n",
              "27        0  ...                             im sad now  Miss.Lilly\n",
              "41        0  ...  He's the reason for the teardrops on my guitar...\n",
              "44        0  ...  Falling asleep. Just heard about that Tracy gi...\n",
              "35        0  ...  ok I'm sick and spent an hour sitting in the s...\n",
              "48        0  ...  is strangely sad about LiLo and SamRo breaking...\n",
              "155       0  ...                                  Man Work is Hard \n",
              "\n",
              "[8 rows x 6 columns]"
            ]
          },
          "metadata": {
            "tags": []
          },
          "execution_count": 96
        }
      ]
    },
    {
      "cell_type": "code",
      "metadata": {
        "id": "36imkoYLzuqk"
      },
      "source": [
        "data['raw_text'] = data['text']"
      ],
      "execution_count": 97,
      "outputs": []
    },
    {
      "cell_type": "markdown",
      "metadata": {
        "id": "ecwR3-LZsdJK"
      },
      "source": [
        "## Convertimos a minúsculas"
      ]
    },
    {
      "cell_type": "code",
      "metadata": {
        "id": "k0xhfKqV194E"
      },
      "source": [
        "from nlp.preprocessing import convierte_a_minusculas"
      ],
      "execution_count": 98,
      "outputs": []
    },
    {
      "cell_type": "code",
      "metadata": {
        "id": "O6SC37m0sjtW"
      },
      "source": [
        "data = convierte_a_minusculas(data)"
      ],
      "execution_count": 99,
      "outputs": []
    },
    {
      "cell_type": "code",
      "metadata": {
        "colab": {
          "base_uri": "https://localhost:8080/",
          "height": 287
        },
        "id": "8WwQY-vN2e-t",
        "outputId": "1446cf27-b242-4c65-f319-c244074a92c9"
      },
      "source": [
        "# Ejemplo\n",
        "data.loc[[4,8,27,41,44,35,48,155]]"
      ],
      "execution_count": 100,
      "outputs": [
        {
          "output_type": "execute_result",
          "data": {
            "text/html": [
              "<div>\n",
              "<style scoped>\n",
              "    .dataframe tbody tr th:only-of-type {\n",
              "        vertical-align: middle;\n",
              "    }\n",
              "\n",
              "    .dataframe tbody tr th {\n",
              "        vertical-align: top;\n",
              "    }\n",
              "\n",
              "    .dataframe thead th {\n",
              "        text-align: right;\n",
              "    }\n",
              "</style>\n",
              "<table border=\"1\" class=\"dataframe\">\n",
              "  <thead>\n",
              "    <tr style=\"text-align: right;\">\n",
              "      <th></th>\n",
              "      <th>target</th>\n",
              "      <th>ids</th>\n",
              "      <th>date</th>\n",
              "      <th>flag</th>\n",
              "      <th>user</th>\n",
              "      <th>text</th>\n",
              "      <th>raw_text</th>\n",
              "    </tr>\n",
              "  </thead>\n",
              "  <tbody>\n",
              "    <tr>\n",
              "      <th>4</th>\n",
              "      <td>0</td>\n",
              "      <td>1467811193</td>\n",
              "      <td>mon apr 06 22:19:57 pdt 2009</td>\n",
              "      <td>no_query</td>\n",
              "      <td>karoli</td>\n",
              "      <td>@nationwideclass no, it's not behaving at all....</td>\n",
              "      <td>@nationwideclass no, it's not behaving at all....</td>\n",
              "    </tr>\n",
              "    <tr>\n",
              "      <th>8</th>\n",
              "      <td>0</td>\n",
              "      <td>1467811795</td>\n",
              "      <td>mon apr 06 22:20:05 pdt 2009</td>\n",
              "      <td>no_query</td>\n",
              "      <td>2hood4hollywood</td>\n",
              "      <td>@tatiana_k nope they didn't have it</td>\n",
              "      <td>@tatiana_k nope they didn't have it</td>\n",
              "    </tr>\n",
              "    <tr>\n",
              "      <th>27</th>\n",
              "      <td>0</td>\n",
              "      <td>1467814883</td>\n",
              "      <td>mon apr 06 22:20:52 pdt 2009</td>\n",
              "      <td>no_query</td>\n",
              "      <td>gagoo</td>\n",
              "      <td>im sad now  miss.lilly</td>\n",
              "      <td>im sad now  miss.lilly</td>\n",
              "    </tr>\n",
              "    <tr>\n",
              "      <th>41</th>\n",
              "      <td>0</td>\n",
              "      <td>1467818481</td>\n",
              "      <td>mon apr 06 22:21:46 pdt 2009</td>\n",
              "      <td>no_query</td>\n",
              "      <td>lionslamb</td>\n",
              "      <td>he's the reason for the teardrops on my guitar...</td>\n",
              "      <td>he's the reason for the teardrops on my guitar...</td>\n",
              "    </tr>\n",
              "    <tr>\n",
              "      <th>44</th>\n",
              "      <td>0</td>\n",
              "      <td>1467819022</td>\n",
              "      <td>mon apr 06 22:21:56 pdt 2009</td>\n",
              "      <td>no_query</td>\n",
              "      <td>hpfangirl94</td>\n",
              "      <td>falling asleep. just heard about that tracy gi...</td>\n",
              "      <td>falling asleep. just heard about that tracy gi...</td>\n",
              "    </tr>\n",
              "    <tr>\n",
              "      <th>35</th>\n",
              "      <td>0</td>\n",
              "      <td>1467816749</td>\n",
              "      <td>mon apr 06 22:21:20 pdt 2009</td>\n",
              "      <td>no_query</td>\n",
              "      <td>scarletletterm</td>\n",
              "      <td>ok i'm sick and spent an hour sitting in the s...</td>\n",
              "      <td>ok i'm sick and spent an hour sitting in the s...</td>\n",
              "    </tr>\n",
              "    <tr>\n",
              "      <th>48</th>\n",
              "      <td>0</td>\n",
              "      <td>1467820206</td>\n",
              "      <td>mon apr 06 22:22:13 pdt 2009</td>\n",
              "      <td>no_query</td>\n",
              "      <td>peacoats</td>\n",
              "      <td>is strangely sad about lilo and samro breaking...</td>\n",
              "      <td>is strangely sad about lilo and samro breaking...</td>\n",
              "    </tr>\n",
              "    <tr>\n",
              "      <th>155</th>\n",
              "      <td>0</td>\n",
              "      <td>1467845157</td>\n",
              "      <td>mon apr 06 22:28:51 pdt 2009</td>\n",
              "      <td>no_query</td>\n",
              "      <td>styletrain</td>\n",
              "      <td>man work is hard</td>\n",
              "      <td>man work is hard</td>\n",
              "    </tr>\n",
              "  </tbody>\n",
              "</table>\n",
              "</div>"
            ],
            "text/plain": [
              "     target  ...                                           raw_text\n",
              "4         0  ...  @nationwideclass no, it's not behaving at all....\n",
              "8         0  ...               @tatiana_k nope they didn't have it \n",
              "27        0  ...                             im sad now  miss.lilly\n",
              "41        0  ...  he's the reason for the teardrops on my guitar...\n",
              "44        0  ...  falling asleep. just heard about that tracy gi...\n",
              "35        0  ...  ok i'm sick and spent an hour sitting in the s...\n",
              "48        0  ...  is strangely sad about lilo and samro breaking...\n",
              "155       0  ...                                  man work is hard \n",
              "\n",
              "[8 rows x 7 columns]"
            ]
          },
          "metadata": {
            "tags": []
          },
          "execution_count": 100
        }
      ]
    },
    {
      "cell_type": "markdown",
      "metadata": {
        "id": "h5q5M-8F82gQ"
      },
      "source": [
        "## Quitamos \\&quot; "
      ]
    },
    {
      "cell_type": "code",
      "metadata": {
        "id": "nX9u7-7B870s"
      },
      "source": [
        "from nlp.preprocessing import quitar_caracteres_html"
      ],
      "execution_count": 101,
      "outputs": []
    },
    {
      "cell_type": "code",
      "metadata": {
        "id": "SkkOKTED878b"
      },
      "source": [
        "data['text'] = data['text'].map(lambda s: quitar_caracteres_html(s))"
      ],
      "execution_count": 102,
      "outputs": []
    },
    {
      "cell_type": "markdown",
      "metadata": {
        "id": "7YApblFhtViL"
      },
      "source": [
        "## Reemplazamos las URLs con el texto \"URL\""
      ]
    },
    {
      "cell_type": "code",
      "metadata": {
        "id": "lD01kK662S57"
      },
      "source": [
        "from nlp.preprocessing import reemplazar_urls"
      ],
      "execution_count": 103,
      "outputs": []
    },
    {
      "cell_type": "code",
      "metadata": {
        "id": "NbElSDFSz29m"
      },
      "source": [
        "data['text'] = data['text'].map(lambda s: reemplazar_urls(s))"
      ],
      "execution_count": 106,
      "outputs": []
    },
    {
      "cell_type": "code",
      "metadata": {
        "colab": {
          "base_uri": "https://localhost:8080/",
          "height": 287
        },
        "id": "R_8VxdOJ2c2G",
        "outputId": "7347238b-ec30-4946-faf8-9502fd2cb50b"
      },
      "source": [
        "# Ejemplo\n",
        "data.loc[[4,8,27,41,44,35,48,155]]"
      ],
      "execution_count": 105,
      "outputs": [
        {
          "output_type": "execute_result",
          "data": {
            "text/html": [
              "<div>\n",
              "<style scoped>\n",
              "    .dataframe tbody tr th:only-of-type {\n",
              "        vertical-align: middle;\n",
              "    }\n",
              "\n",
              "    .dataframe tbody tr th {\n",
              "        vertical-align: top;\n",
              "    }\n",
              "\n",
              "    .dataframe thead th {\n",
              "        text-align: right;\n",
              "    }\n",
              "</style>\n",
              "<table border=\"1\" class=\"dataframe\">\n",
              "  <thead>\n",
              "    <tr style=\"text-align: right;\">\n",
              "      <th></th>\n",
              "      <th>target</th>\n",
              "      <th>ids</th>\n",
              "      <th>date</th>\n",
              "      <th>flag</th>\n",
              "      <th>user</th>\n",
              "      <th>text</th>\n",
              "      <th>raw_text</th>\n",
              "    </tr>\n",
              "  </thead>\n",
              "  <tbody>\n",
              "    <tr>\n",
              "      <th>4</th>\n",
              "      <td>0</td>\n",
              "      <td>1467811193</td>\n",
              "      <td>mon apr 06 22:19:57 pdt 2009</td>\n",
              "      <td>no_query</td>\n",
              "      <td>karoli</td>\n",
              "      <td>@nationwideclass no, it's not behaving at all....</td>\n",
              "      <td>@nationwideclass no, it's not behaving at all....</td>\n",
              "    </tr>\n",
              "    <tr>\n",
              "      <th>8</th>\n",
              "      <td>0</td>\n",
              "      <td>1467811795</td>\n",
              "      <td>mon apr 06 22:20:05 pdt 2009</td>\n",
              "      <td>no_query</td>\n",
              "      <td>2hood4hollywood</td>\n",
              "      <td>@tatiana_k nope they didn't have it</td>\n",
              "      <td>@tatiana_k nope they didn't have it</td>\n",
              "    </tr>\n",
              "    <tr>\n",
              "      <th>27</th>\n",
              "      <td>0</td>\n",
              "      <td>1467814883</td>\n",
              "      <td>mon apr 06 22:20:52 pdt 2009</td>\n",
              "      <td>no_query</td>\n",
              "      <td>gagoo</td>\n",
              "      <td>im sad now  miss.lilly</td>\n",
              "      <td>im sad now  miss.lilly</td>\n",
              "    </tr>\n",
              "    <tr>\n",
              "      <th>41</th>\n",
              "      <td>0</td>\n",
              "      <td>1467818481</td>\n",
              "      <td>mon apr 06 22:21:46 pdt 2009</td>\n",
              "      <td>no_query</td>\n",
              "      <td>lionslamb</td>\n",
              "      <td>he's the reason for the teardrops on my guitar...</td>\n",
              "      <td>he's the reason for the teardrops on my guitar...</td>\n",
              "    </tr>\n",
              "    <tr>\n",
              "      <th>44</th>\n",
              "      <td>0</td>\n",
              "      <td>1467819022</td>\n",
              "      <td>mon apr 06 22:21:56 pdt 2009</td>\n",
              "      <td>no_query</td>\n",
              "      <td>hpfangirl94</td>\n",
              "      <td>falling asleep. just heard about that tracy gi...</td>\n",
              "      <td>falling asleep. just heard about that tracy gi...</td>\n",
              "    </tr>\n",
              "    <tr>\n",
              "      <th>35</th>\n",
              "      <td>0</td>\n",
              "      <td>1467816749</td>\n",
              "      <td>mon apr 06 22:21:20 pdt 2009</td>\n",
              "      <td>no_query</td>\n",
              "      <td>scarletletterm</td>\n",
              "      <td>ok i'm sick and spent an hour sitting in the s...</td>\n",
              "      <td>ok i'm sick and spent an hour sitting in the s...</td>\n",
              "    </tr>\n",
              "    <tr>\n",
              "      <th>48</th>\n",
              "      <td>0</td>\n",
              "      <td>1467820206</td>\n",
              "      <td>mon apr 06 22:22:13 pdt 2009</td>\n",
              "      <td>no_query</td>\n",
              "      <td>peacoats</td>\n",
              "      <td>is strangely sad about lilo and samro breaking...</td>\n",
              "      <td>is strangely sad about lilo and samro breaking...</td>\n",
              "    </tr>\n",
              "    <tr>\n",
              "      <th>155</th>\n",
              "      <td>0</td>\n",
              "      <td>1467845157</td>\n",
              "      <td>mon apr 06 22:28:51 pdt 2009</td>\n",
              "      <td>no_query</td>\n",
              "      <td>styletrain</td>\n",
              "      <td>man work is hard</td>\n",
              "      <td>man work is hard</td>\n",
              "    </tr>\n",
              "  </tbody>\n",
              "</table>\n",
              "</div>"
            ],
            "text/plain": [
              "     target  ...                                           raw_text\n",
              "4         0  ...  @nationwideclass no, it's not behaving at all....\n",
              "8         0  ...               @tatiana_k nope they didn't have it \n",
              "27        0  ...                             im sad now  miss.lilly\n",
              "41        0  ...  he's the reason for the teardrops on my guitar...\n",
              "44        0  ...  falling asleep. just heard about that tracy gi...\n",
              "35        0  ...  ok i'm sick and spent an hour sitting in the s...\n",
              "48        0  ...  is strangely sad about lilo and samro breaking...\n",
              "155       0  ...                                  man work is hard \n",
              "\n",
              "[8 rows x 7 columns]"
            ]
          },
          "metadata": {
            "tags": []
          },
          "execution_count": 105
        }
      ]
    },
    {
      "cell_type": "markdown",
      "metadata": {
        "id": "skY921aDtfXx"
      },
      "source": [
        "## Reemplazamos las menciones @ con la palabra \"USER_MENTION\"\n",
        "\n"
      ]
    },
    {
      "cell_type": "code",
      "metadata": {
        "id": "OJko6X_dt00T"
      },
      "source": [
        "from nlp.preprocessing import reemplazar_usuarios"
      ],
      "execution_count": 107,
      "outputs": []
    },
    {
      "cell_type": "code",
      "metadata": {
        "id": "d-CpyGFx15Eh"
      },
      "source": [
        "data['text'] = data['text'].map(lambda s: reemplazar_usuarios(s))"
      ],
      "execution_count": 109,
      "outputs": []
    },
    {
      "cell_type": "code",
      "metadata": {
        "colab": {
          "base_uri": "https://localhost:8080/",
          "height": 287
        },
        "id": "jizZYaM52wzL",
        "outputId": "a05170be-dea4-4ff3-9ae1-21627e2837d4"
      },
      "source": [
        "# Ejemplo\n",
        "data.loc[[4,8,27,41,44,35,48,155]]"
      ],
      "execution_count": 110,
      "outputs": [
        {
          "output_type": "execute_result",
          "data": {
            "text/html": [
              "<div>\n",
              "<style scoped>\n",
              "    .dataframe tbody tr th:only-of-type {\n",
              "        vertical-align: middle;\n",
              "    }\n",
              "\n",
              "    .dataframe tbody tr th {\n",
              "        vertical-align: top;\n",
              "    }\n",
              "\n",
              "    .dataframe thead th {\n",
              "        text-align: right;\n",
              "    }\n",
              "</style>\n",
              "<table border=\"1\" class=\"dataframe\">\n",
              "  <thead>\n",
              "    <tr style=\"text-align: right;\">\n",
              "      <th></th>\n",
              "      <th>target</th>\n",
              "      <th>ids</th>\n",
              "      <th>date</th>\n",
              "      <th>flag</th>\n",
              "      <th>user</th>\n",
              "      <th>text</th>\n",
              "      <th>raw_text</th>\n",
              "    </tr>\n",
              "  </thead>\n",
              "  <tbody>\n",
              "    <tr>\n",
              "      <th>4</th>\n",
              "      <td>0</td>\n",
              "      <td>1467811193</td>\n",
              "      <td>mon apr 06 22:19:57 pdt 2009</td>\n",
              "      <td>no_query</td>\n",
              "      <td>karoli</td>\n",
              "      <td>no, it's not behaving at all. i'm mad. why am...</td>\n",
              "      <td>@nationwideclass no, it's not behaving at all....</td>\n",
              "    </tr>\n",
              "    <tr>\n",
              "      <th>8</th>\n",
              "      <td>0</td>\n",
              "      <td>1467811795</td>\n",
              "      <td>mon apr 06 22:20:05 pdt 2009</td>\n",
              "      <td>no_query</td>\n",
              "      <td>2hood4hollywood</td>\n",
              "      <td>nope they didn't have it</td>\n",
              "      <td>@tatiana_k nope they didn't have it</td>\n",
              "    </tr>\n",
              "    <tr>\n",
              "      <th>27</th>\n",
              "      <td>0</td>\n",
              "      <td>1467814883</td>\n",
              "      <td>mon apr 06 22:20:52 pdt 2009</td>\n",
              "      <td>no_query</td>\n",
              "      <td>gagoo</td>\n",
              "      <td>im sad now  miss.lilly</td>\n",
              "      <td>im sad now  miss.lilly</td>\n",
              "    </tr>\n",
              "    <tr>\n",
              "      <th>41</th>\n",
              "      <td>0</td>\n",
              "      <td>1467818481</td>\n",
              "      <td>mon apr 06 22:21:46 pdt 2009</td>\n",
              "      <td>no_query</td>\n",
              "      <td>lionslamb</td>\n",
              "      <td>he's the reason for the teardrops on my guitar...</td>\n",
              "      <td>he's the reason for the teardrops on my guitar...</td>\n",
              "    </tr>\n",
              "    <tr>\n",
              "      <th>44</th>\n",
              "      <td>0</td>\n",
              "      <td>1467819022</td>\n",
              "      <td>mon apr 06 22:21:56 pdt 2009</td>\n",
              "      <td>no_query</td>\n",
              "      <td>hpfangirl94</td>\n",
              "      <td>falling asleep. just heard about that tracy gi...</td>\n",
              "      <td>falling asleep. just heard about that tracy gi...</td>\n",
              "    </tr>\n",
              "    <tr>\n",
              "      <th>35</th>\n",
              "      <td>0</td>\n",
              "      <td>1467816749</td>\n",
              "      <td>mon apr 06 22:21:20 pdt 2009</td>\n",
              "      <td>no_query</td>\n",
              "      <td>scarletletterm</td>\n",
              "      <td>ok i'm sick and spent an hour sitting in the s...</td>\n",
              "      <td>ok i'm sick and spent an hour sitting in the s...</td>\n",
              "    </tr>\n",
              "    <tr>\n",
              "      <th>48</th>\n",
              "      <td>0</td>\n",
              "      <td>1467820206</td>\n",
              "      <td>mon apr 06 22:22:13 pdt 2009</td>\n",
              "      <td>no_query</td>\n",
              "      <td>peacoats</td>\n",
              "      <td>is strangely sad about lilo and samro breaking...</td>\n",
              "      <td>is strangely sad about lilo and samro breaking...</td>\n",
              "    </tr>\n",
              "    <tr>\n",
              "      <th>155</th>\n",
              "      <td>0</td>\n",
              "      <td>1467845157</td>\n",
              "      <td>mon apr 06 22:28:51 pdt 2009</td>\n",
              "      <td>no_query</td>\n",
              "      <td>styletrain</td>\n",
              "      <td>man work is hard</td>\n",
              "      <td>man work is hard</td>\n",
              "    </tr>\n",
              "  </tbody>\n",
              "</table>\n",
              "</div>"
            ],
            "text/plain": [
              "     target  ...                                           raw_text\n",
              "4         0  ...  @nationwideclass no, it's not behaving at all....\n",
              "8         0  ...               @tatiana_k nope they didn't have it \n",
              "27        0  ...                             im sad now  miss.lilly\n",
              "41        0  ...  he's the reason for the teardrops on my guitar...\n",
              "44        0  ...  falling asleep. just heard about that tracy gi...\n",
              "35        0  ...  ok i'm sick and spent an hour sitting in the s...\n",
              "48        0  ...  is strangely sad about lilo and samro breaking...\n",
              "155       0  ...                                  man work is hard \n",
              "\n",
              "[8 rows x 7 columns]"
            ]
          },
          "metadata": {
            "tags": []
          },
          "execution_count": 110
        }
      ]
    },
    {
      "cell_type": "markdown",
      "metadata": {
        "id": "N-nJsVnht2b2"
      },
      "source": [
        "## Quitamos el Hashtag , pero dejamos la palabra"
      ]
    },
    {
      "cell_type": "code",
      "metadata": {
        "id": "2uYz-8IBuEAu"
      },
      "source": [
        "# The regular expression used to match hashtags is #(\\S+).\n",
        "from nlp.preprocessing import quitar_hashtag"
      ],
      "execution_count": 111,
      "outputs": []
    },
    {
      "cell_type": "code",
      "metadata": {
        "id": "qYc2v7H52GR-"
      },
      "source": [
        "data['text'] = data['text'].map(lambda s: quitar_hashtag(s))"
      ],
      "execution_count": 112,
      "outputs": []
    },
    {
      "cell_type": "code",
      "metadata": {
        "colab": {
          "base_uri": "https://localhost:8080/",
          "height": 287
        },
        "id": "VT64yvCr5YDL",
        "outputId": "92f55ffa-c840-4716-f17c-a52b404ba634"
      },
      "source": [
        "# Ejemplo\n",
        "data.loc[[4,8,27,41,44,35,48,155]]"
      ],
      "execution_count": 113,
      "outputs": [
        {
          "output_type": "execute_result",
          "data": {
            "text/html": [
              "<div>\n",
              "<style scoped>\n",
              "    .dataframe tbody tr th:only-of-type {\n",
              "        vertical-align: middle;\n",
              "    }\n",
              "\n",
              "    .dataframe tbody tr th {\n",
              "        vertical-align: top;\n",
              "    }\n",
              "\n",
              "    .dataframe thead th {\n",
              "        text-align: right;\n",
              "    }\n",
              "</style>\n",
              "<table border=\"1\" class=\"dataframe\">\n",
              "  <thead>\n",
              "    <tr style=\"text-align: right;\">\n",
              "      <th></th>\n",
              "      <th>target</th>\n",
              "      <th>ids</th>\n",
              "      <th>date</th>\n",
              "      <th>flag</th>\n",
              "      <th>user</th>\n",
              "      <th>text</th>\n",
              "      <th>raw_text</th>\n",
              "    </tr>\n",
              "  </thead>\n",
              "  <tbody>\n",
              "    <tr>\n",
              "      <th>4</th>\n",
              "      <td>0</td>\n",
              "      <td>1467811193</td>\n",
              "      <td>mon apr 06 22:19:57 pdt 2009</td>\n",
              "      <td>no_query</td>\n",
              "      <td>karoli</td>\n",
              "      <td>no, it's not behaving at all. i'm mad. why am...</td>\n",
              "      <td>@nationwideclass no, it's not behaving at all....</td>\n",
              "    </tr>\n",
              "    <tr>\n",
              "      <th>8</th>\n",
              "      <td>0</td>\n",
              "      <td>1467811795</td>\n",
              "      <td>mon apr 06 22:20:05 pdt 2009</td>\n",
              "      <td>no_query</td>\n",
              "      <td>2hood4hollywood</td>\n",
              "      <td>nope they didn't have it</td>\n",
              "      <td>@tatiana_k nope they didn't have it</td>\n",
              "    </tr>\n",
              "    <tr>\n",
              "      <th>27</th>\n",
              "      <td>0</td>\n",
              "      <td>1467814883</td>\n",
              "      <td>mon apr 06 22:20:52 pdt 2009</td>\n",
              "      <td>no_query</td>\n",
              "      <td>gagoo</td>\n",
              "      <td>im sad now  miss.lilly</td>\n",
              "      <td>im sad now  miss.lilly</td>\n",
              "    </tr>\n",
              "    <tr>\n",
              "      <th>41</th>\n",
              "      <td>0</td>\n",
              "      <td>1467818481</td>\n",
              "      <td>mon apr 06 22:21:46 pdt 2009</td>\n",
              "      <td>no_query</td>\n",
              "      <td>lionslamb</td>\n",
              "      <td>he's the reason for the teardrops on my guitar...</td>\n",
              "      <td>he's the reason for the teardrops on my guitar...</td>\n",
              "    </tr>\n",
              "    <tr>\n",
              "      <th>44</th>\n",
              "      <td>0</td>\n",
              "      <td>1467819022</td>\n",
              "      <td>mon apr 06 22:21:56 pdt 2009</td>\n",
              "      <td>no_query</td>\n",
              "      <td>hpfangirl94</td>\n",
              "      <td>falling asleep. just heard about that tracy gi...</td>\n",
              "      <td>falling asleep. just heard about that tracy gi...</td>\n",
              "    </tr>\n",
              "    <tr>\n",
              "      <th>35</th>\n",
              "      <td>0</td>\n",
              "      <td>1467816749</td>\n",
              "      <td>mon apr 06 22:21:20 pdt 2009</td>\n",
              "      <td>no_query</td>\n",
              "      <td>scarletletterm</td>\n",
              "      <td>ok i'm sick and spent an hour sitting in the s...</td>\n",
              "      <td>ok i'm sick and spent an hour sitting in the s...</td>\n",
              "    </tr>\n",
              "    <tr>\n",
              "      <th>48</th>\n",
              "      <td>0</td>\n",
              "      <td>1467820206</td>\n",
              "      <td>mon apr 06 22:22:13 pdt 2009</td>\n",
              "      <td>no_query</td>\n",
              "      <td>peacoats</td>\n",
              "      <td>is strangely sad about lilo and samro breaking...</td>\n",
              "      <td>is strangely sad about lilo and samro breaking...</td>\n",
              "    </tr>\n",
              "    <tr>\n",
              "      <th>155</th>\n",
              "      <td>0</td>\n",
              "      <td>1467845157</td>\n",
              "      <td>mon apr 06 22:28:51 pdt 2009</td>\n",
              "      <td>no_query</td>\n",
              "      <td>styletrain</td>\n",
              "      <td>man work is hard</td>\n",
              "      <td>man work is hard</td>\n",
              "    </tr>\n",
              "  </tbody>\n",
              "</table>\n",
              "</div>"
            ],
            "text/plain": [
              "     target  ...                                           raw_text\n",
              "4         0  ...  @nationwideclass no, it's not behaving at all....\n",
              "8         0  ...               @tatiana_k nope they didn't have it \n",
              "27        0  ...                             im sad now  miss.lilly\n",
              "41        0  ...  he's the reason for the teardrops on my guitar...\n",
              "44        0  ...  falling asleep. just heard about that tracy gi...\n",
              "35        0  ...  ok i'm sick and spent an hour sitting in the s...\n",
              "48        0  ...  is strangely sad about lilo and samro breaking...\n",
              "155       0  ...                                  man work is hard \n",
              "\n",
              "[8 rows x 7 columns]"
            ]
          },
          "metadata": {
            "tags": []
          },
          "execution_count": 113
        }
      ]
    },
    {
      "cell_type": "markdown",
      "metadata": {
        "id": "pBcz7yR_uQrb"
      },
      "source": [
        "## Quitamos los Retweets, sólo la palabra RT , dejamos el comentario"
      ]
    },
    {
      "cell_type": "code",
      "metadata": {
        "id": "koZhG6bZuW5H"
      },
      "source": [
        "#  The regular expression used to match retweets is \\brt\\b.\n",
        "from nlp.preprocessing import quitar_RT"
      ],
      "execution_count": 114,
      "outputs": []
    },
    {
      "cell_type": "code",
      "metadata": {
        "id": "poKURoA02WZP"
      },
      "source": [
        "data['text'] = data['text'].map(lambda s: quitar_RT(s))"
      ],
      "execution_count": 115,
      "outputs": []
    },
    {
      "cell_type": "code",
      "metadata": {
        "colab": {
          "base_uri": "https://localhost:8080/",
          "height": 287
        },
        "id": "ZtWXZQZ95oYb",
        "outputId": "0fb30eb6-6869-4a40-ff8b-5d57e5418f5c"
      },
      "source": [
        "data.loc[[4,8,27,41,44,35,48,155]]"
      ],
      "execution_count": 116,
      "outputs": [
        {
          "output_type": "execute_result",
          "data": {
            "text/html": [
              "<div>\n",
              "<style scoped>\n",
              "    .dataframe tbody tr th:only-of-type {\n",
              "        vertical-align: middle;\n",
              "    }\n",
              "\n",
              "    .dataframe tbody tr th {\n",
              "        vertical-align: top;\n",
              "    }\n",
              "\n",
              "    .dataframe thead th {\n",
              "        text-align: right;\n",
              "    }\n",
              "</style>\n",
              "<table border=\"1\" class=\"dataframe\">\n",
              "  <thead>\n",
              "    <tr style=\"text-align: right;\">\n",
              "      <th></th>\n",
              "      <th>target</th>\n",
              "      <th>ids</th>\n",
              "      <th>date</th>\n",
              "      <th>flag</th>\n",
              "      <th>user</th>\n",
              "      <th>text</th>\n",
              "      <th>raw_text</th>\n",
              "    </tr>\n",
              "  </thead>\n",
              "  <tbody>\n",
              "    <tr>\n",
              "      <th>4</th>\n",
              "      <td>0</td>\n",
              "      <td>1467811193</td>\n",
              "      <td>mon apr 06 22:19:57 pdt 2009</td>\n",
              "      <td>no_query</td>\n",
              "      <td>karoli</td>\n",
              "      <td>no, it's not behaving at all. i'm mad. why am...</td>\n",
              "      <td>@nationwideclass no, it's not behaving at all....</td>\n",
              "    </tr>\n",
              "    <tr>\n",
              "      <th>8</th>\n",
              "      <td>0</td>\n",
              "      <td>1467811795</td>\n",
              "      <td>mon apr 06 22:20:05 pdt 2009</td>\n",
              "      <td>no_query</td>\n",
              "      <td>2hood4hollywood</td>\n",
              "      <td>nope they didn't have it</td>\n",
              "      <td>@tatiana_k nope they didn't have it</td>\n",
              "    </tr>\n",
              "    <tr>\n",
              "      <th>27</th>\n",
              "      <td>0</td>\n",
              "      <td>1467814883</td>\n",
              "      <td>mon apr 06 22:20:52 pdt 2009</td>\n",
              "      <td>no_query</td>\n",
              "      <td>gagoo</td>\n",
              "      <td>im sad now  miss.lilly</td>\n",
              "      <td>im sad now  miss.lilly</td>\n",
              "    </tr>\n",
              "    <tr>\n",
              "      <th>41</th>\n",
              "      <td>0</td>\n",
              "      <td>1467818481</td>\n",
              "      <td>mon apr 06 22:21:46 pdt 2009</td>\n",
              "      <td>no_query</td>\n",
              "      <td>lionslamb</td>\n",
              "      <td>he's the reason for the teardrops on my guitar...</td>\n",
              "      <td>he's the reason for the teardrops on my guitar...</td>\n",
              "    </tr>\n",
              "    <tr>\n",
              "      <th>44</th>\n",
              "      <td>0</td>\n",
              "      <td>1467819022</td>\n",
              "      <td>mon apr 06 22:21:56 pdt 2009</td>\n",
              "      <td>no_query</td>\n",
              "      <td>hpfangirl94</td>\n",
              "      <td>falling asleep. just heard about that tracy gi...</td>\n",
              "      <td>falling asleep. just heard about that tracy gi...</td>\n",
              "    </tr>\n",
              "    <tr>\n",
              "      <th>35</th>\n",
              "      <td>0</td>\n",
              "      <td>1467816749</td>\n",
              "      <td>mon apr 06 22:21:20 pdt 2009</td>\n",
              "      <td>no_query</td>\n",
              "      <td>scarletletterm</td>\n",
              "      <td>ok i'm sick and spent an hour sitting in the s...</td>\n",
              "      <td>ok i'm sick and spent an hour sitting in the s...</td>\n",
              "    </tr>\n",
              "    <tr>\n",
              "      <th>48</th>\n",
              "      <td>0</td>\n",
              "      <td>1467820206</td>\n",
              "      <td>mon apr 06 22:22:13 pdt 2009</td>\n",
              "      <td>no_query</td>\n",
              "      <td>peacoats</td>\n",
              "      <td>is strangely sad about lilo and samro breaking...</td>\n",
              "      <td>is strangely sad about lilo and samro breaking...</td>\n",
              "    </tr>\n",
              "    <tr>\n",
              "      <th>155</th>\n",
              "      <td>0</td>\n",
              "      <td>1467845157</td>\n",
              "      <td>mon apr 06 22:28:51 pdt 2009</td>\n",
              "      <td>no_query</td>\n",
              "      <td>styletrain</td>\n",
              "      <td>man work is hard</td>\n",
              "      <td>man work is hard</td>\n",
              "    </tr>\n",
              "  </tbody>\n",
              "</table>\n",
              "</div>"
            ],
            "text/plain": [
              "     target  ...                                           raw_text\n",
              "4         0  ...  @nationwideclass no, it's not behaving at all....\n",
              "8         0  ...               @tatiana_k nope they didn't have it \n",
              "27        0  ...                             im sad now  miss.lilly\n",
              "41        0  ...  he's the reason for the teardrops on my guitar...\n",
              "44        0  ...  falling asleep. just heard about that tracy gi...\n",
              "35        0  ...  ok i'm sick and spent an hour sitting in the s...\n",
              "48        0  ...  is strangely sad about lilo and samro breaking...\n",
              "155       0  ...                                  man work is hard \n",
              "\n",
              "[8 rows x 7 columns]"
            ]
          },
          "metadata": {
            "tags": []
          },
          "execution_count": 116
        }
      ]
    },
    {
      "cell_type": "markdown",
      "metadata": {
        "id": "Y0heDobwss-z"
      },
      "source": [
        "## Quitamos espacios o puntos extras"
      ]
    },
    {
      "cell_type": "code",
      "metadata": {
        "id": "c4Bo-StOswj1"
      },
      "source": [
        "## Reemplazamos los dobles puntos (o más) con un espacio , dos o más espacios con 1 espacio y hacemos strip de espacios y comillas\n",
        "# Strip any punctuation [’\"?!,.():;-'] from the word ??\n",
        "from nlp.preprocessing import quitar_caracteres_especiales"
      ],
      "execution_count": 117,
      "outputs": []
    },
    {
      "cell_type": "code",
      "metadata": {
        "id": "6c3qHM1k3eY_"
      },
      "source": [
        "data['text'] = data['text'].map(lambda s: quitar_caracteres_especiales(s))"
      ],
      "execution_count": 118,
      "outputs": []
    },
    {
      "cell_type": "code",
      "metadata": {
        "colab": {
          "base_uri": "https://localhost:8080/",
          "height": 287
        },
        "id": "UJdbOTbX53cB",
        "outputId": "f8ccac75-190b-4be5-d8c4-216a13f342e7"
      },
      "source": [
        "data.loc[[4,8,27,41,44,35,48,155]]"
      ],
      "execution_count": 119,
      "outputs": [
        {
          "output_type": "execute_result",
          "data": {
            "text/html": [
              "<div>\n",
              "<style scoped>\n",
              "    .dataframe tbody tr th:only-of-type {\n",
              "        vertical-align: middle;\n",
              "    }\n",
              "\n",
              "    .dataframe tbody tr th {\n",
              "        vertical-align: top;\n",
              "    }\n",
              "\n",
              "    .dataframe thead th {\n",
              "        text-align: right;\n",
              "    }\n",
              "</style>\n",
              "<table border=\"1\" class=\"dataframe\">\n",
              "  <thead>\n",
              "    <tr style=\"text-align: right;\">\n",
              "      <th></th>\n",
              "      <th>target</th>\n",
              "      <th>ids</th>\n",
              "      <th>date</th>\n",
              "      <th>flag</th>\n",
              "      <th>user</th>\n",
              "      <th>text</th>\n",
              "      <th>raw_text</th>\n",
              "    </tr>\n",
              "  </thead>\n",
              "  <tbody>\n",
              "    <tr>\n",
              "      <th>4</th>\n",
              "      <td>0</td>\n",
              "      <td>1467811193</td>\n",
              "      <td>mon apr 06 22:19:57 pdt 2009</td>\n",
              "      <td>no_query</td>\n",
              "      <td>karoli</td>\n",
              "      <td>no it's not behaving at all i'm mad why am i ...</td>\n",
              "      <td>@nationwideclass no, it's not behaving at all....</td>\n",
              "    </tr>\n",
              "    <tr>\n",
              "      <th>8</th>\n",
              "      <td>0</td>\n",
              "      <td>1467811795</td>\n",
              "      <td>mon apr 06 22:20:05 pdt 2009</td>\n",
              "      <td>no_query</td>\n",
              "      <td>2hood4hollywood</td>\n",
              "      <td>nope they didn't have it</td>\n",
              "      <td>@tatiana_k nope they didn't have it</td>\n",
              "    </tr>\n",
              "    <tr>\n",
              "      <th>27</th>\n",
              "      <td>0</td>\n",
              "      <td>1467814883</td>\n",
              "      <td>mon apr 06 22:20:52 pdt 2009</td>\n",
              "      <td>no_query</td>\n",
              "      <td>gagoo</td>\n",
              "      <td>im sad now misslilly</td>\n",
              "      <td>im sad now  miss.lilly</td>\n",
              "    </tr>\n",
              "    <tr>\n",
              "      <th>41</th>\n",
              "      <td>0</td>\n",
              "      <td>1467818481</td>\n",
              "      <td>mon apr 06 22:21:46 pdt 2009</td>\n",
              "      <td>no_query</td>\n",
              "      <td>lionslamb</td>\n",
              "      <td>he's the reason for the teardrops on my guitar...</td>\n",
              "      <td>he's the reason for the teardrops on my guitar...</td>\n",
              "    </tr>\n",
              "    <tr>\n",
              "      <th>44</th>\n",
              "      <td>0</td>\n",
              "      <td>1467819022</td>\n",
              "      <td>mon apr 06 22:21:56 pdt 2009</td>\n",
              "      <td>no_query</td>\n",
              "      <td>hpfangirl94</td>\n",
              "      <td>falling asleep just heard about that tracy gir...</td>\n",
              "      <td>falling asleep. just heard about that tracy gi...</td>\n",
              "    </tr>\n",
              "    <tr>\n",
              "      <th>35</th>\n",
              "      <td>0</td>\n",
              "      <td>1467816749</td>\n",
              "      <td>mon apr 06 22:21:20 pdt 2009</td>\n",
              "      <td>no_query</td>\n",
              "      <td>scarletletterm</td>\n",
              "      <td>ok i'm sick and spent an hour sitting in the s...</td>\n",
              "      <td>ok i'm sick and spent an hour sitting in the s...</td>\n",
              "    </tr>\n",
              "    <tr>\n",
              "      <th>48</th>\n",
              "      <td>0</td>\n",
              "      <td>1467820206</td>\n",
              "      <td>mon apr 06 22:22:13 pdt 2009</td>\n",
              "      <td>no_query</td>\n",
              "      <td>peacoats</td>\n",
              "      <td>is strangely sad about lilo and samro breaking...</td>\n",
              "      <td>is strangely sad about lilo and samro breaking...</td>\n",
              "    </tr>\n",
              "    <tr>\n",
              "      <th>155</th>\n",
              "      <td>0</td>\n",
              "      <td>1467845157</td>\n",
              "      <td>mon apr 06 22:28:51 pdt 2009</td>\n",
              "      <td>no_query</td>\n",
              "      <td>styletrain</td>\n",
              "      <td>man work is hard</td>\n",
              "      <td>man work is hard</td>\n",
              "    </tr>\n",
              "  </tbody>\n",
              "</table>\n",
              "</div>"
            ],
            "text/plain": [
              "     target  ...                                           raw_text\n",
              "4         0  ...  @nationwideclass no, it's not behaving at all....\n",
              "8         0  ...               @tatiana_k nope they didn't have it \n",
              "27        0  ...                             im sad now  miss.lilly\n",
              "41        0  ...  he's the reason for the teardrops on my guitar...\n",
              "44        0  ...  falling asleep. just heard about that tracy gi...\n",
              "35        0  ...  ok i'm sick and spent an hour sitting in the s...\n",
              "48        0  ...  is strangely sad about lilo and samro breaking...\n",
              "155       0  ...                                  man work is hard \n",
              "\n",
              "[8 rows x 7 columns]"
            ]
          },
          "metadata": {
            "tags": []
          },
          "execution_count": 119
        }
      ]
    },
    {
      "cell_type": "markdown",
      "metadata": {
        "id": "b4s2lgTSurT-"
      },
      "source": [
        "## Quitamos expresiones con letras repetidas"
      ]
    },
    {
      "cell_type": "code",
      "metadata": {
        "id": "doXZsYEPuv1A"
      },
      "source": [
        "#Convert 2 or more letter repetitions to 2 letters.\n",
        "#Some people send tweets like I am sooooo\n",
        "#happpppy adding multiple characters to emphasize\n",
        "#on certain words. This is done to handle such tweets\n",
        "#by converting them to I am soo happy\n",
        "from nlp.preprocessing import quitar_letras_repetidas"
      ],
      "execution_count": 120,
      "outputs": []
    },
    {
      "cell_type": "code",
      "metadata": {
        "id": "UDSoIraw4lwK"
      },
      "source": [
        "data['text'] = data['text'].map(lambda s: quitar_letras_repetidas(s))"
      ],
      "execution_count": 121,
      "outputs": []
    },
    {
      "cell_type": "code",
      "metadata": {
        "colab": {
          "base_uri": "https://localhost:8080/",
          "height": 287
        },
        "id": "eT6VtR2s6l6G",
        "outputId": "f6b7e756-b971-40f0-d627-76b10a547ef0"
      },
      "source": [
        "data.loc[[4,8,27,41,44,35,48,155]]"
      ],
      "execution_count": 122,
      "outputs": [
        {
          "output_type": "execute_result",
          "data": {
            "text/html": [
              "<div>\n",
              "<style scoped>\n",
              "    .dataframe tbody tr th:only-of-type {\n",
              "        vertical-align: middle;\n",
              "    }\n",
              "\n",
              "    .dataframe tbody tr th {\n",
              "        vertical-align: top;\n",
              "    }\n",
              "\n",
              "    .dataframe thead th {\n",
              "        text-align: right;\n",
              "    }\n",
              "</style>\n",
              "<table border=\"1\" class=\"dataframe\">\n",
              "  <thead>\n",
              "    <tr style=\"text-align: right;\">\n",
              "      <th></th>\n",
              "      <th>target</th>\n",
              "      <th>ids</th>\n",
              "      <th>date</th>\n",
              "      <th>flag</th>\n",
              "      <th>user</th>\n",
              "      <th>text</th>\n",
              "      <th>raw_text</th>\n",
              "    </tr>\n",
              "  </thead>\n",
              "  <tbody>\n",
              "    <tr>\n",
              "      <th>4</th>\n",
              "      <td>0</td>\n",
              "      <td>1467811193</td>\n",
              "      <td>mon apr 06 22:19:57 pdt 2009</td>\n",
              "      <td>no_query</td>\n",
              "      <td>karoli</td>\n",
              "      <td>no it's not behaving at all i'm mad why am i ...</td>\n",
              "      <td>@nationwideclass no, it's not behaving at all....</td>\n",
              "    </tr>\n",
              "    <tr>\n",
              "      <th>8</th>\n",
              "      <td>0</td>\n",
              "      <td>1467811795</td>\n",
              "      <td>mon apr 06 22:20:05 pdt 2009</td>\n",
              "      <td>no_query</td>\n",
              "      <td>2hood4hollywood</td>\n",
              "      <td>nope they didn't have it</td>\n",
              "      <td>@tatiana_k nope they didn't have it</td>\n",
              "    </tr>\n",
              "    <tr>\n",
              "      <th>27</th>\n",
              "      <td>0</td>\n",
              "      <td>1467814883</td>\n",
              "      <td>mon apr 06 22:20:52 pdt 2009</td>\n",
              "      <td>no_query</td>\n",
              "      <td>gagoo</td>\n",
              "      <td>im sad now misslilly</td>\n",
              "      <td>im sad now  miss.lilly</td>\n",
              "    </tr>\n",
              "    <tr>\n",
              "      <th>41</th>\n",
              "      <td>0</td>\n",
              "      <td>1467818481</td>\n",
              "      <td>mon apr 06 22:21:46 pdt 2009</td>\n",
              "      <td>no_query</td>\n",
              "      <td>lionslamb</td>\n",
              "      <td>he's the reason for the teardrops on my guitar...</td>\n",
              "      <td>he's the reason for the teardrops on my guitar...</td>\n",
              "    </tr>\n",
              "    <tr>\n",
              "      <th>44</th>\n",
              "      <td>0</td>\n",
              "      <td>1467819022</td>\n",
              "      <td>mon apr 06 22:21:56 pdt 2009</td>\n",
              "      <td>no_query</td>\n",
              "      <td>hpfangirl94</td>\n",
              "      <td>falling asleep just heard about that tracy gir...</td>\n",
              "      <td>falling asleep. just heard about that tracy gi...</td>\n",
              "    </tr>\n",
              "    <tr>\n",
              "      <th>35</th>\n",
              "      <td>0</td>\n",
              "      <td>1467816749</td>\n",
              "      <td>mon apr 06 22:21:20 pdt 2009</td>\n",
              "      <td>no_query</td>\n",
              "      <td>scarletletterm</td>\n",
              "      <td>ok i'm sick and spent an hour sitting in the s...</td>\n",
              "      <td>ok i'm sick and spent an hour sitting in the s...</td>\n",
              "    </tr>\n",
              "    <tr>\n",
              "      <th>48</th>\n",
              "      <td>0</td>\n",
              "      <td>1467820206</td>\n",
              "      <td>mon apr 06 22:22:13 pdt 2009</td>\n",
              "      <td>no_query</td>\n",
              "      <td>peacoats</td>\n",
              "      <td>is strangely sad about lilo and samro breaking...</td>\n",
              "      <td>is strangely sad about lilo and samro breaking...</td>\n",
              "    </tr>\n",
              "    <tr>\n",
              "      <th>155</th>\n",
              "      <td>0</td>\n",
              "      <td>1467845157</td>\n",
              "      <td>mon apr 06 22:28:51 pdt 2009</td>\n",
              "      <td>no_query</td>\n",
              "      <td>styletrain</td>\n",
              "      <td>man work is hard</td>\n",
              "      <td>man work is hard</td>\n",
              "    </tr>\n",
              "  </tbody>\n",
              "</table>\n",
              "</div>"
            ],
            "text/plain": [
              "     target  ...                                           raw_text\n",
              "4         0  ...  @nationwideclass no, it's not behaving at all....\n",
              "8         0  ...               @tatiana_k nope they didn't have it \n",
              "27        0  ...                             im sad now  miss.lilly\n",
              "41        0  ...  he's the reason for the teardrops on my guitar...\n",
              "44        0  ...  falling asleep. just heard about that tracy gi...\n",
              "35        0  ...  ok i'm sick and spent an hour sitting in the s...\n",
              "48        0  ...  is strangely sad about lilo and samro breaking...\n",
              "155       0  ...                                  man work is hard \n",
              "\n",
              "[8 rows x 7 columns]"
            ]
          },
          "metadata": {
            "tags": []
          },
          "execution_count": 122
        }
      ]
    },
    {
      "cell_type": "markdown",
      "metadata": {
        "id": "4fpmzYPr92H8"
      },
      "source": [
        "## Quitar caracteres nonascii"
      ]
    },
    {
      "cell_type": "code",
      "metadata": {
        "id": "ixbvXNM695Z2"
      },
      "source": [
        "from nlp.preprocessing import quitar_nonascii"
      ],
      "execution_count": 123,
      "outputs": []
    },
    {
      "cell_type": "code",
      "metadata": {
        "id": "kvNLcFPV9-lo"
      },
      "source": [
        "data['text'] = data['text'].map(lambda s: quitar_nonascii(s))"
      ],
      "execution_count": 124,
      "outputs": []
    },
    {
      "cell_type": "code",
      "metadata": {
        "id": "SsWJ-6uOcZRp",
        "colab": {
          "base_uri": "https://localhost:8080/",
          "height": 287
        },
        "outputId": "125d5a51-bfcc-423c-b47f-baef70260159"
      },
      "source": [
        "data.loc[[4,8,27,41,44,35,48,155]]"
      ],
      "execution_count": 125,
      "outputs": [
        {
          "output_type": "execute_result",
          "data": {
            "text/html": [
              "<div>\n",
              "<style scoped>\n",
              "    .dataframe tbody tr th:only-of-type {\n",
              "        vertical-align: middle;\n",
              "    }\n",
              "\n",
              "    .dataframe tbody tr th {\n",
              "        vertical-align: top;\n",
              "    }\n",
              "\n",
              "    .dataframe thead th {\n",
              "        text-align: right;\n",
              "    }\n",
              "</style>\n",
              "<table border=\"1\" class=\"dataframe\">\n",
              "  <thead>\n",
              "    <tr style=\"text-align: right;\">\n",
              "      <th></th>\n",
              "      <th>target</th>\n",
              "      <th>ids</th>\n",
              "      <th>date</th>\n",
              "      <th>flag</th>\n",
              "      <th>user</th>\n",
              "      <th>text</th>\n",
              "      <th>raw_text</th>\n",
              "    </tr>\n",
              "  </thead>\n",
              "  <tbody>\n",
              "    <tr>\n",
              "      <th>4</th>\n",
              "      <td>0</td>\n",
              "      <td>1467811193</td>\n",
              "      <td>mon apr 06 22:19:57 pdt 2009</td>\n",
              "      <td>no_query</td>\n",
              "      <td>karoli</td>\n",
              "      <td>no it's not behaving at all i'm mad why am i ...</td>\n",
              "      <td>@nationwideclass no, it's not behaving at all....</td>\n",
              "    </tr>\n",
              "    <tr>\n",
              "      <th>8</th>\n",
              "      <td>0</td>\n",
              "      <td>1467811795</td>\n",
              "      <td>mon apr 06 22:20:05 pdt 2009</td>\n",
              "      <td>no_query</td>\n",
              "      <td>2hood4hollywood</td>\n",
              "      <td>nope they didn't have it</td>\n",
              "      <td>@tatiana_k nope they didn't have it</td>\n",
              "    </tr>\n",
              "    <tr>\n",
              "      <th>27</th>\n",
              "      <td>0</td>\n",
              "      <td>1467814883</td>\n",
              "      <td>mon apr 06 22:20:52 pdt 2009</td>\n",
              "      <td>no_query</td>\n",
              "      <td>gagoo</td>\n",
              "      <td>im sad now misslilly</td>\n",
              "      <td>im sad now  miss.lilly</td>\n",
              "    </tr>\n",
              "    <tr>\n",
              "      <th>41</th>\n",
              "      <td>0</td>\n",
              "      <td>1467818481</td>\n",
              "      <td>mon apr 06 22:21:46 pdt 2009</td>\n",
              "      <td>no_query</td>\n",
              "      <td>lionslamb</td>\n",
              "      <td>he's the reason for the teardrops on my guitar...</td>\n",
              "      <td>he's the reason for the teardrops on my guitar...</td>\n",
              "    </tr>\n",
              "    <tr>\n",
              "      <th>44</th>\n",
              "      <td>0</td>\n",
              "      <td>1467819022</td>\n",
              "      <td>mon apr 06 22:21:56 pdt 2009</td>\n",
              "      <td>no_query</td>\n",
              "      <td>hpfangirl94</td>\n",
              "      <td>falling asleep just heard about that tracy gir...</td>\n",
              "      <td>falling asleep. just heard about that tracy gi...</td>\n",
              "    </tr>\n",
              "    <tr>\n",
              "      <th>35</th>\n",
              "      <td>0</td>\n",
              "      <td>1467816749</td>\n",
              "      <td>mon apr 06 22:21:20 pdt 2009</td>\n",
              "      <td>no_query</td>\n",
              "      <td>scarletletterm</td>\n",
              "      <td>ok i'm sick and spent an hour sitting in the s...</td>\n",
              "      <td>ok i'm sick and spent an hour sitting in the s...</td>\n",
              "    </tr>\n",
              "    <tr>\n",
              "      <th>48</th>\n",
              "      <td>0</td>\n",
              "      <td>1467820206</td>\n",
              "      <td>mon apr 06 22:22:13 pdt 2009</td>\n",
              "      <td>no_query</td>\n",
              "      <td>peacoats</td>\n",
              "      <td>is strangely sad about lilo and samro breaking...</td>\n",
              "      <td>is strangely sad about lilo and samro breaking...</td>\n",
              "    </tr>\n",
              "    <tr>\n",
              "      <th>155</th>\n",
              "      <td>0</td>\n",
              "      <td>1467845157</td>\n",
              "      <td>mon apr 06 22:28:51 pdt 2009</td>\n",
              "      <td>no_query</td>\n",
              "      <td>styletrain</td>\n",
              "      <td>man work is hard</td>\n",
              "      <td>man work is hard</td>\n",
              "    </tr>\n",
              "  </tbody>\n",
              "</table>\n",
              "</div>"
            ],
            "text/plain": [
              "     target  ...                                           raw_text\n",
              "4         0  ...  @nationwideclass no, it's not behaving at all....\n",
              "8         0  ...               @tatiana_k nope they didn't have it \n",
              "27        0  ...                             im sad now  miss.lilly\n",
              "41        0  ...  he's the reason for the teardrops on my guitar...\n",
              "44        0  ...  falling asleep. just heard about that tracy gi...\n",
              "35        0  ...  ok i'm sick and spent an hour sitting in the s...\n",
              "48        0  ...  is strangely sad about lilo and samro breaking...\n",
              "155       0  ...                                  man work is hard \n",
              "\n",
              "[8 rows x 7 columns]"
            ]
          },
          "metadata": {
            "tags": []
          },
          "execution_count": 125
        }
      ]
    },
    {
      "cell_type": "markdown",
      "metadata": {
        "id": "d06ltAPusxX4"
      },
      "source": [
        "## Removemos stopwords"
      ]
    },
    {
      "cell_type": "code",
      "metadata": {
        "id": "Hupxr_H7pcoT"
      },
      "source": [
        "from nlp.preprocessing import separar_abreviaciones"
      ],
      "execution_count": 126,
      "outputs": []
    },
    {
      "cell_type": "code",
      "metadata": {
        "id": "fKcPZvh08GAm"
      },
      "source": [
        "data['text'] = data['text'].map(lambda s: separar_abreviaciones(s))"
      ],
      "execution_count": 127,
      "outputs": []
    },
    {
      "cell_type": "code",
      "metadata": {
        "id": "NVay2CjXphs-",
        "colab": {
          "base_uri": "https://localhost:8080/",
          "height": 287
        },
        "outputId": "7feec1a1-bcb1-43cf-d92d-db3b452aa46d"
      },
      "source": [
        "data.loc[[4,8,27,41,44,35,48,155]]"
      ],
      "execution_count": 128,
      "outputs": [
        {
          "output_type": "execute_result",
          "data": {
            "text/html": [
              "<div>\n",
              "<style scoped>\n",
              "    .dataframe tbody tr th:only-of-type {\n",
              "        vertical-align: middle;\n",
              "    }\n",
              "\n",
              "    .dataframe tbody tr th {\n",
              "        vertical-align: top;\n",
              "    }\n",
              "\n",
              "    .dataframe thead th {\n",
              "        text-align: right;\n",
              "    }\n",
              "</style>\n",
              "<table border=\"1\" class=\"dataframe\">\n",
              "  <thead>\n",
              "    <tr style=\"text-align: right;\">\n",
              "      <th></th>\n",
              "      <th>target</th>\n",
              "      <th>ids</th>\n",
              "      <th>date</th>\n",
              "      <th>flag</th>\n",
              "      <th>user</th>\n",
              "      <th>text</th>\n",
              "      <th>raw_text</th>\n",
              "    </tr>\n",
              "  </thead>\n",
              "  <tbody>\n",
              "    <tr>\n",
              "      <th>4</th>\n",
              "      <td>0</td>\n",
              "      <td>1467811193</td>\n",
              "      <td>mon apr 06 22:19:57 pdt 2009</td>\n",
              "      <td>no_query</td>\n",
              "      <td>karoli</td>\n",
              "      <td>no it is not behaving at all i am mad why am ...</td>\n",
              "      <td>@nationwideclass no, it's not behaving at all....</td>\n",
              "    </tr>\n",
              "    <tr>\n",
              "      <th>8</th>\n",
              "      <td>0</td>\n",
              "      <td>1467811795</td>\n",
              "      <td>mon apr 06 22:20:05 pdt 2009</td>\n",
              "      <td>no_query</td>\n",
              "      <td>2hood4hollywood</td>\n",
              "      <td>nope they did not have it</td>\n",
              "      <td>@tatiana_k nope they didn't have it</td>\n",
              "    </tr>\n",
              "    <tr>\n",
              "      <th>27</th>\n",
              "      <td>0</td>\n",
              "      <td>1467814883</td>\n",
              "      <td>mon apr 06 22:20:52 pdt 2009</td>\n",
              "      <td>no_query</td>\n",
              "      <td>gagoo</td>\n",
              "      <td>im sad now misslilly</td>\n",
              "      <td>im sad now  miss.lilly</td>\n",
              "    </tr>\n",
              "    <tr>\n",
              "      <th>41</th>\n",
              "      <td>0</td>\n",
              "      <td>1467818481</td>\n",
              "      <td>mon apr 06 22:21:46 pdt 2009</td>\n",
              "      <td>no_query</td>\n",
              "      <td>lionslamb</td>\n",
              "      <td>he is the reason for the teardrops on my guita...</td>\n",
              "      <td>he's the reason for the teardrops on my guitar...</td>\n",
              "    </tr>\n",
              "    <tr>\n",
              "      <th>44</th>\n",
              "      <td>0</td>\n",
              "      <td>1467819022</td>\n",
              "      <td>mon apr 06 22:21:56 pdt 2009</td>\n",
              "      <td>no_query</td>\n",
              "      <td>hpfangirl94</td>\n",
              "      <td>falling asleep just heard about that tracy gir...</td>\n",
              "      <td>falling asleep. just heard about that tracy gi...</td>\n",
              "    </tr>\n",
              "    <tr>\n",
              "      <th>35</th>\n",
              "      <td>0</td>\n",
              "      <td>1467816749</td>\n",
              "      <td>mon apr 06 22:21:20 pdt 2009</td>\n",
              "      <td>no_query</td>\n",
              "      <td>scarletletterm</td>\n",
              "      <td>ok i am sick and spent an hour sitting in the ...</td>\n",
              "      <td>ok i'm sick and spent an hour sitting in the s...</td>\n",
              "    </tr>\n",
              "    <tr>\n",
              "      <th>48</th>\n",
              "      <td>0</td>\n",
              "      <td>1467820206</td>\n",
              "      <td>mon apr 06 22:22:13 pdt 2009</td>\n",
              "      <td>no_query</td>\n",
              "      <td>peacoats</td>\n",
              "      <td>is strangely sad about lilo and samro breaking...</td>\n",
              "      <td>is strangely sad about lilo and samro breaking...</td>\n",
              "    </tr>\n",
              "    <tr>\n",
              "      <th>155</th>\n",
              "      <td>0</td>\n",
              "      <td>1467845157</td>\n",
              "      <td>mon apr 06 22:28:51 pdt 2009</td>\n",
              "      <td>no_query</td>\n",
              "      <td>styletrain</td>\n",
              "      <td>man work is hard</td>\n",
              "      <td>man work is hard</td>\n",
              "    </tr>\n",
              "  </tbody>\n",
              "</table>\n",
              "</div>"
            ],
            "text/plain": [
              "     target  ...                                           raw_text\n",
              "4         0  ...  @nationwideclass no, it's not behaving at all....\n",
              "8         0  ...               @tatiana_k nope they didn't have it \n",
              "27        0  ...                             im sad now  miss.lilly\n",
              "41        0  ...  he's the reason for the teardrops on my guitar...\n",
              "44        0  ...  falling asleep. just heard about that tracy gi...\n",
              "35        0  ...  ok i'm sick and spent an hour sitting in the s...\n",
              "48        0  ...  is strangely sad about lilo and samro breaking...\n",
              "155       0  ...                                  man work is hard \n",
              "\n",
              "[8 rows x 7 columns]"
            ]
          },
          "metadata": {
            "tags": []
          },
          "execution_count": 128
        }
      ]
    },
    {
      "cell_type": "code",
      "metadata": {
        "id": "xYBqL2u-ywTH"
      },
      "source": [
        "from nlp.preprocessing import remove_stopwords"
      ],
      "execution_count": 129,
      "outputs": []
    },
    {
      "cell_type": "code",
      "metadata": {
        "id": "s75jkoB5ps5V"
      },
      "source": [
        "data['text'] = data['text'].map(lambda s: remove_stopwords(s))"
      ],
      "execution_count": 130,
      "outputs": []
    },
    {
      "cell_type": "code",
      "metadata": {
        "colab": {
          "base_uri": "https://localhost:8080/",
          "height": 287
        },
        "id": "fbdBv25t8bdp",
        "outputId": "0eb7766c-bab2-423a-d8c7-35ea25256a3d"
      },
      "source": [
        "data.loc[[4,8,27,41,44,35,48,155]]"
      ],
      "execution_count": 131,
      "outputs": [
        {
          "output_type": "execute_result",
          "data": {
            "text/html": [
              "<div>\n",
              "<style scoped>\n",
              "    .dataframe tbody tr th:only-of-type {\n",
              "        vertical-align: middle;\n",
              "    }\n",
              "\n",
              "    .dataframe tbody tr th {\n",
              "        vertical-align: top;\n",
              "    }\n",
              "\n",
              "    .dataframe thead th {\n",
              "        text-align: right;\n",
              "    }\n",
              "</style>\n",
              "<table border=\"1\" class=\"dataframe\">\n",
              "  <thead>\n",
              "    <tr style=\"text-align: right;\">\n",
              "      <th></th>\n",
              "      <th>target</th>\n",
              "      <th>ids</th>\n",
              "      <th>date</th>\n",
              "      <th>flag</th>\n",
              "      <th>user</th>\n",
              "      <th>text</th>\n",
              "      <th>raw_text</th>\n",
              "    </tr>\n",
              "  </thead>\n",
              "  <tbody>\n",
              "    <tr>\n",
              "      <th>4</th>\n",
              "      <td>0</td>\n",
              "      <td>1467811193</td>\n",
              "      <td>mon apr 06 22:19:57 pdt 2009</td>\n",
              "      <td>no_query</td>\n",
              "      <td>karoli</td>\n",
              "      <td>behaving mad see</td>\n",
              "      <td>@nationwideclass no, it's not behaving at all....</td>\n",
              "    </tr>\n",
              "    <tr>\n",
              "      <th>8</th>\n",
              "      <td>0</td>\n",
              "      <td>1467811795</td>\n",
              "      <td>mon apr 06 22:20:05 pdt 2009</td>\n",
              "      <td>no_query</td>\n",
              "      <td>2hood4hollywood</td>\n",
              "      <td>nope</td>\n",
              "      <td>@tatiana_k nope they didn't have it</td>\n",
              "    </tr>\n",
              "    <tr>\n",
              "      <th>27</th>\n",
              "      <td>0</td>\n",
              "      <td>1467814883</td>\n",
              "      <td>mon apr 06 22:20:52 pdt 2009</td>\n",
              "      <td>no_query</td>\n",
              "      <td>gagoo</td>\n",
              "      <td>im sad misslilly</td>\n",
              "      <td>im sad now  miss.lilly</td>\n",
              "    </tr>\n",
              "    <tr>\n",
              "      <th>41</th>\n",
              "      <td>0</td>\n",
              "      <td>1467818481</td>\n",
              "      <td>mon apr 06 22:21:46 pdt 2009</td>\n",
              "      <td>no_query</td>\n",
              "      <td>lionslamb</td>\n",
              "      <td>reason teardrops guitar one enough break heart</td>\n",
              "      <td>he's the reason for the teardrops on my guitar...</td>\n",
              "    </tr>\n",
              "    <tr>\n",
              "      <th>44</th>\n",
              "      <td>0</td>\n",
              "      <td>1467819022</td>\n",
              "      <td>mon apr 06 22:21:56 pdt 2009</td>\n",
              "      <td>no_query</td>\n",
              "      <td>hpfangirl94</td>\n",
              "      <td>falling asleep heard tracy girl body found sad...</td>\n",
              "      <td>falling asleep. just heard about that tracy gi...</td>\n",
              "    </tr>\n",
              "    <tr>\n",
              "      <th>35</th>\n",
              "      <td>0</td>\n",
              "      <td>1467816749</td>\n",
              "      <td>mon apr 06 22:21:20 pdt 2009</td>\n",
              "      <td>no_query</td>\n",
              "      <td>scarletletterm</td>\n",
              "      <td>ok sick spent hour sitting shower cause sick s...</td>\n",
              "      <td>ok i'm sick and spent an hour sitting in the s...</td>\n",
              "    </tr>\n",
              "    <tr>\n",
              "      <th>48</th>\n",
              "      <td>0</td>\n",
              "      <td>1467820206</td>\n",
              "      <td>mon apr 06 22:22:13 pdt 2009</td>\n",
              "      <td>no_query</td>\n",
              "      <td>peacoats</td>\n",
              "      <td>strangely sad lilo samro breaking</td>\n",
              "      <td>is strangely sad about lilo and samro breaking...</td>\n",
              "    </tr>\n",
              "    <tr>\n",
              "      <th>155</th>\n",
              "      <td>0</td>\n",
              "      <td>1467845157</td>\n",
              "      <td>mon apr 06 22:28:51 pdt 2009</td>\n",
              "      <td>no_query</td>\n",
              "      <td>styletrain</td>\n",
              "      <td>man work hard</td>\n",
              "      <td>man work is hard</td>\n",
              "    </tr>\n",
              "  </tbody>\n",
              "</table>\n",
              "</div>"
            ],
            "text/plain": [
              "     target  ...                                           raw_text\n",
              "4         0  ...  @nationwideclass no, it's not behaving at all....\n",
              "8         0  ...               @tatiana_k nope they didn't have it \n",
              "27        0  ...                             im sad now  miss.lilly\n",
              "41        0  ...  he's the reason for the teardrops on my guitar...\n",
              "44        0  ...  falling asleep. just heard about that tracy gi...\n",
              "35        0  ...  ok i'm sick and spent an hour sitting in the s...\n",
              "48        0  ...  is strangely sad about lilo and samro breaking...\n",
              "155       0  ...                                  man work is hard \n",
              "\n",
              "[8 rows x 7 columns]"
            ]
          },
          "metadata": {
            "tags": []
          },
          "execution_count": 131
        }
      ]
    },
    {
      "cell_type": "markdown",
      "metadata": {
        "id": "zZ9-3EEjAa9c"
      },
      "source": [
        "## Stemming con NLTK"
      ]
    },
    {
      "cell_type": "code",
      "metadata": {
        "id": "IzGJo37t-rhL"
      },
      "source": [
        "from nlp.preprocessing import oracion_raiz"
      ],
      "execution_count": 132,
      "outputs": []
    },
    {
      "cell_type": "code",
      "metadata": {
        "id": "4F2wTVwKAgAs"
      },
      "source": [
        "data['text'] = data['text'].map(lambda s: oracion_raiz(s))"
      ],
      "execution_count": null,
      "outputs": []
    },
    {
      "cell_type": "code",
      "metadata": {
        "id": "9OebKJzDC4rK"
      },
      "source": [
        "data"
      ],
      "execution_count": null,
      "outputs": []
    },
    {
      "cell_type": "code",
      "metadata": {
        "id": "jvDOulEa4b1t"
      },
      "source": [
        "from nlp.preprocessing import modificar_etiqueta"
      ],
      "execution_count": 83,
      "outputs": []
    },
    {
      "cell_type": "code",
      "metadata": {
        "id": "XGoSONr24pyK"
      },
      "source": [
        "data = modificar_etiqueta(data)"
      ],
      "execution_count": null,
      "outputs": []
    },
    {
      "cell_type": "code",
      "metadata": {
        "id": "uj5vvSfV6X8c"
      },
      "source": [
        "data"
      ],
      "execution_count": null,
      "outputs": []
    },
    {
      "cell_type": "code",
      "metadata": {
        "id": "zkTT8rvh6v3u"
      },
      "source": [
        "data.to_csv(\"1600000_datos_limpios_sin_user_ni_url.csv\")"
      ],
      "execution_count": 86,
      "outputs": []
    },
    {
      "cell_type": "markdown",
      "metadata": {
        "id": "H9raby_R7lAQ"
      },
      "source": [
        "### Escogemos 100,000 k del mismo largo de palabras"
      ]
    },
    {
      "cell_type": "code",
      "metadata": {
        "id": "lcLNERaB7qL0"
      },
      "source": [
        "data['tokens'] = data['text'].map(lambda s: s.split())"
      ],
      "execution_count": 87,
      "outputs": []
    },
    {
      "cell_type": "code",
      "metadata": {
        "id": "DviZo3Tx77kl"
      },
      "source": [
        "data"
      ],
      "execution_count": null,
      "outputs": []
    },
    {
      "cell_type": "code",
      "metadata": {
        "id": "3MTxtgJy7-Bd"
      },
      "source": [
        "data['len_tokens'] = data['tokens'].map(lambda s: len(s))"
      ],
      "execution_count": 89,
      "outputs": []
    },
    {
      "cell_type": "code",
      "metadata": {
        "id": "S4W1k-te8I6m"
      },
      "source": [
        "data.sort_values('len_tokens', ascending=False)"
      ],
      "execution_count": null,
      "outputs": []
    },
    {
      "cell_type": "code",
      "metadata": {
        "id": "6zil2IwH8Jj4"
      },
      "source": [
        ""
      ],
      "execution_count": null,
      "outputs": []
    }
  ]
}