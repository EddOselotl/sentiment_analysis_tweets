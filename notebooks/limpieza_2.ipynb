{
  "nbformat": 4,
  "nbformat_minor": 0,
  "metadata": {
    "kernelspec": {
      "display_name": "itam_intro_to_ds",
      "language": "python",
      "name": "itam_intro_to_ds"
    },
    "language_info": {
      "codemirror_mode": {
        "name": "ipython",
        "version": 3
      },
      "file_extension": ".py",
      "mimetype": "text/x-python",
      "name": "python",
      "nbconvert_exporter": "python",
      "pygments_lexer": "ipython3",
      "version": "3.7.4"
    },
    "colab": {
      "name": "limpieza.ipynb",
      "provenance": [],
      "collapsed_sections": [],
      "include_colab_link": true
    }
  },
  "cells": [
    {
      "cell_type": "markdown",
      "metadata": {
        "id": "view-in-github",
        "colab_type": "text"
      },
      "source": [
        "<a href=\"https://colab.research.google.com/github/ElenaVillano/sentiment_analysis_tweets/blob/main/notebooks/limpieza_2.ipynb\" target=\"_parent\"><img src=\"https://colab.research.google.com/assets/colab-badge.svg\" alt=\"Open In Colab\"/></a>"
      ]
    },
    {
      "cell_type": "code",
      "metadata": {
        "id": "TrmrcgOf0Wd_",
        "colab": {
          "base_uri": "https://localhost:8080/"
        },
        "outputId": "49a1787a-f5c2-4f6d-a359-bcff03582d20"
      },
      "source": [
        "import pandas as pd\n",
        "import numpy as np\n",
        "import matplotlib.pyplot as plt\n",
        "import datetime\n",
        "import nltk\n",
        "import re\n",
        "import timeit\n",
        "import string\n",
        "#testing commit \n",
        "\n",
        "#call the nltk downloader\n",
        "nltk.download('punkt')\n",
        "\n",
        "from dateutil import parser\n",
        "\n",
        "from sklearn.model_selection import train_test_split\n",
        "\n",
        "# Carga un set de stopwords predefinidas\n",
        "from nltk.corpus import stopwords\n",
        "\n",
        "from nltk.tokenize import sent_tokenize, word_tokenize\n",
        "from nltk.stem import PorterStemmer\n",
        "from nltk.stem import LancasterStemmer"
      ],
      "execution_count": null,
      "outputs": [
        {
          "output_type": "stream",
          "text": [
            "[nltk_data] Downloading package punkt to /root/nltk_data...\n",
            "[nltk_data]   Unzipping tokenizers/punkt.zip.\n"
          ],
          "name": "stdout"
        }
      ]
    },
    {
      "cell_type": "code",
      "metadata": {
        "id": "UP5nN_Ns0WeJ"
      },
      "source": [
        "# Nombramiento de columnas\n",
        "col_names = ['target', # Polaridad del twet 0=negativo, 2=neutral, 4=positivo\n",
        "             'ids',    # ID tweet\n",
        "             'date',   # Fecha y hora del tweet\n",
        "             'flag',   # QUERY\n",
        "             'user',   # Usuario del tweet\n",
        "             'text']   # Texto del tweet"
      ],
      "execution_count": null,
      "outputs": []
    },
    {
      "cell_type": "markdown",
      "metadata": {
        "id": "EbcoouZtnEUf"
      },
      "source": [
        "# Carga y limpieza de datos"
      ]
    },
    {
      "cell_type": "code",
      "metadata": {
        "colab": {
          "resources": {
            "http://localhost:8080/nbextensions/google.colab/files.js": {
              "data": "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",
              "ok": true,
              "headers": [
                [
                  "content-type",
                  "application/javascript"
                ]
              ],
              "status": 200,
              "status_text": ""
            }
          },
          "base_uri": "https://localhost:8080/",
          "height": 107
        },
        "id": "j6uJdbk2nKCX",
        "outputId": "6b114f41-4ab1-4680-df3d-59d8166f1d64"
      },
      "source": [
        "# Requiered to select a file to be imported into colab\n",
        "# Not useful if running locally\n",
        "from google.colab import files\n",
        "uploaded = files.upload()"
      ],
      "execution_count": null,
      "outputs": [
        {
          "output_type": "display_data",
          "data": {
            "text/html": [
              "\n",
              "     <input type=\"file\" id=\"files-505fcc80-985c-4735-8d3f-de7470f8ed6b\" name=\"files[]\" multiple disabled\n",
              "        style=\"border:none\" />\n",
              "     <output id=\"result-505fcc80-985c-4735-8d3f-de7470f8ed6b\">\n",
              "      Upload widget is only available when the cell has been executed in the\n",
              "      current browser session. Please rerun this cell to enable.\n",
              "      </output>\n",
              "      <script src=\"/nbextensions/google.colab/files.js\"></script> "
            ],
            "text/plain": [
              "<IPython.core.display.HTML object>"
            ]
          },
          "metadata": {
            "tags": []
          }
        },
        {
          "output_type": "stream",
          "text": [
            "Saving training.1600000.processed.noemoticon.csv to training.1600000.processed.noemoticon.csv\n",
            "Saving testdata.manual.2009.06.14.csv to testdata.manual.2009.06.14.csv\n"
          ],
          "name": "stdout"
        }
      ]
    },
    {
      "cell_type": "code",
      "metadata": {
        "id": "Z5P449bk0WeL"
      },
      "source": [
        "training = pd.read_csv('training.1600000.processed.noemoticon.csv',\n",
        "                 encoding='latin-1', names=col_names)"
      ],
      "execution_count": null,
      "outputs": []
    },
    {
      "cell_type": "code",
      "metadata": {
        "id": "szNOHjbB0WeL"
      },
      "source": [
        "test = pd.read_csv('testdata.manual.2009.06.14.csv', names=col_names)"
      ],
      "execution_count": null,
      "outputs": []
    },
    {
      "cell_type": "code",
      "metadata": {
        "id": "zs77X44P0WeM",
        "colab": {
          "base_uri": "https://localhost:8080/"
        },
        "outputId": "c4395a58-26b3-4ba3-ddc9-41bc2c978104"
      },
      "source": [
        "print(training.shape)\n",
        "print(test.shape)"
      ],
      "execution_count": null,
      "outputs": [
        {
          "output_type": "stream",
          "text": [
            "(1600000, 6)\n",
            "(498, 6)\n"
          ],
          "name": "stdout"
        }
      ]
    },
    {
      "cell_type": "code",
      "metadata": {
        "id": "UGANa9pX0WeO",
        "colab": {
          "base_uri": "https://localhost:8080/",
          "height": 197
        },
        "outputId": "c4f9327d-fe9e-4b1a-f275-8c26cd6f931a"
      },
      "source": [
        "training.head()"
      ],
      "execution_count": null,
      "outputs": [
        {
          "output_type": "execute_result",
          "data": {
            "text/html": [
              "<div>\n",
              "<style scoped>\n",
              "    .dataframe tbody tr th:only-of-type {\n",
              "        vertical-align: middle;\n",
              "    }\n",
              "\n",
              "    .dataframe tbody tr th {\n",
              "        vertical-align: top;\n",
              "    }\n",
              "\n",
              "    .dataframe thead th {\n",
              "        text-align: right;\n",
              "    }\n",
              "</style>\n",
              "<table border=\"1\" class=\"dataframe\">\n",
              "  <thead>\n",
              "    <tr style=\"text-align: right;\">\n",
              "      <th></th>\n",
              "      <th>target</th>\n",
              "      <th>ids</th>\n",
              "      <th>date</th>\n",
              "      <th>flag</th>\n",
              "      <th>user</th>\n",
              "      <th>text</th>\n",
              "    </tr>\n",
              "  </thead>\n",
              "  <tbody>\n",
              "    <tr>\n",
              "      <th>0</th>\n",
              "      <td>0</td>\n",
              "      <td>1467810369</td>\n",
              "      <td>Mon Apr 06 22:19:45 PDT 2009</td>\n",
              "      <td>NO_QUERY</td>\n",
              "      <td>_TheSpecialOne_</td>\n",
              "      <td>@switchfoot http://twitpic.com/2y1zl - Awww, t...</td>\n",
              "    </tr>\n",
              "    <tr>\n",
              "      <th>1</th>\n",
              "      <td>0</td>\n",
              "      <td>1467810672</td>\n",
              "      <td>Mon Apr 06 22:19:49 PDT 2009</td>\n",
              "      <td>NO_QUERY</td>\n",
              "      <td>scotthamilton</td>\n",
              "      <td>is upset that he can't update his Facebook by ...</td>\n",
              "    </tr>\n",
              "    <tr>\n",
              "      <th>2</th>\n",
              "      <td>0</td>\n",
              "      <td>1467810917</td>\n",
              "      <td>Mon Apr 06 22:19:53 PDT 2009</td>\n",
              "      <td>NO_QUERY</td>\n",
              "      <td>mattycus</td>\n",
              "      <td>@Kenichan I dived many times for the ball. Man...</td>\n",
              "    </tr>\n",
              "    <tr>\n",
              "      <th>3</th>\n",
              "      <td>0</td>\n",
              "      <td>1467811184</td>\n",
              "      <td>Mon Apr 06 22:19:57 PDT 2009</td>\n",
              "      <td>NO_QUERY</td>\n",
              "      <td>ElleCTF</td>\n",
              "      <td>my whole body feels itchy and like its on fire</td>\n",
              "    </tr>\n",
              "    <tr>\n",
              "      <th>4</th>\n",
              "      <td>0</td>\n",
              "      <td>1467811193</td>\n",
              "      <td>Mon Apr 06 22:19:57 PDT 2009</td>\n",
              "      <td>NO_QUERY</td>\n",
              "      <td>Karoli</td>\n",
              "      <td>@nationwideclass no, it's not behaving at all....</td>\n",
              "    </tr>\n",
              "  </tbody>\n",
              "</table>\n",
              "</div>"
            ],
            "text/plain": [
              "   target  ...                                               text\n",
              "0       0  ...  @switchfoot http://twitpic.com/2y1zl - Awww, t...\n",
              "1       0  ...  is upset that he can't update his Facebook by ...\n",
              "2       0  ...  @Kenichan I dived many times for the ball. Man...\n",
              "3       0  ...    my whole body feels itchy and like its on fire \n",
              "4       0  ...  @nationwideclass no, it's not behaving at all....\n",
              "\n",
              "[5 rows x 6 columns]"
            ]
          },
          "metadata": {
            "tags": []
          },
          "execution_count": 7
        }
      ]
    },
    {
      "cell_type": "code",
      "metadata": {
        "id": "FaK8swmT0WeW",
        "colab": {
          "base_uri": "https://localhost:8080/"
        },
        "outputId": "7f5b7c02-f25c-461c-baf5-1f1a26eb1264"
      },
      "source": [
        "# Revisamos si tenemos valores nulos.\n",
        "print(\"Revisamos si hay valores nulos en el set de entrenamiento\\n\", training.isna().sum())"
      ],
      "execution_count": null,
      "outputs": [
        {
          "output_type": "stream",
          "text": [
            "Revisamos si hay valores nulos en el set de entrenamiento\n",
            " target    0\n",
            "ids       0\n",
            "date      0\n",
            "flag      0\n",
            "user      0\n",
            "text      0\n",
            "dtype: int64\n"
          ],
          "name": "stdout"
        }
      ]
    },
    {
      "cell_type": "code",
      "metadata": {
        "colab": {
          "base_uri": "https://localhost:8080/"
        },
        "id": "buy6DWNJomd_",
        "outputId": "a516c3b2-50a9-4adb-f40b-dd5fc90c7e98"
      },
      "source": [
        "# Revisamos si tenemos valores nulos.\n",
        "print(\"Revisamos si hay valores nulos en el set de pruebas\\n\", test.isna().sum())"
      ],
      "execution_count": null,
      "outputs": [
        {
          "output_type": "stream",
          "text": [
            "Revisamos si hay valores nulos en el set de pruebas\n",
            " target    0\n",
            "ids       0\n",
            "date      0\n",
            "flag      0\n",
            "user      0\n",
            "text      0\n",
            "dtype: int64\n"
          ],
          "name": "stdout"
        }
      ]
    },
    {
      "cell_type": "markdown",
      "metadata": {
        "id": "ecwR3-LZsdJK"
      },
      "source": [
        "## Convertimos a minúsculas"
      ]
    },
    {
      "cell_type": "code",
      "metadata": {
        "id": "PFqRgqOsqdLh"
      },
      "source": [
        "def convierte_a_minusculas(df):\n",
        "    \"\"\"\n",
        "    Convierte a minúsculas todas las celdas de tipo str en un dataframe\n",
        "    ==========\n",
        "    * Args:\n",
        "         - df: dataframe\n",
        "    * Return:\n",
        "         - df: dataframe en minúsculas\n",
        "    ==========\n",
        "    Ejemplo:\n",
        "        >> dataframe = convierte_a_minusculas(dataframe)\n",
        "    \"\"\"\n",
        "\n",
        "    df = df.applymap(lambda s: s.lower() if type(s) == str else s)\n",
        "\n",
        "    return df"
      ],
      "execution_count": null,
      "outputs": []
    },
    {
      "cell_type": "code",
      "metadata": {
        "id": "O6SC37m0sjtW"
      },
      "source": [
        "training = convierte_a_minusculas(training)\n",
        "test = convierte_a_minusculas(test)"
      ],
      "execution_count": null,
      "outputs": []
    },
    {
      "cell_type": "markdown",
      "metadata": {
        "id": "7YApblFhtViL"
      },
      "source": [
        "## Reemplazamos las URLs con el texto \"URL\""
      ]
    },
    {
      "cell_type": "code",
      "metadata": {
        "id": "MdTnuP-PtnCV"
      },
      "source": [
        "#The regular expression used to match URLs is ((www\\.[\\S]+)|(https?://[\\S]+)).\n",
        "\n",
        "def reemplazar_URLs(phrase):\n",
        "  return re.sub(\"((www\\.[\\S]+)|(https?://[\\S]+))\", \"url\", phrase)"
      ],
      "execution_count": null,
      "outputs": []
    },
    {
      "cell_type": "code",
      "metadata": {
        "id": "NbElSDFSz29m"
      },
      "source": [
        "training['text'] = training['text'].map(lambda s: reemplazar_URLs(s))\n",
        "test['text'] = test['text'].map(lambda s: reemplazar_URLs(s))"
      ],
      "execution_count": null,
      "outputs": []
    },
    {
      "cell_type": "markdown",
      "metadata": {
        "id": "skY921aDtfXx"
      },
      "source": [
        "## Reemplazamos las menciones @ con la palabra \"USER_MENTION\"\n",
        "\n"
      ]
    },
    {
      "cell_type": "code",
      "metadata": {
        "id": "EUiN0jfutfCD"
      },
      "source": [
        "# The regular expression (regex) used to match user mention is @[\\S]+. 2."
      ],
      "execution_count": null,
      "outputs": []
    },
    {
      "cell_type": "code",
      "metadata": {
        "id": "OJko6X_dt00T"
      },
      "source": [
        "def reemplazar_usuarios(phrase):\n",
        "  return re.sub(\"@[\\S]+\", \"user_mention\", phrase)"
      ],
      "execution_count": null,
      "outputs": []
    },
    {
      "cell_type": "code",
      "metadata": {
        "id": "d-CpyGFx15Eh"
      },
      "source": [
        "training['text'] = training['text'].map(lambda s: reemplazar_usuarios(s))\n",
        "test['text'] = test['text'].map(lambda s: reemplazar_usuarios(s))"
      ],
      "execution_count": null,
      "outputs": []
    },
    {
      "cell_type": "markdown",
      "metadata": {
        "id": "N-nJsVnht2b2"
      },
      "source": [
        "## Quitamos el Hashtag , pero dejamos la palabra"
      ]
    },
    {
      "cell_type": "code",
      "metadata": {
        "id": "2uYz-8IBuEAu"
      },
      "source": [
        "# The regular expression used to match hashtags is #(\\S+)."
      ],
      "execution_count": null,
      "outputs": []
    },
    {
      "cell_type": "code",
      "metadata": {
        "id": "uG5fgFZXuQRW"
      },
      "source": [
        "def quitar_hashtag(phrase):\n",
        "  return re.sub(\"#(\\S+)\", \"\", phrase)"
      ],
      "execution_count": null,
      "outputs": []
    },
    {
      "cell_type": "code",
      "metadata": {
        "id": "qYc2v7H52GR-"
      },
      "source": [
        "training['text'] = training['text'].map(lambda s: quitar_hashtag(s))\n",
        "test['text'] = test['text'].map(lambda s: quitar_hashtag(s))"
      ],
      "execution_count": null,
      "outputs": []
    },
    {
      "cell_type": "markdown",
      "metadata": {
        "id": "pBcz7yR_uQrb"
      },
      "source": [
        "## Quitamos los Retweets, sólo la palabra RT , dejamos el comentario"
      ]
    },
    {
      "cell_type": "code",
      "metadata": {
        "id": "koZhG6bZuW5H"
      },
      "source": [
        "#  The regular expression used to match retweets is \\brt\\b."
      ],
      "execution_count": null,
      "outputs": []
    },
    {
      "cell_type": "code",
      "metadata": {
        "id": "kf2hp_8AurAQ"
      },
      "source": [
        "def quitar_RT(phrase):\n",
        "  return re.sub(\"\\brt\\b\", \"\", phrase)"
      ],
      "execution_count": null,
      "outputs": []
    },
    {
      "cell_type": "code",
      "metadata": {
        "id": "poKURoA02WZP"
      },
      "source": [
        "training['text'] = training['text'].map(lambda s: quitar_RT(s))\n",
        "test['text'] = test['text'].map(lambda s: quitar_RT(s))"
      ],
      "execution_count": null,
      "outputs": []
    },
    {
      "cell_type": "markdown",
      "metadata": {
        "id": "Y0heDobwss-z"
      },
      "source": [
        "## Quitamos espacios o puntos extras"
      ]
    },
    {
      "cell_type": "code",
      "metadata": {
        "id": "c4Bo-StOswj1"
      },
      "source": [
        "## Reemplazamos los dobles puntos (o más) con un espacio , dos o más espacios con 1 espacio y hacemos strip de espacios y comillas\n",
        "# Strip any punctuation [’\"?!,.():;-'] from the word ??"
      ],
      "execution_count": null,
      "outputs": []
    },
    {
      "cell_type": "code",
      "metadata": {
        "id": "s9mcmY8Uw1kl"
      },
      "source": [
        "def quitar_caracteres_especiales(phrase):\n",
        "  caracteres_especiales = '’\"?!,.():;-'\n",
        "  # quita dobles espacios y lo hace 1\n",
        "  phrase = re.sub(' +', ' ', phrase)\n",
        "  # quita los caracteres especiales\n",
        "  regex = re.compile('[%s]' % re.escape(caracteres_especiales))\n",
        "\n",
        "  return regex.sub('', phrase)"
      ],
      "execution_count": null,
      "outputs": []
    },
    {
      "cell_type": "code",
      "metadata": {
        "id": "6c3qHM1k3eY_"
      },
      "source": [
        "training['text'] = training['text'].map(lambda s: quitar_caracteres_especiales(s))\n",
        "test['text'] = test['text'].map(lambda s: quitar_caracteres_especiales(s))"
      ],
      "execution_count": null,
      "outputs": []
    },
    {
      "cell_type": "markdown",
      "metadata": {
        "id": "b4s2lgTSurT-"
      },
      "source": [
        "## Quitamos expresiones con letras repetidas"
      ]
    },
    {
      "cell_type": "code",
      "metadata": {
        "id": "doXZsYEPuv1A"
      },
      "source": [
        "#Convert 2 or more letter repetitions to 2 letters.\n",
        "#Some people send tweets like I am sooooo\n",
        "#happpppy adding multiple characters to emphasize\n",
        "#on certain words. This is done to handle such tweets\n",
        "#by converting them to I am soo happy"
      ],
      "execution_count": null,
      "outputs": []
    },
    {
      "cell_type": "code",
      "metadata": {
        "id": "q14G1uJX4Wgi"
      },
      "source": [
        "def quitar_letras_repetidas(phrase):\n",
        "  return re.sub(r'(.)\\1+', r'\\1\\1', phrase)"
      ],
      "execution_count": null,
      "outputs": []
    },
    {
      "cell_type": "code",
      "metadata": {
        "id": "UDSoIraw4lwK"
      },
      "source": [
        "training['text'] = training['text'].map(lambda s: quitar_letras_repetidas(s))\n",
        "test['text'] = test['text'].map(lambda s: quitar_letras_repetidas(s))"
      ],
      "execution_count": null,
      "outputs": []
    },
    {
      "cell_type": "markdown",
      "metadata": {
        "id": "4fpmzYPr92H8"
      },
      "source": [
        "## Quitar caracteres nonascii"
      ]
    },
    {
      "cell_type": "code",
      "metadata": {
        "id": "ixbvXNM695Z2"
      },
      "source": [
        "def quitar_nonascii(phrase):\n",
        "  return phrase.encode('ascii', errors='ignore').decode('utf-8')"
      ],
      "execution_count": null,
      "outputs": []
    },
    {
      "cell_type": "code",
      "metadata": {
        "id": "kvNLcFPV9-lo"
      },
      "source": [
        "training['text'] = training['text'].map(lambda s: quitar_nonascii(s))\n",
        "test['text'] = test['text'].map(lambda s: quitar_nonascii(s))"
      ],
      "execution_count": null,
      "outputs": []
    },
    {
      "cell_type": "markdown",
      "metadata": {
        "id": "d06ltAPusxX4"
      },
      "source": [
        "## Removemos stopwords"
      ]
    },
    {
      "cell_type": "code",
      "metadata": {
        "colab": {
          "base_uri": "https://localhost:8080/"
        },
        "id": "wKsmdw8Po4cB",
        "outputId": "4f97758b-49a8-4d09-90c8-3096223a6afc"
      },
      "source": [
        "nltk.download('stopwords') # Use predefined list of stopwords from nltk\n",
        "\n",
        "STOPWORDS = set(stopwords.words('english'))"
      ],
      "execution_count": null,
      "outputs": [
        {
          "output_type": "stream",
          "text": [
            "[nltk_data] Downloading package stopwords to /root/nltk_data...\n",
            "[nltk_data]   Unzipping corpora/stopwords.zip.\n"
          ],
          "name": "stdout"
        }
      ]
    },
    {
      "cell_type": "code",
      "metadata": {
        "id": "Hupxr_H7pcoT"
      },
      "source": [
        "# Aux funcción para substituir abreviaciones\n",
        "def decontracted(phrase):\n",
        "  phrase = re.sub(r\"won't\", \"will not\", phrase)\n",
        "  phrase = re.sub(r\"can\\'t\", \"can not\", phrase)\n",
        "  phrase = re.sub(r\"n\\'t\", \" not\", phrase)\n",
        "  phrase = re.sub(r\"\\'re\", \" are\", phrase)\n",
        "  phrase = re.sub(r\"\\'s\", \" is\", phrase)\n",
        "  phrase = re.sub(r\"\\'d\", \" would\", phrase)\n",
        "  phrase = re.sub(r\"\\'ll\", \" will\", phrase)\n",
        "  phrase = re.sub(r\"\\'t\", \" not\", phrase)\n",
        "  phrase = re.sub(r\"\\'ve\", \" have\", phrase)\n",
        "  phrase = re.sub(r\"\\'m\", \" am\", phrase)\n",
        "  return phrase"
      ],
      "execution_count": null,
      "outputs": []
    },
    {
      "cell_type": "code",
      "metadata": {
        "id": "fKcPZvh08GAm"
      },
      "source": [
        "training['text'] = training['text'].map(lambda s: decontracted(s))\n",
        "test['text'] = test['text'].map(lambda s: decontracted(s))"
      ],
      "execution_count": null,
      "outputs": []
    },
    {
      "cell_type": "code",
      "metadata": {
        "id": "NVay2CjXphs-"
      },
      "source": [
        "# Set adicional de stopwords, removeremos palabras tanto de este set como del que\n",
        "# viene definido en el nltk\n",
        "stopwords= set(['br', 'the', 'i', 'me', 'my', 'myself', 'we', 'our', 'ours', 'ourselves', 'you', \"you're\", \"you've\",\\\n",
        "            \"you'll\", \"you'd\", 'your', 'yours', 'yourself', 'yourselves', 'he', 'him', 'his', 'himself', \\\n",
        "            'she', \"she's\", 'her', 'hers', 'herself', 'it', \"it's\", 'its', 'itself', 'they', 'them', 'their',\\\n",
        "            'theirs', 'themselves', 'what', 'which', 'who', 'whom', 'this', 'that', \"that'll\", 'these', 'those', \\\n",
        "            'am', 'is', 'are', 'was', 'were', 'be', 'been', 'being', 'have', 'has', 'had', 'having', 'do', 'does', \\\n",
        "            'did', 'doing', 'a', 'an', 'the', 'and', 'but', 'if', 'or', 'because', 'as', 'until', 'while', 'of', \\\n",
        "            'at', 'by', 'for', 'with', 'about', 'against', 'between', 'into', 'through', 'during', 'before', 'after',\\\n",
        "            'above', 'below', 'to', 'from', 'up', 'down', 'in', 'out', 'on', 'off', 'over', 'under', 'again', 'further',\\\n",
        "            'then', 'once', 'here', 'there', 'when', 'where', 'why', 'how', 'all', 'any', 'both', 'each', 'few', 'more',\\\n",
        "            'most', 'other', 'some', 'such', 'only', 'own', 'same', 'so', 'than', 'too', 'very', \\\n",
        "            's', 't', 'can', 'will', 'just', 'don', \"don't\", 'should', \"should've\", 'now', 'd', 'll', 'm', 'o', 're', \\\n",
        "            've', 'y', 'ain', 'aren', \"aren't\", 'couldn', \"couldn't\", 'didn', \"didn't\", 'doesn', \"doesn't\", 'hadn',\\\n",
        "            \"hadn't\", 'hasn', \"hasn't\", 'haven', \"haven't\", 'isn', \"isn't\", 'ma', 'mightn', \"mightn't\", 'mustn',\\\n",
        "            \"mustn't\", 'needn', \"needn't\", 'shan', \"shan't\", 'shouldn', \"shouldn't\", 'wasn', \"wasn't\", 'weren', \"weren't\", \\\n",
        "            'won', \"won't\", 'wouldn', \"wouldn't\"])"
      ],
      "execution_count": null,
      "outputs": []
    },
    {
      "cell_type": "code",
      "metadata": {
        "id": "3DhUZCBmpkoF"
      },
      "source": [
        "# Función auxiliar para remover stopwords y otras estandarizaciones de texto\n",
        "# (Aqui puedes incluir el lematizador o stemming si gustas explorarlos)\n",
        "def remove_stopwords(phrase):\n",
        "    phrase = ' '.join(e.lower() for e in phrase.split() if e.lower() not in stopwords)\n",
        "    phrase = ' '.join(e.lower() for e in phrase.split() if e.lower() not in STOPWORDS)\n",
        "    return phrase"
      ],
      "execution_count": null,
      "outputs": []
    },
    {
      "cell_type": "code",
      "metadata": {
        "id": "s75jkoB5ps5V"
      },
      "source": [
        "training['text'] = training['text'].map(lambda s: remove_stopwords(s))\n",
        "test['atext'] = test['text'].map(lambda s: remove_stopwords(s))"
      ],
      "execution_count": null,
      "outputs": []
    },
    {
      "cell_type": "code",
      "metadata": {
        "colab": {
          "base_uri": "https://localhost:8080/",
          "height": 406
        },
        "id": "fbdBv25t8bdp",
        "outputId": "2f884512-0693-4af4-ec4e-8df6e9f3f94f"
      },
      "source": [
        "training"
      ],
      "execution_count": null,
      "outputs": [
        {
          "output_type": "execute_result",
          "data": {
            "text/html": [
              "<div>\n",
              "<style scoped>\n",
              "    .dataframe tbody tr th:only-of-type {\n",
              "        vertical-align: middle;\n",
              "    }\n",
              "\n",
              "    .dataframe tbody tr th {\n",
              "        vertical-align: top;\n",
              "    }\n",
              "\n",
              "    .dataframe thead th {\n",
              "        text-align: right;\n",
              "    }\n",
              "</style>\n",
              "<table border=\"1\" class=\"dataframe\">\n",
              "  <thead>\n",
              "    <tr style=\"text-align: right;\">\n",
              "      <th></th>\n",
              "      <th>target</th>\n",
              "      <th>ids</th>\n",
              "      <th>date</th>\n",
              "      <th>flag</th>\n",
              "      <th>user</th>\n",
              "      <th>text</th>\n",
              "    </tr>\n",
              "  </thead>\n",
              "  <tbody>\n",
              "    <tr>\n",
              "      <th>0</th>\n",
              "      <td>0</td>\n",
              "      <td>1467810369</td>\n",
              "      <td>mon apr 06 22:19:45 pdt 2009</td>\n",
              "      <td>no_query</td>\n",
              "      <td>_thespecialone_</td>\n",
              "      <td>user_mention url aww bummer shoulda got david ...</td>\n",
              "    </tr>\n",
              "    <tr>\n",
              "      <th>1</th>\n",
              "      <td>0</td>\n",
              "      <td>1467810672</td>\n",
              "      <td>mon apr 06 22:19:49 pdt 2009</td>\n",
              "      <td>no_query</td>\n",
              "      <td>scotthamilton</td>\n",
              "      <td>upset update facebook texting might cry result...</td>\n",
              "    </tr>\n",
              "    <tr>\n",
              "      <th>2</th>\n",
              "      <td>0</td>\n",
              "      <td>1467810917</td>\n",
              "      <td>mon apr 06 22:19:53 pdt 2009</td>\n",
              "      <td>no_query</td>\n",
              "      <td>mattycus</td>\n",
              "      <td>user_mention dived many times ball managed sav...</td>\n",
              "    </tr>\n",
              "    <tr>\n",
              "      <th>3</th>\n",
              "      <td>0</td>\n",
              "      <td>1467811184</td>\n",
              "      <td>mon apr 06 22:19:57 pdt 2009</td>\n",
              "      <td>no_query</td>\n",
              "      <td>ellectf</td>\n",
              "      <td>whole body feels itchy like fire</td>\n",
              "    </tr>\n",
              "    <tr>\n",
              "      <th>4</th>\n",
              "      <td>0</td>\n",
              "      <td>1467811193</td>\n",
              "      <td>mon apr 06 22:19:57 pdt 2009</td>\n",
              "      <td>no_query</td>\n",
              "      <td>karoli</td>\n",
              "      <td>user_mention behaving mad see</td>\n",
              "    </tr>\n",
              "    <tr>\n",
              "      <th>...</th>\n",
              "      <td>...</td>\n",
              "      <td>...</td>\n",
              "      <td>...</td>\n",
              "      <td>...</td>\n",
              "      <td>...</td>\n",
              "      <td>...</td>\n",
              "    </tr>\n",
              "    <tr>\n",
              "      <th>1599995</th>\n",
              "      <td>4</td>\n",
              "      <td>2193601966</td>\n",
              "      <td>tue jun 16 08:40:49 pdt 2009</td>\n",
              "      <td>no_query</td>\n",
              "      <td>amandamarie1028</td>\n",
              "      <td>woke school best feeling ever</td>\n",
              "    </tr>\n",
              "    <tr>\n",
              "      <th>1599996</th>\n",
              "      <td>4</td>\n",
              "      <td>2193601969</td>\n",
              "      <td>tue jun 16 08:40:49 pdt 2009</td>\n",
              "      <td>no_query</td>\n",
              "      <td>thewdboards</td>\n",
              "      <td>thewdbcom cool hear old walt interviews url</td>\n",
              "    </tr>\n",
              "    <tr>\n",
              "      <th>1599997</th>\n",
              "      <td>4</td>\n",
              "      <td>2193601991</td>\n",
              "      <td>tue jun 16 08:40:49 pdt 2009</td>\n",
              "      <td>no_query</td>\n",
              "      <td>bpbabe</td>\n",
              "      <td>ready mojo makeover ask details</td>\n",
              "    </tr>\n",
              "    <tr>\n",
              "      <th>1599998</th>\n",
              "      <td>4</td>\n",
              "      <td>2193602064</td>\n",
              "      <td>tue jun 16 08:40:49 pdt 2009</td>\n",
              "      <td>no_query</td>\n",
              "      <td>tinydiamondz</td>\n",
              "      <td>happy 38th birthday boo time tupac amaru shakur</td>\n",
              "    </tr>\n",
              "    <tr>\n",
              "      <th>1599999</th>\n",
              "      <td>4</td>\n",
              "      <td>2193602129</td>\n",
              "      <td>tue jun 16 08:40:50 pdt 2009</td>\n",
              "      <td>no_query</td>\n",
              "      <td>ryantrevmorris</td>\n",
              "      <td>happy user_mention user_mention user_mention</td>\n",
              "    </tr>\n",
              "  </tbody>\n",
              "</table>\n",
              "<p>1600000 rows × 6 columns</p>\n",
              "</div>"
            ],
            "text/plain": [
              "         target  ...                                               text\n",
              "0             0  ...  user_mention url aww bummer shoulda got david ...\n",
              "1             0  ...  upset update facebook texting might cry result...\n",
              "2             0  ...  user_mention dived many times ball managed sav...\n",
              "3             0  ...                   whole body feels itchy like fire\n",
              "4             0  ...                      user_mention behaving mad see\n",
              "...         ...  ...                                                ...\n",
              "1599995       4  ...                      woke school best feeling ever\n",
              "1599996       4  ...        thewdbcom cool hear old walt interviews url\n",
              "1599997       4  ...                    ready mojo makeover ask details\n",
              "1599998       4  ...    happy 38th birthday boo time tupac amaru shakur\n",
              "1599999       4  ...       happy user_mention user_mention user_mention\n",
              "\n",
              "[1600000 rows x 6 columns]"
            ]
          },
          "metadata": {
            "tags": []
          },
          "execution_count": 37
        }
      ]
    },
    {
      "cell_type": "markdown",
      "metadata": {
        "id": "zZ9-3EEjAa9c"
      },
      "source": [
        "## Stemming con NLTK"
      ]
    },
    {
      "cell_type": "code",
      "metadata": {
        "id": "IzGJo37t-rhL"
      },
      "source": [
        "\n",
        "#create an object of class PorterStemmer\n",
        "porter = PorterStemmer()\n",
        "lancaster=LancasterStemmer()\n",
        "\n",
        "def stemSentence(sentence):\n",
        "    token_words=word_tokenize(sentence)\n",
        "    token_words\n",
        "    stem_sentence=[]\n",
        "    for word in token_words:\n",
        "        stem_sentence.append(porter.stem(word))\n",
        "        stem_sentence.append(\" \")\n",
        "    return \"\".join(stem_sentence)"
      ],
      "execution_count": null,
      "outputs": []
    },
    {
      "cell_type": "code",
      "metadata": {
        "id": "4F2wTVwKAgAs"
      },
      "source": [
        "training['text'] = training['text'].map(lambda s: stemSentence(s))\n",
        "test['atext'] = test['text'].map(lambda s: stemSentence(s))"
      ],
      "execution_count": null,
      "outputs": []
    },
    {
      "cell_type": "code",
      "metadata": {
        "id": "9OebKJzDC4rK",
        "colab": {
          "base_uri": "https://localhost:8080/",
          "height": 406
        },
        "outputId": "3184f960-3270-412e-fc01-2fa6d7d790c9"
      },
      "source": [
        "training"
      ],
      "execution_count": null,
      "outputs": [
        {
          "output_type": "execute_result",
          "data": {
            "text/html": [
              "<div>\n",
              "<style scoped>\n",
              "    .dataframe tbody tr th:only-of-type {\n",
              "        vertical-align: middle;\n",
              "    }\n",
              "\n",
              "    .dataframe tbody tr th {\n",
              "        vertical-align: top;\n",
              "    }\n",
              "\n",
              "    .dataframe thead th {\n",
              "        text-align: right;\n",
              "    }\n",
              "</style>\n",
              "<table border=\"1\" class=\"dataframe\">\n",
              "  <thead>\n",
              "    <tr style=\"text-align: right;\">\n",
              "      <th></th>\n",
              "      <th>target</th>\n",
              "      <th>ids</th>\n",
              "      <th>date</th>\n",
              "      <th>flag</th>\n",
              "      <th>user</th>\n",
              "      <th>text</th>\n",
              "    </tr>\n",
              "  </thead>\n",
              "  <tbody>\n",
              "    <tr>\n",
              "      <th>0</th>\n",
              "      <td>0</td>\n",
              "      <td>1467810369</td>\n",
              "      <td>mon apr 06 22:19:45 pdt 2009</td>\n",
              "      <td>no_query</td>\n",
              "      <td>_thespecialone_</td>\n",
              "      <td>user_ment url aww bummer shoulda got david car...</td>\n",
              "    </tr>\n",
              "    <tr>\n",
              "      <th>1</th>\n",
              "      <td>0</td>\n",
              "      <td>1467810672</td>\n",
              "      <td>mon apr 06 22:19:49 pdt 2009</td>\n",
              "      <td>no_query</td>\n",
              "      <td>scotthamilton</td>\n",
              "      <td>upset updat facebook text might cri result sch...</td>\n",
              "    </tr>\n",
              "    <tr>\n",
              "      <th>2</th>\n",
              "      <td>0</td>\n",
              "      <td>1467810917</td>\n",
              "      <td>mon apr 06 22:19:53 pdt 2009</td>\n",
              "      <td>no_query</td>\n",
              "      <td>mattycus</td>\n",
              "      <td>user_ment dive mani time ball manag save 50 % ...</td>\n",
              "    </tr>\n",
              "    <tr>\n",
              "      <th>3</th>\n",
              "      <td>0</td>\n",
              "      <td>1467811184</td>\n",
              "      <td>mon apr 06 22:19:57 pdt 2009</td>\n",
              "      <td>no_query</td>\n",
              "      <td>ellectf</td>\n",
              "      <td>whole bodi feel itchi like fire</td>\n",
              "    </tr>\n",
              "    <tr>\n",
              "      <th>4</th>\n",
              "      <td>0</td>\n",
              "      <td>1467811193</td>\n",
              "      <td>mon apr 06 22:19:57 pdt 2009</td>\n",
              "      <td>no_query</td>\n",
              "      <td>karoli</td>\n",
              "      <td>user_ment behav mad see</td>\n",
              "    </tr>\n",
              "    <tr>\n",
              "      <th>...</th>\n",
              "      <td>...</td>\n",
              "      <td>...</td>\n",
              "      <td>...</td>\n",
              "      <td>...</td>\n",
              "      <td>...</td>\n",
              "      <td>...</td>\n",
              "    </tr>\n",
              "    <tr>\n",
              "      <th>1599995</th>\n",
              "      <td>4</td>\n",
              "      <td>2193601966</td>\n",
              "      <td>tue jun 16 08:40:49 pdt 2009</td>\n",
              "      <td>no_query</td>\n",
              "      <td>amandamarie1028</td>\n",
              "      <td>woke school best feel ever</td>\n",
              "    </tr>\n",
              "    <tr>\n",
              "      <th>1599996</th>\n",
              "      <td>4</td>\n",
              "      <td>2193601969</td>\n",
              "      <td>tue jun 16 08:40:49 pdt 2009</td>\n",
              "      <td>no_query</td>\n",
              "      <td>thewdboards</td>\n",
              "      <td>thewdbcom cool hear old walt interview url</td>\n",
              "    </tr>\n",
              "    <tr>\n",
              "      <th>1599997</th>\n",
              "      <td>4</td>\n",
              "      <td>2193601991</td>\n",
              "      <td>tue jun 16 08:40:49 pdt 2009</td>\n",
              "      <td>no_query</td>\n",
              "      <td>bpbabe</td>\n",
              "      <td>readi mojo makeov ask detail</td>\n",
              "    </tr>\n",
              "    <tr>\n",
              "      <th>1599998</th>\n",
              "      <td>4</td>\n",
              "      <td>2193602064</td>\n",
              "      <td>tue jun 16 08:40:49 pdt 2009</td>\n",
              "      <td>no_query</td>\n",
              "      <td>tinydiamondz</td>\n",
              "      <td>happi 38th birthday boo time tupac amaru shakur</td>\n",
              "    </tr>\n",
              "    <tr>\n",
              "      <th>1599999</th>\n",
              "      <td>4</td>\n",
              "      <td>2193602129</td>\n",
              "      <td>tue jun 16 08:40:50 pdt 2009</td>\n",
              "      <td>no_query</td>\n",
              "      <td>ryantrevmorris</td>\n",
              "      <td>happi user_ment user_ment user_ment</td>\n",
              "    </tr>\n",
              "  </tbody>\n",
              "</table>\n",
              "<p>1600000 rows × 6 columns</p>\n",
              "</div>"
            ],
            "text/plain": [
              "         target  ...                                               text\n",
              "0             0  ...  user_ment url aww bummer shoulda got david car...\n",
              "1             0  ...  upset updat facebook text might cri result sch...\n",
              "2             0  ...  user_ment dive mani time ball manag save 50 % ...\n",
              "3             0  ...                   whole bodi feel itchi like fire \n",
              "4             0  ...                           user_ment behav mad see \n",
              "...         ...  ...                                                ...\n",
              "1599995       4  ...                        woke school best feel ever \n",
              "1599996       4  ...        thewdbcom cool hear old walt interview url \n",
              "1599997       4  ...                      readi mojo makeov ask detail \n",
              "1599998       4  ...   happi 38th birthday boo time tupac amaru shakur \n",
              "1599999       4  ...               happi user_ment user_ment user_ment \n",
              "\n",
              "[1600000 rows x 6 columns]"
            ]
          },
          "metadata": {
            "tags": []
          },
          "execution_count": 40
        }
      ]
    },
    {
      "cell_type": "markdown",
      "metadata": {
        "id": "YV-663kPv_aY"
      },
      "source": [
        "Quitamos datos al entrenamiento, empecemos con 100,000 "
      ]
    },
    {
      "cell_type": "code",
      "metadata": {
        "id": "UzUcFoj4v-Te"
      },
      "source": [
        "data_set_1 = training= training.head(100000)"
      ],
      "execution_count": null,
      "outputs": []
    },
    {
      "cell_type": "code",
      "metadata": {
        "id": "sr7glm9gz0N0",
        "colab": {
          "base_uri": "https://localhost:8080/",
          "height": 406
        },
        "outputId": "00ee99c9-9815-4059-a12f-113e6a4a4709"
      },
      "source": [
        "data_set_1"
      ],
      "execution_count": null,
      "outputs": [
        {
          "output_type": "execute_result",
          "data": {
            "text/html": [
              "<div>\n",
              "<style scoped>\n",
              "    .dataframe tbody tr th:only-of-type {\n",
              "        vertical-align: middle;\n",
              "    }\n",
              "\n",
              "    .dataframe tbody tr th {\n",
              "        vertical-align: top;\n",
              "    }\n",
              "\n",
              "    .dataframe thead th {\n",
              "        text-align: right;\n",
              "    }\n",
              "</style>\n",
              "<table border=\"1\" class=\"dataframe\">\n",
              "  <thead>\n",
              "    <tr style=\"text-align: right;\">\n",
              "      <th></th>\n",
              "      <th>target</th>\n",
              "      <th>ids</th>\n",
              "      <th>date</th>\n",
              "      <th>flag</th>\n",
              "      <th>user</th>\n",
              "      <th>text</th>\n",
              "    </tr>\n",
              "  </thead>\n",
              "  <tbody>\n",
              "    <tr>\n",
              "      <th>0</th>\n",
              "      <td>0</td>\n",
              "      <td>1467810369</td>\n",
              "      <td>mon apr 06 22:19:45 pdt 2009</td>\n",
              "      <td>no_query</td>\n",
              "      <td>_thespecialone_</td>\n",
              "      <td>user_ment url aww bummer shoulda got david car...</td>\n",
              "    </tr>\n",
              "    <tr>\n",
              "      <th>1</th>\n",
              "      <td>0</td>\n",
              "      <td>1467810672</td>\n",
              "      <td>mon apr 06 22:19:49 pdt 2009</td>\n",
              "      <td>no_query</td>\n",
              "      <td>scotthamilton</td>\n",
              "      <td>upset updat facebook text might cri result sch...</td>\n",
              "    </tr>\n",
              "    <tr>\n",
              "      <th>2</th>\n",
              "      <td>0</td>\n",
              "      <td>1467810917</td>\n",
              "      <td>mon apr 06 22:19:53 pdt 2009</td>\n",
              "      <td>no_query</td>\n",
              "      <td>mattycus</td>\n",
              "      <td>user_ment dive mani time ball manag save 50 % ...</td>\n",
              "    </tr>\n",
              "    <tr>\n",
              "      <th>3</th>\n",
              "      <td>0</td>\n",
              "      <td>1467811184</td>\n",
              "      <td>mon apr 06 22:19:57 pdt 2009</td>\n",
              "      <td>no_query</td>\n",
              "      <td>ellectf</td>\n",
              "      <td>whole bodi feel itchi like fire</td>\n",
              "    </tr>\n",
              "    <tr>\n",
              "      <th>4</th>\n",
              "      <td>0</td>\n",
              "      <td>1467811193</td>\n",
              "      <td>mon apr 06 22:19:57 pdt 2009</td>\n",
              "      <td>no_query</td>\n",
              "      <td>karoli</td>\n",
              "      <td>user_ment behav mad see</td>\n",
              "    </tr>\n",
              "    <tr>\n",
              "      <th>...</th>\n",
              "      <td>...</td>\n",
              "      <td>...</td>\n",
              "      <td>...</td>\n",
              "      <td>...</td>\n",
              "      <td>...</td>\n",
              "      <td>...</td>\n",
              "    </tr>\n",
              "    <tr>\n",
              "      <th>99995</th>\n",
              "      <td>0</td>\n",
              "      <td>1793820630</td>\n",
              "      <td>thu may 14 04:05:58 pdt 2009</td>\n",
              "      <td>no_query</td>\n",
              "      <td>babybigmouth</td>\n",
              "      <td>son develop new habit wake 530am second pot co...</td>\n",
              "    </tr>\n",
              "    <tr>\n",
              "      <th>99996</th>\n",
              "      <td>0</td>\n",
              "      <td>1793820812</td>\n",
              "      <td>thu may 14 04:06:00 pdt 2009</td>\n",
              "      <td>no_query</td>\n",
              "      <td>paramoreroxx</td>\n",
              "      <td>look like router broke tweet fone</td>\n",
              "    </tr>\n",
              "    <tr>\n",
              "      <th>99997</th>\n",
              "      <td>0</td>\n",
              "      <td>1793820858</td>\n",
              "      <td>thu may 14 04:06:00 pdt 2009</td>\n",
              "      <td>no_query</td>\n",
              "      <td>beckypope</td>\n",
              "      <td>realli dont want colleg right wish sunni</td>\n",
              "    </tr>\n",
              "    <tr>\n",
              "      <th>99998</th>\n",
              "      <td>0</td>\n",
              "      <td>1793820982</td>\n",
              "      <td>thu may 14 04:06:02 pdt 2009</td>\n",
              "      <td>no_query</td>\n",
              "      <td>xmissxxxmurderx</td>\n",
              "      <td>user_ment *offer pepto*</td>\n",
              "    </tr>\n",
              "    <tr>\n",
              "      <th>99999</th>\n",
              "      <td>0</td>\n",
              "      <td>1793821002</td>\n",
              "      <td>thu may 14 04:06:02 pdt 2009</td>\n",
              "      <td>no_query</td>\n",
              "      <td>louiseydeesy</td>\n",
              "      <td>user_ment would soo revis</td>\n",
              "    </tr>\n",
              "  </tbody>\n",
              "</table>\n",
              "<p>100000 rows × 6 columns</p>\n",
              "</div>"
            ],
            "text/plain": [
              "       target  ...                                               text\n",
              "0           0  ...  user_ment url aww bummer shoulda got david car...\n",
              "1           0  ...  upset updat facebook text might cri result sch...\n",
              "2           0  ...  user_ment dive mani time ball manag save 50 % ...\n",
              "3           0  ...                   whole bodi feel itchi like fire \n",
              "4           0  ...                           user_ment behav mad see \n",
              "...       ...  ...                                                ...\n",
              "99995       0  ...  son develop new habit wake 530am second pot co...\n",
              "99996       0  ...                 look like router broke tweet fone \n",
              "99997       0  ...          realli dont want colleg right wish sunni \n",
              "99998       0  ...                           user_ment *offer pepto* \n",
              "99999       0  ...                         user_ment would soo revis \n",
              "\n",
              "[100000 rows x 6 columns]"
            ]
          },
          "metadata": {
            "tags": []
          },
          "execution_count": 43
        }
      ]
    },
    {
      "cell_type": "markdown",
      "metadata": {
        "id": "XgajHM4gCjep"
      },
      "source": [
        "# Entrenamos un Tokenizer"
      ]
    },
    {
      "cell_type": "code",
      "metadata": {
        "colab": {
          "base_uri": "https://localhost:8080/"
        },
        "id": "y-hxvgq_AjBL",
        "outputId": "1f9ad611-26fb-4875-ad8b-dcc35364f858"
      },
      "source": [
        "from tensorflow.keras.preprocessing.text import Tokenizer\n",
        "from tensorflow.keras.preprocessing.sequence import pad_sequences\n",
        "from tensorflow.keras import regularizers\n",
        "\n",
        "# Entrena un Tokenizer. Consiste en:\n",
        "# Crea un diccionario numerado de las palabras existentes en el corpus, y devuelve\n",
        "# por cada palabra, el número entero de su índice en el diccionario.\n",
        "# En este caso, considera las N palabras más frecuentes.\n",
        "# oov_token = constante asiganda para palabras fuera del vocabulario (NOT USED HERE)\n",
        "\n",
        "\n",
        "max_words = 5000\n",
        "max_len = 200\n",
        "\n",
        "tokenizer = Tokenizer(num_words=max_words)\n",
        "tokenizer.fit_on_texts(data_set_1.text)\n",
        "sequences = tokenizer.texts_to_sequences(data_set_1.text)\n",
        "tweets = pad_sequences(sequences, maxlen=max_len)\n",
        "print(tweets)"
      ],
      "execution_count": null,
      "outputs": [
        {
          "output_type": "stream",
          "text": [
            "[[   0    0    0 ...  555 1577    6]\n",
            " [   0    0    0 ...   10  217  706]\n",
            " [   0    0    0 ...  357    3 2676]\n",
            " ...\n",
            " [   0    0    0 ...   60   20  369]\n",
            " [   0    0    0 ...    2    1 1207]\n",
            " [   0    0    0 ...   37   87  313]]\n"
          ],
          "name": "stdout"
        }
      ]
    },
    {
      "cell_type": "markdown",
      "metadata": {
        "id": "uY-EM8O70OnW"
      },
      "source": [
        "## Separamos en train, test"
      ]
    },
    {
      "cell_type": "code",
      "metadata": {
        "id": "4H29q5XL0RBl"
      },
      "source": [
        "X_train, X_test, y_train, y_test = train_test_split(tweets, data_set_1.target.values, test_size=0.3, random_state=23042021)"
      ],
      "execution_count": null,
      "outputs": []
    },
    {
      "cell_type": "code",
      "metadata": {
        "id": "3Gx4QC-MDMRF",
        "colab": {
          "base_uri": "https://localhost:8080/"
        },
        "outputId": "1a904c40-7c0f-4981-8284-84801a1cc231"
      },
      "source": [
        "print(\"X_train\", X_train.shape)\n",
        "print(\"y_train\", y_train.shape)\n",
        "print(\"X_test\", X_test.shape)\n",
        "print(\"y_test\", y_test.shape)"
      ],
      "execution_count": null,
      "outputs": [
        {
          "output_type": "stream",
          "text": [
            "X_train (70000, 200)\n",
            "y_train (70000,)\n",
            "X_test (30000, 200)\n",
            "y_test (30000,)\n"
          ],
          "name": "stdout"
        }
      ]
    },
    {
      "cell_type": "markdown",
      "metadata": {
        "id": "9Ih2oqSz07em"
      },
      "source": [
        "# Creamos el modelo"
      ]
    },
    {
      "cell_type": "markdown",
      "metadata": {
        "id": "LyGyZLYT3Ka7"
      },
      "source": [
        "### RNN, tomado de: https://www.kaggle.com/smitshah00/sentiment-analysis-ml-rnn"
      ]
    },
    {
      "cell_type": "code",
      "metadata": {
        "id": "3ehMLsbe09Q2",
        "colab": {
          "base_uri": "https://localhost:8080/"
        },
        "outputId": "1b8f0e75-3046-443d-8da2-fc64b7b220e3"
      },
      "source": [
        "from keras.models import Sequential\n",
        "from keras import layers\n",
        "from keras import regularizers\n",
        "from keras import backend as K\n",
        "from keras.callbacks import ModelCheckpoint\n",
        "\n",
        "\n",
        "model2 = Sequential()\n",
        "model2.add(layers.Embedding(max_words, 128))\n",
        "model2.add(layers.LSTM(64,dropout=0.5))\n",
        "model2.add(layers.Dense(16, activation='relu'))\n",
        "model2.add(layers.Dense(8, activation='relu'))\n",
        "model2.add(layers.Dense(1,activation='sigmoid'))\n",
        "model2.compile(optimizer='adam',loss='binary_crossentropy', metrics=['accuracy'])\n",
        "\n",
        "model2.summary()"
      ],
      "execution_count": null,
      "outputs": [
        {
          "output_type": "stream",
          "text": [
            "Model: \"sequential_5\"\n",
            "_________________________________________________________________\n",
            "Layer (type)                 Output Shape              Param #   \n",
            "=================================================================\n",
            "embedding_4 (Embedding)      (None, None, 128)         640000    \n",
            "_________________________________________________________________\n",
            "lstm_4 (LSTM)                (None, 64)                49408     \n",
            "_________________________________________________________________\n",
            "dense_12 (Dense)             (None, 16)                1040      \n",
            "_________________________________________________________________\n",
            "dense_13 (Dense)             (None, 8)                 136       \n",
            "_________________________________________________________________\n",
            "dense_14 (Dense)             (None, 1)                 9         \n",
            "=================================================================\n",
            "Total params: 690,593\n",
            "Trainable params: 690,593\n",
            "Non-trainable params: 0\n",
            "_________________________________________________________________\n"
          ],
          "name": "stdout"
        }
      ]
    },
    {
      "cell_type": "code",
      "metadata": {
        "id": "TqMtk5JZ14s7",
        "colab": {
          "base_uri": "https://localhost:8080/"
        },
        "outputId": "b3506f01-c771-4e54-edd5-fd9c4ed9a406"
      },
      "source": [
        "checkpoint2 = ModelCheckpoint(\"rnn_model.hdf5\", monitor='val_accuracy', verbose=1,save_best_only=True, mode='auto', period=1,save_weights_only=False)\n",
        "history = model2.fit(X_train, y_train, epochs=10, validation_data=(X_test, y_test),callbacks=[checkpoint2])"
      ],
      "execution_count": null,
      "outputs": [
        {
          "output_type": "stream",
          "text": [
            "WARNING:tensorflow:`period` argument is deprecated. Please use `save_freq` to specify the frequency in number of batches seen.\n",
            "Epoch 1/10\n",
            "1176/2188 [===============>..............] - ETA: 2:23 - loss: 0.0328 - accuracy: 0.9998"
          ],
          "name": "stdout"
        }
      ]
    },
    {
      "cell_type": "markdown",
      "metadata": {
        "id": "VLyyFdB43Hjk"
      },
      "source": [
        "# Probamos"
      ]
    },
    {
      "cell_type": "code",
      "metadata": {
        "id": "P66K7U7I1kbJ"
      },
      "source": [
        "model = keras.models.load_model('rnn_model.hdf5')\n",
        "sequence = tokenizer.texts_to_sequences(['this data science article is the best ever'])\n",
        "test = pad_sequences(sequence, maxlen=max_len)\n",
        "pred = model.predict(test)\n",
        "if pred > 0.5:\n",
        "  print('Positive')\n",
        "else:\n",
        "  print('Negative')"
      ],
      "execution_count": null,
      "outputs": []
    }
  ]
}