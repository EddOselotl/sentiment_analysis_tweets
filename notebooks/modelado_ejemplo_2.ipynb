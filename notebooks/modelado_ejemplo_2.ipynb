{
  "nbformat": 4,
  "nbformat_minor": 0,
  "metadata": {
    "colab": {
      "name": "modelado_ejemplo_2.ipynb",
      "provenance": [],
      "collapsed_sections": [],
      "include_colab_link": true
    },
    "kernelspec": {
      "display_name": "itam_intro_to_ds",
      "language": "python",
      "name": "itam_intro_to_ds"
    },
    "language_info": {
      "codemirror_mode": {
        "name": "ipython",
        "version": 3
      },
      "file_extension": ".py",
      "mimetype": "text/x-python",
      "name": "python",
      "nbconvert_exporter": "python",
      "pygments_lexer": "ipython3",
      "version": "3.7.4"
    },
    "accelerator": "GPU"
  },
  "cells": [
    {
      "cell_type": "markdown",
      "metadata": {
        "id": "view-in-github",
        "colab_type": "text"
      },
      "source": [
        "<a href=\"https://colab.research.google.com/github/ElenaVillano/sentiment_analysis_tweets/blob/main/notebooks/modelado_ejemplo_2.ipynb\" target=\"_parent\"><img src=\"https://colab.research.google.com/assets/colab-badge.svg\" alt=\"Open In Colab\"/></a>"
      ]
    },
    {
      "cell_type": "code",
      "metadata": {
        "id": "TrmrcgOf0Wd_"
      },
      "source": [
        "!pip install \"git+https://github.com/ElenaVillano/sentiment_analysis_tweets.git#egg=nlptweet&subdirectory=src\" --quiet"
      ],
      "execution_count": 1,
      "outputs": []
    },
    {
      "cell_type": "code",
      "metadata": {
        "id": "pg5YRy3E1jMT"
      },
      "source": [
        "#!pip uninstall nlptweet"
      ],
      "execution_count": 2,
      "outputs": []
    },
    {
      "cell_type": "code",
      "metadata": {
        "colab": {
          "base_uri": "https://localhost:8080/"
        },
        "id": "mpmrJ_G_pgnP",
        "outputId": "b661d2e1-d395-4c09-8373-cb87de7d8735"
      },
      "source": [
        "import pandas as pd\n",
        "import numpy as np\n",
        "import matplotlib.pyplot as plt\n",
        "import datetime\n",
        "import nltk\n",
        "#import re\n",
        "import timeit\n",
        "import string\n",
        "# Nuestro paquete\n",
        "import nlp\n",
        "\n",
        "\n",
        "#call the nltk downloader\n",
        "nltk.download('punkt')\n",
        "\n",
        "from dateutil import parser\n",
        "\n",
        "# Carga un set de stopwords predefinidas\n",
        "from nltk.corpus import stopwords\n",
        "\n",
        "from nltk.tokenize import sent_tokenize, word_tokenize\n",
        "from nltk.stem import PorterStemmer\n",
        "from nltk.stem import LancasterStemmer"
      ],
      "execution_count": 2,
      "outputs": [
        {
          "output_type": "stream",
          "text": [
            "[nltk_data] Downloading package punkt to /root/nltk_data...\n",
            "[nltk_data]   Package punkt is already up-to-date!\n"
          ],
          "name": "stdout"
        }
      ]
    },
    {
      "cell_type": "code",
      "metadata": {
        "id": "UP5nN_Ns0WeJ"
      },
      "source": [
        "# Nombramiento de columnas\n",
        "col_names = ['target', # Polaridad del twet 0=negativo, 2=neutral, 4=positivo\n",
        "             'ids',    # ID tweet\n",
        "             'date',   # Fecha y hora del tweet\n",
        "             'flag',   # QUERY\n",
        "             'user',   # Usuario del tweet\n",
        "             'text']   # Texto del tweety"
      ],
      "execution_count": 3,
      "outputs": []
    },
    {
      "cell_type": "markdown",
      "metadata": {
        "id": "EbcoouZtnEUf"
      },
      "source": [
        "# Carga y limpieza de datos"
      ]
    },
    {
      "cell_type": "code",
      "metadata": {
        "colab": {
          "resources": {
            "http://localhost:8080/nbextensions/google.colab/files.js": {
              "data": "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",
              "ok": true,
              "headers": [
                [
                  "content-type",
                  "application/javascript"
                ]
              ],
              "status": 200,
              "status_text": ""
            }
          },
          "base_uri": "https://localhost:8080/",
          "height": 72
        },
        "id": "j6uJdbk2nKCX",
        "outputId": "23feb8c6-d7c6-492d-e55b-3f8aec32e887"
      },
      "source": [
        "# Requiered to select a file to be imported into colab\n",
        "# Not useful if running locally\n",
        "from google.colab import files\n",
        "uploaded = files.upload()"
      ],
      "execution_count": 5,
      "outputs": [
        {
          "output_type": "display_data",
          "data": {
            "text/html": [
              "\n",
              "     <input type=\"file\" id=\"files-dbcb2f84-8227-4f50-ac18-25f8b778dd5d\" name=\"files[]\" multiple disabled\n",
              "        style=\"border:none\" />\n",
              "     <output id=\"result-dbcb2f84-8227-4f50-ac18-25f8b778dd5d\">\n",
              "      Upload widget is only available when the cell has been executed in the\n",
              "      current browser session. Please rerun this cell to enable.\n",
              "      </output>\n",
              "      <script src=\"/nbextensions/google.colab/files.js\"></script> "
            ],
            "text/plain": [
              "<IPython.core.display.HTML object>"
            ]
          },
          "metadata": {
            "tags": []
          }
        },
        {
          "output_type": "stream",
          "text": [
            "Saving smaller_sample_100000.csv to smaller_sample_100000.csv\n"
          ],
          "name": "stdout"
        }
      ]
    },
    {
      "cell_type": "code",
      "metadata": {
        "id": "Z5P449bk0WeL"
      },
      "source": [
        "training =  pd.read_csv('smaller_sample_100000.csv',\n",
        "                 encoding='latin-1')"
      ],
      "execution_count": 7,
      "outputs": []
    },
    {
      "cell_type": "code",
      "metadata": {
        "id": "szNOHjbB0WeL"
      },
      "source": [
        "test = pd.read_csv('testdata_manual_2009_06_14.csv', names=col_names)"
      ],
      "execution_count": 6,
      "outputs": []
    },
    {
      "cell_type": "code",
      "metadata": {
        "colab": {
          "base_uri": "https://localhost:8080/"
        },
        "id": "zs77X44P0WeM",
        "outputId": "3eefcfe5-0170-45a6-de24-7e4d450ab5e3"
      },
      "source": [
        "print(training.shape)\n",
        "print(test.shape)"
      ],
      "execution_count": 10,
      "outputs": [
        {
          "output_type": "stream",
          "text": [
            "(100000, 6)\n",
            "(498, 6)\n"
          ],
          "name": "stdout"
        }
      ]
    },
    {
      "cell_type": "code",
      "metadata": {
        "id": "OSwvEsQzM7_K",
        "outputId": "5f521dbe-5984-44a4-9bf9-20f54a14a787",
        "colab": {
          "base_uri": "https://localhost:8080/",
          "height": 1000
        }
      },
      "source": [
        "training.head(50)"
      ],
      "execution_count": 11,
      "outputs": [
        {
          "output_type": "execute_result",
          "data": {
            "text/html": [
              "<div>\n",
              "<style scoped>\n",
              "    .dataframe tbody tr th:only-of-type {\n",
              "        vertical-align: middle;\n",
              "    }\n",
              "\n",
              "    .dataframe tbody tr th {\n",
              "        vertical-align: top;\n",
              "    }\n",
              "\n",
              "    .dataframe thead th {\n",
              "        text-align: right;\n",
              "    }\n",
              "</style>\n",
              "<table border=\"1\" class=\"dataframe\">\n",
              "  <thead>\n",
              "    <tr style=\"text-align: right;\">\n",
              "      <th></th>\n",
              "      <th>target</th>\n",
              "      <th>ids</th>\n",
              "      <th>date</th>\n",
              "      <th>flag</th>\n",
              "      <th>user</th>\n",
              "      <th>text</th>\n",
              "    </tr>\n",
              "  </thead>\n",
              "  <tbody>\n",
              "    <tr>\n",
              "      <th>0</th>\n",
              "      <td>0</td>\n",
              "      <td>2214844405</td>\n",
              "      <td>Wed Jun 17 17:18:46 PDT 2009</td>\n",
              "      <td>NO_QUERY</td>\n",
              "      <td>thechillmaster</td>\n",
              "      <td>going to bed now...feeling sad</td>\n",
              "    </tr>\n",
              "    <tr>\n",
              "      <th>1</th>\n",
              "      <td>0</td>\n",
              "      <td>2176921086</td>\n",
              "      <td>Mon Jun 15 05:03:41 PDT 2009</td>\n",
              "      <td>NO_QUERY</td>\n",
              "      <td>Liebe93</td>\n",
              "      <td>Ugh, I feel another headache coming on... *goe...</td>\n",
              "    </tr>\n",
              "    <tr>\n",
              "      <th>2</th>\n",
              "      <td>0</td>\n",
              "      <td>2296949656</td>\n",
              "      <td>Tue Jun 23 09:50:27 PDT 2009</td>\n",
              "      <td>NO_QUERY</td>\n",
              "      <td>brandielachelle</td>\n",
              "      <td>job applications DAY 2 ,</td>\n",
              "    </tr>\n",
              "    <tr>\n",
              "      <th>3</th>\n",
              "      <td>4</td>\n",
              "      <td>1980618237</td>\n",
              "      <td>Sun May 31 07:14:02 PDT 2009</td>\n",
              "      <td>NO_QUERY</td>\n",
              "      <td>triiishh</td>\n",
              "      <td>3 hours of ToA. Isn't that lovely?</td>\n",
              "    </tr>\n",
              "    <tr>\n",
              "      <th>4</th>\n",
              "      <td>4</td>\n",
              "      <td>1470156375</td>\n",
              "      <td>Tue Apr 07 08:30:57 PDT 2009</td>\n",
              "      <td>NO_QUERY</td>\n",
              "      <td>sessisen</td>\n",
              "      <td>@malinpet &amp;quot;Go:Audio = LOVE!&amp;quot; Indeed!...</td>\n",
              "    </tr>\n",
              "    <tr>\n",
              "      <th>5</th>\n",
              "      <td>4</td>\n",
              "      <td>2066518886</td>\n",
              "      <td>Sun Jun 07 10:40:22 PDT 2009</td>\n",
              "      <td>NO_QUERY</td>\n",
              "      <td>phunwears</td>\n",
              "      <td>brand new purple fairy pants  http://phunwears...</td>\n",
              "    </tr>\n",
              "    <tr>\n",
              "      <th>6</th>\n",
              "      <td>4</td>\n",
              "      <td>1960391146</td>\n",
              "      <td>Fri May 29 07:53:24 PDT 2009</td>\n",
              "      <td>NO_QUERY</td>\n",
              "      <td>serwaygirl</td>\n",
              "      <td>@WorldinMotion i was sharing!</td>\n",
              "    </tr>\n",
              "    <tr>\n",
              "      <th>7</th>\n",
              "      <td>0</td>\n",
              "      <td>2204076111</td>\n",
              "      <td>Wed Jun 17 01:15:38 PDT 2009</td>\n",
              "      <td>NO_QUERY</td>\n",
              "      <td>Lucieyoung</td>\n",
              "      <td>Neeeddds a vacationnnnn right about now!!!  xoxox</td>\n",
              "    </tr>\n",
              "    <tr>\n",
              "      <th>8</th>\n",
              "      <td>0</td>\n",
              "      <td>1556421697</td>\n",
              "      <td>Sat Apr 18 22:46:28 PDT 2009</td>\n",
              "      <td>NO_QUERY</td>\n",
              "      <td>msredmond</td>\n",
              "      <td>People who assume I drive and have my own way ...</td>\n",
              "    </tr>\n",
              "    <tr>\n",
              "      <th>9</th>\n",
              "      <td>4</td>\n",
              "      <td>2065265926</td>\n",
              "      <td>Sun Jun 07 08:14:22 PDT 2009</td>\n",
              "      <td>NO_QUERY</td>\n",
              "      <td>shaju</td>\n",
              "      <td>Weekend pass by........ new week to start off</td>\n",
              "    </tr>\n",
              "    <tr>\n",
              "      <th>10</th>\n",
              "      <td>0</td>\n",
              "      <td>1573593326</td>\n",
              "      <td>Tue Apr 21 01:54:51 PDT 2009</td>\n",
              "      <td>NO_QUERY</td>\n",
              "      <td>Hyper8</td>\n",
              "      <td>@ClaireHammond glad i'm not the only one. It's...</td>\n",
              "    </tr>\n",
              "    <tr>\n",
              "      <th>11</th>\n",
              "      <td>4</td>\n",
              "      <td>2008559876</td>\n",
              "      <td>Tue Jun 02 14:18:45 PDT 2009</td>\n",
              "      <td>NO_QUERY</td>\n",
              "      <td>saramccarney</td>\n",
              "      <td>@meganneill8 LOL yes I had a little jelly alie...</td>\n",
              "    </tr>\n",
              "    <tr>\n",
              "      <th>12</th>\n",
              "      <td>4</td>\n",
              "      <td>1685503076</td>\n",
              "      <td>Sun May 03 00:40:54 PDT 2009</td>\n",
              "      <td>NO_QUERY</td>\n",
              "      <td>psyq123</td>\n",
              "      <td>@aeriagames It's interesting what you're doing...</td>\n",
              "    </tr>\n",
              "    <tr>\n",
              "      <th>13</th>\n",
              "      <td>4</td>\n",
              "      <td>2066884102</td>\n",
              "      <td>Sun Jun 07 11:20:59 PDT 2009</td>\n",
              "      <td>NO_QUERY</td>\n",
              "      <td>ricguisinger</td>\n",
              "      <td>...is over it. Focusing on the One who gives m...</td>\n",
              "    </tr>\n",
              "    <tr>\n",
              "      <th>14</th>\n",
              "      <td>4</td>\n",
              "      <td>1826103845</td>\n",
              "      <td>Sun May 17 07:42:48 PDT 2009</td>\n",
              "      <td>NO_QUERY</td>\n",
              "      <td>Mariah_Anne</td>\n",
              "      <td>On my way of picking up trevor... Maybe brenda...</td>\n",
              "    </tr>\n",
              "    <tr>\n",
              "      <th>15</th>\n",
              "      <td>4</td>\n",
              "      <td>2175387385</td>\n",
              "      <td>Mon Jun 15 00:50:48 PDT 2009</td>\n",
              "      <td>NO_QUERY</td>\n",
              "      <td>LaRisa_Janai</td>\n",
              "      <td>Well Twitter Bugs... it's been real.. Peace &amp;a...</td>\n",
              "    </tr>\n",
              "    <tr>\n",
              "      <th>16</th>\n",
              "      <td>0</td>\n",
              "      <td>1557548082</td>\n",
              "      <td>Sun Apr 19 04:46:13 PDT 2009</td>\n",
              "      <td>NO_QUERY</td>\n",
              "      <td>MiniPixels</td>\n",
              "      <td>@JF_Kennedy  She would.</td>\n",
              "    </tr>\n",
              "    <tr>\n",
              "      <th>17</th>\n",
              "      <td>4</td>\n",
              "      <td>1992202852</td>\n",
              "      <td>Mon Jun 01 08:22:16 PDT 2009</td>\n",
              "      <td>NO_QUERY</td>\n",
              "      <td>MeganSavage</td>\n",
              "      <td>@SammiSicko it was okay!! I went with my nana ...</td>\n",
              "    </tr>\n",
              "    <tr>\n",
              "      <th>18</th>\n",
              "      <td>4</td>\n",
              "      <td>1679840004</td>\n",
              "      <td>Sat May 02 10:18:04 PDT 2009</td>\n",
              "      <td>NO_QUERY</td>\n",
              "      <td>juliaaaaaaaaaaa</td>\n",
              "      <td>i'm sooooooo readyyyyyyyyy for the premiere to...</td>\n",
              "    </tr>\n",
              "    <tr>\n",
              "      <th>19</th>\n",
              "      <td>4</td>\n",
              "      <td>2001874813</td>\n",
              "      <td>Tue Jun 02 02:22:37 PDT 2009</td>\n",
              "      <td>NO_QUERY</td>\n",
              "      <td>Adversegecko</td>\n",
              "      <td>Seeing a woman drive through a car park barrie...</td>\n",
              "    </tr>\n",
              "    <tr>\n",
              "      <th>20</th>\n",
              "      <td>0</td>\n",
              "      <td>1823190073</td>\n",
              "      <td>Sat May 16 21:19:57 PDT 2009</td>\n",
              "      <td>NO_QUERY</td>\n",
              "      <td>gisuck</td>\n",
              "      <td>I need to stop breaking news that @ilovecpstyl...</td>\n",
              "    </tr>\n",
              "    <tr>\n",
              "      <th>21</th>\n",
              "      <td>4</td>\n",
              "      <td>2031180336</td>\n",
              "      <td>Thu Jun 04 09:26:54 PDT 2009</td>\n",
              "      <td>NO_QUERY</td>\n",
              "      <td>slysih</td>\n",
              "      <td>@forwardadam OMG same have 7 too. 3 more days ...</td>\n",
              "    </tr>\n",
              "    <tr>\n",
              "      <th>22</th>\n",
              "      <td>0</td>\n",
              "      <td>2202622724</td>\n",
              "      <td>Tue Jun 16 22:06:59 PDT 2009</td>\n",
              "      <td>NO_QUERY</td>\n",
              "      <td>Lobato1</td>\n",
              "      <td>@trekkerguy big thing out of water hurt chris</td>\n",
              "    </tr>\n",
              "    <tr>\n",
              "      <th>23</th>\n",
              "      <td>4</td>\n",
              "      <td>2062951003</td>\n",
              "      <td>Sun Jun 07 00:51:09 PDT 2009</td>\n",
              "      <td>NO_QUERY</td>\n",
              "      <td>ginacena</td>\n",
              "      <td>@aah1981 eeeeeeekkkk!!! let me know when if an...</td>\n",
              "    </tr>\n",
              "    <tr>\n",
              "      <th>24</th>\n",
              "      <td>0</td>\n",
              "      <td>2053296052</td>\n",
              "      <td>Sat Jun 06 04:01:58 PDT 2009</td>\n",
              "      <td>NO_QUERY</td>\n",
              "      <td>AthenasAzure</td>\n",
              "      <td>@eweniquemarilyn I took your knitting class co...</td>\n",
              "    </tr>\n",
              "    <tr>\n",
              "      <th>25</th>\n",
              "      <td>0</td>\n",
              "      <td>2322089627</td>\n",
              "      <td>Wed Jun 24 22:01:57 PDT 2009</td>\n",
              "      <td>NO_QUERY</td>\n",
              "      <td>zenxacred</td>\n",
              "      <td>@ahhhhcaffeine hmm..I don't play halo, quit go...</td>\n",
              "    </tr>\n",
              "    <tr>\n",
              "      <th>26</th>\n",
              "      <td>4</td>\n",
              "      <td>1554494620</td>\n",
              "      <td>Sat Apr 18 17:08:58 PDT 2009</td>\n",
              "      <td>NO_QUERY</td>\n",
              "      <td>CyleDahl</td>\n",
              "      <td>just made a sacrifice to the banana gods and s...</td>\n",
              "    </tr>\n",
              "    <tr>\n",
              "      <th>27</th>\n",
              "      <td>0</td>\n",
              "      <td>2302191492</td>\n",
              "      <td>Tue Jun 23 16:27:54 PDT 2009</td>\n",
              "      <td>NO_QUERY</td>\n",
              "      <td>CelloBard</td>\n",
              "      <td>Too sick.   Scaling writing goal back. New goa...</td>\n",
              "    </tr>\n",
              "    <tr>\n",
              "      <th>28</th>\n",
              "      <td>4</td>\n",
              "      <td>1573616713</td>\n",
              "      <td>Tue Apr 21 02:01:19 PDT 2009</td>\n",
              "      <td>NO_QUERY</td>\n",
              "      <td>kawehdashti</td>\n",
              "      <td>@roderickhodgson I always knew my printer want...</td>\n",
              "    </tr>\n",
              "    <tr>\n",
              "      <th>29</th>\n",
              "      <td>4</td>\n",
              "      <td>1979559084</td>\n",
              "      <td>Sun May 31 03:34:06 PDT 2009</td>\n",
              "      <td>NO_QUERY</td>\n",
              "      <td>AlOliver</td>\n",
              "      <td>@marksvoice @fjkeogh thanks guys.siobhan went ...</td>\n",
              "    </tr>\n",
              "    <tr>\n",
              "      <th>30</th>\n",
              "      <td>0</td>\n",
              "      <td>2254909887</td>\n",
              "      <td>Sat Jun 20 10:28:21 PDT 2009</td>\n",
              "      <td>NO_QUERY</td>\n",
              "      <td>heatherfoxxx</td>\n",
              "      <td>well i've slept away half of my day.  more sum...</td>\n",
              "    </tr>\n",
              "    <tr>\n",
              "      <th>31</th>\n",
              "      <td>0</td>\n",
              "      <td>2244613080</td>\n",
              "      <td>Fri Jun 19 14:58:55 PDT 2009</td>\n",
              "      <td>NO_QUERY</td>\n",
              "      <td>nabu_dew</td>\n",
              "      <td>http://twitpic.com/7svst - @aliehs_pro Tsss! I...</td>\n",
              "    </tr>\n",
              "    <tr>\n",
              "      <th>32</th>\n",
              "      <td>0</td>\n",
              "      <td>1824079578</td>\n",
              "      <td>Sat May 16 23:58:30 PDT 2009</td>\n",
              "      <td>NO_QUERY</td>\n",
              "      <td>mokhater</td>\n",
              "      <td>hrmms, OMG tesztz coming up IMMA DIE  WAAAAAAA...</td>\n",
              "    </tr>\n",
              "    <tr>\n",
              "      <th>33</th>\n",
              "      <td>4</td>\n",
              "      <td>2044845658</td>\n",
              "      <td>Fri Jun 05 09:53:53 PDT 2009</td>\n",
              "      <td>NO_QUERY</td>\n",
              "      <td>Mezmereyezz8</td>\n",
              "      <td>@AndreaDeneen we shall go  Praise Him!!</td>\n",
              "    </tr>\n",
              "    <tr>\n",
              "      <th>34</th>\n",
              "      <td>0</td>\n",
              "      <td>1695279265</td>\n",
              "      <td>Mon May 04 05:43:36 PDT 2009</td>\n",
              "      <td>NO_QUERY</td>\n",
              "      <td>shellieartist</td>\n",
              "      <td>@KarmaRox that is strange how that happens- lol</td>\n",
              "    </tr>\n",
              "    <tr>\n",
              "      <th>35</th>\n",
              "      <td>0</td>\n",
              "      <td>2262604412</td>\n",
              "      <td>Sat Jun 20 22:50:57 PDT 2009</td>\n",
              "      <td>NO_QUERY</td>\n",
              "      <td>HillaryHaynes92</td>\n",
              "      <td>is by herself for the second night in a roww.</td>\n",
              "    </tr>\n",
              "    <tr>\n",
              "      <th>36</th>\n",
              "      <td>0</td>\n",
              "      <td>2201590054</td>\n",
              "      <td>Tue Jun 16 20:29:25 PDT 2009</td>\n",
              "      <td>NO_QUERY</td>\n",
              "      <td>kaitlynmueller</td>\n",
              "      <td>@britttnicole she ended it? even after u dedic...</td>\n",
              "    </tr>\n",
              "    <tr>\n",
              "      <th>37</th>\n",
              "      <td>0</td>\n",
              "      <td>2267151956</td>\n",
              "      <td>Sun Jun 21 09:42:34 PDT 2009</td>\n",
              "      <td>NO_QUERY</td>\n",
              "      <td>tcharper</td>\n",
              "      <td>Iplayer..release the f1 part 2! Damn you! All ...</td>\n",
              "    </tr>\n",
              "    <tr>\n",
              "      <th>38</th>\n",
              "      <td>4</td>\n",
              "      <td>1675828635</td>\n",
              "      <td>Fri May 01 20:25:37 PDT 2009</td>\n",
              "      <td>NO_QUERY</td>\n",
              "      <td>meganroxanne</td>\n",
              "      <td>@Super_Manz WE don't have him. He's a Royal. I...</td>\n",
              "    </tr>\n",
              "    <tr>\n",
              "      <th>39</th>\n",
              "      <td>0</td>\n",
              "      <td>2207833975</td>\n",
              "      <td>Wed Jun 17 08:26:33 PDT 2009</td>\n",
              "      <td>NO_QUERY</td>\n",
              "      <td>chrisi87</td>\n",
              "      <td>enjoying lunch @ chick-fil-A.. thinking about ...</td>\n",
              "    </tr>\n",
              "    <tr>\n",
              "      <th>40</th>\n",
              "      <td>0</td>\n",
              "      <td>1983397454</td>\n",
              "      <td>Sun May 31 13:04:43 PDT 2009</td>\n",
              "      <td>NO_QUERY</td>\n",
              "      <td>danjbangs</td>\n",
              "      <td>But twitter don't let me upload no photos.</td>\n",
              "    </tr>\n",
              "    <tr>\n",
              "      <th>41</th>\n",
              "      <td>4</td>\n",
              "      <td>1692059006</td>\n",
              "      <td>Sun May 03 19:11:21 PDT 2009</td>\n",
              "      <td>NO_QUERY</td>\n",
              "      <td>spnheroesbaker</td>\n",
              "      <td>@speccygeekgrrl Very true. My mom's been tryin...</td>\n",
              "    </tr>\n",
              "    <tr>\n",
              "      <th>42</th>\n",
              "      <td>0</td>\n",
              "      <td>2052794950</td>\n",
              "      <td>Sat Jun 06 02:03:05 PDT 2009</td>\n",
              "      <td>NO_QUERY</td>\n",
              "      <td>ChaosKittyPie</td>\n",
              "      <td>@masqueradelife i hope you're better before JB...</td>\n",
              "    </tr>\n",
              "    <tr>\n",
              "      <th>43</th>\n",
              "      <td>0</td>\n",
              "      <td>1978944019</td>\n",
              "      <td>Sun May 31 01:01:32 PDT 2009</td>\n",
              "      <td>NO_QUERY</td>\n",
              "      <td>talkrubbish</td>\n",
              "      <td>@whotook shld go to see doc with that</td>\n",
              "    </tr>\n",
              "    <tr>\n",
              "      <th>44</th>\n",
              "      <td>0</td>\n",
              "      <td>2048707629</td>\n",
              "      <td>Fri Jun 05 15:38:32 PDT 2009</td>\n",
              "      <td>NO_QUERY</td>\n",
              "      <td>damog</td>\n",
              "      <td>@garyvee Iced coffee, unsweetened.</td>\n",
              "    </tr>\n",
              "    <tr>\n",
              "      <th>45</th>\n",
              "      <td>4</td>\n",
              "      <td>1557681769</td>\n",
              "      <td>Sun Apr 19 05:29:17 PDT 2009</td>\n",
              "      <td>NO_QUERY</td>\n",
              "      <td>AGreen23</td>\n",
              "      <td>Love this - Gonna see them at the O2 in July  ...</td>\n",
              "    </tr>\n",
              "    <tr>\n",
              "      <th>46</th>\n",
              "      <td>4</td>\n",
              "      <td>1979488704</td>\n",
              "      <td>Sun May 31 03:15:53 PDT 2009</td>\n",
              "      <td>NO_QUERY</td>\n",
              "      <td>katiemoffat</td>\n",
              "      <td>@damienmulley will go and and take one.  He ma...</td>\n",
              "    </tr>\n",
              "    <tr>\n",
              "      <th>47</th>\n",
              "      <td>0</td>\n",
              "      <td>2296062168</td>\n",
              "      <td>Tue Jun 23 08:43:10 PDT 2009</td>\n",
              "      <td>NO_QUERY</td>\n",
              "      <td>digmo</td>\n",
              "      <td>@nicofell I am not too sure, I think when you ...</td>\n",
              "    </tr>\n",
              "    <tr>\n",
              "      <th>48</th>\n",
              "      <td>4</td>\n",
              "      <td>2063711158</td>\n",
              "      <td>Sun Jun 07 03:46:33 PDT 2009</td>\n",
              "      <td>NO_QUERY</td>\n",
              "      <td>Dear__Gravity</td>\n",
              "      <td>80 followersss  shhhhh.</td>\n",
              "    </tr>\n",
              "    <tr>\n",
              "      <th>49</th>\n",
              "      <td>0</td>\n",
              "      <td>1556137378</td>\n",
              "      <td>Sat Apr 18 21:46:09 PDT 2009</td>\n",
              "      <td>NO_QUERY</td>\n",
              "      <td>jacobwilson86</td>\n",
              "      <td>I am in love with a irish accent...and it is a...</td>\n",
              "    </tr>\n",
              "  </tbody>\n",
              "</table>\n",
              "</div>"
            ],
            "text/plain": [
              "    target  ...                                               text\n",
              "0        0  ...                    going to bed now...feeling sad \n",
              "1        0  ...  Ugh, I feel another headache coming on... *goe...\n",
              "2        0  ...                          job applications DAY 2 , \n",
              "3        4  ...                3 hours of ToA. Isn't that lovely? \n",
              "4        4  ...  @malinpet &quot;Go:Audio = LOVE!&quot; Indeed!...\n",
              "5        4  ...  brand new purple fairy pants  http://phunwears...\n",
              "6        4  ...                     @WorldinMotion i was sharing! \n",
              "7        0  ...  Neeeddds a vacationnnnn right about now!!!  xoxox\n",
              "8        0  ...  People who assume I drive and have my own way ...\n",
              "9        4  ...     Weekend pass by........ new week to start off \n",
              "10       0  ...  @ClaireHammond glad i'm not the only one. It's...\n",
              "11       4  ...  @meganneill8 LOL yes I had a little jelly alie...\n",
              "12       4  ...  @aeriagames It's interesting what you're doing...\n",
              "13       4  ...  ...is over it. Focusing on the One who gives m...\n",
              "14       4  ...  On my way of picking up trevor... Maybe brenda...\n",
              "15       4  ...  Well Twitter Bugs... it's been real.. Peace &a...\n",
              "16       0  ...                            @JF_Kennedy  She would.\n",
              "17       4  ...  @SammiSicko it was okay!! I went with my nana ...\n",
              "18       4  ...  i'm sooooooo readyyyyyyyyy for the premiere to...\n",
              "19       4  ...  Seeing a woman drive through a car park barrie...\n",
              "20       0  ...  I need to stop breaking news that @ilovecpstyl...\n",
              "21       4  ...  @forwardadam OMG same have 7 too. 3 more days ...\n",
              "22       0  ...     @trekkerguy big thing out of water hurt chris \n",
              "23       4  ...  @aah1981 eeeeeeekkkk!!! let me know when if an...\n",
              "24       0  ...  @eweniquemarilyn I took your knitting class co...\n",
              "25       0  ...  @ahhhhcaffeine hmm..I don't play halo, quit go...\n",
              "26       4  ...  just made a sacrifice to the banana gods and s...\n",
              "27       0  ...  Too sick.   Scaling writing goal back. New goa...\n",
              "28       4  ...  @roderickhodgson I always knew my printer want...\n",
              "29       4  ...  @marksvoice @fjkeogh thanks guys.siobhan went ...\n",
              "30       0  ...  well i've slept away half of my day.  more sum...\n",
              "31       0  ...  http://twitpic.com/7svst - @aliehs_pro Tsss! I...\n",
              "32       0  ...  hrmms, OMG tesztz coming up IMMA DIE  WAAAAAAA...\n",
              "33       4  ...            @AndreaDeneen we shall go  Praise Him!!\n",
              "34       0  ...   @KarmaRox that is strange how that happens- lol \n",
              "35       0  ...     is by herself for the second night in a roww. \n",
              "36       0  ...  @britttnicole she ended it? even after u dedic...\n",
              "37       0  ...  Iplayer..release the f1 part 2! Damn you! All ...\n",
              "38       4  ...  @Super_Manz WE don't have him. He's a Royal. I...\n",
              "39       0  ...  enjoying lunch @ chick-fil-A.. thinking about ...\n",
              "40       0  ...        But twitter don't let me upload no photos. \n",
              "41       4  ...  @speccygeekgrrl Very true. My mom's been tryin...\n",
              "42       0  ...  @masqueradelife i hope you're better before JB...\n",
              "43       0  ...             @whotook shld go to see doc with that \n",
              "44       0  ...                @garyvee Iced coffee, unsweetened. \n",
              "45       4  ...  Love this - Gonna see them at the O2 in July  ...\n",
              "46       4  ...  @damienmulley will go and and take one.  He ma...\n",
              "47       0  ...  @nicofell I am not too sure, I think when you ...\n",
              "48       4  ...                            80 followersss  shhhhh.\n",
              "49       0  ...  I am in love with a irish accent...and it is a...\n",
              "\n",
              "[50 rows x 6 columns]"
            ]
          },
          "metadata": {
            "tags": []
          },
          "execution_count": 11
        }
      ]
    },
    {
      "cell_type": "code",
      "metadata": {
        "colab": {
          "base_uri": "https://localhost:8080/",
          "height": 297
        },
        "id": "UGANa9pX0WeO",
        "outputId": "ff1fcd7d-d03a-4c28-f082-eadf408610ca"
      },
      "source": [
        "# Ejemplo\n",
        "training.loc[[4,8,27,41,44,35,48,155]]"
      ],
      "execution_count": 9,
      "outputs": [
        {
          "output_type": "execute_result",
          "data": {
            "text/html": [
              "<div>\n",
              "<style scoped>\n",
              "    .dataframe tbody tr th:only-of-type {\n",
              "        vertical-align: middle;\n",
              "    }\n",
              "\n",
              "    .dataframe tbody tr th {\n",
              "        vertical-align: top;\n",
              "    }\n",
              "\n",
              "    .dataframe thead th {\n",
              "        text-align: right;\n",
              "    }\n",
              "</style>\n",
              "<table border=\"1\" class=\"dataframe\">\n",
              "  <thead>\n",
              "    <tr style=\"text-align: right;\">\n",
              "      <th></th>\n",
              "      <th>target</th>\n",
              "      <th>ids</th>\n",
              "      <th>date</th>\n",
              "      <th>flag</th>\n",
              "      <th>user</th>\n",
              "      <th>text</th>\n",
              "    </tr>\n",
              "  </thead>\n",
              "  <tbody>\n",
              "    <tr>\n",
              "      <th>4</th>\n",
              "      <td>4</td>\n",
              "      <td>1470156375</td>\n",
              "      <td>Tue Apr 07 08:30:57 PDT 2009</td>\n",
              "      <td>NO_QUERY</td>\n",
              "      <td>sessisen</td>\n",
              "      <td>@malinpet &amp;quot;Go:Audio = LOVE!&amp;quot; Indeed!...</td>\n",
              "    </tr>\n",
              "    <tr>\n",
              "      <th>8</th>\n",
              "      <td>0</td>\n",
              "      <td>1556421697</td>\n",
              "      <td>Sat Apr 18 22:46:28 PDT 2009</td>\n",
              "      <td>NO_QUERY</td>\n",
              "      <td>msredmond</td>\n",
              "      <td>People who assume I drive and have my own way ...</td>\n",
              "    </tr>\n",
              "    <tr>\n",
              "      <th>27</th>\n",
              "      <td>0</td>\n",
              "      <td>2302191492</td>\n",
              "      <td>Tue Jun 23 16:27:54 PDT 2009</td>\n",
              "      <td>NO_QUERY</td>\n",
              "      <td>CelloBard</td>\n",
              "      <td>Too sick.   Scaling writing goal back. New goa...</td>\n",
              "    </tr>\n",
              "    <tr>\n",
              "      <th>41</th>\n",
              "      <td>4</td>\n",
              "      <td>1692059006</td>\n",
              "      <td>Sun May 03 19:11:21 PDT 2009</td>\n",
              "      <td>NO_QUERY</td>\n",
              "      <td>spnheroesbaker</td>\n",
              "      <td>@speccygeekgrrl Very true. My mom's been tryin...</td>\n",
              "    </tr>\n",
              "    <tr>\n",
              "      <th>44</th>\n",
              "      <td>0</td>\n",
              "      <td>2048707629</td>\n",
              "      <td>Fri Jun 05 15:38:32 PDT 2009</td>\n",
              "      <td>NO_QUERY</td>\n",
              "      <td>damog</td>\n",
              "      <td>@garyvee Iced coffee, unsweetened.</td>\n",
              "    </tr>\n",
              "    <tr>\n",
              "      <th>35</th>\n",
              "      <td>0</td>\n",
              "      <td>2262604412</td>\n",
              "      <td>Sat Jun 20 22:50:57 PDT 2009</td>\n",
              "      <td>NO_QUERY</td>\n",
              "      <td>HillaryHaynes92</td>\n",
              "      <td>is by herself for the second night in a roww.</td>\n",
              "    </tr>\n",
              "    <tr>\n",
              "      <th>48</th>\n",
              "      <td>4</td>\n",
              "      <td>2063711158</td>\n",
              "      <td>Sun Jun 07 03:46:33 PDT 2009</td>\n",
              "      <td>NO_QUERY</td>\n",
              "      <td>Dear__Gravity</td>\n",
              "      <td>80 followersss  shhhhh.</td>\n",
              "    </tr>\n",
              "    <tr>\n",
              "      <th>155</th>\n",
              "      <td>4</td>\n",
              "      <td>1556610439</td>\n",
              "      <td>Sat Apr 18 23:33:00 PDT 2009</td>\n",
              "      <td>NO_QUERY</td>\n",
              "      <td>nigs</td>\n",
              "      <td>@poohsuke It's good to know you have family wi...</td>\n",
              "    </tr>\n",
              "  </tbody>\n",
              "</table>\n",
              "</div>"
            ],
            "text/plain": [
              "     target  ...                                               text\n",
              "4         4  ...  @malinpet &quot;Go:Audio = LOVE!&quot; Indeed!...\n",
              "8         0  ...  People who assume I drive and have my own way ...\n",
              "27        0  ...  Too sick.   Scaling writing goal back. New goa...\n",
              "41        4  ...  @speccygeekgrrl Very true. My mom's been tryin...\n",
              "44        0  ...                @garyvee Iced coffee, unsweetened. \n",
              "35        0  ...     is by herself for the second night in a roww. \n",
              "48        4  ...                            80 followersss  shhhhh.\n",
              "155       4  ...  @poohsuke It's good to know you have family wi...\n",
              "\n",
              "[8 rows x 6 columns]"
            ]
          },
          "metadata": {
            "tags": []
          },
          "execution_count": 9
        }
      ]
    },
    {
      "cell_type": "code",
      "metadata": {
        "id": "LENqkmN3F02Z"
      },
      "source": [
        "import re as re\n",
        "def reemplazar_usuarios(phrase):\n",
        "    \"\"\"\n",
        "    :param phrase:\n",
        "    :return:\n",
        "    \"\"\"\n",
        "    return re.sub(\"@[\\S]+\", \"\", phrase)\n",
        "\n",
        "def reemplazar_urls(phrase):\n",
        "    \"\"\"\n",
        "    :param phrase:\n",
        "    :return:\n",
        "    \"\"\"\n",
        "    return re.sub(\"((www\\.[\\S]+)|(https?://[\\S]+))\", \"\", phrase)"
      ],
      "execution_count": 12,
      "outputs": []
    },
    {
      "cell_type": "code",
      "metadata": {
        "id": "k0xhfKqV194E",
        "colab": {
          "base_uri": "https://localhost:8080/"
        },
        "outputId": "5b7a25a5-782d-4576-d0ec-f0f50fe3c5f0"
      },
      "source": [
        "# primera parte limpieza\n",
        "from nlp.preprocessing import convierte_a_minusculas, quitar_hashtag #reemplazar_urls, reemplazar_usuarios, \n",
        "# minusculas\n",
        "training = convierte_a_minusculas(training)\n",
        "test = convierte_a_minusculas(test)\n",
        "# url\n",
        "training['text'] = training['text'].map(lambda s: reemplazar_urls(s))\n",
        "test['text'] = test['text'].map(lambda s: reemplazar_urls(s))\n",
        "# user_mention\n",
        "training['text'] = training['text'].map(lambda s: reemplazar_usuarios(s))\n",
        "test['text'] = test['text'].map(lambda s: reemplazar_usuarios(s))\n",
        "# hashtags\n",
        "training['text'] = training['text'].map(lambda s: quitar_hashtag(s))\n",
        "test['text'] = test['text'].map(lambda s: quitar_hashtag(s))"
      ],
      "execution_count": 13,
      "outputs": [
        {
          "output_type": "stream",
          "text": [
            "[nltk_data] Downloading package stopwords to /root/nltk_data...\n",
            "[nltk_data]   Package stopwords is already up-to-date!\n"
          ],
          "name": "stdout"
        }
      ]
    },
    {
      "cell_type": "code",
      "metadata": {
        "colab": {
          "base_uri": "https://localhost:8080/",
          "height": 297
        },
        "id": "vDcyf3iNjtcd",
        "outputId": "4a36fca7-817a-4d5f-b4ce-63d71dad3bd8"
      },
      "source": [
        "# Ejemplo\n",
        "training.loc[[4,8,27,41,44,35,48,155]]"
      ],
      "execution_count": 14,
      "outputs": [
        {
          "output_type": "execute_result",
          "data": {
            "text/html": [
              "<div>\n",
              "<style scoped>\n",
              "    .dataframe tbody tr th:only-of-type {\n",
              "        vertical-align: middle;\n",
              "    }\n",
              "\n",
              "    .dataframe tbody tr th {\n",
              "        vertical-align: top;\n",
              "    }\n",
              "\n",
              "    .dataframe thead th {\n",
              "        text-align: right;\n",
              "    }\n",
              "</style>\n",
              "<table border=\"1\" class=\"dataframe\">\n",
              "  <thead>\n",
              "    <tr style=\"text-align: right;\">\n",
              "      <th></th>\n",
              "      <th>target</th>\n",
              "      <th>ids</th>\n",
              "      <th>date</th>\n",
              "      <th>flag</th>\n",
              "      <th>user</th>\n",
              "      <th>text</th>\n",
              "    </tr>\n",
              "  </thead>\n",
              "  <tbody>\n",
              "    <tr>\n",
              "      <th>4</th>\n",
              "      <td>4</td>\n",
              "      <td>1470156375</td>\n",
              "      <td>tue apr 07 08:30:57 pdt 2009</td>\n",
              "      <td>no_query</td>\n",
              "      <td>sessisen</td>\n",
              "      <td>&amp;quot;go:audio = love!&amp;quot; indeed!  awesome...</td>\n",
              "    </tr>\n",
              "    <tr>\n",
              "      <th>8</th>\n",
              "      <td>0</td>\n",
              "      <td>1556421697</td>\n",
              "      <td>sat apr 18 22:46:28 pdt 2009</td>\n",
              "      <td>no_query</td>\n",
              "      <td>msredmond</td>\n",
              "      <td>people who assume i drive and have my own way ...</td>\n",
              "    </tr>\n",
              "    <tr>\n",
              "      <th>27</th>\n",
              "      <td>0</td>\n",
              "      <td>2302191492</td>\n",
              "      <td>tue jun 23 16:27:54 pdt 2009</td>\n",
              "      <td>no_query</td>\n",
              "      <td>cellobard</td>\n",
              "      <td>too sick.   scaling writing goal back. new goa...</td>\n",
              "    </tr>\n",
              "    <tr>\n",
              "      <th>41</th>\n",
              "      <td>4</td>\n",
              "      <td>1692059006</td>\n",
              "      <td>sun may 03 19:11:21 pdt 2009</td>\n",
              "      <td>no_query</td>\n",
              "      <td>spnheroesbaker</td>\n",
              "      <td>very true. my mom's been trying to quit, but ...</td>\n",
              "    </tr>\n",
              "    <tr>\n",
              "      <th>44</th>\n",
              "      <td>0</td>\n",
              "      <td>2048707629</td>\n",
              "      <td>fri jun 05 15:38:32 pdt 2009</td>\n",
              "      <td>no_query</td>\n",
              "      <td>damog</td>\n",
              "      <td>iced coffee, unsweetened.</td>\n",
              "    </tr>\n",
              "    <tr>\n",
              "      <th>35</th>\n",
              "      <td>0</td>\n",
              "      <td>2262604412</td>\n",
              "      <td>sat jun 20 22:50:57 pdt 2009</td>\n",
              "      <td>no_query</td>\n",
              "      <td>hillaryhaynes92</td>\n",
              "      <td>is by herself for the second night in a roww.</td>\n",
              "    </tr>\n",
              "    <tr>\n",
              "      <th>48</th>\n",
              "      <td>4</td>\n",
              "      <td>2063711158</td>\n",
              "      <td>sun jun 07 03:46:33 pdt 2009</td>\n",
              "      <td>no_query</td>\n",
              "      <td>dear__gravity</td>\n",
              "      <td>80 followersss  shhhhh.</td>\n",
              "    </tr>\n",
              "    <tr>\n",
              "      <th>155</th>\n",
              "      <td>4</td>\n",
              "      <td>1556610439</td>\n",
              "      <td>sat apr 18 23:33:00 pdt 2009</td>\n",
              "      <td>no_query</td>\n",
              "      <td>nigs</td>\n",
              "      <td>it's good to know you have family with you in...</td>\n",
              "    </tr>\n",
              "  </tbody>\n",
              "</table>\n",
              "</div>"
            ],
            "text/plain": [
              "     target  ...                                               text\n",
              "4         4  ...   &quot;go:audio = love!&quot; indeed!  awesome...\n",
              "8         0  ...  people who assume i drive and have my own way ...\n",
              "27        0  ...  too sick.   scaling writing goal back. new goa...\n",
              "41        4  ...   very true. my mom's been trying to quit, but ...\n",
              "44        0  ...                         iced coffee, unsweetened. \n",
              "35        0  ...     is by herself for the second night in a roww. \n",
              "48        4  ...                            80 followersss  shhhhh.\n",
              "155       4  ...   it's good to know you have family with you in...\n",
              "\n",
              "[8 rows x 6 columns]"
            ]
          },
          "metadata": {
            "tags": []
          },
          "execution_count": 14
        }
      ]
    },
    {
      "cell_type": "code",
      "metadata": {
        "id": "O6SC37m0sjtW"
      },
      "source": [
        "# segunda parte limpieza\n",
        "from nlp.preprocessing import quitar_RT, quitar_caracteres_especiales, quitar_letras_repetidas\n",
        "# retweets\n",
        "training['text'] = training['text'].map(lambda s: quitar_RT(s))\n",
        "test['text'] = test['text'].map(lambda s: quitar_RT(s))\n",
        "# caracteres especiales\n",
        "training['text'] = training['text'].map(lambda s: quitar_caracteres_especiales(s))\n",
        "test['text'] = test['text'].map(lambda s: quitar_caracteres_especiales(s))\n",
        "# letras repetidas\n",
        "training['text'] = training['text'].map(lambda s: quitar_letras_repetidas(s))\n",
        "test['text'] = test['text'].map(lambda s: quitar_letras_repetidas(s))"
      ],
      "execution_count": 15,
      "outputs": []
    },
    {
      "cell_type": "code",
      "metadata": {
        "colab": {
          "base_uri": "https://localhost:8080/",
          "height": 297
        },
        "id": "8WwQY-vN2e-t",
        "outputId": "1b612148-8752-486e-c3ea-0917aacd4674"
      },
      "source": [
        "# Ejemplo\n",
        "training.loc[[4,8,27,41,44,35,48,155]]"
      ],
      "execution_count": 16,
      "outputs": [
        {
          "output_type": "execute_result",
          "data": {
            "text/html": [
              "<div>\n",
              "<style scoped>\n",
              "    .dataframe tbody tr th:only-of-type {\n",
              "        vertical-align: middle;\n",
              "    }\n",
              "\n",
              "    .dataframe tbody tr th {\n",
              "        vertical-align: top;\n",
              "    }\n",
              "\n",
              "    .dataframe thead th {\n",
              "        text-align: right;\n",
              "    }\n",
              "</style>\n",
              "<table border=\"1\" class=\"dataframe\">\n",
              "  <thead>\n",
              "    <tr style=\"text-align: right;\">\n",
              "      <th></th>\n",
              "      <th>target</th>\n",
              "      <th>ids</th>\n",
              "      <th>date</th>\n",
              "      <th>flag</th>\n",
              "      <th>user</th>\n",
              "      <th>text</th>\n",
              "    </tr>\n",
              "  </thead>\n",
              "  <tbody>\n",
              "    <tr>\n",
              "      <th>4</th>\n",
              "      <td>4</td>\n",
              "      <td>1470156375</td>\n",
              "      <td>tue apr 07 08:30:57 pdt 2009</td>\n",
              "      <td>no_query</td>\n",
              "      <td>sessisen</td>\n",
              "      <td>&amp;quotgoaudio = love&amp;quot indeed awesomeness a...</td>\n",
              "    </tr>\n",
              "    <tr>\n",
              "      <th>8</th>\n",
              "      <td>0</td>\n",
              "      <td>1556421697</td>\n",
              "      <td>sat apr 18 22:46:28 pdt 2009</td>\n",
              "      <td>no_query</td>\n",
              "      <td>msredmond</td>\n",
              "      <td>people who assume i drive and have my own way ...</td>\n",
              "    </tr>\n",
              "    <tr>\n",
              "      <th>27</th>\n",
              "      <td>0</td>\n",
              "      <td>2302191492</td>\n",
              "      <td>tue jun 23 16:27:54 pdt 2009</td>\n",
              "      <td>no_query</td>\n",
              "      <td>cellobard</td>\n",
              "      <td>too sick scaling writing goal back new goals 1...</td>\n",
              "    </tr>\n",
              "    <tr>\n",
              "      <th>41</th>\n",
              "      <td>4</td>\n",
              "      <td>1692059006</td>\n",
              "      <td>sun may 03 19:11:21 pdt 2009</td>\n",
              "      <td>no_query</td>\n",
              "      <td>spnheroesbaker</td>\n",
              "      <td>very true my mom's been trying to quit but sh...</td>\n",
              "    </tr>\n",
              "    <tr>\n",
              "      <th>44</th>\n",
              "      <td>0</td>\n",
              "      <td>2048707629</td>\n",
              "      <td>fri jun 05 15:38:32 pdt 2009</td>\n",
              "      <td>no_query</td>\n",
              "      <td>damog</td>\n",
              "      <td>iced coffee unsweetened</td>\n",
              "    </tr>\n",
              "    <tr>\n",
              "      <th>35</th>\n",
              "      <td>0</td>\n",
              "      <td>2262604412</td>\n",
              "      <td>sat jun 20 22:50:57 pdt 2009</td>\n",
              "      <td>no_query</td>\n",
              "      <td>hillaryhaynes92</td>\n",
              "      <td>is by herself for the second night in a roww</td>\n",
              "    </tr>\n",
              "    <tr>\n",
              "      <th>48</th>\n",
              "      <td>4</td>\n",
              "      <td>2063711158</td>\n",
              "      <td>sun jun 07 03:46:33 pdt 2009</td>\n",
              "      <td>no_query</td>\n",
              "      <td>dear__gravity</td>\n",
              "      <td>80 followerss shh</td>\n",
              "    </tr>\n",
              "    <tr>\n",
              "      <th>155</th>\n",
              "      <td>4</td>\n",
              "      <td>1556610439</td>\n",
              "      <td>sat apr 18 23:33:00 pdt 2009</td>\n",
              "      <td>no_query</td>\n",
              "      <td>nigs</td>\n",
              "      <td>it's good to know you have family with you in...</td>\n",
              "    </tr>\n",
              "  </tbody>\n",
              "</table>\n",
              "</div>"
            ],
            "text/plain": [
              "     target  ...                                               text\n",
              "4         4  ...   &quotgoaudio = love&quot indeed awesomeness a...\n",
              "8         0  ...  people who assume i drive and have my own way ...\n",
              "27        0  ...  too sick scaling writing goal back new goals 1...\n",
              "41        4  ...   very true my mom's been trying to quit but sh...\n",
              "44        0  ...                           iced coffee unsweetened \n",
              "35        0  ...      is by herself for the second night in a roww \n",
              "48        4  ...                                  80 followerss shh\n",
              "155       4  ...   it's good to know you have family with you in...\n",
              "\n",
              "[8 rows x 6 columns]"
            ]
          },
          "metadata": {
            "tags": []
          },
          "execution_count": 16
        }
      ]
    },
    {
      "cell_type": "code",
      "metadata": {
        "id": "6NLKhB-ikQn9"
      },
      "source": [
        "# tercera parte limpieza\n",
        "from nlp.preprocessing import quitar_nonascii, separar_abreviaciones, remove_stopwords, oracion_raiz\n",
        "#nonascii\n",
        "training['text'] = training['text'].map(lambda s: quitar_nonascii(s))\n",
        "test['text'] = test['text'].map(lambda s: quitar_nonascii(s))\n",
        "# abreviaciones\n",
        "training['text'] = training['text'].map(lambda s: separar_abreviaciones(s))\n",
        "test['text'] = test['text'].map(lambda s: separar_abreviaciones(s))\n",
        "# stop words\n",
        "training['text'] = training['text'].map(lambda s: remove_stopwords(s))\n",
        "test['atext'] = test['text'].map(lambda s: remove_stopwords(s))\n",
        "# raiz\n",
        "training['text'] = training['text'].map(lambda s: oracion_raiz(s))\n",
        "test['atext'] = test['text'].map(lambda s: oracion_raiz(s))"
      ],
      "execution_count": 17,
      "outputs": []
    },
    {
      "cell_type": "code",
      "metadata": {
        "colab": {
          "base_uri": "https://localhost:8080/",
          "height": 297
        },
        "id": "R_8VxdOJ2c2G",
        "outputId": "afb8a900-e987-4db4-ddc4-ab64b0caf136"
      },
      "source": [
        "# Ejemplo\n",
        "training.loc[[4,8,27,41,44,35,48,155]]"
      ],
      "execution_count": 18,
      "outputs": [
        {
          "output_type": "execute_result",
          "data": {
            "text/html": [
              "<div>\n",
              "<style scoped>\n",
              "    .dataframe tbody tr th:only-of-type {\n",
              "        vertical-align: middle;\n",
              "    }\n",
              "\n",
              "    .dataframe tbody tr th {\n",
              "        vertical-align: top;\n",
              "    }\n",
              "\n",
              "    .dataframe thead th {\n",
              "        text-align: right;\n",
              "    }\n",
              "</style>\n",
              "<table border=\"1\" class=\"dataframe\">\n",
              "  <thead>\n",
              "    <tr style=\"text-align: right;\">\n",
              "      <th></th>\n",
              "      <th>target</th>\n",
              "      <th>ids</th>\n",
              "      <th>date</th>\n",
              "      <th>flag</th>\n",
              "      <th>user</th>\n",
              "      <th>text</th>\n",
              "    </tr>\n",
              "  </thead>\n",
              "  <tbody>\n",
              "    <tr>\n",
              "      <th>4</th>\n",
              "      <td>4</td>\n",
              "      <td>1470156375</td>\n",
              "      <td>tue apr 07 08:30:57 pdt 2009</td>\n",
              "      <td>no_query</td>\n",
              "      <td>sessisen</td>\n",
              "      <td>&amp; quotgoaudio = love &amp; quot inde awesom best</td>\n",
              "    </tr>\n",
              "    <tr>\n",
              "      <th>8</th>\n",
              "      <td>0</td>\n",
              "      <td>1556421697</td>\n",
              "      <td>sat apr 18 22:46:28 pdt 2009</td>\n",
              "      <td>no_query</td>\n",
              "      <td>msredmond</td>\n",
              "      <td>peopl assum drive way home frequent mistaken</td>\n",
              "    </tr>\n",
              "    <tr>\n",
              "      <th>27</th>\n",
              "      <td>0</td>\n",
              "      <td>2302191492</td>\n",
              "      <td>tue jun 23 16:27:54 pdt 2009</td>\n",
              "      <td>no_query</td>\n",
              "      <td>cellobard</td>\n",
              "      <td>sick scale write goal back new goal 1 chemo pu...</td>\n",
              "    </tr>\n",
              "    <tr>\n",
              "      <th>41</th>\n",
              "      <td>4</td>\n",
              "      <td>1692059006</td>\n",
              "      <td>sun may 03 19:11:21 pdt 2009</td>\n",
              "      <td>no_query</td>\n",
              "      <td>spnheroesbaker</td>\n",
              "      <td>true mom tri quit bought pack today *give those*</td>\n",
              "    </tr>\n",
              "    <tr>\n",
              "      <th>44</th>\n",
              "      <td>0</td>\n",
              "      <td>2048707629</td>\n",
              "      <td>fri jun 05 15:38:32 pdt 2009</td>\n",
              "      <td>no_query</td>\n",
              "      <td>damog</td>\n",
              "      <td>ice coffe unsweeten</td>\n",
              "    </tr>\n",
              "    <tr>\n",
              "      <th>35</th>\n",
              "      <td>0</td>\n",
              "      <td>2262604412</td>\n",
              "      <td>sat jun 20 22:50:57 pdt 2009</td>\n",
              "      <td>no_query</td>\n",
              "      <td>hillaryhaynes92</td>\n",
              "      <td>second night roww</td>\n",
              "    </tr>\n",
              "    <tr>\n",
              "      <th>48</th>\n",
              "      <td>4</td>\n",
              "      <td>2063711158</td>\n",
              "      <td>sun jun 07 03:46:33 pdt 2009</td>\n",
              "      <td>no_query</td>\n",
              "      <td>dear__gravity</td>\n",
              "      <td>80 followerss shh</td>\n",
              "    </tr>\n",
              "    <tr>\n",
              "      <th>155</th>\n",
              "      <td>4</td>\n",
              "      <td>1556610439</td>\n",
              "      <td>sat apr 18 23:33:00 pdt 2009</td>\n",
              "      <td>no_query</td>\n",
              "      <td>nigs</td>\n",
              "      <td>good know famili honolulu start cool today 3c ...</td>\n",
              "    </tr>\n",
              "  </tbody>\n",
              "</table>\n",
              "</div>"
            ],
            "text/plain": [
              "     target  ...                                               text\n",
              "4         4  ...      & quotgoaudio = love & quot inde awesom best \n",
              "8         0  ...      peopl assum drive way home frequent mistaken \n",
              "27        0  ...  sick scale write goal back new goal 1 chemo pu...\n",
              "41        4  ...  true mom tri quit bought pack today *give those* \n",
              "44        0  ...                               ice coffe unsweeten \n",
              "35        0  ...                                 second night roww \n",
              "48        4  ...                                 80 followerss shh \n",
              "155       4  ...  good know famili honolulu start cool today 3c ...\n",
              "\n",
              "[8 rows x 6 columns]"
            ]
          },
          "metadata": {
            "tags": []
          },
          "execution_count": 18
        }
      ]
    },
    {
      "cell_type": "code",
      "metadata": {
        "colab": {
          "base_uri": "https://localhost:8080/"
        },
        "id": "YbUJGr8qNjjQ",
        "outputId": "4acf6b13-8bfb-45ac-e99b-21130e84dd7d"
      },
      "source": [
        "training.text"
      ],
      "execution_count": 19,
      "outputs": [
        {
          "output_type": "execute_result",
          "data": {
            "text/plain": [
              "0                                      go bed nowfeel sad \n",
              "1        ugh feel anoth headach come *goe grab ibuprofe...\n",
              "2                                        job applic day 2 \n",
              "3                                         3 hour toa love \n",
              "4            & quotgoaudio = love & quot inde awesom best \n",
              "                               ...                        \n",
              "99995        thx follow jenni add seminar twitter jobseek \n",
              "99996    listen new bootleg make super excit lifehous n...\n",
              "99997                              hey money miley ticket \n",
              "99998                                glad hear oke *hugs* \n",
              "99999                           fantast love pimm o'clock \n",
              "Name: text, Length: 100000, dtype: object"
            ]
          },
          "metadata": {
            "tags": []
          },
          "execution_count": 19
        }
      ]
    },
    {
      "cell_type": "markdown",
      "metadata": {
        "id": "XgajHM4gCjep"
      },
      "source": [
        "# Entrenamos un Tokenizer"
      ]
    },
    {
      "cell_type": "code",
      "metadata": {
        "id": "AdTHR74lmbUk"
      },
      "source": [
        "from tensorflow.keras.preprocessing.text import Tokenizer\n",
        "from tensorflow.keras.preprocessing.sequence import pad_sequences\n",
        "from tensorflow.keras import regularizers"
      ],
      "execution_count": 20,
      "outputs": []
    },
    {
      "cell_type": "code",
      "metadata": {
        "colab": {
          "base_uri": "https://localhost:8080/"
        },
        "id": "50TYKCmaEZ_t",
        "outputId": "670b6fc5-3e67-4aca-a0b7-1d0a47d062a3"
      },
      "source": [
        "# Entrena un Tokenizer. Consiste en:\n",
        "# Crea un diccionario numerado de las palabras existentes en el corpus, y devuelve\n",
        "# por cada palabra, el número entero de su índice en el diccionario.\n",
        "# En este caso, considera las N palabras más frecuentes.\n",
        "# oov_token = constante asiganda para palabras fuera del vocabulario (NOT USED HERE)\n",
        "data_set_1 = training\n",
        "data_set_1.shape\n",
        "data_set_1.text"
      ],
      "execution_count": 21,
      "outputs": [
        {
          "output_type": "execute_result",
          "data": {
            "text/plain": [
              "0                                      go bed nowfeel sad \n",
              "1        ugh feel anoth headach come *goe grab ibuprofe...\n",
              "2                                        job applic day 2 \n",
              "3                                         3 hour toa love \n",
              "4            & quotgoaudio = love & quot inde awesom best \n",
              "                               ...                        \n",
              "99995        thx follow jenni add seminar twitter jobseek \n",
              "99996    listen new bootleg make super excit lifehous n...\n",
              "99997                              hey money miley ticket \n",
              "99998                                glad hear oke *hugs* \n",
              "99999                           fantast love pimm o'clock \n",
              "Name: text, Length: 100000, dtype: object"
            ]
          },
          "metadata": {
            "tags": []
          },
          "execution_count": 21
        }
      ]
    },
    {
      "cell_type": "code",
      "metadata": {
        "colab": {
          "base_uri": "https://localhost:8080/"
        },
        "id": "y-hxvgq_AjBL",
        "outputId": "28077c6a-76d5-43ef-9837-5823ce6295ca"
      },
      "source": [
        "max_words = 1000\n",
        "max_len = 21\n",
        "\n",
        "tokenizer = Tokenizer(num_words=max_words)\n",
        "tokenizer.fit_on_texts(data_set_1.text)\n",
        "\n",
        "print(\"Number of words in the dictionary\", len(tokenizer.word_index))\n",
        "print(list(tokenizer.word_index.items())[:10])"
      ],
      "execution_count": 26,
      "outputs": [
        {
          "output_type": "stream",
          "text": [
            "Number of words in the dictionary 51042\n",
            "[('go', 1), ('get', 2), ('day', 3), ('good', 4), ('work', 5), ('like', 6), ('love', 7), ('got', 8), ('today', 9), ('time', 10)]\n"
          ],
          "name": "stdout"
        }
      ]
    },
    {
      "cell_type": "code",
      "metadata": {
        "id": "6ejRLzBHE-3S"
      },
      "source": [
        "#sorted(tokenizer.word_counts.values())[:10]\n",
        "#Tokenizer?"
      ],
      "execution_count": 27,
      "outputs": []
    },
    {
      "cell_type": "code",
      "metadata": {
        "colab": {
          "base_uri": "https://localhost:8080/"
        },
        "id": "FFL2iSx-FHjv",
        "outputId": "71cdfbcf-1b96-4053-f658-466f9d58d3d2"
      },
      "source": [
        "# Convierte palabras en enteros\n",
        "train_sequences = tokenizer.texts_to_sequences(data_set_1.text)\n",
        "lengths = []\n",
        "for seq in train_sequences:\n",
        "  lengths.append(len(seq))\n",
        "\n",
        "print(\"Tweet más pequeño\", np.array(lengths).min(), \"words.\")\n",
        "print(\"Tweet más grande\", np.array(lengths).max(), \"words.\")\n",
        "print(f\"Longitud promedio: {np.array(lengths).mean():.2f} +- {np.array(lengths).std():.2f} words.\")\n",
        "print('\\n')\n",
        "\n",
        "for seq in train_sequences[:10]:\n",
        "  print(seq)"
      ],
      "execution_count": 28,
      "outputs": [
        {
          "output_type": "stream",
          "text": [
            "Tweet más pequeño 0 words.\n",
            "Tweet más grande 21 words.\n",
            "Longitud promedio: 5.03 +- 3.11 words.\n",
            "\n",
            "\n",
            "[1, 73, 52]\n",
            "[223, 19, 129, 311, 36, 414, 614, 346]\n",
            "[231, 3, 38]\n",
            "[114, 79, 7]\n",
            "[7, 39, 838, 87, 102]\n",
            "[32]\n",
            "[497]\n",
            "[58]\n",
            "[80, 274, 65, 37]\n",
            "[83, 404, 32, 53, 75]\n"
          ],
          "name": "stdout"
        }
      ]
    },
    {
      "cell_type": "code",
      "metadata": {
        "colab": {
          "base_uri": "https://localhost:8080/",
          "height": 265
        },
        "id": "8GkE5PeAFfFH",
        "outputId": "1e0013a9-0771-4317-9a70-943da87cf134"
      },
      "source": [
        "plt.hist(lengths,20)\n",
        "plt.show()"
      ],
      "execution_count": 29,
      "outputs": [
        {
          "output_type": "display_data",
          "data": {
            "image/png": "[encoded data removed]",
            "text/plain": [
              "<Figure size 432x288 with 1 Axes>"
            ]
          },
          "metadata": {
            "tags": [],
            "needs_background": "light"
          }
        }
      ]
    },
    {
      "cell_type": "code",
      "metadata": {
        "colab": {
          "base_uri": "https://localhost:8080/"
        },
        "id": "CxkMkyh-E1eH",
        "outputId": "7043f446-4980-418f-f4ea-9da434861488"
      },
      "source": [
        "sequences = tokenizer.texts_to_sequences(data_set_1.text)\n",
        "tweets = pad_sequences(sequences, maxlen=max_len, padding='post')\n",
        "print(tweets)"
      ],
      "execution_count": 30,
      "outputs": [
        {
          "output_type": "stream",
          "text": [
            "[[  1  73  52 ...   0   0   0]\n",
            " [223  19 129 ...   0   0   0]\n",
            " [231   3  38 ...   0   0   0]\n",
            " ...\n",
            " [ 85 309 685 ...   0   0   0]\n",
            " [203 180   0 ...   0   0   0]\n",
            " [859   7   0 ...   0   0   0]]\n"
          ],
          "name": "stdout"
        }
      ]
    },
    {
      "cell_type": "code",
      "metadata": {
        "colab": {
          "base_uri": "https://localhost:8080/"
        },
        "id": "Jm06k8n9E1rd",
        "outputId": "8656cf65-1f19-4ed8-d641-edf817ae05e7"
      },
      "source": [
        "tweets.shape"
      ],
      "execution_count": 31,
      "outputs": [
        {
          "output_type": "execute_result",
          "data": {
            "text/plain": [
              "(100000, 21)"
            ]
          },
          "metadata": {
            "tags": []
          },
          "execution_count": 31
        }
      ]
    },
    {
      "cell_type": "code",
      "metadata": {
        "colab": {
          "base_uri": "https://localhost:8080/"
        },
        "id": "SdbTguzPLK4O",
        "outputId": "eabcd392-7f26-4ec0-8ecd-9a2111603a51"
      },
      "source": [
        "data_set_1.target.shape"
      ],
      "execution_count": 32,
      "outputs": [
        {
          "output_type": "execute_result",
          "data": {
            "text/plain": [
              "(100000,)"
            ]
          },
          "metadata": {
            "tags": []
          },
          "execution_count": 32
        }
      ]
    },
    {
      "cell_type": "markdown",
      "metadata": {
        "id": "uY-EM8O70OnW"
      },
      "source": [
        "## Separamos en train, test"
      ]
    },
    {
      "cell_type": "code",
      "metadata": {
        "id": "w4-mzuVQm7qH"
      },
      "source": [
        "from sklearn.model_selection import train_test_split"
      ],
      "execution_count": 33,
      "outputs": []
    },
    {
      "cell_type": "code",
      "metadata": {
        "id": "4H29q5XL0RBl"
      },
      "source": [
        "X_train, X_test, y_train, y_test = train_test_split(tweets, data_set_1.target.values, test_size=0.3, random_state=23042021)"
      ],
      "execution_count": 34,
      "outputs": []
    },
    {
      "cell_type": "code",
      "metadata": {
        "colab": {
          "base_uri": "https://localhost:8080/"
        },
        "id": "3Gx4QC-MDMRF",
        "outputId": "2a116c70-9760-4934-fb57-228e06d1cad7"
      },
      "source": [
        "print(\"X_train\", X_train.shape)\n",
        "print(\"y_train\", y_train.shape)\n",
        "print(\"X_test\", X_test.shape)\n",
        "print(\"y_test\", y_test.shape)"
      ],
      "execution_count": 37,
      "outputs": [
        {
          "output_type": "stream",
          "text": [
            "X_train (70000, 21)\n",
            "y_train (70000,)\n",
            "X_test (30000, 21)\n",
            "y_test (30000,)\n"
          ],
          "name": "stdout"
        }
      ]
    },
    {
      "cell_type": "code",
      "metadata": {
        "id": "b1P3P0d49-ZT"
      },
      "source": [
        "y_train = np.where(y_train==4,1,y_train)\n",
        "y_test = np.where(y_test==4,1,y_test)"
      ],
      "execution_count": 35,
      "outputs": []
    },
    {
      "cell_type": "code",
      "metadata": {
        "colab": {
          "base_uri": "https://localhost:8080/"
        },
        "id": "_QCer5X4-iF9",
        "outputId": "55866e57-8e2d-4583-d838-58b698df09ea"
      },
      "source": [
        "y_train\n",
        "y_test"
      ],
      "execution_count": 36,
      "outputs": [
        {
          "output_type": "execute_result",
          "data": {
            "text/plain": [
              "array([0, 1, 1, ..., 0, 1, 0])"
            ]
          },
          "metadata": {
            "tags": []
          },
          "execution_count": 36
        }
      ]
    },
    {
      "cell_type": "markdown",
      "metadata": {
        "id": "9Ih2oqSz07em"
      },
      "source": [
        "# Creamos el modelo"
      ]
    },
    {
      "cell_type": "code",
      "metadata": {
        "id": "vZv_fDCW1Xzt"
      },
      "source": [
        "import tensorflow as tf\n",
        "from tensorflow.keras.models import Sequential\n",
        "from tensorflow.keras.layers import Embedding, LSTM, Dense, Dropout\n",
        "from tensorflow.keras.regularizers import l1"
      ],
      "execution_count": 38,
      "outputs": []
    },
    {
      "cell_type": "code",
      "metadata": {
        "colab": {
          "base_uri": "https://localhost:8080/"
        },
        "id": "eITD3Xki4Cw5",
        "outputId": "b3da5c77-518a-428b-a776-16f6e46c1e80"
      },
      "source": [
        "# Crea una red con layers Embedding, LSTM, Dense\n",
        "model = Sequential()\n",
        "model.add(Embedding(input_length=max_len, input_dim=max_words, output_dim=64, trainable=True))\n",
        "model.add(LSTM(units=64))\n",
        "model.add(Dropout(0.5))\n",
        "model.add(Dense(units=82, activation='relu'))\n",
        "model.add(Dropout(0.5))\n",
        "model.add(Dense(units=1, activation='sigmoid'))\n",
        "\n",
        "model.summary()"
      ],
      "execution_count": 39,
      "outputs": [
        {
          "output_type": "stream",
          "text": [
            "Model: \"sequential\"\n",
            "_________________________________________________________________\n",
            "Layer (type)                 Output Shape              Param #   \n",
            "=================================================================\n",
            "embedding (Embedding)        (None, 21, 64)            64000     \n",
            "_________________________________________________________________\n",
            "lstm (LSTM)                  (None, 64)                33024     \n",
            "_________________________________________________________________\n",
            "dropout (Dropout)            (None, 64)                0         \n",
            "_________________________________________________________________\n",
            "dense (Dense)                (None, 82)                5330      \n",
            "_________________________________________________________________\n",
            "dropout_1 (Dropout)          (None, 82)                0         \n",
            "_________________________________________________________________\n",
            "dense_1 (Dense)              (None, 1)                 83        \n",
            "=================================================================\n",
            "Total params: 102,437\n",
            "Trainable params: 102,437\n",
            "Non-trainable params: 0\n",
            "_________________________________________________________________\n"
          ],
          "name": "stdout"
        }
      ]
    },
    {
      "cell_type": "code",
      "metadata": {
        "id": "1U9KxBvV1qun"
      },
      "source": [
        "# Compile\n",
        "model.compile(loss=tf.keras.losses.BinaryCrossentropy(from_logits=True), optimizer='adam', metrics=[tf.metrics.BinaryAccuracy(), 'accuracy'])"
      ],
      "execution_count": 40,
      "outputs": []
    },
    {
      "cell_type": "code",
      "metadata": {
        "colab": {
          "base_uri": "https://localhost:8080/"
        },
        "id": "JCPmbUlH1vXP",
        "outputId": "f71906b7-cc7d-4f9d-d8ae-717ff4b57a9c"
      },
      "source": [
        "#%%timeit\n",
        "\n",
        "# Train it\n",
        "history = model.fit(X_train, y_train, epochs=10, batch_size=16, validation_split=0.2)"
      ],
      "execution_count": 41,
      "outputs": [
        {
          "output_type": "stream",
          "text": [
            "Epoch 1/10\n",
            "3500/3500 [==============================] - 39s 10ms/step - loss: 0.6117 - binary_accuracy: 0.6405 - accuracy: 0.6405 - val_loss: 0.5232 - val_binary_accuracy: 0.7404 - val_accuracy: 0.7404\n",
            "Epoch 2/10\n",
            "3500/3500 [==============================] - 35s 10ms/step - loss: 0.5251 - binary_accuracy: 0.7406 - accuracy: 0.7406 - val_loss: 0.5321 - val_binary_accuracy: 0.7254 - val_accuracy: 0.7254\n",
            "Epoch 3/10\n",
            "3500/3500 [==============================] - 35s 10ms/step - loss: 0.5087 - binary_accuracy: 0.7493 - accuracy: 0.7493 - val_loss: 0.5218 - val_binary_accuracy: 0.7406 - val_accuracy: 0.7406\n",
            "Epoch 4/10\n",
            "3500/3500 [==============================] - 36s 10ms/step - loss: 0.4981 - binary_accuracy: 0.7578 - accuracy: 0.7578 - val_loss: 0.5188 - val_binary_accuracy: 0.7424 - val_accuracy: 0.7424\n",
            "Epoch 5/10\n",
            "3500/3500 [==============================] - 36s 10ms/step - loss: 0.4894 - binary_accuracy: 0.7622 - accuracy: 0.7622 - val_loss: 0.5212 - val_binary_accuracy: 0.7424 - val_accuracy: 0.7424\n",
            "Epoch 6/10\n",
            "3500/3500 [==============================] - 36s 10ms/step - loss: 0.4810 - binary_accuracy: 0.7674 - accuracy: 0.7674 - val_loss: 0.5221 - val_binary_accuracy: 0.7372 - val_accuracy: 0.7372\n",
            "Epoch 7/10\n",
            "3500/3500 [==============================] - 35s 10ms/step - loss: 0.4747 - binary_accuracy: 0.7693 - accuracy: 0.7693 - val_loss: 0.5257 - val_binary_accuracy: 0.7351 - val_accuracy: 0.7351\n",
            "Epoch 8/10\n",
            "3500/3500 [==============================] - 36s 10ms/step - loss: 0.4662 - binary_accuracy: 0.7773 - accuracy: 0.7773 - val_loss: 0.5293 - val_binary_accuracy: 0.7359 - val_accuracy: 0.7359\n",
            "Epoch 9/10\n",
            "3500/3500 [==============================] - 36s 10ms/step - loss: 0.4553 - binary_accuracy: 0.7842 - accuracy: 0.7842 - val_loss: 0.5520 - val_binary_accuracy: 0.7332 - val_accuracy: 0.7332\n",
            "Epoch 10/10\n",
            "3500/3500 [==============================] - 36s 10ms/step - loss: 0.4453 - binary_accuracy: 0.7911 - accuracy: 0.7911 - val_loss: 0.5445 - val_binary_accuracy: 0.7348 - val_accuracy: 0.7348\n"
          ],
          "name": "stdout"
        }
      ]
    },
    {
      "cell_type": "code",
      "metadata": {
        "colab": {
          "base_uri": "https://localhost:8080/"
        },
        "id": "UFKhkZhGY7Nj",
        "outputId": "276f52ed-b4f7-4ba1-a67a-a70f31173bcd"
      },
      "source": [
        "history"
      ],
      "execution_count": 42,
      "outputs": [
        {
          "output_type": "execute_result",
          "data": {
            "text/plain": [
              "<tensorflow.python.keras.callbacks.History at 0x7eff706278d0>"
            ]
          },
          "metadata": {
            "tags": []
          },
          "execution_count": 42
        }
      ]
    },
    {
      "cell_type": "code",
      "metadata": {
        "colab": {
          "base_uri": "https://localhost:8080/",
          "height": 295
        },
        "id": "nZwvQmAROlem",
        "outputId": "f3e2c15d-7017-43f7-b1b5-9051ff1e06f3"
      },
      "source": [
        "# Plot loss\n",
        "plt.figure(figsize=(20, 4))\n",
        "\n",
        "plt.subplot(1, 2, 1)\n",
        "plt.title('Loss')\n",
        "plt.plot(history.history['loss'], label='Training', linewidth=2)\n",
        "plt.plot(history.history['val_loss'], label='Validation', linewidth=2)\n",
        "plt.legend()\n",
        "plt.xlabel('Epoch')\n",
        "plt.ylabel('Loss')\n",
        "plt.grid(True)\n",
        "\n",
        "plt.subplot(1, 2, 2)\n",
        "plt.title('Accuracy')\n",
        "plt.plot(history.history['accuracy'], label='Training', linewidth=2)\n",
        "plt.plot(history.history['val_accuracy'], label='Validation', linewidth=2)\n",
        "plt.legend()\n",
        "plt.xlabel('Epoch')\n",
        "plt.ylabel('Accuracy')\n",
        "plt.grid(True)\n",
        "\n",
        "plt.show()"
      ],
      "execution_count": 43,
      "outputs": [
        {
          "output_type": "display_data",
          "data": {
            "image/png": "[encoded data removed]",
            "text/plain": [
              "<Figure size 1440x288 with 2 Axes>"
            ]
          },
          "metadata": {
            "tags": [],
            "needs_background": "light"
          }
        }
      ]
    },
    {
      "cell_type": "code",
      "metadata": {
        "id": "34NhUm_3Xupm"
      },
      "source": [
        ""
      ],
      "execution_count": null,
      "outputs": []
    }
  ]
}