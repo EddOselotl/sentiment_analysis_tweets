{
 "cells": [
  {
   "cell_type": "code",
   "execution_count": 1,
   "metadata": {},
   "outputs": [],
   "source": [
    "import pandas as pd\n",
    "import numpy as np\n",
    "import matplotlib.pyplot as plt\n",
    "import datetime\n",
    "from dateutil import parser"
   ]
  },
  {
   "cell_type": "code",
   "execution_count": 2,
   "metadata": {},
   "outputs": [],
   "source": [
    "# Nombramiento de columnas\n",
    "col_names = ['target', # Polaridad del twet 0=negativo, 2=neutral, 4=positivo\n",
    "             'ids',    # ID tweet\n",
    "             'date',   # Fecha y hora del tweet\n",
    "             'flag',   # QUERY\n",
    "             'user',   # Usuario del tweet\n",
    "             'text']   # Texto del tweet"
   ]
  },
  {
   "cell_type": "markdown",
   "metadata": {},
   "source": [
    "- Variables:\n",
    "        - "
   ]
  },
  {
   "cell_type": "code",
   "execution_count": 3,
   "metadata": {},
   "outputs": [],
   "source": [
    "df = pd.read_csv('../datos/trainingandtestdata/training_1600000_processed_noemoticon.csv',\n",
    "                 encoding='latin-1', names=col_names)"
   ]
  },
  {
   "cell_type": "code",
   "execution_count": 4,
   "metadata": {},
   "outputs": [],
   "source": [
    "df2 = pd.read_csv('../datos/trainingandtestdata/testdata_manual_2009_06_14.csv', names=col_names)"
   ]
  },
  {
   "cell_type": "code",
   "execution_count": 5,
   "metadata": {},
   "outputs": [
    {
     "data": {
      "text/plain": [
       "(1600000, 6)"
      ]
     },
     "execution_count": 5,
     "metadata": {},
     "output_type": "execute_result"
    }
   ],
   "source": [
    "df.shape"
   ]
  },
  {
   "cell_type": "code",
   "execution_count": 31,
   "metadata": {},
   "outputs": [
    {
     "data": {
      "text/html": [
       "<div>\n",
       "<style scoped>\n",
       "    .dataframe tbody tr th:only-of-type {\n",
       "        vertical-align: middle;\n",
       "    }\n",
       "\n",
       "    .dataframe tbody tr th {\n",
       "        vertical-align: top;\n",
       "    }\n",
       "\n",
       "    .dataframe thead th {\n",
       "        text-align: right;\n",
       "    }\n",
       "</style>\n",
       "<table border=\"1\" class=\"dataframe\">\n",
       "  <thead>\n",
       "    <tr style=\"text-align: right;\">\n",
       "      <th></th>\n",
       "      <th>target</th>\n",
       "      <th>ids</th>\n",
       "      <th>date</th>\n",
       "      <th>flag</th>\n",
       "      <th>user</th>\n",
       "      <th>text</th>\n",
       "    </tr>\n",
       "  </thead>\n",
       "  <tbody>\n",
       "    <tr>\n",
       "      <th>0</th>\n",
       "      <td>0</td>\n",
       "      <td>1467810369</td>\n",
       "      <td>Mon Apr 06 22:19:45 PDT 2009</td>\n",
       "      <td>NO_QUERY</td>\n",
       "      <td>_TheSpecialOne_</td>\n",
       "      <td>@switchfoot http://twitpic.com/2y1zl - Awww, t...</td>\n",
       "    </tr>\n",
       "    <tr>\n",
       "      <th>1</th>\n",
       "      <td>0</td>\n",
       "      <td>1467810672</td>\n",
       "      <td>Mon Apr 06 22:19:49 PDT 2009</td>\n",
       "      <td>NO_QUERY</td>\n",
       "      <td>scotthamilton</td>\n",
       "      <td>is upset that he can't update his Facebook by ...</td>\n",
       "    </tr>\n",
       "    <tr>\n",
       "      <th>2</th>\n",
       "      <td>0</td>\n",
       "      <td>1467810917</td>\n",
       "      <td>Mon Apr 06 22:19:53 PDT 2009</td>\n",
       "      <td>NO_QUERY</td>\n",
       "      <td>mattycus</td>\n",
       "      <td>@Kenichan I dived many times for the ball. Man...</td>\n",
       "    </tr>\n",
       "    <tr>\n",
       "      <th>3</th>\n",
       "      <td>0</td>\n",
       "      <td>1467811184</td>\n",
       "      <td>Mon Apr 06 22:19:57 PDT 2009</td>\n",
       "      <td>NO_QUERY</td>\n",
       "      <td>ElleCTF</td>\n",
       "      <td>my whole body feels itchy and like its on fire</td>\n",
       "    </tr>\n",
       "    <tr>\n",
       "      <th>4</th>\n",
       "      <td>0</td>\n",
       "      <td>1467811193</td>\n",
       "      <td>Mon Apr 06 22:19:57 PDT 2009</td>\n",
       "      <td>NO_QUERY</td>\n",
       "      <td>Karoli</td>\n",
       "      <td>@nationwideclass no, it's not behaving at all....</td>\n",
       "    </tr>\n",
       "  </tbody>\n",
       "</table>\n",
       "</div>"
      ],
      "text/plain": [
       "   target         ids                          date      flag  \\\n",
       "0       0  1467810369  Mon Apr 06 22:19:45 PDT 2009  NO_QUERY   \n",
       "1       0  1467810672  Mon Apr 06 22:19:49 PDT 2009  NO_QUERY   \n",
       "2       0  1467810917  Mon Apr 06 22:19:53 PDT 2009  NO_QUERY   \n",
       "3       0  1467811184  Mon Apr 06 22:19:57 PDT 2009  NO_QUERY   \n",
       "4       0  1467811193  Mon Apr 06 22:19:57 PDT 2009  NO_QUERY   \n",
       "\n",
       "              user                                               text  \n",
       "0  _TheSpecialOne_  @switchfoot http://twitpic.com/2y1zl - Awww, t...  \n",
       "1    scotthamilton  is upset that he can't update his Facebook by ...  \n",
       "2         mattycus  @Kenichan I dived many times for the ball. Man...  \n",
       "3          ElleCTF    my whole body feels itchy and like its on fire   \n",
       "4           Karoli  @nationwideclass no, it's not behaving at all....  "
      ]
     },
     "execution_count": 31,
     "metadata": {},
     "output_type": "execute_result"
    }
   ],
   "source": [
    "df.head()"
   ]
  },
  {
   "cell_type": "code",
   "execution_count": 7,
   "metadata": {},
   "outputs": [
    {
     "data": {
      "text/plain": [
       "target          2\n",
       "ids       1598315\n",
       "date       774363\n",
       "flag            1\n",
       "user       659775\n",
       "text      1581466\n",
       "dtype: int64"
      ]
     },
     "execution_count": 7,
     "metadata": {},
     "output_type": "execute_result"
    }
   ],
   "source": [
    "df.nunique()"
   ]
  },
  {
   "cell_type": "code",
   "execution_count": 8,
   "metadata": {},
   "outputs": [
    {
     "data": {
      "text/plain": [
       "target     int64\n",
       "ids        int64\n",
       "date      object\n",
       "flag      object\n",
       "user      object\n",
       "text      object\n",
       "dtype: object"
      ]
     },
     "execution_count": 8,
     "metadata": {},
     "output_type": "execute_result"
    }
   ],
   "source": [
    "df.dtypes"
   ]
  },
  {
   "cell_type": "code",
   "execution_count": 49,
   "metadata": {},
   "outputs": [],
   "source": [
    "def num_prop(column_data):\n",
    "    # Número de observaciones por categoría\n",
    "    num=pd.value_counts(column_data) \n",
    "    # Proporción de observaciones por categoría\n",
    "    prop=100 * column_data.value_counts() / len(column_data)\n",
    "    # Unión de columnas en una y renombramiento\n",
    "    columnas_num_prop = round(pd.concat([num, prop], \n",
    "                                        keys=['num_obs_cat', 'prop_obs_cat'],\n",
    "                                        axis=1),2)\n",
    "    \n",
    "    return columnas_num_prop"
   ]
  },
  {
   "cell_type": "code",
   "execution_count": 50,
   "metadata": {},
   "outputs": [
    {
     "data": {
      "text/html": [
       "<div>\n",
       "<style scoped>\n",
       "    .dataframe tbody tr th:only-of-type {\n",
       "        vertical-align: middle;\n",
       "    }\n",
       "\n",
       "    .dataframe tbody tr th {\n",
       "        vertical-align: top;\n",
       "    }\n",
       "\n",
       "    .dataframe thead th {\n",
       "        text-align: right;\n",
       "    }\n",
       "</style>\n",
       "<table border=\"1\" class=\"dataframe\">\n",
       "  <thead>\n",
       "    <tr style=\"text-align: right;\">\n",
       "      <th></th>\n",
       "      <th>num_obs_cat</th>\n",
       "      <th>prop_obs_cat</th>\n",
       "    </tr>\n",
       "  </thead>\n",
       "  <tbody>\n",
       "    <tr>\n",
       "      <th>4</th>\n",
       "      <td>800000</td>\n",
       "      <td>50.0</td>\n",
       "    </tr>\n",
       "    <tr>\n",
       "      <th>0</th>\n",
       "      <td>800000</td>\n",
       "      <td>50.0</td>\n",
       "    </tr>\n",
       "  </tbody>\n",
       "</table>\n",
       "</div>"
      ],
      "text/plain": [
       "   num_obs_cat  prop_obs_cat\n",
       "4       800000          50.0\n",
       "0       800000          50.0"
      ]
     },
     "execution_count": 50,
     "metadata": {},
     "output_type": "execute_result"
    }
   ],
   "source": [
    "num_prop(df['target'])"
   ]
  },
  {
   "cell_type": "code",
   "execution_count": 51,
   "metadata": {},
   "outputs": [
    {
     "data": {
      "text/html": [
       "<div>\n",
       "<style scoped>\n",
       "    .dataframe tbody tr th:only-of-type {\n",
       "        vertical-align: middle;\n",
       "    }\n",
       "\n",
       "    .dataframe tbody tr th {\n",
       "        vertical-align: top;\n",
       "    }\n",
       "\n",
       "    .dataframe thead th {\n",
       "        text-align: right;\n",
       "    }\n",
       "</style>\n",
       "<table border=\"1\" class=\"dataframe\">\n",
       "  <thead>\n",
       "    <tr style=\"text-align: right;\">\n",
       "      <th></th>\n",
       "      <th>num_obs_cat</th>\n",
       "      <th>prop_obs_cat</th>\n",
       "    </tr>\n",
       "  </thead>\n",
       "  <tbody>\n",
       "    <tr>\n",
       "      <th>4</th>\n",
       "      <td>182</td>\n",
       "      <td>36.55</td>\n",
       "    </tr>\n",
       "    <tr>\n",
       "      <th>0</th>\n",
       "      <td>177</td>\n",
       "      <td>35.54</td>\n",
       "    </tr>\n",
       "    <tr>\n",
       "      <th>2</th>\n",
       "      <td>139</td>\n",
       "      <td>27.91</td>\n",
       "    </tr>\n",
       "  </tbody>\n",
       "</table>\n",
       "</div>"
      ],
      "text/plain": [
       "   num_obs_cat  prop_obs_cat\n",
       "4          182         36.55\n",
       "0          177         35.54\n",
       "2          139         27.91"
      ]
     },
     "execution_count": 51,
     "metadata": {},
     "output_type": "execute_result"
    }
   ],
   "source": [
    "num_prop(df2['target'])"
   ]
  },
  {
   "cell_type": "code",
   "execution_count": 52,
   "metadata": {},
   "outputs": [
    {
     "data": {
      "text/plain": [
       "count    1.600000e+06\n",
       "mean     1.998818e+09\n",
       "std      1.935761e+08\n",
       "min      1.467810e+09\n",
       "25%      1.956916e+09\n",
       "50%      2.002102e+09\n",
       "75%      2.177059e+09\n",
       "max      2.329206e+09\n",
       "Name: ids, dtype: float64"
      ]
     },
     "execution_count": 52,
     "metadata": {},
     "output_type": "execute_result"
    }
   ],
   "source": [
    "df['ids'].describe()"
   ]
  },
  {
   "cell_type": "code",
   "execution_count": 53,
   "metadata": {},
   "outputs": [
    {
     "data": {
      "text/html": [
       "<div>\n",
       "<style scoped>\n",
       "    .dataframe tbody tr th:only-of-type {\n",
       "        vertical-align: middle;\n",
       "    }\n",
       "\n",
       "    .dataframe tbody tr th {\n",
       "        vertical-align: top;\n",
       "    }\n",
       "\n",
       "    .dataframe thead th {\n",
       "        text-align: right;\n",
       "    }\n",
       "</style>\n",
       "<table border=\"1\" class=\"dataframe\">\n",
       "  <thead>\n",
       "    <tr style=\"text-align: right;\">\n",
       "      <th></th>\n",
       "      <th>num_obs_cat</th>\n",
       "      <th>prop_obs_cat</th>\n",
       "    </tr>\n",
       "  </thead>\n",
       "  <tbody>\n",
       "    <tr>\n",
       "      <th>NO_QUERY</th>\n",
       "      <td>1600000</td>\n",
       "      <td>100.0</td>\n",
       "    </tr>\n",
       "  </tbody>\n",
       "</table>\n",
       "</div>"
      ],
      "text/plain": [
       "          num_obs_cat  prop_obs_cat\n",
       "NO_QUERY      1600000         100.0"
      ]
     },
     "execution_count": 53,
     "metadata": {},
     "output_type": "execute_result"
    }
   ],
   "source": [
    "num_prop(df['flag'])"
   ]
  },
  {
   "cell_type": "code",
   "execution_count": 58,
   "metadata": {},
   "outputs": [
    {
     "data": {
      "text/plain": [
       "659775"
      ]
     },
     "execution_count": 58,
     "metadata": {},
     "output_type": "execute_result"
    }
   ],
   "source": [
    "df['user'].nunique()"
   ]
  },
  {
   "cell_type": "code",
   "execution_count": 13,
   "metadata": {},
   "outputs": [
    {
     "data": {
      "text/plain": [
       "640000.0"
      ]
     },
     "execution_count": 13,
     "metadata": {},
     "output_type": "execute_result"
    }
   ],
   "source": [
    "1600000*0.4"
   ]
  },
  {
   "cell_type": "code",
   "execution_count": 4,
   "metadata": {},
   "outputs": [],
   "source": [
    "smaller_sample = df.sample(n=100000,random_state=21239)"
   ]
  },
  {
   "cell_type": "code",
   "execution_count": 5,
   "metadata": {},
   "outputs": [
    {
     "data": {
      "text/html": [
       "<div>\n",
       "<style scoped>\n",
       "    .dataframe tbody tr th:only-of-type {\n",
       "        vertical-align: middle;\n",
       "    }\n",
       "\n",
       "    .dataframe tbody tr th {\n",
       "        vertical-align: top;\n",
       "    }\n",
       "\n",
       "    .dataframe thead th {\n",
       "        text-align: right;\n",
       "    }\n",
       "</style>\n",
       "<table border=\"1\" class=\"dataframe\">\n",
       "  <thead>\n",
       "    <tr style=\"text-align: right;\">\n",
       "      <th></th>\n",
       "      <th>target</th>\n",
       "      <th>ids</th>\n",
       "      <th>date</th>\n",
       "      <th>flag</th>\n",
       "      <th>user</th>\n",
       "      <th>text</th>\n",
       "    </tr>\n",
       "  </thead>\n",
       "  <tbody>\n",
       "    <tr>\n",
       "      <th>583131</th>\n",
       "      <td>0</td>\n",
       "      <td>2214844405</td>\n",
       "      <td>Wed Jun 17 17:18:46 PDT 2009</td>\n",
       "      <td>NO_QUERY</td>\n",
       "      <td>thechillmaster</td>\n",
       "      <td>going to bed now...feeling sad</td>\n",
       "    </tr>\n",
       "    <tr>\n",
       "      <th>472790</th>\n",
       "      <td>0</td>\n",
       "      <td>2176921086</td>\n",
       "      <td>Mon Jun 15 05:03:41 PDT 2009</td>\n",
       "      <td>NO_QUERY</td>\n",
       "      <td>Liebe93</td>\n",
       "      <td>Ugh, I feel another headache coming on... *goe...</td>\n",
       "    </tr>\n",
       "    <tr>\n",
       "      <th>760840</th>\n",
       "      <td>0</td>\n",
       "      <td>2296949656</td>\n",
       "      <td>Tue Jun 23 09:50:27 PDT 2009</td>\n",
       "      <td>NO_QUERY</td>\n",
       "      <td>brandielachelle</td>\n",
       "      <td>job applications DAY 2 ,</td>\n",
       "    </tr>\n",
       "    <tr>\n",
       "      <th>1172378</th>\n",
       "      <td>4</td>\n",
       "      <td>1980618237</td>\n",
       "      <td>Sun May 31 07:14:02 PDT 2009</td>\n",
       "      <td>NO_QUERY</td>\n",
       "      <td>triiishh</td>\n",
       "      <td>3 hours of ToA. Isn't that lovely?</td>\n",
       "    </tr>\n",
       "    <tr>\n",
       "      <th>811796</th>\n",
       "      <td>4</td>\n",
       "      <td>1470156375</td>\n",
       "      <td>Tue Apr 07 08:30:57 PDT 2009</td>\n",
       "      <td>NO_QUERY</td>\n",
       "      <td>sessisen</td>\n",
       "      <td>@malinpet &amp;quot;Go:Audio = LOVE!&amp;quot; Indeed!...</td>\n",
       "    </tr>\n",
       "    <tr>\n",
       "      <th>...</th>\n",
       "      <td>...</td>\n",
       "      <td>...</td>\n",
       "      <td>...</td>\n",
       "      <td>...</td>\n",
       "      <td>...</td>\n",
       "      <td>...</td>\n",
       "    </tr>\n",
       "    <tr>\n",
       "      <th>1261678</th>\n",
       "      <td>4</td>\n",
       "      <td>1998673552</td>\n",
       "      <td>Mon Jun 01 18:56:25 PDT 2009</td>\n",
       "      <td>NO_QUERY</td>\n",
       "      <td>SueMarks</td>\n",
       "      <td>@JennyDeVaughn Thx for following Jenny.  Add t...</td>\n",
       "    </tr>\n",
       "    <tr>\n",
       "      <th>1141885</th>\n",
       "      <td>4</td>\n",
       "      <td>1977233442</td>\n",
       "      <td>Sat May 30 20:27:00 PDT 2009</td>\n",
       "      <td>NO_QUERY</td>\n",
       "      <td>lesleydenford</td>\n",
       "      <td>:: Listening to new bootlegs makes me SO SUPER...</td>\n",
       "    </tr>\n",
       "    <tr>\n",
       "      <th>445990</th>\n",
       "      <td>0</td>\n",
       "      <td>2068285463</td>\n",
       "      <td>Sun Jun 07 13:49:17 PDT 2009</td>\n",
       "      <td>NO_QUERY</td>\n",
       "      <td>RiceMover</td>\n",
       "      <td>@claire_mcgovern  hey! I have no money for mil...</td>\n",
       "    </tr>\n",
       "    <tr>\n",
       "      <th>1586326</th>\n",
       "      <td>4</td>\n",
       "      <td>2190796045</td>\n",
       "      <td>Tue Jun 16 03:45:04 PDT 2009</td>\n",
       "      <td>NO_QUERY</td>\n",
       "      <td>veryluckylady88</td>\n",
       "      <td>@patvandiest glad to hear your #oma is oke  *h...</td>\n",
       "    </tr>\n",
       "    <tr>\n",
       "      <th>1392483</th>\n",
       "      <td>4</td>\n",
       "      <td>2053416031</td>\n",
       "      <td>Sat Jun 06 04:28:42 PDT 2009</td>\n",
       "      <td>NO_QUERY</td>\n",
       "      <td>eatlikeagirl</td>\n",
       "      <td>@oliverthring http://twitpic.com/6qjfb - Fanta...</td>\n",
       "    </tr>\n",
       "  </tbody>\n",
       "</table>\n",
       "<p>100000 rows × 6 columns</p>\n",
       "</div>"
      ],
      "text/plain": [
       "         target         ids                          date      flag  \\\n",
       "583131        0  2214844405  Wed Jun 17 17:18:46 PDT 2009  NO_QUERY   \n",
       "472790        0  2176921086  Mon Jun 15 05:03:41 PDT 2009  NO_QUERY   \n",
       "760840        0  2296949656  Tue Jun 23 09:50:27 PDT 2009  NO_QUERY   \n",
       "1172378       4  1980618237  Sun May 31 07:14:02 PDT 2009  NO_QUERY   \n",
       "811796        4  1470156375  Tue Apr 07 08:30:57 PDT 2009  NO_QUERY   \n",
       "...         ...         ...                           ...       ...   \n",
       "1261678       4  1998673552  Mon Jun 01 18:56:25 PDT 2009  NO_QUERY   \n",
       "1141885       4  1977233442  Sat May 30 20:27:00 PDT 2009  NO_QUERY   \n",
       "445990        0  2068285463  Sun Jun 07 13:49:17 PDT 2009  NO_QUERY   \n",
       "1586326       4  2190796045  Tue Jun 16 03:45:04 PDT 2009  NO_QUERY   \n",
       "1392483       4  2053416031  Sat Jun 06 04:28:42 PDT 2009  NO_QUERY   \n",
       "\n",
       "                    user                                               text  \n",
       "583131    thechillmaster                    going to bed now...feeling sad   \n",
       "472790           Liebe93  Ugh, I feel another headache coming on... *goe...  \n",
       "760840   brandielachelle                          job applications DAY 2 ,   \n",
       "1172378         triiishh                3 hours of ToA. Isn't that lovely?   \n",
       "811796          sessisen  @malinpet &quot;Go:Audio = LOVE!&quot; Indeed!...  \n",
       "...                  ...                                                ...  \n",
       "1261678         SueMarks  @JennyDeVaughn Thx for following Jenny.  Add t...  \n",
       "1141885    lesleydenford  :: Listening to new bootlegs makes me SO SUPER...  \n",
       "445990         RiceMover  @claire_mcgovern  hey! I have no money for mil...  \n",
       "1586326  veryluckylady88  @patvandiest glad to hear your #oma is oke  *h...  \n",
       "1392483     eatlikeagirl  @oliverthring http://twitpic.com/6qjfb - Fanta...  \n",
       "\n",
       "[100000 rows x 6 columns]"
      ]
     },
     "execution_count": 5,
     "metadata": {},
     "output_type": "execute_result"
    }
   ],
   "source": [
    "smaller_sample"
   ]
  },
  {
   "cell_type": "code",
   "execution_count": 6,
   "metadata": {},
   "outputs": [],
   "source": [
    "smaller_sample.to_csv('../datos/trainingandtestdata/smaller_sample_100000.csv', index = False, \n",
    "                      header=True, encoding='latin-1',columns=col_names)"
   ]
  },
  {
   "cell_type": "code",
   "execution_count": 39,
   "metadata": {},
   "outputs": [
    {
     "data": {
      "text/html": [
       "<div>\n",
       "<style scoped>\n",
       "    .dataframe tbody tr th:only-of-type {\n",
       "        vertical-align: middle;\n",
       "    }\n",
       "\n",
       "    .dataframe tbody tr th {\n",
       "        vertical-align: top;\n",
       "    }\n",
       "\n",
       "    .dataframe thead th {\n",
       "        text-align: right;\n",
       "    }\n",
       "</style>\n",
       "<table border=\"1\" class=\"dataframe\">\n",
       "  <thead>\n",
       "    <tr style=\"text-align: right;\">\n",
       "      <th></th>\n",
       "      <th>target</th>\n",
       "      <th>ids</th>\n",
       "      <th>date</th>\n",
       "      <th>flag</th>\n",
       "      <th>user</th>\n",
       "      <th>text</th>\n",
       "    </tr>\n",
       "  </thead>\n",
       "  <tbody>\n",
       "    <tr>\n",
       "      <th>279097</th>\n",
       "      <td>0</td>\n",
       "      <td>1991696611</td>\n",
       "      <td>Mon Jun 01 07:30:14 PDT 2009</td>\n",
       "      <td>NO_QUERY</td>\n",
       "      <td>LeMarianne</td>\n",
       "      <td>I'll be having ER duty tomorrow.  This will be...</td>\n",
       "    </tr>\n",
       "    <tr>\n",
       "      <th>450201</th>\n",
       "      <td>0</td>\n",
       "      <td>2069438971</td>\n",
       "      <td>Sun Jun 07 15:52:53 PDT 2009</td>\n",
       "      <td>NO_QUERY</td>\n",
       "      <td>serpico007</td>\n",
       "      <td>Finished watching the whole season of 24 today...</td>\n",
       "    </tr>\n",
       "    <tr>\n",
       "      <th>51878</th>\n",
       "      <td>0</td>\n",
       "      <td>1679162446</td>\n",
       "      <td>Sat May 02 08:41:10 PDT 2009</td>\n",
       "      <td>NO_QUERY</td>\n",
       "      <td>katiee1619</td>\n",
       "      <td>wow. i havent been on twitter in awhile.</td>\n",
       "    </tr>\n",
       "    <tr>\n",
       "      <th>506298</th>\n",
       "      <td>0</td>\n",
       "      <td>2188613884</td>\n",
       "      <td>Mon Jun 15 22:13:26 PDT 2009</td>\n",
       "      <td>NO_QUERY</td>\n",
       "      <td>thegam310</td>\n",
       "      <td>Powered through a 3 hour shift at work today. ...</td>\n",
       "    </tr>\n",
       "    <tr>\n",
       "      <th>1579916</th>\n",
       "      <td>4</td>\n",
       "      <td>2189998539</td>\n",
       "      <td>Tue Jun 16 01:28:54 PDT 2009</td>\n",
       "      <td>NO_QUERY</td>\n",
       "      <td>mattlxs</td>\n",
       "      <td>@JJaeng @tontenn thats good to hear  i wanna g...</td>\n",
       "    </tr>\n",
       "    <tr>\n",
       "      <th>...</th>\n",
       "      <td>...</td>\n",
       "      <td>...</td>\n",
       "      <td>...</td>\n",
       "      <td>...</td>\n",
       "      <td>...</td>\n",
       "      <td>...</td>\n",
       "    </tr>\n",
       "    <tr>\n",
       "      <th>33359</th>\n",
       "      <td>0</td>\n",
       "      <td>1564486206</td>\n",
       "      <td>Mon Apr 20 03:43:10 PDT 2009</td>\n",
       "      <td>NO_QUERY</td>\n",
       "      <td>meggie1564</td>\n",
       "      <td>mornings are horrible.</td>\n",
       "    </tr>\n",
       "    <tr>\n",
       "      <th>945685</th>\n",
       "      <td>4</td>\n",
       "      <td>1822394689</td>\n",
       "      <td>Sat May 16 19:28:44 PDT 2009</td>\n",
       "      <td>NO_QUERY</td>\n",
       "      <td>miizronnie</td>\n",
       "      <td>@Raeknightowl4 Thats good  Im alright thnx. Ye...</td>\n",
       "    </tr>\n",
       "    <tr>\n",
       "      <th>196392</th>\n",
       "      <td>0</td>\n",
       "      <td>1970707319</td>\n",
       "      <td>Sat May 30 04:55:29 PDT 2009</td>\n",
       "      <td>NO_QUERY</td>\n",
       "      <td>chrismogee</td>\n",
       "      <td>In the office.  It's Saturday.    Hopefully ge...</td>\n",
       "    </tr>\n",
       "    <tr>\n",
       "      <th>1407829</th>\n",
       "      <td>4</td>\n",
       "      <td>2055591155</td>\n",
       "      <td>Sat Jun 06 09:35:48 PDT 2009</td>\n",
       "      <td>NO_QUERY</td>\n",
       "      <td>articlescholar</td>\n",
       "      <td>eating Froot Loops  http://plurk.com/p/yx8ql</td>\n",
       "    </tr>\n",
       "    <tr>\n",
       "      <th>773634</th>\n",
       "      <td>0</td>\n",
       "      <td>2303333316</td>\n",
       "      <td>Tue Jun 23 18:02:46 PDT 2009</td>\n",
       "      <td>NO_QUERY</td>\n",
       "      <td>ClownLuv</td>\n",
       "      <td>@gunslingaaahhh  Will do! I'm all behind on ma...</td>\n",
       "    </tr>\n",
       "  </tbody>\n",
       "</table>\n",
       "<p>500000 rows × 6 columns</p>\n",
       "</div>"
      ],
      "text/plain": [
       "         target         ids                          date      flag  \\\n",
       "279097        0  1991696611  Mon Jun 01 07:30:14 PDT 2009  NO_QUERY   \n",
       "450201        0  2069438971  Sun Jun 07 15:52:53 PDT 2009  NO_QUERY   \n",
       "51878         0  1679162446  Sat May 02 08:41:10 PDT 2009  NO_QUERY   \n",
       "506298        0  2188613884  Mon Jun 15 22:13:26 PDT 2009  NO_QUERY   \n",
       "1579916       4  2189998539  Tue Jun 16 01:28:54 PDT 2009  NO_QUERY   \n",
       "...         ...         ...                           ...       ...   \n",
       "33359         0  1564486206  Mon Apr 20 03:43:10 PDT 2009  NO_QUERY   \n",
       "945685        4  1822394689  Sat May 16 19:28:44 PDT 2009  NO_QUERY   \n",
       "196392        0  1970707319  Sat May 30 04:55:29 PDT 2009  NO_QUERY   \n",
       "1407829       4  2055591155  Sat Jun 06 09:35:48 PDT 2009  NO_QUERY   \n",
       "773634        0  2303333316  Tue Jun 23 18:02:46 PDT 2009  NO_QUERY   \n",
       "\n",
       "                   user                                               text  \n",
       "279097       LeMarianne  I'll be having ER duty tomorrow.  This will be...  \n",
       "450201       serpico007  Finished watching the whole season of 24 today...  \n",
       "51878        katiee1619          wow. i havent been on twitter in awhile.   \n",
       "506298        thegam310  Powered through a 3 hour shift at work today. ...  \n",
       "1579916         mattlxs  @JJaeng @tontenn thats good to hear  i wanna g...  \n",
       "...                 ...                                                ...  \n",
       "33359        meggie1564                         mornings are horrible.      \n",
       "945685       miizronnie  @Raeknightowl4 Thats good  Im alright thnx. Ye...  \n",
       "196392       chrismogee  In the office.  It's Saturday.    Hopefully ge...  \n",
       "1407829  articlescholar       eating Froot Loops  http://plurk.com/p/yx8ql  \n",
       "773634         ClownLuv  @gunslingaaahhh  Will do! I'm all behind on ma...  \n",
       "\n",
       "[500000 rows x 6 columns]"
      ]
     },
     "execution_count": 39,
     "metadata": {},
     "output_type": "execute_result"
    }
   ],
   "source": []
  },
  {
   "cell_type": "code",
   "execution_count": 7,
   "metadata": {},
   "outputs": [],
   "source": [
    "df_2 = pd.read_csv('../datos/trainingandtestdata/smaller_sample_100000.csv',\n",
    "                 encoding='latin-1')"
   ]
  },
  {
   "cell_type": "code",
   "execution_count": 8,
   "metadata": {},
   "outputs": [
    {
     "data": {
      "text/html": [
       "<div>\n",
       "<style scoped>\n",
       "    .dataframe tbody tr th:only-of-type {\n",
       "        vertical-align: middle;\n",
       "    }\n",
       "\n",
       "    .dataframe tbody tr th {\n",
       "        vertical-align: top;\n",
       "    }\n",
       "\n",
       "    .dataframe thead th {\n",
       "        text-align: right;\n",
       "    }\n",
       "</style>\n",
       "<table border=\"1\" class=\"dataframe\">\n",
       "  <thead>\n",
       "    <tr style=\"text-align: right;\">\n",
       "      <th></th>\n",
       "      <th>target</th>\n",
       "      <th>ids</th>\n",
       "      <th>date</th>\n",
       "      <th>flag</th>\n",
       "      <th>user</th>\n",
       "      <th>text</th>\n",
       "    </tr>\n",
       "  </thead>\n",
       "  <tbody>\n",
       "    <tr>\n",
       "      <th>0</th>\n",
       "      <td>0</td>\n",
       "      <td>2214844405</td>\n",
       "      <td>Wed Jun 17 17:18:46 PDT 2009</td>\n",
       "      <td>NO_QUERY</td>\n",
       "      <td>thechillmaster</td>\n",
       "      <td>going to bed now...feeling sad</td>\n",
       "    </tr>\n",
       "    <tr>\n",
       "      <th>1</th>\n",
       "      <td>0</td>\n",
       "      <td>2176921086</td>\n",
       "      <td>Mon Jun 15 05:03:41 PDT 2009</td>\n",
       "      <td>NO_QUERY</td>\n",
       "      <td>Liebe93</td>\n",
       "      <td>Ugh, I feel another headache coming on... *goe...</td>\n",
       "    </tr>\n",
       "    <tr>\n",
       "      <th>2</th>\n",
       "      <td>0</td>\n",
       "      <td>2296949656</td>\n",
       "      <td>Tue Jun 23 09:50:27 PDT 2009</td>\n",
       "      <td>NO_QUERY</td>\n",
       "      <td>brandielachelle</td>\n",
       "      <td>job applications DAY 2 ,</td>\n",
       "    </tr>\n",
       "    <tr>\n",
       "      <th>3</th>\n",
       "      <td>4</td>\n",
       "      <td>1980618237</td>\n",
       "      <td>Sun May 31 07:14:02 PDT 2009</td>\n",
       "      <td>NO_QUERY</td>\n",
       "      <td>triiishh</td>\n",
       "      <td>3 hours of ToA. Isn't that lovely?</td>\n",
       "    </tr>\n",
       "    <tr>\n",
       "      <th>4</th>\n",
       "      <td>4</td>\n",
       "      <td>1470156375</td>\n",
       "      <td>Tue Apr 07 08:30:57 PDT 2009</td>\n",
       "      <td>NO_QUERY</td>\n",
       "      <td>sessisen</td>\n",
       "      <td>@malinpet &amp;quot;Go:Audio = LOVE!&amp;quot; Indeed!...</td>\n",
       "    </tr>\n",
       "    <tr>\n",
       "      <th>...</th>\n",
       "      <td>...</td>\n",
       "      <td>...</td>\n",
       "      <td>...</td>\n",
       "      <td>...</td>\n",
       "      <td>...</td>\n",
       "      <td>...</td>\n",
       "    </tr>\n",
       "    <tr>\n",
       "      <th>99995</th>\n",
       "      <td>4</td>\n",
       "      <td>1998673552</td>\n",
       "      <td>Mon Jun 01 18:56:25 PDT 2009</td>\n",
       "      <td>NO_QUERY</td>\n",
       "      <td>SueMarks</td>\n",
       "      <td>@JennyDeVaughn Thx for following Jenny.  Add t...</td>\n",
       "    </tr>\n",
       "    <tr>\n",
       "      <th>99996</th>\n",
       "      <td>4</td>\n",
       "      <td>1977233442</td>\n",
       "      <td>Sat May 30 20:27:00 PDT 2009</td>\n",
       "      <td>NO_QUERY</td>\n",
       "      <td>lesleydenford</td>\n",
       "      <td>:: Listening to new bootlegs makes me SO SUPER...</td>\n",
       "    </tr>\n",
       "    <tr>\n",
       "      <th>99997</th>\n",
       "      <td>0</td>\n",
       "      <td>2068285463</td>\n",
       "      <td>Sun Jun 07 13:49:17 PDT 2009</td>\n",
       "      <td>NO_QUERY</td>\n",
       "      <td>RiceMover</td>\n",
       "      <td>@claire_mcgovern  hey! I have no money for mil...</td>\n",
       "    </tr>\n",
       "    <tr>\n",
       "      <th>99998</th>\n",
       "      <td>4</td>\n",
       "      <td>2190796045</td>\n",
       "      <td>Tue Jun 16 03:45:04 PDT 2009</td>\n",
       "      <td>NO_QUERY</td>\n",
       "      <td>veryluckylady88</td>\n",
       "      <td>@patvandiest glad to hear your #oma is oke  *h...</td>\n",
       "    </tr>\n",
       "    <tr>\n",
       "      <th>99999</th>\n",
       "      <td>4</td>\n",
       "      <td>2053416031</td>\n",
       "      <td>Sat Jun 06 04:28:42 PDT 2009</td>\n",
       "      <td>NO_QUERY</td>\n",
       "      <td>eatlikeagirl</td>\n",
       "      <td>@oliverthring http://twitpic.com/6qjfb - Fanta...</td>\n",
       "    </tr>\n",
       "  </tbody>\n",
       "</table>\n",
       "<p>100000 rows × 6 columns</p>\n",
       "</div>"
      ],
      "text/plain": [
       "       target         ids                          date      flag  \\\n",
       "0           0  2214844405  Wed Jun 17 17:18:46 PDT 2009  NO_QUERY   \n",
       "1           0  2176921086  Mon Jun 15 05:03:41 PDT 2009  NO_QUERY   \n",
       "2           0  2296949656  Tue Jun 23 09:50:27 PDT 2009  NO_QUERY   \n",
       "3           4  1980618237  Sun May 31 07:14:02 PDT 2009  NO_QUERY   \n",
       "4           4  1470156375  Tue Apr 07 08:30:57 PDT 2009  NO_QUERY   \n",
       "...       ...         ...                           ...       ...   \n",
       "99995       4  1998673552  Mon Jun 01 18:56:25 PDT 2009  NO_QUERY   \n",
       "99996       4  1977233442  Sat May 30 20:27:00 PDT 2009  NO_QUERY   \n",
       "99997       0  2068285463  Sun Jun 07 13:49:17 PDT 2009  NO_QUERY   \n",
       "99998       4  2190796045  Tue Jun 16 03:45:04 PDT 2009  NO_QUERY   \n",
       "99999       4  2053416031  Sat Jun 06 04:28:42 PDT 2009  NO_QUERY   \n",
       "\n",
       "                  user                                               text  \n",
       "0       thechillmaster                    going to bed now...feeling sad   \n",
       "1              Liebe93  Ugh, I feel another headache coming on... *goe...  \n",
       "2      brandielachelle                          job applications DAY 2 ,   \n",
       "3             triiishh                3 hours of ToA. Isn't that lovely?   \n",
       "4             sessisen  @malinpet &quot;Go:Audio = LOVE!&quot; Indeed!...  \n",
       "...                ...                                                ...  \n",
       "99995         SueMarks  @JennyDeVaughn Thx for following Jenny.  Add t...  \n",
       "99996    lesleydenford  :: Listening to new bootlegs makes me SO SUPER...  \n",
       "99997        RiceMover  @claire_mcgovern  hey! I have no money for mil...  \n",
       "99998  veryluckylady88  @patvandiest glad to hear your #oma is oke  *h...  \n",
       "99999     eatlikeagirl  @oliverthring http://twitpic.com/6qjfb - Fanta...  \n",
       "\n",
       "[100000 rows x 6 columns]"
      ]
     },
     "execution_count": 8,
     "metadata": {},
     "output_type": "execute_result"
    }
   ],
   "source": [
    "df_2"
   ]
  },
  {
   "cell_type": "code",
   "execution_count": null,
   "metadata": {},
   "outputs": [],
   "source": []
  }
 ],
 "metadata": {
  "kernelspec": {
   "display_name": "itam_intro_to_ds",
   "language": "python",
   "name": "itam_intro_to_ds"
  },
  "language_info": {
   "codemirror_mode": {
    "name": "ipython",
    "version": 3
   },
   "file_extension": ".py",
   "mimetype": "text/x-python",
   "name": "python",
   "nbconvert_exporter": "python",
   "pygments_lexer": "ipython3",
   "version": "3.7.4"
  }
 },
 "nbformat": 4,
 "nbformat_minor": 4
}
