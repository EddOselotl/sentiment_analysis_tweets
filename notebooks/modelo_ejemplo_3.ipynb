{
  "nbformat": 4,
  "nbformat_minor": 0,
  "metadata": {
    "colab": {
      "name": "Untitled0.ipynb",
      "provenance": [],
      "authorship_tag": "ABX9TyMz0rQv8fQF01UB4ZVBPD7h",
      "include_colab_link": true
    },
    "kernelspec": {
      "name": "python3",
      "display_name": "Python 3"
    },
    "language_info": {
      "name": "python"
    }
  },
  "cells": [
    {
      "cell_type": "markdown",
      "metadata": {
        "id": "view-in-github",
        "colab_type": "text"
      },
      "source": [
        "<a href=\"https://colab.research.google.com/github/ElenaVillano/sentiment_analysis_tweets/blob/main/notebooks/modelo_ejemplo_3.ipynb\" target=\"_parent\"><img src=\"https://colab.research.google.com/assets/colab-badge.svg\" alt=\"Open In Colab\"/></a>"
      ]
    },
    {
      "cell_type": "code",
      "metadata": {
        "colab": {
          "base_uri": "https://localhost:8080/"
        },
        "id": "tAzRGUMQbNSM",
        "outputId": "64899a67-5469-464e-e7a0-a7848904b3d5"
      },
      "source": [
        "!pip install \"git+https://github.com/ElenaVillano/sentiment_analysis_tweets.git#egg=nlptweet&subdirectory=src\" --quiet"
      ],
      "execution_count": 1,
      "outputs": [
        {
          "output_type": "stream",
          "text": [
            "  Building wheel for nlptweet (setup.py) ... \u001b[?25l\u001b[?25hdone\n"
          ],
          "name": "stdout"
        }
      ]
    },
    {
      "cell_type": "code",
      "metadata": {
        "colab": {
          "base_uri": "https://localhost:8080/"
        },
        "id": "irDTHM13bSBy",
        "outputId": "ee10f1b8-32bd-4db7-deaf-e8ef1bd1c648"
      },
      "source": [
        "import pandas as pd\n",
        "import numpy as np\n",
        "import matplotlib.pyplot as plt\n",
        "import datetime\n",
        "import nltk\n",
        "#import re\n",
        "import timeit\n",
        "import string\n",
        "# Nuestro paquete\n",
        "import nlp\n",
        "\n",
        "\n",
        "#call the nltk downloader\n",
        "nltk.download('punkt')\n",
        "\n",
        "from dateutil import parser\n",
        "\n",
        "# Carga un set de stopwords predefinidas\n",
        "from nltk.corpus import stopwords\n",
        "\n",
        "from nltk.tokenize import sent_tokenize, word_tokenize\n",
        "from nltk.stem import PorterStemmer\n",
        "from nltk.stem import LancasterStemmer"
      ],
      "execution_count": 2,
      "outputs": [
        {
          "output_type": "stream",
          "text": [
            "[nltk_data] Downloading package punkt to /root/nltk_data...\n",
            "[nltk_data]   Unzipping tokenizers/punkt.zip.\n"
          ],
          "name": "stdout"
        }
      ]
    },
    {
      "cell_type": "code",
      "metadata": {
        "id": "dT1wTA9RbY0c"
      },
      "source": [
        "# Nombramiento de columnas\n",
        "col_names = ['target', # Polaridad del twet 0=negativo, 2=neutral, 4=positivo\n",
        "             'ids',    # ID tweet\n",
        "             'date',   # Fecha y hora del tweet\n",
        "             'flag',   # QUERY\n",
        "             'user',   # Usuario del tweet\n",
        "             'text']   # Texto del tweety"
      ],
      "execution_count": 3,
      "outputs": []
    },
    {
      "cell_type": "markdown",
      "metadata": {
        "id": "_h11WAmGbd7i"
      },
      "source": [
        "Datos y limpieza"
      ]
    },
    {
      "cell_type": "code",
      "metadata": {
        "colab": {
          "resources": {
            "http://localhost:8080/nbextensions/google.colab/files.js": {
              "data": "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",
              "ok": true,
              "headers": [
                [
                  "content-type",
                  "application/javascript"
                ]
              ],
              "status": 200,
              "status_text": ""
            }
          },
          "base_uri": "https://localhost:8080/",
          "height": 106
        },
        "id": "Gz-yPXvubbCS",
        "outputId": "aaddb4fc-0a56-4310-bef7-190c8b5c16a2"
      },
      "source": [
        "# Requiered to select a file to be imported into colab\n",
        "# Not useful if running locally\n",
        "from google.colab import files\n",
        "uploaded = files.upload()"
      ],
      "execution_count": 5,
      "outputs": [
        {
          "output_type": "display_data",
          "data": {
            "text/html": [
              "\n",
              "     <input type=\"file\" id=\"files-bbc3f915-1036-404e-b5b4-25747e233ab8\" name=\"files[]\" multiple disabled\n",
              "        style=\"border:none\" />\n",
              "     <output id=\"result-bbc3f915-1036-404e-b5b4-25747e233ab8\">\n",
              "      Upload widget is only available when the cell has been executed in the\n",
              "      current browser session. Please rerun this cell to enable.\n",
              "      </output>\n",
              "      <script src=\"/nbextensions/google.colab/files.js\"></script> "
            ],
            "text/plain": [
              "<IPython.core.display.HTML object>"
            ]
          },
          "metadata": {
            "tags": []
          }
        },
        {
          "output_type": "stream",
          "text": [
            "Saving smaller_sample_100000.csv to smaller_sample_100000.csv\n",
            "Saving testdata_manual_2009_06_14.csv to testdata_manual_2009_06_14.csv\n"
          ],
          "name": "stdout"
        }
      ]
    },
    {
      "cell_type": "code",
      "metadata": {
        "id": "hUuS3_QsbhDO"
      },
      "source": [
        "training =  pd.read_csv('smaller_sample_100000.csv',\n",
        "                 encoding='latin-1')"
      ],
      "execution_count": 6,
      "outputs": []
    },
    {
      "cell_type": "code",
      "metadata": {
        "id": "wvN3NzGibnoL"
      },
      "source": [
        "test = pd.read_csv('testdata_manual_2009_06_14.csv', names=col_names)"
      ],
      "execution_count": 7,
      "outputs": []
    },
    {
      "cell_type": "code",
      "metadata": {
        "id": "h3FQjZBMJz79"
      },
      "source": [
        "import re as re\n",
        "def reemplazar_usuarios(phrase):\n",
        "    \"\"\"\n",
        "    :param phrase:\n",
        "    :return:\n",
        "    \"\"\"\n",
        "    return re.sub(\"@[\\S]+\", \"\", phrase)\n",
        "\n",
        "def reemplazar_urls(phrase):\n",
        "    \"\"\"\n",
        "    :param phrase:\n",
        "    :return:\n",
        "    \"\"\"\n",
        "    return re.sub(\"((www\\.[\\S]+)|(https?://[\\S]+))\", \"\", phrase)"
      ],
      "execution_count": 8,
      "outputs": []
    },
    {
      "cell_type": "code",
      "metadata": {
        "colab": {
          "base_uri": "https://localhost:8080/"
        },
        "id": "ijuGqKWRbrAX",
        "outputId": "e6aaf11e-34bf-49ee-de20-956c5c8d55fc"
      },
      "source": [
        "# primera parte limpieza\n",
        "from nlp.preprocessing import convierte_a_minusculas, quitar_hashtag # reemplazar_urls, reemplazar_usuarios, \n",
        "# minusculas\n",
        "training = convierte_a_minusculas(training)\n",
        "test = convierte_a_minusculas(test)\n",
        "# url\n",
        "training['text'] = training['text'].map(lambda s: reemplazar_urls(s))\n",
        "test['text'] = test['text'].map(lambda s: reemplazar_urls(s))\n",
        "# user_mention\n",
        "training['text'] = training['text'].map(lambda s: reemplazar_usuarios(s))\n",
        "test['text'] = test['text'].map(lambda s: reemplazar_usuarios(s))\n",
        "# hashtags\n",
        "training['text'] = training['text'].map(lambda s: quitar_hashtag(s))\n",
        "test['text'] = test['text'].map(lambda s: quitar_hashtag(s))\n",
        "\n",
        "# segunda parte limpieza\n",
        "from nlp.preprocessing import quitar_RT, quitar_caracteres_especiales, quitar_letras_repetidas\n",
        "# retweets\n",
        "training['text'] = training['text'].map(lambda s: quitar_RT(s))\n",
        "test['text'] = test['text'].map(lambda s: quitar_RT(s))\n",
        "# caracteres especiales\n",
        "training['text'] = training['text'].map(lambda s: quitar_caracteres_especiales(s))\n",
        "test['text'] = test['text'].map(lambda s: quitar_caracteres_especiales(s))\n",
        "# letras repetidas\n",
        "training['text'] = training['text'].map(lambda s: quitar_letras_repetidas(s))\n",
        "test['text'] = test['text'].map(lambda s: quitar_letras_repetidas(s))\n",
        "# tercera parte limpieza\n",
        "from nlp.preprocessing import quitar_nonascii, separar_abreviaciones, remove_stopwords, oracion_raiz\n",
        "#nonascii\n",
        "training['text'] = training['text'].map(lambda s: quitar_nonascii(s))\n",
        "test['text'] = test['text'].map(lambda s: quitar_nonascii(s))\n",
        "# abreviaciones\n",
        "training['text'] = training['text'].map(lambda s: separar_abreviaciones(s))\n",
        "test['text'] = test['text'].map(lambda s: separar_abreviaciones(s))\n",
        "# stop words\n",
        "training['text'] = training['text'].map(lambda s: remove_stopwords(s))\n",
        "test['atext'] = test['text'].map(lambda s: remove_stopwords(s))\n",
        "# raiz\n",
        "training['text'] = training['text'].map(lambda s: oracion_raiz(s))\n",
        "test['atext'] = test['text'].map(lambda s: oracion_raiz(s))"
      ],
      "execution_count": 9,
      "outputs": [
        {
          "output_type": "stream",
          "text": [
            "[nltk_data] Downloading package stopwords to /root/nltk_data...\n",
            "[nltk_data]   Unzipping corpora/stopwords.zip.\n"
          ],
          "name": "stdout"
        }
      ]
    },
    {
      "cell_type": "code",
      "metadata": {
        "colab": {
          "base_uri": "https://localhost:8080/",
          "height": 204
        },
        "id": "2BQO6CVrNXGc",
        "outputId": "fda4e651-4b76-4d86-bc8a-111a7226c119"
      },
      "source": [
        "training.head()"
      ],
      "execution_count": 10,
      "outputs": [
        {
          "output_type": "execute_result",
          "data": {
            "text/html": [
              "<div>\n",
              "<style scoped>\n",
              "    .dataframe tbody tr th:only-of-type {\n",
              "        vertical-align: middle;\n",
              "    }\n",
              "\n",
              "    .dataframe tbody tr th {\n",
              "        vertical-align: top;\n",
              "    }\n",
              "\n",
              "    .dataframe thead th {\n",
              "        text-align: right;\n",
              "    }\n",
              "</style>\n",
              "<table border=\"1\" class=\"dataframe\">\n",
              "  <thead>\n",
              "    <tr style=\"text-align: right;\">\n",
              "      <th></th>\n",
              "      <th>target</th>\n",
              "      <th>ids</th>\n",
              "      <th>date</th>\n",
              "      <th>flag</th>\n",
              "      <th>user</th>\n",
              "      <th>text</th>\n",
              "    </tr>\n",
              "  </thead>\n",
              "  <tbody>\n",
              "    <tr>\n",
              "      <th>0</th>\n",
              "      <td>0</td>\n",
              "      <td>2214844405</td>\n",
              "      <td>wed jun 17 17:18:46 pdt 2009</td>\n",
              "      <td>no_query</td>\n",
              "      <td>thechillmaster</td>\n",
              "      <td>go bed nowfeel sad</td>\n",
              "    </tr>\n",
              "    <tr>\n",
              "      <th>1</th>\n",
              "      <td>0</td>\n",
              "      <td>2176921086</td>\n",
              "      <td>mon jun 15 05:03:41 pdt 2009</td>\n",
              "      <td>no_query</td>\n",
              "      <td>liebe93</td>\n",
              "      <td>ugh feel anoth headach come *goe grab ibuprofe...</td>\n",
              "    </tr>\n",
              "    <tr>\n",
              "      <th>2</th>\n",
              "      <td>0</td>\n",
              "      <td>2296949656</td>\n",
              "      <td>tue jun 23 09:50:27 pdt 2009</td>\n",
              "      <td>no_query</td>\n",
              "      <td>brandielachelle</td>\n",
              "      <td>job applic day 2</td>\n",
              "    </tr>\n",
              "    <tr>\n",
              "      <th>3</th>\n",
              "      <td>4</td>\n",
              "      <td>1980618237</td>\n",
              "      <td>sun may 31 07:14:02 pdt 2009</td>\n",
              "      <td>no_query</td>\n",
              "      <td>triiishh</td>\n",
              "      <td>3 hour toa love</td>\n",
              "    </tr>\n",
              "    <tr>\n",
              "      <th>4</th>\n",
              "      <td>4</td>\n",
              "      <td>1470156375</td>\n",
              "      <td>tue apr 07 08:30:57 pdt 2009</td>\n",
              "      <td>no_query</td>\n",
              "      <td>sessisen</td>\n",
              "      <td>&amp; quotgoaudio = love &amp; quot inde awesom best</td>\n",
              "    </tr>\n",
              "  </tbody>\n",
              "</table>\n",
              "</div>"
            ],
            "text/plain": [
              "   target  ...                                               text\n",
              "0       0  ...                                go bed nowfeel sad \n",
              "1       0  ...  ugh feel anoth headach come *goe grab ibuprofe...\n",
              "2       0  ...                                  job applic day 2 \n",
              "3       4  ...                                   3 hour toa love \n",
              "4       4  ...      & quotgoaudio = love & quot inde awesom best \n",
              "\n",
              "[5 rows x 6 columns]"
            ]
          },
          "metadata": {
            "tags": []
          },
          "execution_count": 10
        }
      ]
    },
    {
      "cell_type": "markdown",
      "metadata": {
        "id": "2__xuA2rb06N"
      },
      "source": [
        "TOKENIZER"
      ]
    },
    {
      "cell_type": "code",
      "metadata": {
        "id": "IYPQcgN9bq9B"
      },
      "source": [
        "from tensorflow.keras.preprocessing.text import Tokenizer\n",
        "from tensorflow.keras.preprocessing.sequence import pad_sequences\n",
        "from tensorflow.keras import regularizers"
      ],
      "execution_count": 11,
      "outputs": []
    },
    {
      "cell_type": "code",
      "metadata": {
        "colab": {
          "base_uri": "https://localhost:8080/"
        },
        "id": "bzI5IpRebq5x",
        "outputId": "d485d14c-a18c-4b80-f7c7-b1c496487772"
      },
      "source": [
        "# Entrena un Tokenizer. Consiste en:\n",
        "# Crea un diccionario numerado de las palabras existentes en el corpus, y devuelve\n",
        "# por cada palabra, el número entero de su índice en el diccionario.\n",
        "# En este caso, considera las N palabras más frecuentes.\n",
        "# oov_token = constante asiganda para palabras fuera del vocabulario (NOT USED HERE)\n",
        "data_set_1 = training\n",
        "data_set_1.shape\n",
        "data_set_1.text"
      ],
      "execution_count": 12,
      "outputs": [
        {
          "output_type": "execute_result",
          "data": {
            "text/plain": [
              "0                                      go bed nowfeel sad \n",
              "1        ugh feel anoth headach come *goe grab ibuprofe...\n",
              "2                                        job applic day 2 \n",
              "3                                         3 hour toa love \n",
              "4            & quotgoaudio = love & quot inde awesom best \n",
              "                               ...                        \n",
              "99995        thx follow jenni add seminar twitter jobseek \n",
              "99996    listen new bootleg make super excit lifehous n...\n",
              "99997                              hey money miley ticket \n",
              "99998                                glad hear oke *hugs* \n",
              "99999                           fantast love pimm o'clock \n",
              "Name: text, Length: 100000, dtype: object"
            ]
          },
          "metadata": {
            "tags": []
          },
          "execution_count": 12
        }
      ]
    },
    {
      "cell_type": "code",
      "metadata": {
        "id": "iF3DFB9hbq1n"
      },
      "source": [
        "max_words = 1000\n",
        "max_len = 21\n",
        "\n",
        "tokenizer = Tokenizer(num_words=max_words)\n",
        "tokenizer.fit_on_texts(data_set_1.text)\n",
        "\n"
      ],
      "execution_count": 13,
      "outputs": []
    },
    {
      "cell_type": "code",
      "metadata": {
        "id": "w6N5coOSt-G-"
      },
      "source": [
        "#print(\"Number of words in the dictionary\", len(tokenizer.word_index))\n",
        "#print(list(tokenizer.word_counts))"
      ],
      "execution_count": 44,
      "outputs": []
    },
    {
      "cell_type": "code",
      "metadata": {
        "id": "VFl1sOXZwZxI"
      },
      "source": [
        "hola=pd.DataFrame([(word,count) for i, (word, count) in enumerate(tokenizer.word_counts.items())])"
      ],
      "execution_count": 15,
      "outputs": []
    },
    {
      "cell_type": "code",
      "metadata": {
        "colab": {
          "base_uri": "https://localhost:8080/",
          "height": 419
        },
        "id": "SRdqGFnjxE-c",
        "outputId": "bb4fd807-8ee8-4881-b183-175721dec2e4"
      },
      "source": [
        "hola"
      ],
      "execution_count": 16,
      "outputs": [
        {
          "output_type": "execute_result",
          "data": {
            "text/html": [
              "<div>\n",
              "<style scoped>\n",
              "    .dataframe tbody tr th:only-of-type {\n",
              "        vertical-align: middle;\n",
              "    }\n",
              "\n",
              "    .dataframe tbody tr th {\n",
              "        vertical-align: top;\n",
              "    }\n",
              "\n",
              "    .dataframe thead th {\n",
              "        text-align: right;\n",
              "    }\n",
              "</style>\n",
              "<table border=\"1\" class=\"dataframe\">\n",
              "  <thead>\n",
              "    <tr style=\"text-align: right;\">\n",
              "      <th></th>\n",
              "      <th>0</th>\n",
              "      <th>1</th>\n",
              "    </tr>\n",
              "  </thead>\n",
              "  <tbody>\n",
              "    <tr>\n",
              "      <th>0</th>\n",
              "      <td>go</td>\n",
              "      <td>8570</td>\n",
              "    </tr>\n",
              "    <tr>\n",
              "      <th>1</th>\n",
              "      <td>bed</td>\n",
              "      <td>1419</td>\n",
              "    </tr>\n",
              "    <tr>\n",
              "      <th>2</th>\n",
              "      <td>nowfeel</td>\n",
              "      <td>1</td>\n",
              "    </tr>\n",
              "    <tr>\n",
              "      <th>3</th>\n",
              "      <td>sad</td>\n",
              "      <td>1805</td>\n",
              "    </tr>\n",
              "    <tr>\n",
              "      <th>4</th>\n",
              "      <td>ugh</td>\n",
              "      <td>571</td>\n",
              "    </tr>\n",
              "    <tr>\n",
              "      <th>...</th>\n",
              "      <td>...</td>\n",
              "      <td>...</td>\n",
              "    </tr>\n",
              "    <tr>\n",
              "      <th>51037</th>\n",
              "      <td>quotaccount</td>\n",
              "      <td>1</td>\n",
              "    </tr>\n",
              "    <tr>\n",
              "      <th>51038</th>\n",
              "      <td>martina</td>\n",
              "      <td>1</td>\n",
              "    </tr>\n",
              "    <tr>\n",
              "      <th>51039</th>\n",
              "      <td>730am1030pm</td>\n",
              "      <td>1</td>\n",
              "    </tr>\n",
              "    <tr>\n",
              "      <th>51040</th>\n",
              "      <td>pz2you</td>\n",
              "      <td>1</td>\n",
              "    </tr>\n",
              "    <tr>\n",
              "      <th>51041</th>\n",
              "      <td>jobseek</td>\n",
              "      <td>1</td>\n",
              "    </tr>\n",
              "  </tbody>\n",
              "</table>\n",
              "<p>51042 rows × 2 columns</p>\n",
              "</div>"
            ],
            "text/plain": [
              "                 0     1\n",
              "0               go  8570\n",
              "1              bed  1419\n",
              "2          nowfeel     1\n",
              "3              sad  1805\n",
              "4              ugh   571\n",
              "...            ...   ...\n",
              "51037  quotaccount     1\n",
              "51038      martina     1\n",
              "51039  730am1030pm     1\n",
              "51040       pz2you     1\n",
              "51041      jobseek     1\n",
              "\n",
              "[51042 rows x 2 columns]"
            ]
          },
          "metadata": {
            "tags": []
          },
          "execution_count": 16
        }
      ]
    },
    {
      "cell_type": "code",
      "metadata": {
        "id": "VBgjXBQPv7Xk"
      },
      "source": [
        "hola=hola.sort_values(1,ascending=False).reset_index()[2:]\n"
      ],
      "execution_count": 17,
      "outputs": []
    },
    {
      "cell_type": "code",
      "metadata": {
        "id": "-ofhxkGfxx6X"
      },
      "source": [
        "tu=hola.head(500)"
      ],
      "execution_count": 18,
      "outputs": []
    },
    {
      "cell_type": "code",
      "metadata": {
        "colab": {
          "base_uri": "https://localhost:8080/",
          "height": 338
        },
        "id": "3mH3DBVGvISQ",
        "outputId": "c6152c73-96eb-45ac-8c62-a6d55f5d2427"
      },
      "source": [
        "tu.plot.bar(x=0,y=1)"
      ],
      "execution_count": 19,
      "outputs": [
        {
          "output_type": "execute_result",
          "data": {
            "text/plain": [
              "<matplotlib.axes._subplots.AxesSubplot at 0x7f882fa1ced0>"
            ]
          },
          "metadata": {
            "tags": []
          },
          "execution_count": 19
        },
        {
          "output_type": "display_data",
          "data": {
            "image/png": "[encoded data removed]",
            "text/plain": [
              "<Figure size 432x288 with 1 Axes>"
            ]
          },
          "metadata": {
            "tags": [],
            "needs_background": "light"
          }
        }
      ]
    },
    {
      "cell_type": "code",
      "metadata": {
        "id": "DgrbCkwzxhRl"
      },
      "source": [
        ""
      ],
      "execution_count": 19,
      "outputs": []
    },
    {
      "cell_type": "code",
      "metadata": {
        "colab": {
          "base_uri": "https://localhost:8080/",
          "height": 419
        },
        "id": "Frw1OOK5vj3V",
        "outputId": "3389a533-31ff-491c-86b7-625501b46a93"
      },
      "source": [
        "hola"
      ],
      "execution_count": 20,
      "outputs": [
        {
          "output_type": "execute_result",
          "data": {
            "text/html": [
              "<div>\n",
              "<style scoped>\n",
              "    .dataframe tbody tr th:only-of-type {\n",
              "        vertical-align: middle;\n",
              "    }\n",
              "\n",
              "    .dataframe tbody tr th {\n",
              "        vertical-align: top;\n",
              "    }\n",
              "\n",
              "    .dataframe thead th {\n",
              "        text-align: right;\n",
              "    }\n",
              "</style>\n",
              "<table border=\"1\" class=\"dataframe\">\n",
              "  <thead>\n",
              "    <tr style=\"text-align: right;\">\n",
              "      <th></th>\n",
              "      <th>index</th>\n",
              "      <th>0</th>\n",
              "      <th>1</th>\n",
              "    </tr>\n",
              "  </thead>\n",
              "  <tbody>\n",
              "    <tr>\n",
              "      <th>2</th>\n",
              "      <td>18</td>\n",
              "      <td>day</td>\n",
              "      <td>6318</td>\n",
              "    </tr>\n",
              "    <tr>\n",
              "      <th>3</th>\n",
              "      <td>105</td>\n",
              "      <td>good</td>\n",
              "      <td>5762</td>\n",
              "    </tr>\n",
              "    <tr>\n",
              "      <th>4</th>\n",
              "      <td>198</td>\n",
              "      <td>work</td>\n",
              "      <td>5451</td>\n",
              "    </tr>\n",
              "    <tr>\n",
              "      <th>5</th>\n",
              "      <td>334</td>\n",
              "      <td>like</td>\n",
              "      <td>5236</td>\n",
              "    </tr>\n",
              "    <tr>\n",
              "      <th>6</th>\n",
              "      <td>23</td>\n",
              "      <td>love</td>\n",
              "      <td>5211</td>\n",
              "    </tr>\n",
              "    <tr>\n",
              "      <th>...</th>\n",
              "      <td>...</td>\n",
              "      <td>...</td>\n",
              "      <td>...</td>\n",
              "    </tr>\n",
              "    <tr>\n",
              "      <th>51037</th>\n",
              "      <td>28269</td>\n",
              "      <td>po0l</td>\n",
              "      <td>1</td>\n",
              "    </tr>\n",
              "    <tr>\n",
              "      <th>51038</th>\n",
              "      <td>28268</td>\n",
              "      <td>twitfic</td>\n",
              "      <td>1</td>\n",
              "    </tr>\n",
              "    <tr>\n",
              "      <th>51039</th>\n",
              "      <td>8875</td>\n",
              "      <td>ziglar</td>\n",
              "      <td>1</td>\n",
              "    </tr>\n",
              "    <tr>\n",
              "      <th>51040</th>\n",
              "      <td>8878</td>\n",
              "      <td>aliciaa</td>\n",
              "      <td>1</td>\n",
              "    </tr>\n",
              "    <tr>\n",
              "      <th>51041</th>\n",
              "      <td>51041</td>\n",
              "      <td>jobseek</td>\n",
              "      <td>1</td>\n",
              "    </tr>\n",
              "  </tbody>\n",
              "</table>\n",
              "<p>51040 rows × 3 columns</p>\n",
              "</div>"
            ],
            "text/plain": [
              "       index        0     1\n",
              "2         18      day  6318\n",
              "3        105     good  5762\n",
              "4        198     work  5451\n",
              "5        334     like  5236\n",
              "6         23     love  5211\n",
              "...      ...      ...   ...\n",
              "51037  28269     po0l     1\n",
              "51038  28268  twitfic     1\n",
              "51039   8875   ziglar     1\n",
              "51040   8878  aliciaa     1\n",
              "51041  51041  jobseek     1\n",
              "\n",
              "[51040 rows x 3 columns]"
            ]
          },
          "metadata": {
            "tags": []
          },
          "execution_count": 20
        }
      ]
    },
    {
      "cell_type": "code",
      "metadata": {
        "colab": {
          "base_uri": "https://localhost:8080/"
        },
        "id": "OCuBGcu6bqyr",
        "outputId": "ea8c7980-e6f1-4e76-c967-db32fa6e64f4"
      },
      "source": [
        "sequences = tokenizer.texts_to_sequences(data_set_1.text)\n",
        "tweets = pad_sequences(sequences, maxlen=max_len,padding='post')\n",
        "print(tweets)"
      ],
      "execution_count": 21,
      "outputs": [
        {
          "output_type": "stream",
          "text": [
            "[[  1  73  52 ...   0   0   0]\n",
            " [223  19 129 ...   0   0   0]\n",
            " [231   3  38 ...   0   0   0]\n",
            " ...\n",
            " [ 85 309 685 ...   0   0   0]\n",
            " [203 180   0 ...   0   0   0]\n",
            " [859   7   0 ...   0   0   0]]\n"
          ],
          "name": "stdout"
        }
      ]
    },
    {
      "cell_type": "markdown",
      "metadata": {
        "id": "rx7ip1wgcNqB"
      },
      "source": [
        "SEPARAMOS TRAIN, TEST"
      ]
    },
    {
      "cell_type": "code",
      "metadata": {
        "id": "_8wFfHFicG2f"
      },
      "source": [
        "from sklearn.model_selection import train_test_split"
      ],
      "execution_count": 22,
      "outputs": []
    },
    {
      "cell_type": "code",
      "metadata": {
        "id": "iBAI_oXxcG56"
      },
      "source": [
        "X_train, X_test, y_train, y_test = train_test_split(tweets, data_set_1.target.values, test_size=0.3, random_state=23042021)"
      ],
      "execution_count": 23,
      "outputs": []
    },
    {
      "cell_type": "code",
      "metadata": {
        "colab": {
          "base_uri": "https://localhost:8080/"
        },
        "id": "RCN_Dw4PcG9D",
        "outputId": "7cd7e126-defe-4329-db2c-ee4b937ec196"
      },
      "source": [
        "print(\"X_train\", X_train.shape)\n",
        "print(\"y_train\", y_train.shape)\n",
        "print(\"X_test\", X_test.shape)\n",
        "print(\"y_test\", y_test.shape)"
      ],
      "execution_count": 24,
      "outputs": [
        {
          "output_type": "stream",
          "text": [
            "X_train (70000, 21)\n",
            "y_train (70000,)\n",
            "X_test (30000, 21)\n",
            "y_test (30000,)\n"
          ],
          "name": "stdout"
        }
      ]
    },
    {
      "cell_type": "code",
      "metadata": {
        "id": "QX_z80nacHAC"
      },
      "source": [
        "y_train = np.where(y_train==4,1,y_train)\n",
        "y_test = np.where(y_test==4,1,y_test)"
      ],
      "execution_count": 25,
      "outputs": []
    },
    {
      "cell_type": "code",
      "metadata": {
        "colab": {
          "base_uri": "https://localhost:8080/"
        },
        "id": "2_AgQKaDbqgD",
        "outputId": "df151de9-dbde-4409-8f07-861ecdd83bdf"
      },
      "source": [
        "y_train\n",
        "y_test"
      ],
      "execution_count": 25,
      "outputs": [
        {
          "output_type": "execute_result",
          "data": {
            "text/plain": [
              "array([0, 1, 1, ..., 0, 1, 0])"
            ]
          },
          "metadata": {
            "tags": []
          },
          "execution_count": 25
        }
      ]
    },
    {
      "cell_type": "markdown",
      "metadata": {
        "id": "5upbsh_Mc9vk"
      },
      "source": [
        "MODELADO"
      ]
    },
    {
      "cell_type": "code",
      "metadata": {
        "id": "4imFwCXTcYFL"
      },
      "source": [
        "import tensorflow as tf\n",
        "from tensorflow.keras.models import Sequential\n",
        "from tensorflow.keras.layers import Embedding, LSTM, Dense, Dropout\n",
        "from tensorflow.keras.regularizers import l1"
      ],
      "execution_count": 32,
      "outputs": []
    },
    {
      "cell_type": "code",
      "metadata": {
        "colab": {
          "base_uri": "https://localhost:8080/"
        },
        "id": "NScP8zlMcYAh",
        "outputId": "015ffc6e-4ee6-4470-be4c-391ca82b34b4"
      },
      "source": [
        "# Crea una red con layers Embedding, LSTM, Dense\n",
        "model = Sequential()\n",
        "model.add(Embedding(input_length=max_len, input_dim=max_words, output_dim=64, trainable=True))\n",
        "model.add(LSTM(units=64))\n",
        "model.add(Dropout(0.5))\n",
        "model.add(Dense(units=32, activation='relu'))\n",
        "model.add(Dropout(0.5))\n",
        "model.add(Dense(units=16, activation='relu'))\n",
        "model.add(Dropout(0.5))\n",
        "model.add(Dense(units=1, activation='sigmoid'))\n",
        "\n",
        "model.summary()"
      ],
      "execution_count": 39,
      "outputs": [
        {
          "output_type": "stream",
          "text": [
            "Model: \"sequential_2\"\n",
            "_________________________________________________________________\n",
            "Layer (type)                 Output Shape              Param #   \n",
            "=================================================================\n",
            "embedding_2 (Embedding)      (None, 21, 64)            64000     \n",
            "_________________________________________________________________\n",
            "lstm_2 (LSTM)                (None, 64)                33024     \n",
            "_________________________________________________________________\n",
            "dropout_6 (Dropout)          (None, 64)                0         \n",
            "_________________________________________________________________\n",
            "dense_6 (Dense)              (None, 32)                2080      \n",
            "_________________________________________________________________\n",
            "dropout_7 (Dropout)          (None, 32)                0         \n",
            "_________________________________________________________________\n",
            "dense_7 (Dense)              (None, 16)                528       \n",
            "_________________________________________________________________\n",
            "dropout_8 (Dropout)          (None, 16)                0         \n",
            "_________________________________________________________________\n",
            "dense_8 (Dense)              (None, 1)                 17        \n",
            "=================================================================\n",
            "Total params: 99,649\n",
            "Trainable params: 99,649\n",
            "Non-trainable params: 0\n",
            "_________________________________________________________________\n"
          ],
          "name": "stdout"
        }
      ]
    },
    {
      "cell_type": "code",
      "metadata": {
        "id": "-bW_Ie0ScX82"
      },
      "source": [
        "# Compile\n",
        "model.compile(loss=tf.keras.losses.BinaryCrossentropy(from_logits=False), optimizer='adam', \n",
        "              metrics=[tf.metrics.BinaryAccuracy(), 'accuracy'])"
      ],
      "execution_count": 40,
      "outputs": []
    },
    {
      "cell_type": "code",
      "metadata": {
        "colab": {
          "base_uri": "https://localhost:8080/"
        },
        "id": "55mXbcKncX5m",
        "outputId": "07f0d61e-d67f-44a5-da81-f79de453343d"
      },
      "source": [
        "#%%timeit\n",
        "\n",
        "# Train it\n",
        "history_1 = model.fit(X_train, y_train, epochs=20, batch_size=16, validation_split=0.2)"
      ],
      "execution_count": 41,
      "outputs": [
        {
          "output_type": "stream",
          "text": [
            "Epoch 1/20\n",
            "3500/3500 [==============================] - 46s 13ms/step - loss: 0.6526 - binary_accuracy: 0.5878 - accuracy: 0.5878 - val_loss: 0.5272 - val_binary_accuracy: 0.7313 - val_accuracy: 0.7313\n",
            "Epoch 2/20\n",
            "3500/3500 [==============================] - 44s 13ms/step - loss: 0.5421 - binary_accuracy: 0.7394 - accuracy: 0.7394 - val_loss: 0.5195 - val_binary_accuracy: 0.7394 - val_accuracy: 0.7394\n",
            "Epoch 3/20\n",
            "3500/3500 [==============================] - 44s 13ms/step - loss: 0.5279 - binary_accuracy: 0.7471 - accuracy: 0.7471 - val_loss: 0.5224 - val_binary_accuracy: 0.7412 - val_accuracy: 0.7412\n",
            "Epoch 4/20\n",
            "3500/3500 [==============================] - 44s 13ms/step - loss: 0.5172 - binary_accuracy: 0.7507 - accuracy: 0.7507 - val_loss: 0.5208 - val_binary_accuracy: 0.7414 - val_accuracy: 0.7414\n",
            "Epoch 5/20\n",
            "3500/3500 [==============================] - 44s 13ms/step - loss: 0.5115 - binary_accuracy: 0.7567 - accuracy: 0.7567 - val_loss: 0.5192 - val_binary_accuracy: 0.7354 - val_accuracy: 0.7354\n",
            "Epoch 6/20\n",
            "3500/3500 [==============================] - 44s 13ms/step - loss: 0.5014 - binary_accuracy: 0.7636 - accuracy: 0.7636 - val_loss: 0.5201 - val_binary_accuracy: 0.7390 - val_accuracy: 0.7390\n",
            "Epoch 7/20\n",
            "3500/3500 [==============================] - 44s 13ms/step - loss: 0.4911 - binary_accuracy: 0.7679 - accuracy: 0.7679 - val_loss: 0.5324 - val_binary_accuracy: 0.7308 - val_accuracy: 0.7308\n",
            "Epoch 8/20\n",
            "3500/3500 [==============================] - 44s 13ms/step - loss: 0.4921 - binary_accuracy: 0.7697 - accuracy: 0.7697 - val_loss: 0.5313 - val_binary_accuracy: 0.7326 - val_accuracy: 0.7326\n",
            "Epoch 9/20\n",
            "3500/3500 [==============================] - 44s 13ms/step - loss: 0.4873 - binary_accuracy: 0.7720 - accuracy: 0.7720 - val_loss: 0.5273 - val_binary_accuracy: 0.7362 - val_accuracy: 0.7362\n",
            "Epoch 10/20\n",
            "3500/3500 [==============================] - 44s 12ms/step - loss: 0.4766 - binary_accuracy: 0.7773 - accuracy: 0.7773 - val_loss: 0.5367 - val_binary_accuracy: 0.7347 - val_accuracy: 0.7347\n",
            "Epoch 11/20\n",
            "3500/3500 [==============================] - 44s 13ms/step - loss: 0.4667 - binary_accuracy: 0.7838 - accuracy: 0.7838 - val_loss: 0.5452 - val_binary_accuracy: 0.7310 - val_accuracy: 0.7310\n",
            "Epoch 12/20\n",
            "3500/3500 [==============================] - 44s 13ms/step - loss: 0.4576 - binary_accuracy: 0.7916 - accuracy: 0.7916 - val_loss: 0.6083 - val_binary_accuracy: 0.7289 - val_accuracy: 0.7289\n",
            "Epoch 13/20\n",
            "3500/3500 [==============================] - 44s 13ms/step - loss: 0.4483 - binary_accuracy: 0.7967 - accuracy: 0.7967 - val_loss: 0.5823 - val_binary_accuracy: 0.7255 - val_accuracy: 0.7255\n",
            "Epoch 14/20\n",
            "3500/3500 [==============================] - 44s 13ms/step - loss: 0.4377 - binary_accuracy: 0.7989 - accuracy: 0.7989 - val_loss: 0.5767 - val_binary_accuracy: 0.7254 - val_accuracy: 0.7254\n",
            "Epoch 15/20\n",
            "3500/3500 [==============================] - 44s 12ms/step - loss: 0.4257 - binary_accuracy: 0.8083 - accuracy: 0.8083 - val_loss: 0.5904 - val_binary_accuracy: 0.7223 - val_accuracy: 0.7223\n",
            "Epoch 16/20\n",
            "3500/3500 [==============================] - 44s 13ms/step - loss: 0.4199 - binary_accuracy: 0.8112 - accuracy: 0.8112 - val_loss: 0.6204 - val_binary_accuracy: 0.7236 - val_accuracy: 0.7236\n",
            "Epoch 17/20\n",
            "3500/3500 [==============================] - 44s 13ms/step - loss: 0.4074 - binary_accuracy: 0.8174 - accuracy: 0.8174 - val_loss: 0.6707 - val_binary_accuracy: 0.7153 - val_accuracy: 0.7153\n",
            "Epoch 18/20\n",
            "3500/3500 [==============================] - 44s 13ms/step - loss: 0.3975 - binary_accuracy: 0.8211 - accuracy: 0.8211 - val_loss: 0.7412 - val_binary_accuracy: 0.7186 - val_accuracy: 0.7186\n",
            "Epoch 19/20\n",
            "3500/3500 [==============================] - 44s 13ms/step - loss: 0.3853 - binary_accuracy: 0.8300 - accuracy: 0.8300 - val_loss: 0.7064 - val_binary_accuracy: 0.7157 - val_accuracy: 0.7157\n",
            "Epoch 20/20\n",
            "3500/3500 [==============================] - 44s 13ms/step - loss: 0.3710 - binary_accuracy: 0.8350 - accuracy: 0.8350 - val_loss: 0.7513 - val_binary_accuracy: 0.7171 - val_accuracy: 0.7171\n"
          ],
          "name": "stdout"
        }
      ]
    },
    {
      "cell_type": "code",
      "metadata": {
        "colab": {
          "base_uri": "https://localhost:8080/",
          "height": 295
        },
        "id": "2Wd9VTbUdY99",
        "outputId": "a9c4a26e-3413-4be1-8f1b-3bbdb93dc647"
      },
      "source": [
        "# Plot loss\n",
        "plt.figure(figsize=(20, 4))\n",
        "\n",
        "plt.subplot(1, 2, 1)\n",
        "plt.title('Loss')\n",
        "plt.plot(history_1.history['loss'], label='Training', linewidth=2)\n",
        "plt.plot(history_1.history['val_loss'], label='Validation', linewidth=2)\n",
        "plt.legend()\n",
        "plt.xlabel('Epoch')\n",
        "plt.ylabel('Loss')\n",
        "plt.grid(True)\n",
        "\n",
        "plt.subplot(1, 2, 2)\n",
        "plt.title('Accuracy')\n",
        "plt.plot(history_1.history['accuracy'], label='Training', linewidth=2)\n",
        "plt.plot(history_1.history['val_accuracy'], label='Validation', linewidth=2)\n",
        "plt.legend()\n",
        "plt.xlabel('Epoch')\n",
        "plt.ylabel('Accuracy')\n",
        "plt.grid(True)\n",
        "\n",
        "plt.show()"
      ],
      "execution_count": 42,
      "outputs": [
        {
          "output_type": "display_data",
          "data": {
            "image/png": "[encoded data removed]",
            "text/plain": [
              "<Figure size 1440x288 with 2 Axes>"
            ]
          },
          "metadata": {
            "tags": [],
            "needs_background": "light"
          }
        }
      ]
    },
    {
      "cell_type": "code",
      "metadata": {
        "id": "13rSV8ttn1Xa",
        "colab": {
          "base_uri": "https://localhost:8080/"
        },
        "outputId": "b794fbfc-d1da-4528-d6b8-128298d90804"
      },
      "source": [
        "# Evaluate on test set\n",
        "model.evaluate(x=X_test, y=y_test)"
      ],
      "execution_count": 43,
      "outputs": [
        {
          "output_type": "stream",
          "text": [
            "938/938 [==============================] - 6s 6ms/step - loss: 0.7713 - binary_accuracy: 0.7199 - accuracy: 0.7199\n"
          ],
          "name": "stdout"
        },
        {
          "output_type": "execute_result",
          "data": {
            "text/plain": [
              "[0.7712674736976624, 0.7199000120162964, 0.7199000120162964]"
            ]
          },
          "metadata": {
            "tags": []
          },
          "execution_count": 43
        }
      ]
    },
    {
      "cell_type": "code",
      "metadata": {
        "id": "nRhGgaCcew2R"
      },
      "source": [
        ""
      ],
      "execution_count": null,
      "outputs": []
    },
    {
      "cell_type": "markdown",
      "metadata": {
        "id": "q5yF-Q0_kBGl"
      },
      "source": [
        "modelo\n"
      ]
    },
    {
      "cell_type": "code",
      "metadata": {
        "colab": {
          "base_uri": "https://localhost:8080/"
        },
        "id": "qIBZ-QlGkCp_",
        "outputId": "49762060-8773-4dc5-d934-dacd94bd8a75"
      },
      "source": [
        "# Crea una red con layers Embedding, LSTM, Dense\n",
        "model = Sequential()\n",
        "model.add(Embedding(input_length=max_len, input_dim=max_words, output_dim=64, trainable=True))\n",
        "model.add(LSTM(units=64))\n",
        "model.add(Dropout(0.5))\n",
        "model.add(Dense(units=32, activation='relu'))\n",
        "model.add(Dropout(0.5))\n",
        "model.add(Dense(units=16, activation='relu'))\n",
        "model.add(Dropout(0.5))\n",
        "model.add(Dense(units=1, activation='sigmoid'))\n",
        "\n",
        "model.summary()"
      ],
      "execution_count": 42,
      "outputs": [
        {
          "output_type": "stream",
          "text": [
            "Model: \"sequential_3\"\n",
            "_________________________________________________________________\n",
            "Layer (type)                 Output Shape              Param #   \n",
            "=================================================================\n",
            "embedding_3 (Embedding)      (None, 21, 64)            64000     \n",
            "_________________________________________________________________\n",
            "lstm_3 (LSTM)                (None, 64)                33024     \n",
            "_________________________________________________________________\n",
            "dropout_6 (Dropout)          (None, 64)                0         \n",
            "_________________________________________________________________\n",
            "dense_6 (Dense)              (None, 32)                2080      \n",
            "_________________________________________________________________\n",
            "dropout_7 (Dropout)          (None, 32)                0         \n",
            "_________________________________________________________________\n",
            "dense_7 (Dense)              (None, 16)                528       \n",
            "_________________________________________________________________\n",
            "dropout_8 (Dropout)          (None, 16)                0         \n",
            "_________________________________________________________________\n",
            "dense_8 (Dense)              (None, 1)                 17        \n",
            "=================================================================\n",
            "Total params: 99,649\n",
            "Trainable params: 99,649\n",
            "Non-trainable params: 0\n",
            "_________________________________________________________________\n"
          ],
          "name": "stdout"
        }
      ]
    },
    {
      "cell_type": "code",
      "metadata": {
        "id": "kMHv25WWkJO9"
      },
      "source": [
        "# Compile\n",
        "model.compile(loss=tf.keras.losses.BinaryCrossentropy(from_logits=True), optimizer='adam', metrics=[tf.metrics.BinaryAccuracy(), 'accuracy'])"
      ],
      "execution_count": 43,
      "outputs": []
    },
    {
      "cell_type": "code",
      "metadata": {
        "colab": {
          "base_uri": "https://localhost:8080/"
        },
        "id": "rSJakrMMkJKs",
        "outputId": "cc93f7b5-1db1-4dfe-81c9-8cc5b129be14"
      },
      "source": [
        "history_1 = model.fit(X_train, y_train, epochs=20, batch_size=16, validation_split=0.2)"
      ],
      "execution_count": 44,
      "outputs": [
        {
          "output_type": "stream",
          "text": [
            "Epoch 1/20\n",
            "3500/3500 [==============================] - 45s 12ms/step - loss: 0.6164 - binary_accuracy: 0.6450 - accuracy: 0.6450 - val_loss: 0.5176 - val_binary_accuracy: 0.7418 - val_accuracy: 0.7418\n",
            "Epoch 2/20\n",
            "3500/3500 [==============================] - 43s 12ms/step - loss: 0.5330 - binary_accuracy: 0.7445 - accuracy: 0.7445 - val_loss: 0.5156 - val_binary_accuracy: 0.7434 - val_accuracy: 0.7434\n",
            "Epoch 3/20\n",
            "3500/3500 [==============================] - 43s 12ms/step - loss: 0.5188 - binary_accuracy: 0.7482 - accuracy: 0.7482 - val_loss: 0.5139 - val_binary_accuracy: 0.7454 - val_accuracy: 0.7454\n",
            "Epoch 4/20\n",
            "3500/3500 [==============================] - 43s 12ms/step - loss: 0.5104 - binary_accuracy: 0.7555 - accuracy: 0.7555 - val_loss: 0.5183 - val_binary_accuracy: 0.7426 - val_accuracy: 0.7426\n",
            "Epoch 5/20\n",
            "3500/3500 [==============================] - 44s 12ms/step - loss: 0.5062 - binary_accuracy: 0.7604 - accuracy: 0.7604 - val_loss: 0.5160 - val_binary_accuracy: 0.7430 - val_accuracy: 0.7430\n",
            "Epoch 6/20\n",
            "3500/3500 [==============================] - 44s 12ms/step - loss: 0.4941 - binary_accuracy: 0.7638 - accuracy: 0.7638 - val_loss: 0.5223 - val_binary_accuracy: 0.7414 - val_accuracy: 0.7414\n",
            "Epoch 7/20\n",
            "3500/3500 [==============================] - 44s 13ms/step - loss: 0.4873 - binary_accuracy: 0.7675 - accuracy: 0.7675 - val_loss: 0.5229 - val_binary_accuracy: 0.7441 - val_accuracy: 0.7441\n",
            "Epoch 8/20\n",
            "3500/3500 [==============================] - 43s 12ms/step - loss: 0.4797 - binary_accuracy: 0.7721 - accuracy: 0.7721 - val_loss: 0.5242 - val_binary_accuracy: 0.7406 - val_accuracy: 0.7406\n",
            "Epoch 9/20\n",
            "3500/3500 [==============================] - 43s 12ms/step - loss: 0.4738 - binary_accuracy: 0.7762 - accuracy: 0.7762 - val_loss: 0.5235 - val_binary_accuracy: 0.7377 - val_accuracy: 0.7377\n",
            "Epoch 10/20\n",
            "3500/3500 [==============================] - 44s 12ms/step - loss: 0.4656 - binary_accuracy: 0.7801 - accuracy: 0.7801 - val_loss: 0.5348 - val_binary_accuracy: 0.7375 - val_accuracy: 0.7375\n",
            "Epoch 11/20\n",
            "3500/3500 [==============================] - 44s 12ms/step - loss: 0.4568 - binary_accuracy: 0.7859 - accuracy: 0.7859 - val_loss: 0.5383 - val_binary_accuracy: 0.7351 - val_accuracy: 0.7351\n",
            "Epoch 12/20\n",
            "3500/3500 [==============================] - 43s 12ms/step - loss: 0.4505 - binary_accuracy: 0.7896 - accuracy: 0.7896 - val_loss: 0.5437 - val_binary_accuracy: 0.7339 - val_accuracy: 0.7339\n",
            "Epoch 13/20\n",
            "3500/3500 [==============================] - 43s 12ms/step - loss: 0.4412 - binary_accuracy: 0.7916 - accuracy: 0.7916 - val_loss: 0.5666 - val_binary_accuracy: 0.7308 - val_accuracy: 0.7308\n",
            "Epoch 14/20\n",
            "3500/3500 [==============================] - 44s 13ms/step - loss: 0.4315 - binary_accuracy: 0.7989 - accuracy: 0.7989 - val_loss: 0.5911 - val_binary_accuracy: 0.7254 - val_accuracy: 0.7254\n",
            "Epoch 15/20\n",
            "3500/3500 [==============================] - 44s 12ms/step - loss: 0.4196 - binary_accuracy: 0.8057 - accuracy: 0.8057 - val_loss: 0.6255 - val_binary_accuracy: 0.7241 - val_accuracy: 0.7241\n",
            "Epoch 16/20\n",
            "3500/3500 [==============================] - 44s 12ms/step - loss: 0.4126 - binary_accuracy: 0.8090 - accuracy: 0.8090 - val_loss: 0.6202 - val_binary_accuracy: 0.7246 - val_accuracy: 0.7246\n",
            "Epoch 17/20\n",
            "3500/3500 [==============================] - 44s 13ms/step - loss: 0.4046 - binary_accuracy: 0.8114 - accuracy: 0.8114 - val_loss: 0.6561 - val_binary_accuracy: 0.7231 - val_accuracy: 0.7231\n",
            "Epoch 18/20\n",
            "3500/3500 [==============================] - 44s 12ms/step - loss: 0.3922 - binary_accuracy: 0.8157 - accuracy: 0.8157 - val_loss: 0.6746 - val_binary_accuracy: 0.7171 - val_accuracy: 0.7171\n",
            "Epoch 19/20\n",
            "3500/3500 [==============================] - 45s 13ms/step - loss: 0.3796 - binary_accuracy: 0.8243 - accuracy: 0.8243 - val_loss: 0.6782 - val_binary_accuracy: 0.7163 - val_accuracy: 0.7163\n",
            "Epoch 20/20\n",
            "3500/3500 [==============================] - 44s 13ms/step - loss: 0.3740 - binary_accuracy: 0.8238 - accuracy: 0.8238 - val_loss: 0.6843 - val_binary_accuracy: 0.7194 - val_accuracy: 0.7194\n"
          ],
          "name": "stdout"
        }
      ]
    },
    {
      "cell_type": "code",
      "metadata": {
        "id": "MYtTflNWkJG5"
      },
      "source": [
        "model.compile(loss=tf.keras.losses.BinaryCrossentropy(from_logits=True), optimizer='adam', metrics=[tf.metrics.BinaryAccuracy(), 'accuracy'])"
      ],
      "execution_count": 45,
      "outputs": []
    },
    {
      "cell_type": "code",
      "metadata": {
        "colab": {
          "base_uri": "https://localhost:8080/",
          "height": 287
        },
        "id": "SOaBv7_vkI9-",
        "outputId": "07bb2cd1-6321-43ee-ff5a-f075b935b73e"
      },
      "source": [
        "# Plot loss\n",
        "plt.figure(figsize=(20, 4))\n",
        "\n",
        "plt.subplot(1, 2, 1)\n",
        "plt.title('Loss')\n",
        "plt.plot(history_1.history['loss'], label='Training', linewidth=2)\n",
        "plt.plot(history_1.history['val_loss'], label='Validation', linewidth=2)\n",
        "plt.legend()\n",
        "plt.xlabel('Epoch')\n",
        "plt.ylabel('Loss')\n",
        "plt.grid(True)\n",
        "\n",
        "plt.subplot(1, 2, 2)\n",
        "plt.title('Accuracy')\n",
        "plt.plot(history_1.history['accuracy'], label='Training', linewidth=2)\n",
        "plt.plot(history_1.history['val_accuracy'], label='Validation', linewidth=2)\n",
        "plt.legend()\n",
        "plt.xlabel('Epoch')\n",
        "plt.ylabel('Accuracy')\n",
        "plt.grid(True)\n",
        "\n",
        "plt.show()"
      ],
      "execution_count": 46,
      "outputs": [
        {
          "output_type": "display_data",
          "data": {
            "image/png": "[encoded data removed]",
            "text/plain": [
              "<Figure size 1440x288 with 2 Axes>"
            ]
          },
          "metadata": {
            "tags": [],
            "needs_background": "light"
          }
        }
      ]
    },
    {
      "cell_type": "code",
      "metadata": {
        "colab": {
          "base_uri": "https://localhost:8080/"
        },
        "id": "uwQ9wsqFkVHg",
        "outputId": "25d43cba-389c-4fad-ff61-c249669bf767"
      },
      "source": [
        "model.evaluate(x=X_test, y=y_test)"
      ],
      "execution_count": 47,
      "outputs": [
        {
          "output_type": "stream",
          "text": [
            "938/938 [==============================] - 5s 4ms/step - loss: 0.6918 - binary_accuracy: 0.7219 - accuracy: 0.7219\n"
          ],
          "name": "stdout"
        },
        {
          "output_type": "execute_result",
          "data": {
            "text/plain": [
              "[0.697664201259613, 0.7202000021934509, 0.7202000021934509]"
            ]
          },
          "metadata": {
            "tags": []
          },
          "execution_count": 47
        }
      ]
    },
    {
      "cell_type": "markdown",
      "metadata": {
        "id": "uwoZzBHjARc2"
      },
      "source": [
        ""
      ]
    },
    {
      "cell_type": "code",
      "metadata": {
        "id": "fpT6Hsqqk-dk"
      },
      "source": [
        ""
      ],
      "execution_count": null,
      "outputs": []
    }
  ]
}