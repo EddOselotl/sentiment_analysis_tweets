{
  "nbformat": 4,
  "nbformat_minor": 0,
  "metadata": {
    "kernelspec": {
      "name": "python3",
      "display_name": "Python 3"
    },
    "colab": {
      "name": "limpieza.ipynb",
      "provenance": [],
      "collapsed_sections": [],
      "include_colab_link": true
    },
    "language_info": {
      "name": "python"
    },
    "accelerator": "GPU"
  },
  "cells": [
    {
      "cell_type": "markdown",
      "metadata": {
        "id": "view-in-github",
        "colab_type": "text"
      },
      "source": [
        "<a href=\"https://colab.research.google.com/github/ElenaVillano/sentiment_analysis_tweets/blob/main/notebooks/modelado.ipynb\" target=\"_parent\"><img src=\"https://colab.research.google.com/assets/colab-badge.svg\" alt=\"Open In Colab\"/></a>"
      ]
    },
    {
      "cell_type": "code",
      "metadata": {
        "id": "_yFD1c76rFSK",
        "outputId": "92c17ed4-0c17-4307-c98d-c3ab0665da17",
        "colab": {
          "base_uri": "https://localhost:8080/"
        }
      },
      "source": [
        "!pip install \"git+https://github.com/ElenaVillano/sentiment_analysis_tweets.git#egg=nlptweet&subdirectory=src\" --quiet"
      ],
      "execution_count": 38,
      "outputs": [
        {
          "output_type": "stream",
          "text": [
            "  Building wheel for nlptweet (setup.py) ... \u001b[?25l\u001b[?25hdone\n"
          ],
          "name": "stdout"
        }
      ]
    },
    {
      "cell_type": "code",
      "metadata": {
        "id": "XQ7PTvWYmpu8"
      },
      "source": [
        "import pandas as pd\n",
        "import numpy as np\n",
        "# Nuestro paquete\n",
        "import nlp"
      ],
      "execution_count": 39,
      "outputs": []
    },
    {
      "cell_type": "code",
      "metadata": {
        "id": "UP5nN_Ns0WeJ"
      },
      "source": [
        "# Nombramiento de columnas\n",
        "col_names = ['target', # Polaridad del twet 0=negativo, 2=neutral, 4=positivo\n",
        "             'ids',    # ID tweet\n",
        "             'date',   # Fecha y hora del tweet\n",
        "             'flag',   # QUERY\n",
        "             'user',   # Usuario del tweet\n",
        "             'text']   # Texto del tweet"
      ],
      "execution_count": 41,
      "outputs": []
    },
    {
      "cell_type": "code",
      "metadata": {
        "id": "vATfsKjwrNtE",
        "outputId": "d34b4c1e-1ffc-4b2c-d21b-42c46a46268b",
        "colab": {
          "resources": {
            "http://localhost:8080/nbextensions/google.colab/files.js": {
              "data": "Ly8gQ29weXJpZ2h0IDIwMTcgR29vZ2xlIExMQwovLwovLyBMaWNlbnNlZCB1bmRlciB0aGUgQXBhY2hlIExpY2Vuc2UsIFZlcnNpb24gMi4wICh0aGUgIkxpY2Vuc2UiKTsKLy8geW91IG1heSBub3QgdXNlIHRoaXMgZmlsZSBleGNlcHQgaW4gY29tcGxpYW5jZSB3aXRoIHRoZSBMaWNlbnNlLgovLyBZb3UgbWF5IG9idGFpbiBhIGNvcHkgb2YgdGhlIExpY2Vuc2UgYXQKLy8KLy8gICAgICBodHRwOi8vd3d3LmFwYWNoZS5vcmcvbGljZW5zZXMvTElDRU5TRS0yLjAKLy8KLy8gVW5sZXNzIHJlcXVpcmVkIGJ5IGFwcGxpY2FibGUgbGF3IG9yIGFncmVlZCB0byBpbiB3cml0aW5nLCBzb2Z0d2FyZQovLyBkaXN0cmlidXRlZCB1bmRlciB0aGUgTGljZW5zZSBpcyBkaXN0cmlidXRlZCBvbiBhbiAiQVMgSVMiIEJBU0lTLAovLyBXSVRIT1VUIFdBUlJBTlRJRVMgT1IgQ09ORElUSU9OUyBPRiBBTlkgS0lORCwgZWl0aGVyIGV4cHJlc3Mgb3IgaW1wbGllZC4KLy8gU2VlIHRoZSBMaWNlbnNlIGZvciB0aGUgc3BlY2lmaWMgbGFuZ3VhZ2UgZ292ZXJuaW5nIHBlcm1pc3Npb25zIGFuZAovLyBsaW1pdGF0aW9ucyB1bmRlciB0aGUgTGljZW5zZS4KCi8qKgogKiBAZmlsZW92ZXJ2aWV3IEhlbHBlcnMgZm9yIGdvb2dsZS5jb2xhYiBQeXRob24gbW9kdWxlLgogKi8KKGZ1bmN0aW9uKHNjb3BlKSB7CmZ1bmN0aW9uIHNwYW4odGV4dCwgc3R5bGVBdHRyaWJ1dGVzID0ge30pIHsKICBjb25zdCBlbGVtZW50ID0gZG9jdW1lbnQuY3JlYXRlRWxlbWVudCgnc3BhbicpOwogIGVsZW1lbnQudGV4dENvbnRlbnQgPSB0ZXh0OwogIGZvciAoY29uc3Qga2V5IG9mIE9iamVjdC5rZXlzKHN0eWxlQXR0cmlidXRlcykpIHsKICAgIGVsZW1lbnQuc3R5bGVba2V5XSA9IHN0eWxlQXR0cmlidXRlc1trZXldOwogIH0KICByZXR1cm4gZWxlbWVudDsKfQoKLy8gTWF4IG51bWJlciBvZiBieXRlcyB3aGljaCB3aWxsIGJlIHVwbG9hZGVkIGF0IGEgdGltZS4KY29uc3QgTUFYX1BBWUxPQURfU0laRSA9IDEwMCAqIDEwMjQ7CgpmdW5jdGlvbiBfdXBsb2FkRmlsZXMoaW5wdXRJZCwgb3V0cHV0SWQpIHsKICBjb25zdCBzdGVwcyA9IHVwbG9hZEZpbGVzU3RlcChpbnB1dElkLCBvdXRwdXRJZCk7CiAgY29uc3Qgb3V0cHV0RWxlbWVudCA9IGRvY3VtZW50LmdldEVsZW1lbnRCeUlkKG91dHB1dElkKTsKICAvLyBDYWNoZSBzdGVwcyBvbiB0aGUgb3V0cHV0RWxlbWVudCB0byBtYWtlIGl0IGF2YWlsYWJsZSBmb3IgdGhlIG5leHQgY2FsbAogIC8vIHRvIHVwbG9hZEZpbGVzQ29udGludWUgZnJvbSBQeXRob24uCiAgb3V0cHV0RWxlbWVudC5zdGVwcyA9IHN0ZXBzOwoKICByZXR1cm4gX3VwbG9hZEZpbGVzQ29udGludWUob3V0cHV0SWQpOwp9CgovLyBUaGlzIGlzIHJvdWdobHkgYW4gYXN5bmMgZ2VuZXJhdG9yIChub3Qgc3VwcG9ydGVkIGluIHRoZSBicm93c2VyIHlldCksCi8vIHdoZXJlIHRoZXJlIGFyZSBtdWx0aXBsZSBhc3luY2hyb25vdXMgc3RlcHMgYW5kIHRoZSBQeXRob24gc2lkZSBpcyBnb2luZwovLyB0byBwb2xsIGZvciBjb21wbGV0aW9uIG9mIGVhY2ggc3RlcC4KLy8gVGhpcyB1c2VzIGEgUHJvbWlzZSB0byBibG9jayB0aGUgcHl0aG9uIHNpZGUgb24gY29tcGxldGlvbiBvZiBlYWNoIHN0ZXAsCi8vIHRoZW4gcGFzc2VzIHRoZSByZXN1bHQgb2YgdGhlIHByZXZpb3VzIHN0ZXAgYXMgdGhlIGlucHV0IHRvIHRoZSBuZXh0IHN0ZXAuCmZ1bmN0aW9uIF91cGxvYWRGaWxlc0NvbnRpbnVlKG91dHB1dElkKSB7CiAgY29uc3Qgb3V0cHV0RWxlbWVudCA9IGRvY3VtZW50LmdldEVsZW1lbnRCeUlkKG91dHB1dElkKTsKICBjb25zdCBzdGVwcyA9IG91dHB1dEVsZW1lbnQuc3RlcHM7CgogIGNvbnN0IG5leHQgPSBzdGVwcy5uZXh0KG91dHB1dEVsZW1lbnQubGFzdFByb21pc2VWYWx1ZSk7CiAgcmV0dXJuIFByb21pc2UucmVzb2x2ZShuZXh0LnZhbHVlLnByb21pc2UpLnRoZW4oKHZhbHVlKSA9PiB7CiAgICAvLyBDYWNoZSB0aGUgbGFzdCBwcm9taXNlIHZhbHVlIHRvIG1ha2UgaXQgYXZhaWxhYmxlIHRvIHRoZSBuZXh0CiAgICAvLyBzdGVwIG9mIHRoZSBnZW5lcmF0b3IuCiAgICBvdXRwdXRFbGVtZW50Lmxhc3RQcm9taXNlVmFsdWUgPSB2YWx1ZTsKICAgIHJldHVybiBuZXh0LnZhbHVlLnJlc3BvbnNlOwogIH0pOwp9CgovKioKICogR2VuZXJhdG9yIGZ1bmN0aW9uIHdoaWNoIGlzIGNhbGxlZCBiZXR3ZWVuIGVhY2ggYXN5bmMgc3RlcCBvZiB0aGUgdXBsb2FkCiAqIHByb2Nlc3MuCiAqIEBwYXJhbSB7c3RyaW5nfSBpbnB1dElkIEVsZW1lbnQgSUQgb2YgdGhlIGlucHV0IGZpbGUgcGlja2VyIGVsZW1lbnQuCiAqIEBwYXJhbSB7c3RyaW5nfSBvdXRwdXRJZCBFbGVtZW50IElEIG9mIHRoZSBvdXRwdXQgZGlzcGxheS4KICogQHJldHVybiB7IUl0ZXJhYmxlPCFPYmplY3Q+fSBJdGVyYWJsZSBvZiBuZXh0IHN0ZXBzLgogKi8KZnVuY3Rpb24qIHVwbG9hZEZpbGVzU3RlcChpbnB1dElkLCBvdXRwdXRJZCkgewogIGNvbnN0IGlucHV0RWxlbWVudCA9IGRvY3VtZW50LmdldEVsZW1lbnRCeUlkKGlucHV0SWQpOwogIGlucHV0RWxlbWVudC5kaXNhYmxlZCA9IGZhbHNlOwoKICBjb25zdCBvdXRwdXRFbGVtZW50ID0gZG9jdW1lbnQuZ2V0RWxlbWVudEJ5SWQob3V0cHV0SWQpOwogIG91dHB1dEVsZW1lbnQuaW5uZXJIVE1MID0gJyc7CgogIGNvbnN0IHBpY2tlZFByb21pc2UgPSBuZXcgUHJvbWlzZSgocmVzb2x2ZSkgPT4gewogICAgaW5wdXRFbGVtZW50LmFkZEV2ZW50TGlzdGVuZXIoJ2NoYW5nZScsIChlKSA9PiB7CiAgICAgIHJlc29sdmUoZS50YXJnZXQuZmlsZXMpOwogICAgfSk7CiAgfSk7CgogIGNvbnN0IGNhbmNlbCA9IGRvY3VtZW50LmNyZWF0ZUVsZW1lbnQoJ2J1dHRvbicpOwogIGlucHV0RWxlbWVudC5wYXJlbnRFbGVtZW50LmFwcGVuZENoaWxkKGNhbmNlbCk7CiAgY2FuY2VsLnRleHRDb250ZW50ID0gJ0NhbmNlbCB1cGxvYWQnOwogIGNvbnN0IGNhbmNlbFByb21pc2UgPSBuZXcgUHJvbWlzZSgocmVzb2x2ZSkgPT4gewogICAgY2FuY2VsLm9uY2xpY2sgPSAoKSA9PiB7CiAgICAgIHJlc29sdmUobnVsbCk7CiAgICB9OwogIH0pOwoKICAvLyBXYWl0IGZvciB0aGUgdXNlciB0byBwaWNrIHRoZSBmaWxlcy4KICBjb25zdCBmaWxlcyA9IHlpZWxkIHsKICAgIHByb21pc2U6IFByb21pc2UucmFjZShbcGlja2VkUHJvbWlzZSwgY2FuY2VsUHJvbWlzZV0pLAogICAgcmVzcG9uc2U6IHsKICAgICAgYWN0aW9uOiAnc3RhcnRpbmcnLAogICAgfQogIH07CgogIGNhbmNlbC5yZW1vdmUoKTsKCiAgLy8gRGlzYWJsZSB0aGUgaW5wdXQgZWxlbWVudCBzaW5jZSBmdXJ0aGVyIHBpY2tzIGFyZSBub3QgYWxsb3dlZC4KICBpbnB1dEVsZW1lbnQuZGlzYWJsZWQgPSB0cnVlOwoKICBpZiAoIWZpbGVzKSB7CiAgICByZXR1cm4gewogICAgICByZXNwb25zZTogewogICAgICAgIGFjdGlvbjogJ2NvbXBsZXRlJywKICAgICAgfQogICAgfTsKICB9CgogIGZvciAoY29uc3QgZmlsZSBvZiBmaWxlcykgewogICAgY29uc3QgbGkgPSBkb2N1bWVudC5jcmVhdGVFbGVtZW50KCdsaScpOwogICAgbGkuYXBwZW5kKHNwYW4oZmlsZS5uYW1lLCB7Zm9udFdlaWdodDogJ2JvbGQnfSkpOwogICAgbGkuYXBwZW5kKHNwYW4oCiAgICAgICAgYCgke2ZpbGUudHlwZSB8fCAnbi9hJ30pIC0gJHtmaWxlLnNpemV9IGJ5dGVzLCBgICsKICAgICAgICBgbGFzdCBtb2RpZmllZDogJHsKICAgICAgICAgICAgZmlsZS5sYXN0TW9kaWZpZWREYXRlID8gZmlsZS5sYXN0TW9kaWZpZWREYXRlLnRvTG9jYWxlRGF0ZVN0cmluZygpIDoKICAgICAgICAgICAgICAgICAgICAgICAgICAgICAgICAgICAgJ24vYSd9IC0gYCkpOwogICAgY29uc3QgcGVyY2VudCA9IHNwYW4oJzAlIGRvbmUnKTsKICAgIGxpLmFwcGVuZENoaWxkKHBlcmNlbnQpOwoKICAgIG91dHB1dEVsZW1lbnQuYXBwZW5kQ2hpbGQobGkpOwoKICAgIGNvbnN0IGZpbGVEYXRhUHJvbWlzZSA9IG5ldyBQcm9taXNlKChyZXNvbHZlKSA9PiB7CiAgICAgIGNvbnN0IHJlYWRlciA9IG5ldyBGaWxlUmVhZGVyKCk7CiAgICAgIHJlYWRlci5vbmxvYWQgPSAoZSkgPT4gewogICAgICAgIHJlc29sdmUoZS50YXJnZXQucmVzdWx0KTsKICAgICAgfTsKICAgICAgcmVhZGVyLnJlYWRBc0FycmF5QnVmZmVyKGZpbGUpOwogICAgfSk7CiAgICAvLyBXYWl0IGZvciB0aGUgZGF0YSB0byBiZSByZWFkeS4KICAgIGxldCBmaWxlRGF0YSA9IHlpZWxkIHsKICAgICAgcHJvbWlzZTogZmlsZURhdGFQcm9taXNlLAogICAgICByZXNwb25zZTogewogICAgICAgIGFjdGlvbjogJ2NvbnRpbnVlJywKICAgICAgfQogICAgfTsKCiAgICAvLyBVc2UgYSBjaHVua2VkIHNlbmRpbmcgdG8gYXZvaWQgbWVzc2FnZSBzaXplIGxpbWl0cy4gU2VlIGIvNjIxMTU2NjAuCiAgICBsZXQgcG9zaXRpb24gPSAwOwogICAgd2hpbGUgKHBvc2l0aW9uIDwgZmlsZURhdGEuYnl0ZUxlbmd0aCkgewogICAgICBjb25zdCBsZW5ndGggPSBNYXRoLm1pbihmaWxlRGF0YS5ieXRlTGVuZ3RoIC0gcG9zaXRpb24sIE1BWF9QQVlMT0FEX1NJWkUpOwogICAgICBjb25zdCBjaHVuayA9IG5ldyBVaW50OEFycmF5KGZpbGVEYXRhLCBwb3NpdGlvbiwgbGVuZ3RoKTsKICAgICAgcG9zaXRpb24gKz0gbGVuZ3RoOwoKICAgICAgY29uc3QgYmFzZTY0ID0gYnRvYShTdHJpbmcuZnJvbUNoYXJDb2RlLmFwcGx5KG51bGwsIGNodW5rKSk7CiAgICAgIHlpZWxkIHsKICAgICAgICByZXNwb25zZTogewogICAgICAgICAgYWN0aW9uOiAnYXBwZW5kJywKICAgICAgICAgIGZpbGU6IGZpbGUubmFtZSwKICAgICAgICAgIGRhdGE6IGJhc2U2NCwKICAgICAgICB9LAogICAgICB9OwogICAgICBwZXJjZW50LnRleHRDb250ZW50ID0KICAgICAgICAgIGAke01hdGgucm91bmQoKHBvc2l0aW9uIC8gZmlsZURhdGEuYnl0ZUxlbmd0aCkgKiAxMDApfSUgZG9uZWA7CiAgICB9CiAgfQoKICAvLyBBbGwgZG9uZS4KICB5aWVsZCB7CiAgICByZXNwb25zZTogewogICAgICBhY3Rpb246ICdjb21wbGV0ZScsCiAgICB9CiAgfTsKfQoKc2NvcGUuZ29vZ2xlID0gc2NvcGUuZ29vZ2xlIHx8IHt9OwpzY29wZS5nb29nbGUuY29sYWIgPSBzY29wZS5nb29nbGUuY29sYWIgfHwge307CnNjb3BlLmdvb2dsZS5jb2xhYi5fZmlsZXMgPSB7CiAgX3VwbG9hZEZpbGVzLAogIF91cGxvYWRGaWxlc0NvbnRpbnVlLAp9Owp9KShzZWxmKTsK",
              "ok": true,
              "headers": [
                [
                  "content-type",
                  "application/javascript"
                ]
              ],
              "status": 200,
              "status_text": ""
            }
          },
          "base_uri": "https://localhost:8080/",
          "height": 73
        }
      },
      "source": [
        "# Requiered to select a file to be imported into colab\n",
        "# Not useful if running locally\n",
        "from google.colab import files\n",
        "uploaded = files.upload()"
      ],
      "execution_count": 40,
      "outputs": [
        {
          "output_type": "display_data",
          "data": {
            "text/html": [
              "\n",
              "     <input type=\"file\" id=\"files-16e6dbb7-d134-4f79-90d1-54a65a967110\" name=\"files[]\" multiple disabled\n",
              "        style=\"border:none\" />\n",
              "     <output id=\"result-16e6dbb7-d134-4f79-90d1-54a65a967110\">\n",
              "      Upload widget is only available when the cell has been executed in the\n",
              "      current browser session. Please rerun this cell to enable.\n",
              "      </output>\n",
              "      <script src=\"/nbextensions/google.colab/files.js\"></script> "
            ],
            "text/plain": [
              "<IPython.core.display.HTML object>"
            ]
          },
          "metadata": {
            "tags": []
          }
        },
        {
          "output_type": "stream",
          "text": [
            "Saving training.1600000.processed.noemoticon.csv to training.1600000.processed.noemoticon.csv\n"
          ],
          "name": "stdout"
        }
      ]
    },
    {
      "cell_type": "code",
      "metadata": {
        "id": "mfLC_LR-rTaf"
      },
      "source": [
        "data_raw =  pd.read_csv('training.1600000.processed.noemoticon.csv',\n",
        "                 encoding='latin-1', names=col_names)"
      ],
      "execution_count": 46,
      "outputs": []
    },
    {
      "cell_type": "code",
      "metadata": {
        "id": "NWfPDE2YrUjH",
        "outputId": "a8d47108-99e3-44ed-ff63-f3318717d034",
        "colab": {
          "base_uri": "https://localhost:8080/"
        }
      },
      "source": [
        "from nlp.preprocessing import convierte_a_minusculas, quitar_caracteres_html, reemplazar_urls, reemplazar_usuarios,\\\n",
        "quitar_hashtag, quitar_RT, quitar_caracteres_especiales, quitar_letras_repetidas, quitar_nonascii, \\\n",
        "separar_abreviaciones, remove_stopwords, oracion_raiz, modificar_etiqueta"
      ],
      "execution_count": 43,
      "outputs": [
        {
          "output_type": "stream",
          "text": [
            "[nltk_data] Downloading package punkt to /root/nltk_data...\n",
            "[nltk_data]   Unzipping tokenizers/punkt.zip.\n",
            "[nltk_data] Downloading package stopwords to /root/nltk_data...\n",
            "[nltk_data]   Unzipping corpora/stopwords.zip.\n"
          ],
          "name": "stdout"
        }
      ]
    },
    {
      "cell_type": "code",
      "metadata": {
        "id": "gT-C7TLYraow"
      },
      "source": [
        "data = convierte_a_minusculas(data_raw)\n",
        "data['text'] = data['text'].map(lambda s: quitar_caracteres_html(s))\n",
        "data['text'] = data['text'].map(lambda s: reemplazar_urls(s))\n",
        "data['text'] = data['text'].map(lambda s: reemplazar_usuarios(s))\n",
        "data['text'] = data['text'].map(lambda s: quitar_hashtag(s))\n",
        "data['text'] = data['text'].map(lambda s: quitar_RT(s))\n",
        "data['text'] = data['text'].map(lambda s: quitar_caracteres_especiales(s))\n",
        "data['text'] = data['text'].map(lambda s: quitar_letras_repetidas(s))\n",
        "data['text'] = data['text'].map(lambda s: quitar_nonascii(s))\n",
        "data['text'] = data['text'].map(lambda s: separar_abreviaciones(s))\n",
        "data['text'] = data['text'].map(lambda s: remove_stopwords(s))\n",
        "data['text'] = data['text'].map(lambda s: oracion_raiz(s))\n",
        "data = modificar_etiqueta(data)"
      ],
      "execution_count": 44,
      "outputs": []
    },
    {
      "cell_type": "code",
      "metadata": {
        "id": "AWuxDIvdvFw-"
      },
      "source": [
        "data['text_raw'] = data_raw['text']"
      ],
      "execution_count": 48,
      "outputs": []
    },
    {
      "cell_type": "code",
      "metadata": {
        "id": "xgJkXOTJr501"
      },
      "source": [
        "data.to_csv(\"1600000_datos_limpios_sin_user_ni_url_sep.csv\", sep=\"|\", index=False, encoding=\"utf-8\")\n"
      ],
      "execution_count": 90,
      "outputs": []
    },
    {
      "cell_type": "markdown",
      "metadata": {
        "id": "EbcoouZtnEUf"
      },
      "source": [
        "# Carga de datos limpios"
      ]
    },
    {
      "cell_type": "code",
      "metadata": {
        "colab": {
          "resources": {
            "http://localhost:8080/nbextensions/google.colab/files.js": {
              "data": "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",
              "ok": true,
              "headers": [
                [
                  "content-type",
                  "application/javascript"
                ]
              ],
              "status": 200,
              "status_text": ""
            }
          },
          "base_uri": "https://localhost:8080/",
          "height": 73
        },
        "id": "j6uJdbk2nKCX",
        "outputId": "f852beb1-bdc3-450c-9347-e00d3b7ea211"
      },
      "source": [
        "# Requiered to select a file to be imported into colab\n",
        "# Not useful if running locally\n",
        "from google.colab import files\n",
        "uploaded = files.upload()"
      ],
      "execution_count": 2,
      "outputs": [
        {
          "output_type": "display_data",
          "data": {
            "text/html": [
              "\n",
              "     <input type=\"file\" id=\"files-f4383f7e-98ef-463d-aa3b-4d5b2833049b\" name=\"files[]\" multiple disabled\n",
              "        style=\"border:none\" />\n",
              "     <output id=\"result-f4383f7e-98ef-463d-aa3b-4d5b2833049b\">\n",
              "      Upload widget is only available when the cell has been executed in the\n",
              "      current browser session. Please rerun this cell to enable.\n",
              "      </output>\n",
              "      <script src=\"/nbextensions/google.colab/files.js\"></script> "
            ],
            "text/plain": [
              "<IPython.core.display.HTML object>"
            ]
          },
          "metadata": {
            "tags": []
          }
        },
        {
          "output_type": "stream",
          "text": [
            "Saving 1600000_datos_limpios_sin_user_ni_url.csv to 1600000_datos_limpios_sin_user_ni_url (1).csv\n"
          ],
          "name": "stdout"
        }
      ]
    },
    {
      "cell_type": "code",
      "metadata": {
        "id": "Z5P449bk0WeL"
      },
      "source": [
        "data = pd.read_csv('1600000_datos_limpios_sin_user_ni_url.csv',\n",
        "                 encoding='utf-8', engine='python', error_bad_lines=False)"
      ],
      "execution_count": 91,
      "outputs": []
    },
    {
      "cell_type": "code",
      "metadata": {
        "id": "zs77X44P0WeM",
        "colab": {
          "base_uri": "https://localhost:8080/"
        },
        "outputId": "b0a71f30-a133-4965-d463-41ff91c65f1e"
      },
      "source": [
        "print(data.shape)"
      ],
      "execution_count": 92,
      "outputs": [
        {
          "output_type": "stream",
          "text": [
            "(1600000, 8)\n"
          ],
          "name": "stdout"
        }
      ]
    },
    {
      "cell_type": "code",
      "metadata": {
        "id": "UGANa9pX0WeO",
        "colab": {
          "base_uri": "https://localhost:8080/",
          "height": 197
        },
        "outputId": "c6a8f229-d430-4b07-b041-a6246a25ae68"
      },
      "source": [
        "data.head()"
      ],
      "execution_count": 93,
      "outputs": [
        {
          "output_type": "execute_result",
          "data": {
            "text/html": [
              "<div>\n",
              "<style scoped>\n",
              "    .dataframe tbody tr th:only-of-type {\n",
              "        vertical-align: middle;\n",
              "    }\n",
              "\n",
              "    .dataframe tbody tr th {\n",
              "        vertical-align: top;\n",
              "    }\n",
              "\n",
              "    .dataframe thead th {\n",
              "        text-align: right;\n",
              "    }\n",
              "</style>\n",
              "<table border=\"1\" class=\"dataframe\">\n",
              "  <thead>\n",
              "    <tr style=\"text-align: right;\">\n",
              "      <th></th>\n",
              "      <th>Unnamed: 0</th>\n",
              "      <th>target</th>\n",
              "      <th>ids</th>\n",
              "      <th>date</th>\n",
              "      <th>flag</th>\n",
              "      <th>user</th>\n",
              "      <th>text</th>\n",
              "      <th>raw_text</th>\n",
              "    </tr>\n",
              "  </thead>\n",
              "  <tbody>\n",
              "    <tr>\n",
              "      <th>0</th>\n",
              "      <td>0</td>\n",
              "      <td>0</td>\n",
              "      <td>1467810369</td>\n",
              "      <td>mon apr 06 22:19:45 pdt 2009</td>\n",
              "      <td>no_query</td>\n",
              "      <td>_thespecialone_</td>\n",
              "      <td>aww bummer shoulda got david carr third day</td>\n",
              "      <td>@switchfoot http://twitpic.com/2y1zl - awww, t...</td>\n",
              "    </tr>\n",
              "    <tr>\n",
              "      <th>1</th>\n",
              "      <td>1</td>\n",
              "      <td>0</td>\n",
              "      <td>1467810672</td>\n",
              "      <td>mon apr 06 22:19:49 pdt 2009</td>\n",
              "      <td>no_query</td>\n",
              "      <td>scotthamilton</td>\n",
              "      <td>upset updat facebook text might cri result sch...</td>\n",
              "      <td>is upset that he can't update his facebook by ...</td>\n",
              "    </tr>\n",
              "    <tr>\n",
              "      <th>2</th>\n",
              "      <td>2</td>\n",
              "      <td>0</td>\n",
              "      <td>1467810917</td>\n",
              "      <td>mon apr 06 22:19:53 pdt 2009</td>\n",
              "      <td>no_query</td>\n",
              "      <td>mattycus</td>\n",
              "      <td>dive mani time ball manag save 50 % rest go bo...</td>\n",
              "      <td>@kenichan i dived many times for the ball. man...</td>\n",
              "    </tr>\n",
              "    <tr>\n",
              "      <th>3</th>\n",
              "      <td>3</td>\n",
              "      <td>0</td>\n",
              "      <td>1467811184</td>\n",
              "      <td>mon apr 06 22:19:57 pdt 2009</td>\n",
              "      <td>no_query</td>\n",
              "      <td>ellectf</td>\n",
              "      <td>whole bodi feel itchi like fire</td>\n",
              "      <td>my whole body feels itchy and like its on fire</td>\n",
              "    </tr>\n",
              "    <tr>\n",
              "      <th>4</th>\n",
              "      <td>4</td>\n",
              "      <td>0</td>\n",
              "      <td>1467811193</td>\n",
              "      <td>mon apr 06 22:19:57 pdt 2009</td>\n",
              "      <td>no_query</td>\n",
              "      <td>karoli</td>\n",
              "      <td>behav mad see</td>\n",
              "      <td>@nationwideclass no, it's not behaving at all....</td>\n",
              "    </tr>\n",
              "  </tbody>\n",
              "</table>\n",
              "</div>"
            ],
            "text/plain": [
              "   Unnamed: 0  ...                                           raw_text\n",
              "0           0  ...  @switchfoot http://twitpic.com/2y1zl - awww, t...\n",
              "1           1  ...  is upset that he can't update his facebook by ...\n",
              "2           2  ...  @kenichan i dived many times for the ball. man...\n",
              "3           3  ...    my whole body feels itchy and like its on fire \n",
              "4           4  ...  @nationwideclass no, it's not behaving at all....\n",
              "\n",
              "[5 rows x 8 columns]"
            ]
          },
          "metadata": {
            "tags": []
          },
          "execution_count": 93
        }
      ]
    },
    {
      "cell_type": "code",
      "metadata": {
        "id": "FaK8swmT0WeW",
        "colab": {
          "base_uri": "https://localhost:8080/"
        },
        "outputId": "283e5fdd-161b-4ba6-b7a4-d8d7420f750b"
      },
      "source": [
        "# Revisamos si tenemos valores nulos.\n",
        "print(\"Revisamos si hay valores nulos en el set de entrenamiento\\n\", data.isna().sum())"
      ],
      "execution_count": 94,
      "outputs": [
        {
          "output_type": "stream",
          "text": [
            "Revisamos si hay valores nulos en el set de entrenamiento\n",
            " Unnamed: 0       0\n",
            "target           0\n",
            "ids              0\n",
            "date             0\n",
            "flag             0\n",
            "user             0\n",
            "text          8494\n",
            "raw_text         0\n",
            "dtype: int64\n"
          ],
          "name": "stdout"
        }
      ]
    },
    {
      "cell_type": "code",
      "metadata": {
        "id": "yG9D6VoHn62e"
      },
      "source": [
        "data = data[data.text.notna()]"
      ],
      "execution_count": 95,
      "outputs": []
    },
    {
      "cell_type": "code",
      "metadata": {
        "id": "O6H2WmhaoWPy",
        "outputId": "ffdb67e4-a07e-4305-fbbd-372a7a772474",
        "colab": {
          "base_uri": "https://localhost:8080/"
        }
      },
      "source": [
        "# Revisamos si tenemos valores nulos.\n",
        "print(\"Revisamos si hay valores nulos en el set de entrenamiento\\n\", data.isna().sum())"
      ],
      "execution_count": 96,
      "outputs": [
        {
          "output_type": "stream",
          "text": [
            "Revisamos si hay valores nulos en el set de entrenamiento\n",
            " Unnamed: 0    0\n",
            "target        0\n",
            "ids           0\n",
            "date          0\n",
            "flag          0\n",
            "user          0\n",
            "text          0\n",
            "raw_text      0\n",
            "dtype: int64\n"
          ],
          "name": "stdout"
        }
      ]
    },
    {
      "cell_type": "code",
      "metadata": {
        "id": "jhgxkiA54MBY",
        "outputId": "e00deb9c-94fa-4944-ac51-f1cf4702acfc",
        "colab": {
          "base_uri": "https://localhost:8080/"
        }
      },
      "source": [
        "len(data)"
      ],
      "execution_count": 99,
      "outputs": [
        {
          "output_type": "execute_result",
          "data": {
            "text/plain": [
              "1591506"
            ]
          },
          "metadata": {
            "tags": []
          },
          "execution_count": 99
        }
      ]
    },
    {
      "cell_type": "markdown",
      "metadata": {
        "id": "zAb9nOzyhDVg"
      },
      "source": [
        "## Buscamos 20,000 datos para entrenar y 2 mil para probar que sean cercano a la misma longitud\n"
      ]
    },
    {
      "cell_type": "markdown",
      "metadata": {
        "id": "c4y2BvvWjDXE"
      },
      "source": [
        "## Entrenamos un Tokenizer"
      ]
    },
    {
      "cell_type": "code",
      "metadata": {
        "id": "bszKi0qwdy_m"
      },
      "source": [
        "from tensorflow.keras.preprocessing.text import Tokenizer\n",
        "from tensorflow.keras.preprocessing.sequence import pad_sequences\n",
        "from tensorflow.keras import regularizers"
      ],
      "execution_count": 97,
      "outputs": []
    },
    {
      "cell_type": "code",
      "metadata": {
        "id": "Y3Jv_QpGiIUy",
        "outputId": "1e7935c6-ac0a-49a6-df37-79322ea295b9",
        "colab": {
          "base_uri": "https://localhost:8080/"
        }
      },
      "source": [
        "max_words = 1000\n",
        "\n",
        "tokenizer = Tokenizer(num_words=max_words)\n",
        "tokenizer.fit_on_texts(data.text)\n",
        "\n",
        "print(\"Number of words in the dictionary\", len(tokenizer.word_index))\n",
        "print(list(tokenizer.word_index.items())[:10])"
      ],
      "execution_count": 98,
      "outputs": [
        {
          "output_type": "stream",
          "text": [
            "Number of words in the dictionary 330671\n",
            "[('go', 1), ('get', 2), ('day', 3), ('good', 4), ('work', 5), ('like', 6), ('love', 7), ('got', 8), ('today', 9), ('time', 10)]\n"
          ],
          "name": "stdout"
        }
      ]
    },
    {
      "cell_type": "code",
      "metadata": {
        "id": "rRruwwEriIXh",
        "outputId": "1c16e797-fc29-4984-8944-7cc4816639b7",
        "colab": {
          "base_uri": "https://localhost:8080/"
        }
      },
      "source": [
        "\n",
        "# Convierte palabras en enteros\n",
        "train_sequences = tokenizer.texts_to_sequences(data.text)\n",
        "lengths = []\n",
        "for seq in train_sequences:\n",
        "  lengths.append(len(seq))\n",
        "\n",
        "print(\"Tweet más pequeño\", np.array(lengths).min(), \"words.\")\n",
        "print(\"Tweet más grande\", np.array(lengths).max(), \"words.\")\n",
        "print(f\"Longitud promedio: {np.array(lengths).mean():.2f} +- {np.array(lengths).std():.2f} words.\")\n",
        "print('\\n')"
      ],
      "execution_count": 142,
      "outputs": [
        {
          "output_type": "stream",
          "text": [
            "Tweet más pequeño 0 words.\n",
            "Tweet más grande 27 words.\n",
            "Longitud promedio: 4.96 +- 3.04 words.\n",
            "\n",
            "\n"
          ],
          "name": "stdout"
        }
      ]
    },
    {
      "cell_type": "code",
      "metadata": {
        "id": "wB2NyDDHiIbB",
        "outputId": "3404fb72-a8ea-41d9-cc84-5efbb2a26698",
        "colab": {
          "base_uri": "https://localhost:8080/",
          "height": 264
        }
      },
      "source": [
        "import matplotlib.pyplot as plt\n",
        "plt.hist(lengths,20)\n",
        "plt.show()"
      ],
      "execution_count": 143,
      "outputs": [
        {
          "output_type": "display_data",
          "data": {
            "image/png": "[encoded data removed]",
            "text/plain": [
              "<Figure size 432x288 with 1 Axes>"
            ]
          },
          "metadata": {
            "tags": [],
            "needs_background": "light"
          }
        }
      ]
    },
    {
      "cell_type": "code",
      "metadata": {
        "id": "17Cgnm8uqCKC"
      },
      "source": [
        "train_seq = np.array(train_sequences, dtype=object)\n",
        "df_sequences = pd.DataFrame(train_seq.T, columns=['tokens'])"
      ],
      "execution_count": 149,
      "outputs": []
    },
    {
      "cell_type": "code",
      "metadata": {
        "id": "tLvR7vKa56Hm"
      },
      "source": [
        "df_sequences['len'] = df_sequences['tokens'].map(lambda s: len(s))"
      ],
      "execution_count": 158,
      "outputs": []
    },
    {
      "cell_type": "code",
      "metadata": {
        "id": "WIr0gWfF9EWs",
        "outputId": "922ab0f2-cd92-40f8-fe33-94ef0669f1a5",
        "colab": {
          "base_uri": "https://localhost:8080/",
          "height": 406
        }
      },
      "source": [
        "data = data.reset_index().drop(['index', 'Unnamed: 0'], axis = 1)\n",
        "data"
      ],
      "execution_count": 154,
      "outputs": [
        {
          "output_type": "execute_result",
          "data": {
            "text/html": [
              "<div>\n",
              "<style scoped>\n",
              "    .dataframe tbody tr th:only-of-type {\n",
              "        vertical-align: middle;\n",
              "    }\n",
              "\n",
              "    .dataframe tbody tr th {\n",
              "        vertical-align: top;\n",
              "    }\n",
              "\n",
              "    .dataframe thead th {\n",
              "        text-align: right;\n",
              "    }\n",
              "</style>\n",
              "<table border=\"1\" class=\"dataframe\">\n",
              "  <thead>\n",
              "    <tr style=\"text-align: right;\">\n",
              "      <th></th>\n",
              "      <th>target</th>\n",
              "      <th>ids</th>\n",
              "      <th>date</th>\n",
              "      <th>flag</th>\n",
              "      <th>user</th>\n",
              "      <th>text</th>\n",
              "      <th>raw_text</th>\n",
              "    </tr>\n",
              "  </thead>\n",
              "  <tbody>\n",
              "    <tr>\n",
              "      <th>0</th>\n",
              "      <td>0</td>\n",
              "      <td>1467810369</td>\n",
              "      <td>mon apr 06 22:19:45 pdt 2009</td>\n",
              "      <td>no_query</td>\n",
              "      <td>_thespecialone_</td>\n",
              "      <td>aww bummer shoulda got david carr third day</td>\n",
              "      <td>@switchfoot http://twitpic.com/2y1zl - awww, t...</td>\n",
              "    </tr>\n",
              "    <tr>\n",
              "      <th>1</th>\n",
              "      <td>0</td>\n",
              "      <td>1467810672</td>\n",
              "      <td>mon apr 06 22:19:49 pdt 2009</td>\n",
              "      <td>no_query</td>\n",
              "      <td>scotthamilton</td>\n",
              "      <td>upset updat facebook text might cri result sch...</td>\n",
              "      <td>is upset that he can't update his facebook by ...</td>\n",
              "    </tr>\n",
              "    <tr>\n",
              "      <th>2</th>\n",
              "      <td>0</td>\n",
              "      <td>1467810917</td>\n",
              "      <td>mon apr 06 22:19:53 pdt 2009</td>\n",
              "      <td>no_query</td>\n",
              "      <td>mattycus</td>\n",
              "      <td>dive mani time ball manag save 50 % rest go bo...</td>\n",
              "      <td>@kenichan i dived many times for the ball. man...</td>\n",
              "    </tr>\n",
              "    <tr>\n",
              "      <th>3</th>\n",
              "      <td>0</td>\n",
              "      <td>1467811184</td>\n",
              "      <td>mon apr 06 22:19:57 pdt 2009</td>\n",
              "      <td>no_query</td>\n",
              "      <td>ellectf</td>\n",
              "      <td>whole bodi feel itchi like fire</td>\n",
              "      <td>my whole body feels itchy and like its on fire</td>\n",
              "    </tr>\n",
              "    <tr>\n",
              "      <th>4</th>\n",
              "      <td>0</td>\n",
              "      <td>1467811193</td>\n",
              "      <td>mon apr 06 22:19:57 pdt 2009</td>\n",
              "      <td>no_query</td>\n",
              "      <td>karoli</td>\n",
              "      <td>behav mad see</td>\n",
              "      <td>@nationwideclass no, it's not behaving at all....</td>\n",
              "    </tr>\n",
              "    <tr>\n",
              "      <th>...</th>\n",
              "      <td>...</td>\n",
              "      <td>...</td>\n",
              "      <td>...</td>\n",
              "      <td>...</td>\n",
              "      <td>...</td>\n",
              "      <td>...</td>\n",
              "      <td>...</td>\n",
              "    </tr>\n",
              "    <tr>\n",
              "      <th>1591501</th>\n",
              "      <td>1</td>\n",
              "      <td>2193601966</td>\n",
              "      <td>tue jun 16 08:40:49 pdt 2009</td>\n",
              "      <td>no_query</td>\n",
              "      <td>amandamarie1028</td>\n",
              "      <td>woke school best feel ever</td>\n",
              "      <td>just woke up. having no school is the best fee...</td>\n",
              "    </tr>\n",
              "    <tr>\n",
              "      <th>1591502</th>\n",
              "      <td>1</td>\n",
              "      <td>2193601969</td>\n",
              "      <td>tue jun 16 08:40:49 pdt 2009</td>\n",
              "      <td>no_query</td>\n",
              "      <td>thewdboards</td>\n",
              "      <td>thewdbcom cool hear old walt interview</td>\n",
              "      <td>thewdb.com - very cool to hear old walt interv...</td>\n",
              "    </tr>\n",
              "    <tr>\n",
              "      <th>1591503</th>\n",
              "      <td>1</td>\n",
              "      <td>2193601991</td>\n",
              "      <td>tue jun 16 08:40:49 pdt 2009</td>\n",
              "      <td>no_query</td>\n",
              "      <td>bpbabe</td>\n",
              "      <td>readi mojo makeov ask detail</td>\n",
              "      <td>are you ready for your mojo makeover? ask me f...</td>\n",
              "    </tr>\n",
              "    <tr>\n",
              "      <th>1591504</th>\n",
              "      <td>1</td>\n",
              "      <td>2193602064</td>\n",
              "      <td>tue jun 16 08:40:49 pdt 2009</td>\n",
              "      <td>no_query</td>\n",
              "      <td>tinydiamondz</td>\n",
              "      <td>happi 38th birthday boo time tupac amaru shakur</td>\n",
              "      <td>happy 38th birthday to my boo of alll time!!! ...</td>\n",
              "    </tr>\n",
              "    <tr>\n",
              "      <th>1591505</th>\n",
              "      <td>1</td>\n",
              "      <td>2193602129</td>\n",
              "      <td>tue jun 16 08:40:50 pdt 2009</td>\n",
              "      <td>no_query</td>\n",
              "      <td>ryantrevmorris</td>\n",
              "      <td>happi</td>\n",
              "      <td>happy #charitytuesday @thenspcc @sparkscharity...</td>\n",
              "    </tr>\n",
              "  </tbody>\n",
              "</table>\n",
              "<p>1591506 rows × 7 columns</p>\n",
              "</div>"
            ],
            "text/plain": [
              "         target  ...                                           raw_text\n",
              "0             0  ...  @switchfoot http://twitpic.com/2y1zl - awww, t...\n",
              "1             0  ...  is upset that he can't update his facebook by ...\n",
              "2             0  ...  @kenichan i dived many times for the ball. man...\n",
              "3             0  ...    my whole body feels itchy and like its on fire \n",
              "4             0  ...  @nationwideclass no, it's not behaving at all....\n",
              "...         ...  ...                                                ...\n",
              "1591501       1  ...  just woke up. having no school is the best fee...\n",
              "1591502       1  ...  thewdb.com - very cool to hear old walt interv...\n",
              "1591503       1  ...  are you ready for your mojo makeover? ask me f...\n",
              "1591504       1  ...  happy 38th birthday to my boo of alll time!!! ...\n",
              "1591505       1  ...  happy #charitytuesday @thenspcc @sparkscharity...\n",
              "\n",
              "[1591506 rows x 7 columns]"
            ]
          },
          "metadata": {
            "tags": []
          },
          "execution_count": 154
        }
      ]
    },
    {
      "cell_type": "code",
      "metadata": {
        "id": "9K1FKu5o9AoV"
      },
      "source": [
        "df_sequences['target'] = data['target']"
      ],
      "execution_count": 155,
      "outputs": []
    },
    {
      "cell_type": "code",
      "metadata": {
        "id": "N-CcTMRj9Q_s",
        "outputId": "618c32a2-c86e-4f17-8ff4-827d6410c3c2",
        "colab": {
          "base_uri": "https://localhost:8080/",
          "height": 406
        }
      },
      "source": [
        "df_sequences"
      ],
      "execution_count": 156,
      "outputs": [
        {
          "output_type": "execute_result",
          "data": {
            "text/html": [
              "<div>\n",
              "<style scoped>\n",
              "    .dataframe tbody tr th:only-of-type {\n",
              "        vertical-align: middle;\n",
              "    }\n",
              "\n",
              "    .dataframe tbody tr th {\n",
              "        vertical-align: top;\n",
              "    }\n",
              "\n",
              "    .dataframe thead th {\n",
              "        text-align: right;\n",
              "    }\n",
              "</style>\n",
              "<table border=\"1\" class=\"dataframe\">\n",
              "  <thead>\n",
              "    <tr style=\"text-align: right;\">\n",
              "      <th></th>\n",
              "      <th>tokens</th>\n",
              "      <th>target</th>\n",
              "    </tr>\n",
              "  </thead>\n",
              "  <tbody>\n",
              "    <tr>\n",
              "      <th>0</th>\n",
              "      <td>[110, 8, 697, 3]</td>\n",
              "      <td>0</td>\n",
              "    </tr>\n",
              "    <tr>\n",
              "      <th>1</th>\n",
              "      <td>[592, 222, 430, 353, 201, 242, 965, 76, 9, 188]</td>\n",
              "      <td>0</td>\n",
              "    </tr>\n",
              "    <tr>\n",
              "      <th>2</th>\n",
              "      <td>[221, 10, 860, 686, 495, 344, 1]</td>\n",
              "      <td>0</td>\n",
              "    </tr>\n",
              "    <tr>\n",
              "      <th>3</th>\n",
              "      <td>[327, 645, 19, 6, 863]</td>\n",
              "      <td>0</td>\n",
              "    </tr>\n",
              "    <tr>\n",
              "      <th>4</th>\n",
              "      <td>[454, 18]</td>\n",
              "      <td>0</td>\n",
              "    </tr>\n",
              "    <tr>\n",
              "      <th>...</th>\n",
              "      <td>...</td>\n",
              "      <td>...</td>\n",
              "    </tr>\n",
              "    <tr>\n",
              "      <th>1591501</th>\n",
              "      <td>[248, 76, 103, 19, 149]</td>\n",
              "      <td>1</td>\n",
              "    </tr>\n",
              "    <tr>\n",
              "      <th>1591502</th>\n",
              "      <td>[122, 174, 159, 752]</td>\n",
              "      <td>1</td>\n",
              "    </tr>\n",
              "    <tr>\n",
              "      <th>1591503</th>\n",
              "      <td>[134, 287]</td>\n",
              "      <td>1</td>\n",
              "    </tr>\n",
              "    <tr>\n",
              "      <th>1591504</th>\n",
              "      <td>[53, 183, 296, 10]</td>\n",
              "      <td>1</td>\n",
              "    </tr>\n",
              "    <tr>\n",
              "      <th>1591505</th>\n",
              "      <td>[53]</td>\n",
              "      <td>1</td>\n",
              "    </tr>\n",
              "  </tbody>\n",
              "</table>\n",
              "<p>1591506 rows × 2 columns</p>\n",
              "</div>"
            ],
            "text/plain": [
              "                                                  tokens  target\n",
              "0                                       [110, 8, 697, 3]       0\n",
              "1        [592, 222, 430, 353, 201, 242, 965, 76, 9, 188]       0\n",
              "2                       [221, 10, 860, 686, 495, 344, 1]       0\n",
              "3                                 [327, 645, 19, 6, 863]       0\n",
              "4                                              [454, 18]       0\n",
              "...                                                  ...     ...\n",
              "1591501                          [248, 76, 103, 19, 149]       1\n",
              "1591502                             [122, 174, 159, 752]       1\n",
              "1591503                                       [134, 287]       1\n",
              "1591504                               [53, 183, 296, 10]       1\n",
              "1591505                                             [53]       1\n",
              "\n",
              "[1591506 rows x 2 columns]"
            ]
          },
          "metadata": {
            "tags": []
          },
          "execution_count": 156
        }
      ]
    },
    {
      "cell_type": "code",
      "metadata": {
        "id": "cfJUPHW26lKr"
      },
      "source": [
        "df_select = df_sequences[(df_sequences.len>9) & (df_sequences.len<11)]"
      ],
      "execution_count": 159,
      "outputs": []
    },
    {
      "cell_type": "code",
      "metadata": {
        "id": "7PIMYBiR776a",
        "outputId": "352b66c1-9c0e-4c83-9c94-f36b016bef45",
        "colab": {
          "base_uri": "https://localhost:8080/",
          "height": 406
        }
      },
      "source": [
        "df_select"
      ],
      "execution_count": 160,
      "outputs": [
        {
          "output_type": "execute_result",
          "data": {
            "text/html": [
              "<div>\n",
              "<style scoped>\n",
              "    .dataframe tbody tr th:only-of-type {\n",
              "        vertical-align: middle;\n",
              "    }\n",
              "\n",
              "    .dataframe tbody tr th {\n",
              "        vertical-align: top;\n",
              "    }\n",
              "\n",
              "    .dataframe thead th {\n",
              "        text-align: right;\n",
              "    }\n",
              "</style>\n",
              "<table border=\"1\" class=\"dataframe\">\n",
              "  <thead>\n",
              "    <tr style=\"text-align: right;\">\n",
              "      <th></th>\n",
              "      <th>tokens</th>\n",
              "      <th>target</th>\n",
              "      <th>len</th>\n",
              "    </tr>\n",
              "  </thead>\n",
              "  <tbody>\n",
              "    <tr>\n",
              "      <th>1</th>\n",
              "      <td>[592, 222, 430, 353, 201, 242, 965, 76, 9, 188]</td>\n",
              "      <td>0</td>\n",
              "      <td>10</td>\n",
              "    </tr>\n",
              "    <tr>\n",
              "      <th>40</th>\n",
              "      <td>[22, 19, 6, 2, 9, 8, 254, 42, 795, 203]</td>\n",
              "      <td>0</td>\n",
              "      <td>10</td>\n",
              "    </tr>\n",
              "    <tr>\n",
              "      <th>42</th>\n",
              "      <td>[48, 48, 48, 17, 70, 19, 99, 31, 46, 27]</td>\n",
              "      <td>0</td>\n",
              "      <td>10</td>\n",
              "    </tr>\n",
              "    <tr>\n",
              "      <th>44</th>\n",
              "      <td>[389, 441, 392, 112, 645, 231, 48, 372, 325, 251]</td>\n",
              "      <td>0</td>\n",
              "      <td>10</td>\n",
              "    </tr>\n",
              "    <tr>\n",
              "      <th>65</th>\n",
              "      <td>[55, 224, 170, 218, 71, 380, 130, 979, 449, 319]</td>\n",
              "      <td>0</td>\n",
              "      <td>10</td>\n",
              "    </tr>\n",
              "    <tr>\n",
              "      <th>...</th>\n",
              "      <td>...</td>\n",
              "      <td>...</td>\n",
              "      <td>...</td>\n",
              "    </tr>\n",
              "    <tr>\n",
              "      <th>1591420</th>\n",
              "      <td>[8, 76, 65, 31, 50, 2, 102, 486, 43, 232]</td>\n",
              "      <td>1</td>\n",
              "      <td>10</td>\n",
              "    </tr>\n",
              "    <tr>\n",
              "      <th>1591481</th>\n",
              "      <td>[451, 152, 102, 365, 18, 28, 237, 290, 18, 316]</td>\n",
              "      <td>1</td>\n",
              "      <td>10</td>\n",
              "    </tr>\n",
              "    <tr>\n",
              "      <th>1591482</th>\n",
              "      <td>[83, 11, 38, 378, 740, 238, 137, 440, 10, 25]</td>\n",
              "      <td>1</td>\n",
              "      <td>10</td>\n",
              "    </tr>\n",
              "    <tr>\n",
              "      <th>1591498</th>\n",
              "      <td>[469, 146, 676, 514, 379, 10, 654, 74, 226, 219]</td>\n",
              "      <td>1</td>\n",
              "      <td>10</td>\n",
              "    </tr>\n",
              "    <tr>\n",
              "      <th>1591500</th>\n",
              "      <td>[75, 5, 69, 45, 177, 195, 10, 123, 4, 339]</td>\n",
              "      <td>1</td>\n",
              "      <td>10</td>\n",
              "    </tr>\n",
              "  </tbody>\n",
              "</table>\n",
              "<p>56932 rows × 3 columns</p>\n",
              "</div>"
            ],
            "text/plain": [
              "                                                    tokens  target  len\n",
              "1          [592, 222, 430, 353, 201, 242, 965, 76, 9, 188]       0   10\n",
              "40                 [22, 19, 6, 2, 9, 8, 254, 42, 795, 203]       0   10\n",
              "42                [48, 48, 48, 17, 70, 19, 99, 31, 46, 27]       0   10\n",
              "44       [389, 441, 392, 112, 645, 231, 48, 372, 325, 251]       0   10\n",
              "65        [55, 224, 170, 218, 71, 380, 130, 979, 449, 319]       0   10\n",
              "...                                                    ...     ...  ...\n",
              "1591420          [8, 76, 65, 31, 50, 2, 102, 486, 43, 232]       1   10\n",
              "1591481    [451, 152, 102, 365, 18, 28, 237, 290, 18, 316]       1   10\n",
              "1591482      [83, 11, 38, 378, 740, 238, 137, 440, 10, 25]       1   10\n",
              "1591498   [469, 146, 676, 514, 379, 10, 654, 74, 226, 219]       1   10\n",
              "1591500         [75, 5, 69, 45, 177, 195, 10, 123, 4, 339]       1   10\n",
              "\n",
              "[56932 rows x 3 columns]"
            ]
          },
          "metadata": {
            "tags": []
          },
          "execution_count": 160
        }
      ]
    },
    {
      "cell_type": "code",
      "metadata": {
        "id": "sr7glm9gz0N0",
        "colab": {
          "base_uri": "https://localhost:8080/",
          "height": 352
        },
        "outputId": "7843eb96-2c4d-4988-dfde-7c7b71bc9e12"
      },
      "source": [
        "# Revisamos si estan balanceadas las etiquetas\n",
        "import seaborn as sns\n",
        "sns.countplot(df_select['target'])"
      ],
      "execution_count": 161,
      "outputs": [
        {
          "output_type": "stream",
          "text": [
            "/usr/local/lib/python3.7/dist-packages/seaborn/_decorators.py:43: FutureWarning: Pass the following variable as a keyword arg: x. From version 0.12, the only valid positional argument will be `data`, and passing other arguments without an explicit keyword will result in an error or misinterpretation.\n",
            "  FutureWarning\n"
          ],
          "name": "stderr"
        },
        {
          "output_type": "execute_result",
          "data": {
            "text/plain": [
              "<matplotlib.axes._subplots.AxesSubplot at 0x7f0dfa741090>"
            ]
          },
          "metadata": {
            "tags": []
          },
          "execution_count": 161
        },
        {
          "output_type": "display_data",
          "data": {
            "image/png": "[encoded data removed]",
            "text/plain": [
              "<Figure size 432x288 with 1 Axes>"
            ]
          },
          "metadata": {
            "tags": [],
            "needs_background": "light"
          }
        }
      ]
    },
    {
      "cell_type": "code",
      "metadata": {
        "id": "OuICynj19vUd",
        "outputId": "618c1c90-a817-4030-cfec-fc91098ce3ee",
        "colab": {
          "base_uri": "https://localhost:8080/",
          "height": 137
        }
      },
      "source": [
        "df_select.groupby('target').count()"
      ],
      "execution_count": 162,
      "outputs": [
        {
          "output_type": "execute_result",
          "data": {
            "text/html": [
              "<div>\n",
              "<style scoped>\n",
              "    .dataframe tbody tr th:only-of-type {\n",
              "        vertical-align: middle;\n",
              "    }\n",
              "\n",
              "    .dataframe tbody tr th {\n",
              "        vertical-align: top;\n",
              "    }\n",
              "\n",
              "    .dataframe thead th {\n",
              "        text-align: right;\n",
              "    }\n",
              "</style>\n",
              "<table border=\"1\" class=\"dataframe\">\n",
              "  <thead>\n",
              "    <tr style=\"text-align: right;\">\n",
              "      <th></th>\n",
              "      <th>tokens</th>\n",
              "      <th>len</th>\n",
              "    </tr>\n",
              "    <tr>\n",
              "      <th>target</th>\n",
              "      <th></th>\n",
              "      <th></th>\n",
              "    </tr>\n",
              "  </thead>\n",
              "  <tbody>\n",
              "    <tr>\n",
              "      <th>0</th>\n",
              "      <td>30376</td>\n",
              "      <td>30376</td>\n",
              "    </tr>\n",
              "    <tr>\n",
              "      <th>1</th>\n",
              "      <td>26556</td>\n",
              "      <td>26556</td>\n",
              "    </tr>\n",
              "  </tbody>\n",
              "</table>\n",
              "</div>"
            ],
            "text/plain": [
              "        tokens    len\n",
              "target               \n",
              "0        30376  30376\n",
              "1        26556  26556"
            ]
          },
          "metadata": {
            "tags": []
          },
          "execution_count": 162
        }
      ]
    },
    {
      "cell_type": "code",
      "metadata": {
        "id": "uhzEjw0Q90uB"
      },
      "source": [
        "last_df = pd.concat([df_select[df_select.target==0].head(26556),df_select[df_select.target==1]], axis=0)"
      ],
      "execution_count": 167,
      "outputs": []
    },
    {
      "cell_type": "code",
      "metadata": {
        "id": "_M835A6k-TaZ",
        "outputId": "d250c70f-b5e8-4cd7-c844-77506907a43b",
        "colab": {
          "base_uri": "https://localhost:8080/",
          "height": 406
        }
      },
      "source": [
        "last_df "
      ],
      "execution_count": 168,
      "outputs": [
        {
          "output_type": "execute_result",
          "data": {
            "text/html": [
              "<div>\n",
              "<style scoped>\n",
              "    .dataframe tbody tr th:only-of-type {\n",
              "        vertical-align: middle;\n",
              "    }\n",
              "\n",
              "    .dataframe tbody tr th {\n",
              "        vertical-align: top;\n",
              "    }\n",
              "\n",
              "    .dataframe thead th {\n",
              "        text-align: right;\n",
              "    }\n",
              "</style>\n",
              "<table border=\"1\" class=\"dataframe\">\n",
              "  <thead>\n",
              "    <tr style=\"text-align: right;\">\n",
              "      <th></th>\n",
              "      <th>tokens</th>\n",
              "      <th>target</th>\n",
              "      <th>len</th>\n",
              "    </tr>\n",
              "  </thead>\n",
              "  <tbody>\n",
              "    <tr>\n",
              "      <th>1</th>\n",
              "      <td>[592, 222, 430, 353, 201, 242, 965, 76, 9, 188]</td>\n",
              "      <td>0</td>\n",
              "      <td>10</td>\n",
              "    </tr>\n",
              "    <tr>\n",
              "      <th>40</th>\n",
              "      <td>[22, 19, 6, 2, 9, 8, 254, 42, 795, 203]</td>\n",
              "      <td>0</td>\n",
              "      <td>10</td>\n",
              "    </tr>\n",
              "    <tr>\n",
              "      <th>42</th>\n",
              "      <td>[48, 48, 48, 17, 70, 19, 99, 31, 46, 27]</td>\n",
              "      <td>0</td>\n",
              "      <td>10</td>\n",
              "    </tr>\n",
              "    <tr>\n",
              "      <th>44</th>\n",
              "      <td>[389, 441, 392, 112, 645, 231, 48, 372, 325, 251]</td>\n",
              "      <td>0</td>\n",
              "      <td>10</td>\n",
              "    </tr>\n",
              "    <tr>\n",
              "      <th>65</th>\n",
              "      <td>[55, 224, 170, 218, 71, 380, 130, 979, 449, 319]</td>\n",
              "      <td>0</td>\n",
              "      <td>10</td>\n",
              "    </tr>\n",
              "    <tr>\n",
              "      <th>...</th>\n",
              "      <td>...</td>\n",
              "      <td>...</td>\n",
              "      <td>...</td>\n",
              "    </tr>\n",
              "    <tr>\n",
              "      <th>1591420</th>\n",
              "      <td>[8, 76, 65, 31, 50, 2, 102, 486, 43, 232]</td>\n",
              "      <td>1</td>\n",
              "      <td>10</td>\n",
              "    </tr>\n",
              "    <tr>\n",
              "      <th>1591481</th>\n",
              "      <td>[451, 152, 102, 365, 18, 28, 237, 290, 18, 316]</td>\n",
              "      <td>1</td>\n",
              "      <td>10</td>\n",
              "    </tr>\n",
              "    <tr>\n",
              "      <th>1591482</th>\n",
              "      <td>[83, 11, 38, 378, 740, 238, 137, 440, 10, 25]</td>\n",
              "      <td>1</td>\n",
              "      <td>10</td>\n",
              "    </tr>\n",
              "    <tr>\n",
              "      <th>1591498</th>\n",
              "      <td>[469, 146, 676, 514, 379, 10, 654, 74, 226, 219]</td>\n",
              "      <td>1</td>\n",
              "      <td>10</td>\n",
              "    </tr>\n",
              "    <tr>\n",
              "      <th>1591500</th>\n",
              "      <td>[75, 5, 69, 45, 177, 195, 10, 123, 4, 339]</td>\n",
              "      <td>1</td>\n",
              "      <td>10</td>\n",
              "    </tr>\n",
              "  </tbody>\n",
              "</table>\n",
              "<p>53112 rows × 3 columns</p>\n",
              "</div>"
            ],
            "text/plain": [
              "                                                    tokens  target  len\n",
              "1          [592, 222, 430, 353, 201, 242, 965, 76, 9, 188]       0   10\n",
              "40                 [22, 19, 6, 2, 9, 8, 254, 42, 795, 203]       0   10\n",
              "42                [48, 48, 48, 17, 70, 19, 99, 31, 46, 27]       0   10\n",
              "44       [389, 441, 392, 112, 645, 231, 48, 372, 325, 251]       0   10\n",
              "65        [55, 224, 170, 218, 71, 380, 130, 979, 449, 319]       0   10\n",
              "...                                                    ...     ...  ...\n",
              "1591420          [8, 76, 65, 31, 50, 2, 102, 486, 43, 232]       1   10\n",
              "1591481    [451, 152, 102, 365, 18, 28, 237, 290, 18, 316]       1   10\n",
              "1591482      [83, 11, 38, 378, 740, 238, 137, 440, 10, 25]       1   10\n",
              "1591498   [469, 146, 676, 514, 379, 10, 654, 74, 226, 219]       1   10\n",
              "1591500         [75, 5, 69, 45, 177, 195, 10, 123, 4, 339]       1   10\n",
              "\n",
              "[53112 rows x 3 columns]"
            ]
          },
          "metadata": {
            "tags": []
          },
          "execution_count": 168
        }
      ]
    },
    {
      "cell_type": "code",
      "metadata": {
        "id": "QSTs369E-X3S",
        "outputId": "54cc8958-24be-4e40-8421-6b02b4b205a8",
        "colab": {
          "base_uri": "https://localhost:8080/",
          "height": 352
        }
      },
      "source": [
        "# Revisamos si estan balanceadas las etiquetas\n",
        "import seaborn as sns\n",
        "sns.countplot(last_df['target'])"
      ],
      "execution_count": 169,
      "outputs": [
        {
          "output_type": "stream",
          "text": [
            "/usr/local/lib/python3.7/dist-packages/seaborn/_decorators.py:43: FutureWarning: Pass the following variable as a keyword arg: x. From version 0.12, the only valid positional argument will be `data`, and passing other arguments without an explicit keyword will result in an error or misinterpretation.\n",
            "  FutureWarning\n"
          ],
          "name": "stderr"
        },
        {
          "output_type": "execute_result",
          "data": {
            "text/plain": [
              "<matplotlib.axes._subplots.AxesSubplot at 0x7f0dfa6c7910>"
            ]
          },
          "metadata": {
            "tags": []
          },
          "execution_count": 169
        },
        {
          "output_type": "display_data",
          "data": {
            "image/png": "[encoded data removed]",
            "text/plain": [
              "<Figure size 432x288 with 1 Axes>"
            ]
          },
          "metadata": {
            "tags": [],
            "needs_background": "light"
          }
        }
      ]
    },
    {
      "cell_type": "code",
      "metadata": {
        "id": "9GhhL54D-iwM",
        "outputId": "d54830e3-1d01-42e5-de1c-10ffe6308659",
        "colab": {
          "base_uri": "https://localhost:8080/"
        }
      },
      "source": [
        "last_df.target"
      ],
      "execution_count": 174,
      "outputs": [
        {
          "output_type": "execute_result",
          "data": {
            "text/plain": [
              "1          0\n",
              "40         0\n",
              "42         0\n",
              "44         0\n",
              "65         0\n",
              "          ..\n",
              "1591420    1\n",
              "1591481    1\n",
              "1591482    1\n",
              "1591498    1\n",
              "1591500    1\n",
              "Name: target, Length: 53112, dtype: int64"
            ]
          },
          "metadata": {
            "tags": []
          },
          "execution_count": 174
        }
      ]
    },
    {
      "cell_type": "markdown",
      "metadata": {
        "id": "XgajHM4gCjep"
      },
      "source": [
        "# Hacemos padding"
      ]
    },
    {
      "cell_type": "code",
      "metadata": {
        "colab": {
          "base_uri": "https://localhost:8080/"
        },
        "id": "y-hxvgq_AjBL",
        "outputId": "d910d927-6cec-40c1-93d6-3edc0c8610c7"
      },
      "source": [
        "#sequences = tokenizer.texts_to_sequences(data_set_1.text)\n",
        "max_len = 10\n",
        "tweets = pad_sequences(list(last_df.tokens), maxlen=max_len, padding='post')\n",
        "print(tweets)"
      ],
      "execution_count": 173,
      "outputs": [
        {
          "output_type": "stream",
          "text": [
            "[[592 222 430 ...  76   9 188]\n",
            " [ 22  19   6 ...  42 795 203]\n",
            " [ 48  48  48 ...  31  46  27]\n",
            " ...\n",
            " [ 83  11  38 ... 440  10  25]\n",
            " [469 146 676 ...  74 226 219]\n",
            " [ 75   5  69 ... 123   4 339]]\n"
          ],
          "name": "stdout"
        }
      ]
    },
    {
      "cell_type": "markdown",
      "metadata": {
        "id": "uY-EM8O70OnW"
      },
      "source": [
        "## Separamos en train, test"
      ]
    },
    {
      "cell_type": "code",
      "metadata": {
        "id": "4H29q5XL0RBl"
      },
      "source": [
        "from sklearn.model_selection import train_test_split\n",
        "\n",
        "X_train, X_test, y_train, y_test = train_test_split(tweets, last_df.target.values, test_size=0.3, random_state=23042021)"
      ],
      "execution_count": 176,
      "outputs": []
    },
    {
      "cell_type": "code",
      "metadata": {
        "id": "3Gx4QC-MDMRF",
        "colab": {
          "base_uri": "https://localhost:8080/"
        },
        "outputId": "aabe69f0-cb82-41ac-a9ae-bc86f47ed0c9"
      },
      "source": [
        "print(\"X_train\", X_train.shape)\n",
        "print(\"y_train\", y_train.shape)\n",
        "print(\"X_test\", X_test.shape)\n",
        "print(\"y_test\", y_test.shape)"
      ],
      "execution_count": 177,
      "outputs": [
        {
          "output_type": "stream",
          "text": [
            "X_train (37178, 10)\n",
            "y_train (37178,)\n",
            "X_test (15934, 10)\n",
            "y_test (15934,)\n"
          ],
          "name": "stdout"
        }
      ]
    },
    {
      "cell_type": "code",
      "metadata": {
        "id": "PiE2XSvAFyfA",
        "outputId": "f092e9f8-68a2-4fee-ae42-007106b6a1d0",
        "colab": {
          "base_uri": "https://localhost:8080/",
          "height": 337
        }
      },
      "source": [
        "sns.countplot(y_train)"
      ],
      "execution_count": 215,
      "outputs": [
        {
          "output_type": "stream",
          "text": [
            "/usr/local/lib/python3.7/dist-packages/seaborn/_decorators.py:43: FutureWarning: Pass the following variable as a keyword arg: x. From version 0.12, the only valid positional argument will be `data`, and passing other arguments without an explicit keyword will result in an error or misinterpretation.\n",
            "  FutureWarning\n"
          ],
          "name": "stderr"
        },
        {
          "output_type": "execute_result",
          "data": {
            "text/plain": [
              "<matplotlib.axes._subplots.AxesSubplot at 0x7f0df82c3c10>"
            ]
          },
          "metadata": {
            "tags": []
          },
          "execution_count": 215
        },
        {
          "output_type": "display_data",
          "data": {
            "image/png": "[encoded data removed]",
            "text/plain": [
              "<Figure size 432x288 with 1 Axes>"
            ]
          },
          "metadata": {
            "tags": [],
            "needs_background": "light"
          }
        }
      ]
    },
    {
      "cell_type": "code",
      "metadata": {
        "id": "4QLYTRW6HuaO",
        "outputId": "b32748de-c075-490d-aeff-968f85468632",
        "colab": {
          "base_uri": "https://localhost:8080/",
          "height": 337
        }
      },
      "source": [
        "sns.countplot(y_test)"
      ],
      "execution_count": 216,
      "outputs": [
        {
          "output_type": "stream",
          "text": [
            "/usr/local/lib/python3.7/dist-packages/seaborn/_decorators.py:43: FutureWarning: Pass the following variable as a keyword arg: x. From version 0.12, the only valid positional argument will be `data`, and passing other arguments without an explicit keyword will result in an error or misinterpretation.\n",
            "  FutureWarning\n"
          ],
          "name": "stderr"
        },
        {
          "output_type": "execute_result",
          "data": {
            "text/plain": [
              "<matplotlib.axes._subplots.AxesSubplot at 0x7f0df7f4ba50>"
            ]
          },
          "metadata": {
            "tags": []
          },
          "execution_count": 216
        },
        {
          "output_type": "display_data",
          "data": {
            "image/png": "[encoded data removed]",
            "text/plain": [
              "<Figure size 432x288 with 1 Axes>"
            ]
          },
          "metadata": {
            "tags": [],
            "needs_background": "light"
          }
        }
      ]
    },
    {
      "cell_type": "markdown",
      "metadata": {
        "id": "9Ih2oqSz07em"
      },
      "source": [
        "# Creamos el modelo"
      ]
    },
    {
      "cell_type": "code",
      "metadata": {
        "id": "KbTk_xdK4QlP"
      },
      "source": [
        "import tensorflow as tf\n",
        "from tensorflow.keras.models import Sequential\n",
        "from tensorflow.keras.layers import Embedding, LSTM, Dense, Dropout, Bidirectional\n",
        "from tensorflow.keras.regularizers import l1"
      ],
      "execution_count": 178,
      "outputs": []
    },
    {
      "cell_type": "markdown",
      "metadata": {
        "id": "LyGyZLYT3Ka7"
      },
      "source": [
        "### RNN, tomado de: https://www.kaggle.com/smitshah00/sentiment-analysis-ml-rnn"
      ]
    },
    {
      "cell_type": "code",
      "metadata": {
        "id": "3ehMLsbe09Q2",
        "colab": {
          "base_uri": "https://localhost:8080/"
        },
        "outputId": "d6119fad-338c-4273-da63-89eba69009bb"
      },
      "source": [
        "from keras.models import Sequential\n",
        "from keras import layers\n",
        "from keras import regularizers\n",
        "from keras import backend as K\n",
        "from keras.callbacks import ModelCheckpoint\n",
        "\n",
        "\n",
        "model2 = Sequential()\n",
        "model2.add(layers.Embedding(max_words, 128))\n",
        "model2.add(layers.LSTM(64,dropout=0.5))\n",
        "model2.add(layers.Dense(16, activation='relu'))\n",
        "model2.add(layers.Dense(8, activation='relu'))\n",
        "model2.add(layers.Dense(1,activation='sigmoid'))\n",
        "model2.compile(optimizer='adam',loss='binary_crossentropy', metrics=['accuracy'])\n",
        "\n",
        "model2.summary()"
      ],
      "execution_count": 179,
      "outputs": [
        {
          "output_type": "stream",
          "text": [
            "Model: \"sequential\"\n",
            "_________________________________________________________________\n",
            "Layer (type)                 Output Shape              Param #   \n",
            "=================================================================\n",
            "embedding (Embedding)        (None, None, 128)         128000    \n",
            "_________________________________________________________________\n",
            "lstm (LSTM)                  (None, 64)                49408     \n",
            "_________________________________________________________________\n",
            "dense (Dense)                (None, 16)                1040      \n",
            "_________________________________________________________________\n",
            "dense_1 (Dense)              (None, 8)                 136       \n",
            "_________________________________________________________________\n",
            "dense_2 (Dense)              (None, 1)                 9         \n",
            "=================================================================\n",
            "Total params: 178,593\n",
            "Trainable params: 178,593\n",
            "Non-trainable params: 0\n",
            "_________________________________________________________________\n"
          ],
          "name": "stdout"
        }
      ]
    },
    {
      "cell_type": "code",
      "metadata": {
        "colab": {
          "base_uri": "https://localhost:8080/",
          "height": 330
        },
        "id": "YVAI3LKftNfS",
        "outputId": "a237b7a9-7138-4922-edc6-231d90f744c8"
      },
      "source": [
        "# Plot model\n",
        "from tensorflow.keras.utils import plot_model\n",
        "plot_model(model2, show_shapes=True, show_layer_names=True,\n",
        "                          rankdir='TB', expand_nested=True, dpi=48)"
      ],
      "execution_count": 180,
      "outputs": [
        {
          "output_type": "execute_result",
          "data": {
            "image/png": "[encoded data removed]",
            "text/plain": [
              "<IPython.core.display.Image object>"
            ]
          },
          "metadata": {
            "tags": []
          },
          "execution_count": 180
        }
      ]
    },
    {
      "cell_type": "code",
      "metadata": {
        "colab": {
          "base_uri": "https://localhost:8080/"
        },
        "id": "Mtj3yGdstQDS",
        "outputId": "012e49d2-23db-47f3-f43e-ef8104082516"
      },
      "source": [
        "# Train\n",
        "history = model2.fit(X_train, y_train, epochs=10, batch_size=64, validation_split=0.2)"
      ],
      "execution_count": 181,
      "outputs": [
        {
          "output_type": "stream",
          "text": [
            "Epoch 1/10\n",
            "465/465 [==============================] - 36s 7ms/step - loss: 0.6107 - accuracy: 0.6455 - val_loss: 0.5384 - val_accuracy: 0.7208\n",
            "Epoch 2/10\n",
            "465/465 [==============================] - 3s 7ms/step - loss: 0.5149 - accuracy: 0.7415 - val_loss: 0.5219 - val_accuracy: 0.7387\n",
            "Epoch 3/10\n",
            "465/465 [==============================] - 3s 7ms/step - loss: 0.4955 - accuracy: 0.7524 - val_loss: 0.5287 - val_accuracy: 0.7325\n",
            "Epoch 4/10\n",
            "465/465 [==============================] - 3s 6ms/step - loss: 0.4829 - accuracy: 0.7583 - val_loss: 0.5297 - val_accuracy: 0.7318\n",
            "Epoch 5/10\n",
            "465/465 [==============================] - 3s 6ms/step - loss: 0.4800 - accuracy: 0.7575 - val_loss: 0.5285 - val_accuracy: 0.7340\n",
            "Epoch 6/10\n",
            "465/465 [==============================] - 3s 6ms/step - loss: 0.4691 - accuracy: 0.7640 - val_loss: 0.5365 - val_accuracy: 0.7320\n",
            "Epoch 7/10\n",
            "465/465 [==============================] - 3s 7ms/step - loss: 0.4555 - accuracy: 0.7708 - val_loss: 0.5459 - val_accuracy: 0.7328\n",
            "Epoch 8/10\n",
            "465/465 [==============================] - 3s 7ms/step - loss: 0.4516 - accuracy: 0.7714 - val_loss: 0.5473 - val_accuracy: 0.7188\n",
            "Epoch 9/10\n",
            "465/465 [==============================] - 3s 6ms/step - loss: 0.4443 - accuracy: 0.7794 - val_loss: 0.5490 - val_accuracy: 0.7249\n",
            "Epoch 10/10\n",
            "465/465 [==============================] - 3s 6ms/step - loss: 0.4372 - accuracy: 0.7827 - val_loss: 0.5638 - val_accuracy: 0.7282\n"
          ],
          "name": "stdout"
        }
      ]
    },
    {
      "cell_type": "code",
      "metadata": {
        "id": "5m38BcaC_5ky",
        "outputId": "cc345122-e7d7-4b35-b17b-d3399a6b5fde",
        "colab": {
          "base_uri": "https://localhost:8080/"
        }
      },
      "source": [
        "model2.evaluate(x=X_test, y=y_test)"
      ],
      "execution_count": 183,
      "outputs": [
        {
          "output_type": "stream",
          "text": [
            "498/498 [==============================] - 1s 2ms/step - loss: 0.5760 - accuracy: 0.7248\n"
          ],
          "name": "stdout"
        },
        {
          "output_type": "execute_result",
          "data": {
            "text/plain": [
              "[0.5759953260421753, 0.7248023152351379]"
            ]
          },
          "metadata": {
            "tags": []
          },
          "execution_count": 183
        }
      ]
    },
    {
      "cell_type": "code",
      "metadata": {
        "colab": {
          "base_uri": "https://localhost:8080/",
          "height": 294
        },
        "id": "hhq1K7S1tkW-",
        "outputId": "183b45d5-247f-4184-9843-49bce938bdb1"
      },
      "source": [
        "# Plot loss\n",
        "plt.figure(figsize=(20, 4))\n",
        "\n",
        "plt.subplot(1, 2, 1)\n",
        "plt.title('Loss')\n",
        "plt.plot(history.history['loss'], label='Training', linewidth=2)\n",
        "plt.plot(history.history['val_loss'], label='Validation', linewidth=2)\n",
        "plt.legend()\n",
        "plt.xlabel('Epoch')\n",
        "plt.ylabel('Loss')\n",
        "plt.grid(True)\n",
        "\n",
        "plt.subplot(1, 2, 2)\n",
        "plt.title('Accuracy')\n",
        "plt.plot(history.history['accuracy'], label='Training', linewidth=2)\n",
        "plt.plot(history.history['val_accuracy'], label='Validation', linewidth=2)\n",
        "plt.legend()\n",
        "plt.xlabel('Epoch')\n",
        "plt.ylabel('Accuracy')\n",
        "plt.grid(True)\n",
        "\n",
        "plt.show()"
      ],
      "execution_count": 182,
      "outputs": [
        {
          "output_type": "display_data",
          "data": {
            "image/png": "[encoded data removed]",
            "text/plain": [
              "<Figure size 1440x288 with 2 Axes>"
            ]
          },
          "metadata": {
            "tags": [],
            "needs_background": "light"
          }
        }
      ]
    },
    {
      "cell_type": "code",
      "metadata": {
        "id": "TqMtk5JZ14s7"
      },
      "source": [
        "#checkpoint2 = ModelCheckpoint(\"rnn_model.hdf5\", monitor='val_accuracy', verbose=1,save_best_only=True, mode='auto', period=1,save_weights_only=False)\n",
        "#history = model2.fit(X_train, y_train, epochs=10, validation_split=0.2, callbacks=[checkpoint2])"
      ],
      "execution_count": null,
      "outputs": []
    },
    {
      "cell_type": "markdown",
      "metadata": {
        "id": "AjntEd1sKKG1"
      },
      "source": [
        "## Con bidirectional"
      ]
    },
    {
      "cell_type": "code",
      "metadata": {
        "id": "zr8ks6ZKKL50",
        "outputId": "5c18089a-8c89-4b66-9ca9-22e295528eae",
        "colab": {
          "base_uri": "https://localhost:8080/"
        }
      },
      "source": [
        "model2 = Sequential()\n",
        "model2.add(Embedding(max_words, 128))\n",
        "model2.add(Bidirectional(LSTM(64,dropout=0.5)))\n",
        "model2.add(Dense(16, activation='relu'))\n",
        "model2.add(Dense(8, activation='relu'))\n",
        "model2.add(Dense(1,activation='sigmoid'))\n",
        "model2.compile(optimizer='adam', loss='binary_crossentropy', metrics=[tf.metrics.BinaryAccuracy(), 'accuracy'])\n",
        "\n",
        "model2.summary()"
      ],
      "execution_count": 229,
      "outputs": [
        {
          "output_type": "stream",
          "text": [
            "Model: \"sequential_9\"\n",
            "_________________________________________________________________\n",
            "Layer (type)                 Output Shape              Param #   \n",
            "=================================================================\n",
            "embedding_9 (Embedding)      (None, None, 128)         128000    \n",
            "_________________________________________________________________\n",
            "bidirectional_5 (Bidirection (None, 128)               98816     \n",
            "_________________________________________________________________\n",
            "dense_23 (Dense)             (None, 16)                2064      \n",
            "_________________________________________________________________\n",
            "dense_24 (Dense)             (None, 8)                 136       \n",
            "_________________________________________________________________\n",
            "dense_25 (Dense)             (None, 1)                 9         \n",
            "=================================================================\n",
            "Total params: 229,025\n",
            "Trainable params: 229,025\n",
            "Non-trainable params: 0\n",
            "_________________________________________________________________\n"
          ],
          "name": "stdout"
        }
      ]
    },
    {
      "cell_type": "code",
      "metadata": {
        "id": "4tX-dwPxKL9O",
        "outputId": "c2158737-b65a-4829-bf57-afdaf3b08c3b",
        "colab": {
          "base_uri": "https://localhost:8080/"
        }
      },
      "source": [
        "# Train\n",
        "history = model2.fit(X_train, y_train, epochs=10, batch_size=64, validation_split=0.2)"
      ],
      "execution_count": 230,
      "outputs": [
        {
          "output_type": "stream",
          "text": [
            "Epoch 1/10\n",
            "465/465 [==============================] - 7s 10ms/step - loss: 0.6109 - binary_accuracy: 0.6519 - accuracy: 0.6519 - val_loss: 0.5299 - val_binary_accuracy: 0.7275 - val_accuracy: 0.7275\n",
            "Epoch 2/10\n",
            "465/465 [==============================] - 4s 8ms/step - loss: 0.5127 - binary_accuracy: 0.7430 - accuracy: 0.7430 - val_loss: 0.5222 - val_binary_accuracy: 0.7344 - val_accuracy: 0.7344\n",
            "Epoch 3/10\n",
            "465/465 [==============================] - 4s 8ms/step - loss: 0.4949 - binary_accuracy: 0.7510 - accuracy: 0.7510 - val_loss: 0.5259 - val_binary_accuracy: 0.7321 - val_accuracy: 0.7321\n",
            "Epoch 4/10\n",
            "465/465 [==============================] - 4s 9ms/step - loss: 0.4853 - binary_accuracy: 0.7572 - accuracy: 0.7572 - val_loss: 0.5274 - val_binary_accuracy: 0.7312 - val_accuracy: 0.7312\n",
            "Epoch 5/10\n",
            "465/465 [==============================] - 4s 8ms/step - loss: 0.4747 - binary_accuracy: 0.7625 - accuracy: 0.7625 - val_loss: 0.5285 - val_binary_accuracy: 0.7289 - val_accuracy: 0.7289\n",
            "Epoch 6/10\n",
            "465/465 [==============================] - 4s 8ms/step - loss: 0.4665 - binary_accuracy: 0.7639 - accuracy: 0.7639 - val_loss: 0.5318 - val_binary_accuracy: 0.7286 - val_accuracy: 0.7286\n",
            "Epoch 7/10\n",
            "465/465 [==============================] - 4s 8ms/step - loss: 0.4548 - binary_accuracy: 0.7677 - accuracy: 0.7677 - val_loss: 0.5405 - val_binary_accuracy: 0.7281 - val_accuracy: 0.7281\n",
            "Epoch 8/10\n",
            "465/465 [==============================] - 4s 8ms/step - loss: 0.4438 - binary_accuracy: 0.7763 - accuracy: 0.7763 - val_loss: 0.5464 - val_binary_accuracy: 0.7230 - val_accuracy: 0.7230\n",
            "Epoch 9/10\n",
            "465/465 [==============================] - 4s 9ms/step - loss: 0.4333 - binary_accuracy: 0.7812 - accuracy: 0.7812 - val_loss: 0.5554 - val_binary_accuracy: 0.7292 - val_accuracy: 0.7292\n",
            "Epoch 10/10\n",
            "465/465 [==============================] - 4s 8ms/step - loss: 0.4245 - binary_accuracy: 0.7846 - accuracy: 0.7846 - val_loss: 0.5649 - val_binary_accuracy: 0.7168 - val_accuracy: 0.7168\n"
          ],
          "name": "stdout"
        }
      ]
    },
    {
      "cell_type": "code",
      "metadata": {
        "id": "l9MTYpiaKMCn",
        "outputId": "7c7ddb67-a06c-4176-f8e0-b388b2f7f6c1",
        "colab": {
          "base_uri": "https://localhost:8080/"
        }
      },
      "source": [
        "model2.evaluate(x=X_test, y=y_test)"
      ],
      "execution_count": 231,
      "outputs": [
        {
          "output_type": "stream",
          "text": [
            "498/498 [==============================] - 2s 3ms/step - loss: 0.5819 - binary_accuracy: 0.7108 - accuracy: 0.7108\n"
          ],
          "name": "stdout"
        },
        {
          "output_type": "execute_result",
          "data": {
            "text/plain": [
              "[0.5818944573402405, 0.7108070850372314, 0.7108070850372314]"
            ]
          },
          "metadata": {
            "tags": []
          },
          "execution_count": 231
        }
      ]
    },
    {
      "cell_type": "code",
      "metadata": {
        "id": "uB4VQ5TqKMSF",
        "outputId": "cd4510c9-b4e2-4b0d-ad4e-090dc99f42dd",
        "colab": {
          "base_uri": "https://localhost:8080/",
          "height": 294
        }
      },
      "source": [
        "# Plot loss\n",
        "plt.figure(figsize=(20, 4))\n",
        "\n",
        "plt.subplot(1, 2, 1)\n",
        "plt.title('Loss')\n",
        "plt.plot(history.history['loss'], label='Training', linewidth=2)\n",
        "plt.plot(history.history['val_loss'], label='Validation', linewidth=2)\n",
        "plt.legend()\n",
        "plt.xlabel('Epoch')\n",
        "plt.ylabel('Loss')\n",
        "plt.grid(True)\n",
        "\n",
        "plt.subplot(1, 2, 2)\n",
        "plt.title('Accuracy')\n",
        "plt.plot(history.history['accuracy'], label='Training', linewidth=2)\n",
        "plt.plot(history.history['val_accuracy'], label='Validation', linewidth=2)\n",
        "plt.legend()\n",
        "plt.xlabel('Epoch')\n",
        "plt.ylabel('Accuracy')\n",
        "plt.grid(True)\n",
        "\n",
        "plt.show()"
      ],
      "execution_count": 232,
      "outputs": [
        {
          "output_type": "display_data",
          "data": {
            "image/png": "[encoded data removed]",
            "text/plain": [
              "<Figure size 1440x288 with 2 Axes>"
            ]
          },
          "metadata": {
            "tags": [],
            "needs_background": "light"
          }
        }
      ]
    },
    {
      "cell_type": "markdown",
      "metadata": {
        "id": "f4Nd3946caQm"
      },
      "source": [
        "## Nuestro"
      ]
    },
    {
      "cell_type": "code",
      "metadata": {
        "id": "iqOHcIW9ccdI",
        "colab": {
          "base_uri": "https://localhost:8080/"
        },
        "outputId": "ef9c9d75-8eb6-4718-e70c-e709980243e7"
      },
      "source": [
        "model3 = Sequential()\n",
        "model3.add(Embedding(max_words, 40, input_length=max_len))\n",
        "model3.add(Bidirectional(layers.LSTM(20,dropout=0.6)))\n",
        "model3.add(Dense(16,activation='relu'))\n",
        "model3.add(Dense(1,activation='tanh'))\n",
        "\n",
        "model3.compile(optimizer='rmsprop',loss='categorical_crossentropy', metrics=['accuracy'])\n",
        "\n",
        "model3.summary()"
      ],
      "execution_count": 187,
      "outputs": [
        {
          "output_type": "stream",
          "text": [
            "Model: \"sequential_2\"\n",
            "_________________________________________________________________\n",
            "Layer (type)                 Output Shape              Param #   \n",
            "=================================================================\n",
            "embedding_2 (Embedding)      (None, 10, 40)            40000     \n",
            "_________________________________________________________________\n",
            "bidirectional_1 (Bidirection (None, 40)                9760      \n",
            "_________________________________________________________________\n",
            "dense_5 (Dense)              (None, 16)                656       \n",
            "_________________________________________________________________\n",
            "dense_6 (Dense)              (None, 1)                 17        \n",
            "=================================================================\n",
            "Total params: 50,433\n",
            "Trainable params: 50,433\n",
            "Non-trainable params: 0\n",
            "_________________________________________________________________\n"
          ],
          "name": "stdout"
        }
      ]
    },
    {
      "cell_type": "code",
      "metadata": {
        "id": "eLEOrQqYeBO8",
        "colab": {
          "base_uri": "https://localhost:8080/",
          "height": 274
        },
        "outputId": "1f2ed096-8876-46b6-fcee-4a00d800c822"
      },
      "source": [
        "# Plot model\n",
        "from tensorflow.keras.utils import plot_model\n",
        "plot_model(model3, show_shapes=True, show_layer_names=True,\n",
        "                          rankdir='TB', expand_nested=True, dpi=48)"
      ],
      "execution_count": 188,
      "outputs": [
        {
          "output_type": "execute_result",
          "data": {
            "image/png": "[encoded data removed]",
            "text/plain": [
              "<IPython.core.display.Image object>"
            ]
          },
          "metadata": {
            "tags": []
          },
          "execution_count": 188
        }
      ]
    },
    {
      "cell_type": "code",
      "metadata": {
        "id": "OQHfTRC_eDq3",
        "colab": {
          "base_uri": "https://localhost:8080/"
        },
        "outputId": "dabed650-72f4-4b20-a46d-474c70348637"
      },
      "source": [
        "# Train\n",
        "history = model3.fit(X_train, y_train, epochs=10, batch_size=64, validation_split=0.2)"
      ],
      "execution_count": 189,
      "outputs": [
        {
          "output_type": "stream",
          "text": [
            "Epoch 1/10\n",
            "465/465 [==============================] - 7s 9ms/step - loss: 6.0184e-08 - accuracy: 0.4951 - val_loss: 5.9909e-08 - val_accuracy: 0.4974\n",
            "Epoch 2/10\n",
            "465/465 [==============================] - 3s 7ms/step - loss: 5.9965e-08 - accuracy: 0.4970 - val_loss: 5.9909e-08 - val_accuracy: 0.4974\n",
            "Epoch 3/10\n",
            "465/465 [==============================] - 3s 7ms/step - loss: 5.9939e-08 - accuracy: 0.4972 - val_loss: 5.9909e-08 - val_accuracy: 0.4974\n",
            "Epoch 4/10\n",
            "465/465 [==============================] - 3s 7ms/step - loss: 5.9786e-08 - accuracy: 0.4985 - val_loss: 5.9909e-08 - val_accuracy: 0.4974\n",
            "Epoch 5/10\n",
            "465/465 [==============================] - 3s 7ms/step - loss: 6.0144e-08 - accuracy: 0.4955 - val_loss: 5.9909e-08 - val_accuracy: 0.4974\n",
            "Epoch 6/10\n",
            "465/465 [==============================] - 3s 7ms/step - loss: 5.9959e-08 - accuracy: 0.4970 - val_loss: 5.9909e-08 - val_accuracy: 0.4974\n",
            "Epoch 7/10\n",
            "465/465 [==============================] - 3s 7ms/step - loss: 6.0199e-08 - accuracy: 0.4950 - val_loss: 5.9909e-08 - val_accuracy: 0.4974\n",
            "Epoch 8/10\n",
            "465/465 [==============================] - 3s 7ms/step - loss: 5.9631e-08 - accuracy: 0.4998 - val_loss: 5.9909e-08 - val_accuracy: 0.4974\n",
            "Epoch 9/10\n",
            "465/465 [==============================] - 3s 7ms/step - loss: 5.9453e-08 - accuracy: 0.5013 - val_loss: 5.9909e-08 - val_accuracy: 0.4974\n",
            "Epoch 10/10\n",
            "465/465 [==============================] - 3s 7ms/step - loss: 6.0104e-08 - accuracy: 0.4958 - val_loss: 5.9909e-08 - val_accuracy: 0.4974\n"
          ],
          "name": "stdout"
        }
      ]
    },
    {
      "cell_type": "code",
      "metadata": {
        "id": "hzHOZx2bePQ7",
        "outputId": "6a8f79c6-68ce-45d4-ed91-06d7dfc87b31",
        "colab": {
          "base_uri": "https://localhost:8080/",
          "height": 294
        }
      },
      "source": [
        "# Plot loss\n",
        "plt.figure(figsize=(20, 4))\n",
        "\n",
        "plt.subplot(1, 2, 1)\n",
        "plt.title('Loss')\n",
        "plt.plot(history.history['loss'], label='Training', linewidth=2)\n",
        "plt.plot(history.history['val_loss'], label='Validation', linewidth=2)\n",
        "plt.legend()\n",
        "plt.xlabel('Epoch')\n",
        "plt.ylabel('Loss')\n",
        "plt.grid(True)\n",
        "\n",
        "plt.subplot(1, 2, 2)\n",
        "plt.title('Accuracy')\n",
        "plt.plot(history.history['accuracy'], label='Training', linewidth=2)\n",
        "plt.plot(history.history['val_accuracy'], label='Validation', linewidth=2)\n",
        "plt.legend()\n",
        "plt.xlabel('Epoch')\n",
        "plt.ylabel('Accuracy')\n",
        "plt.grid(True)\n",
        "\n",
        "plt.show()"
      ],
      "execution_count": 190,
      "outputs": [
        {
          "output_type": "display_data",
          "data": {
            "image/png": "[encoded data removed]",
            "text/plain": [
              "<Figure size 1440x288 with 2 Axes>"
            ]
          },
          "metadata": {
            "tags": [],
            "needs_background": "light"
          }
        }
      ]
    },
    {
      "cell_type": "code",
      "metadata": {
        "id": "S78NeSZDBlQl",
        "outputId": "41beb2d7-be9c-4046-febb-3dedeb885121",
        "colab": {
          "base_uri": "https://localhost:8080/"
        }
      },
      "source": [
        "model3.evaluate(x=X_test, y=y_test)"
      ],
      "execution_count": 191,
      "outputs": [
        {
          "output_type": "stream",
          "text": [
            "498/498 [==============================] - 1s 3ms/step - loss: 5.9059e-08 - accuracy: 0.5046\n"
          ],
          "name": "stdout"
        },
        {
          "output_type": "execute_result",
          "data": {
            "text/plain": [
              "[5.905850386511702e-08, 0.5045813918113708]"
            ]
          },
          "metadata": {
            "tags": []
          },
          "execution_count": 191
        }
      ]
    },
    {
      "cell_type": "markdown",
      "metadata": {
        "id": "VLyyFdB43Hjk"
      },
      "source": [
        "# Modelo 1 de Elena con otros datos"
      ]
    },
    {
      "cell_type": "code",
      "metadata": {
        "id": "yTkq1vkOCJ1T"
      },
      "source": [
        "model = Sequential()\n",
        "model.add(Embedding(input_length=max_len, input_dim=max_words, output_dim=64, trainable=True))\n",
        "model.add(LSTM(units=64))\n",
        "model.add(Dropout(0.5))\n",
        "model.add(Dense(units=82, activation='relu'))\n",
        "model.add(Dropout(0.5))\n",
        "model.add(Dense(units=1, activation='sigmoid'))"
      ],
      "execution_count": 192,
      "outputs": []
    },
    {
      "cell_type": "code",
      "metadata": {
        "id": "hmVjBB4lCOxo"
      },
      "source": [
        "model.compile(loss=tf.keras.losses.BinaryCrossentropy(from_logits=True), optimizer='adam', metrics=[tf.metrics.BinaryAccuracy(), 'accuracy'])"
      ],
      "execution_count": 193,
      "outputs": []
    },
    {
      "cell_type": "code",
      "metadata": {
        "id": "8sCvp0scCR2G",
        "outputId": "e3f1d611-9ee1-497d-8639-2a0b2d011f8a",
        "colab": {
          "base_uri": "https://localhost:8080/"
        }
      },
      "source": [
        "history = model.fit(X_train, y_train, epochs=20, batch_size=16, validation_split=0.2)"
      ],
      "execution_count": 194,
      "outputs": [
        {
          "output_type": "stream",
          "text": [
            "Epoch 1/20\n",
            "1859/1859 [==============================] - 12s 5ms/step - loss: 0.5919 - binary_accuracy: 0.6712 - accuracy: 0.6712 - val_loss: 0.5315 - val_binary_accuracy: 0.7296 - val_accuracy: 0.7296\n",
            "Epoch 2/20\n",
            "1859/1859 [==============================] - 10s 5ms/step - loss: 0.5164 - binary_accuracy: 0.7446 - accuracy: 0.7446 - val_loss: 0.5278 - val_binary_accuracy: 0.7340 - val_accuracy: 0.7340\n",
            "Epoch 3/20\n",
            "1859/1859 [==============================] - 10s 5ms/step - loss: 0.5001 - binary_accuracy: 0.7517 - accuracy: 0.7517 - val_loss: 0.5280 - val_binary_accuracy: 0.7293 - val_accuracy: 0.7293\n",
            "Epoch 4/20\n",
            "1859/1859 [==============================] - 10s 5ms/step - loss: 0.4844 - binary_accuracy: 0.7607 - accuracy: 0.7607 - val_loss: 0.5334 - val_binary_accuracy: 0.7269 - val_accuracy: 0.7269\n",
            "Epoch 5/20\n",
            "1859/1859 [==============================] - 10s 5ms/step - loss: 0.4707 - binary_accuracy: 0.7679 - accuracy: 0.7679 - val_loss: 0.5375 - val_binary_accuracy: 0.7336 - val_accuracy: 0.7336\n",
            "Epoch 6/20\n",
            "1859/1859 [==============================] - 10s 5ms/step - loss: 0.4567 - binary_accuracy: 0.7769 - accuracy: 0.7769 - val_loss: 0.5482 - val_binary_accuracy: 0.7294 - val_accuracy: 0.7294\n",
            "Epoch 7/20\n",
            "1859/1859 [==============================] - 10s 5ms/step - loss: 0.4425 - binary_accuracy: 0.7816 - accuracy: 0.7816 - val_loss: 0.5869 - val_binary_accuracy: 0.7196 - val_accuracy: 0.7196\n",
            "Epoch 8/20\n",
            "1859/1859 [==============================] - 10s 5ms/step - loss: 0.4309 - binary_accuracy: 0.7856 - accuracy: 0.7856 - val_loss: 0.5814 - val_binary_accuracy: 0.7180 - val_accuracy: 0.7180\n",
            "Epoch 9/20\n",
            "1859/1859 [==============================] - 10s 5ms/step - loss: 0.4150 - binary_accuracy: 0.7937 - accuracy: 0.7937 - val_loss: 0.5997 - val_binary_accuracy: 0.7146 - val_accuracy: 0.7146\n",
            "Epoch 10/20\n",
            "1859/1859 [==============================] - 10s 5ms/step - loss: 0.3965 - binary_accuracy: 0.8058 - accuracy: 0.8058 - val_loss: 0.6167 - val_binary_accuracy: 0.7169 - val_accuracy: 0.7169\n",
            "Epoch 11/20\n",
            "1859/1859 [==============================] - 10s 5ms/step - loss: 0.3773 - binary_accuracy: 0.8118 - accuracy: 0.8118 - val_loss: 0.6464 - val_binary_accuracy: 0.7121 - val_accuracy: 0.7121\n",
            "Epoch 12/20\n",
            "1859/1859 [==============================] - 10s 5ms/step - loss: 0.3560 - binary_accuracy: 0.8243 - accuracy: 0.8243 - val_loss: 0.7251 - val_binary_accuracy: 0.7125 - val_accuracy: 0.7125\n",
            "Epoch 13/20\n",
            "1859/1859 [==============================] - 10s 5ms/step - loss: 0.3394 - binary_accuracy: 0.8285 - accuracy: 0.8285 - val_loss: 0.7547 - val_binary_accuracy: 0.7029 - val_accuracy: 0.7029\n",
            "Epoch 14/20\n",
            "1859/1859 [==============================] - 10s 5ms/step - loss: 0.3231 - binary_accuracy: 0.8354 - accuracy: 0.8354 - val_loss: 0.8629 - val_binary_accuracy: 0.6966 - val_accuracy: 0.6966\n",
            "Epoch 15/20\n",
            "1859/1859 [==============================] - 10s 5ms/step - loss: 0.3039 - binary_accuracy: 0.8485 - accuracy: 0.8485 - val_loss: 0.8630 - val_binary_accuracy: 0.6924 - val_accuracy: 0.6924\n",
            "Epoch 16/20\n",
            "1859/1859 [==============================] - 10s 5ms/step - loss: 0.2848 - binary_accuracy: 0.8584 - accuracy: 0.8584 - val_loss: 0.8731 - val_binary_accuracy: 0.6911 - val_accuracy: 0.6911\n",
            "Epoch 17/20\n",
            "1859/1859 [==============================] - 10s 5ms/step - loss: 0.2716 - binary_accuracy: 0.8627 - accuracy: 0.8627 - val_loss: 0.9683 - val_binary_accuracy: 0.6848 - val_accuracy: 0.6848\n",
            "Epoch 18/20\n",
            "1859/1859 [==============================] - 10s 5ms/step - loss: 0.2614 - binary_accuracy: 0.8689 - accuracy: 0.8689 - val_loss: 1.0976 - val_binary_accuracy: 0.6880 - val_accuracy: 0.6880\n",
            "Epoch 19/20\n",
            "1859/1859 [==============================] - 10s 5ms/step - loss: 0.2355 - binary_accuracy: 0.8806 - accuracy: 0.8806 - val_loss: 1.1096 - val_binary_accuracy: 0.6856 - val_accuracy: 0.6856\n",
            "Epoch 20/20\n",
            "1859/1859 [==============================] - 10s 5ms/step - loss: 0.2227 - binary_accuracy: 0.8904 - accuracy: 0.8904 - val_loss: 1.3036 - val_binary_accuracy: 0.6834 - val_accuracy: 0.6834\n"
          ],
          "name": "stdout"
        }
      ]
    },
    {
      "cell_type": "code",
      "metadata": {
        "id": "j6XhU7H4CTMi",
        "outputId": "116c5cd9-7b9d-4d24-a3b4-5ff5beb6ffd2",
        "colab": {
          "base_uri": "https://localhost:8080/"
        }
      },
      "source": [
        "model.evaluate(x=X_test, y=y_test)"
      ],
      "execution_count": 195,
      "outputs": [
        {
          "output_type": "stream",
          "text": [
            "498/498 [==============================] - 1s 2ms/step - loss: 1.3192 - binary_accuracy: 0.6851 - accuracy: 0.6851\n"
          ],
          "name": "stdout"
        },
        {
          "output_type": "execute_result",
          "data": {
            "text/plain": [
              "[1.3192397356033325, 0.6850759387016296, 0.6850759387016296]"
            ]
          },
          "metadata": {
            "tags": []
          },
          "execution_count": 195
        }
      ]
    },
    {
      "cell_type": "code",
      "metadata": {
        "id": "NaqeojlzCVfV",
        "outputId": "49d1e5f5-6072-4098-cd3f-bfc7dd0259e5",
        "colab": {
          "base_uri": "https://localhost:8080/",
          "height": 294
        }
      },
      "source": [
        "# Plot loss\n",
        "plt.figure(figsize=(20, 4))\n",
        "\n",
        "plt.subplot(1, 2, 1)\n",
        "plt.title('Loss')\n",
        "plt.plot(history.history['loss'], label='Training', linewidth=2)\n",
        "plt.plot(history.history['val_loss'], label='Validation', linewidth=2)\n",
        "plt.legend()\n",
        "plt.xlabel('Epoch')\n",
        "plt.ylabel('Loss')\n",
        "plt.grid(True)\n",
        "\n",
        "plt.subplot(1, 2, 2)\n",
        "plt.title('Accuracy')\n",
        "plt.plot(history.history['accuracy'], label='Training', linewidth=2)\n",
        "plt.plot(history.history['val_accuracy'], label='Validation', linewidth=2)\n",
        "plt.legend()\n",
        "plt.xlabel('Epoch')\n",
        "plt.ylabel('Accuracy')\n",
        "plt.grid(True)\n",
        "\n",
        "plt.show()"
      ],
      "execution_count": 196,
      "outputs": [
        {
          "output_type": "display_data",
          "data": {
            "image/png": "[encoded data removed]",
            "text/plain": [
              "<Figure size 1440x288 with 2 Axes>"
            ]
          },
          "metadata": {
            "tags": [],
            "needs_background": "light"
          }
        }
      ]
    },
    {
      "cell_type": "markdown",
      "metadata": {
        "id": "tnhwSIiQCjSD"
      },
      "source": [
        "# Modelo 1 con Bidirectional "
      ]
    },
    {
      "cell_type": "code",
      "metadata": {
        "id": "U0w_qnZyCnyn"
      },
      "source": [
        "model = Sequential()\n",
        "model.add(Embedding(input_length=max_len, input_dim=max_words, output_dim=64, trainable=True))\n",
        "model.add(Bidirectional(LSTM(units=64)))\n",
        "model.add(Dropout(0.5))\n",
        "model.add(Dense(units=82, activation='relu'))\n",
        "model.add(Dropout(0.5))\n",
        "model.add(Dense(units=1, activation='sigmoid'))"
      ],
      "execution_count": 197,
      "outputs": []
    },
    {
      "cell_type": "code",
      "metadata": {
        "id": "8RsEpZCHCrVx"
      },
      "source": [
        "model.compile(loss=tf.keras.losses.BinaryCrossentropy(from_logits=True), optimizer='adam', metrics=[tf.metrics.BinaryAccuracy(), 'accuracy'])"
      ],
      "execution_count": 198,
      "outputs": []
    },
    {
      "cell_type": "code",
      "metadata": {
        "id": "dz9iFik7CsKy",
        "outputId": "a0271408-cba1-4bdb-d506-e6ce5cbf56a1",
        "colab": {
          "base_uri": "https://localhost:8080/"
        }
      },
      "source": [
        "history = model.fit(X_train, y_train, epochs=20, batch_size=16, validation_split=0.2)"
      ],
      "execution_count": 199,
      "outputs": [
        {
          "output_type": "stream",
          "text": [
            "Epoch 1/20\n",
            "1859/1859 [==============================] - 17s 8ms/step - loss: 0.5949 - binary_accuracy: 0.6669 - accuracy: 0.6669 - val_loss: 0.5267 - val_binary_accuracy: 0.7294 - val_accuracy: 0.7294\n",
            "Epoch 2/20\n",
            "1859/1859 [==============================] - 13s 7ms/step - loss: 0.5134 - binary_accuracy: 0.7477 - accuracy: 0.7477 - val_loss: 0.5240 - val_binary_accuracy: 0.7322 - val_accuracy: 0.7322\n",
            "Epoch 3/20\n",
            "1859/1859 [==============================] - 14s 7ms/step - loss: 0.4990 - binary_accuracy: 0.7535 - accuracy: 0.7535 - val_loss: 0.5255 - val_binary_accuracy: 0.7314 - val_accuracy: 0.7314\n",
            "Epoch 4/20\n",
            "1859/1859 [==============================] - 14s 7ms/step - loss: 0.4853 - binary_accuracy: 0.7597 - accuracy: 0.7597 - val_loss: 0.5294 - val_binary_accuracy: 0.7320 - val_accuracy: 0.7320\n",
            "Epoch 5/20\n",
            "1859/1859 [==============================] - 13s 7ms/step - loss: 0.4683 - binary_accuracy: 0.7692 - accuracy: 0.7692 - val_loss: 0.5384 - val_binary_accuracy: 0.7262 - val_accuracy: 0.7262\n",
            "Epoch 6/20\n",
            "1859/1859 [==============================] - 14s 7ms/step - loss: 0.4481 - binary_accuracy: 0.7791 - accuracy: 0.7791 - val_loss: 0.5528 - val_binary_accuracy: 0.7292 - val_accuracy: 0.7292\n",
            "Epoch 7/20\n",
            "1859/1859 [==============================] - 13s 7ms/step - loss: 0.4293 - binary_accuracy: 0.7866 - accuracy: 0.7866 - val_loss: 0.5570 - val_binary_accuracy: 0.7200 - val_accuracy: 0.7200\n",
            "Epoch 8/20\n",
            "1859/1859 [==============================] - 13s 7ms/step - loss: 0.4139 - binary_accuracy: 0.7950 - accuracy: 0.7950 - val_loss: 0.5894 - val_binary_accuracy: 0.7205 - val_accuracy: 0.7205\n",
            "Epoch 9/20\n",
            "1859/1859 [==============================] - 14s 7ms/step - loss: 0.3951 - binary_accuracy: 0.8050 - accuracy: 0.8050 - val_loss: 0.5971 - val_binary_accuracy: 0.7157 - val_accuracy: 0.7157\n",
            "Epoch 10/20\n",
            "1859/1859 [==============================] - 13s 7ms/step - loss: 0.3741 - binary_accuracy: 0.8129 - accuracy: 0.8129 - val_loss: 0.6398 - val_binary_accuracy: 0.7101 - val_accuracy: 0.7101\n",
            "Epoch 11/20\n",
            "1859/1859 [==============================] - 13s 7ms/step - loss: 0.3521 - binary_accuracy: 0.8258 - accuracy: 0.8258 - val_loss: 0.7089 - val_binary_accuracy: 0.7123 - val_accuracy: 0.7123\n",
            "Epoch 12/20\n",
            "1859/1859 [==============================] - 13s 7ms/step - loss: 0.3285 - binary_accuracy: 0.8333 - accuracy: 0.8333 - val_loss: 0.7664 - val_binary_accuracy: 0.7049 - val_accuracy: 0.7049\n",
            "Epoch 13/20\n",
            "1859/1859 [==============================] - 13s 7ms/step - loss: 0.3095 - binary_accuracy: 0.8499 - accuracy: 0.8499 - val_loss: 0.7708 - val_binary_accuracy: 0.7063 - val_accuracy: 0.7063\n",
            "Epoch 14/20\n",
            "1859/1859 [==============================] - 13s 7ms/step - loss: 0.2836 - binary_accuracy: 0.8590 - accuracy: 0.8590 - val_loss: 0.8654 - val_binary_accuracy: 0.6982 - val_accuracy: 0.6982\n",
            "Epoch 15/20\n",
            "1859/1859 [==============================] - 13s 7ms/step - loss: 0.2617 - binary_accuracy: 0.8681 - accuracy: 0.8681 - val_loss: 1.0027 - val_binary_accuracy: 0.6990 - val_accuracy: 0.6990\n",
            "Epoch 16/20\n",
            "1859/1859 [==============================] - 14s 7ms/step - loss: 0.2444 - binary_accuracy: 0.8784 - accuracy: 0.8784 - val_loss: 1.0811 - val_binary_accuracy: 0.6963 - val_accuracy: 0.6963\n",
            "Epoch 17/20\n",
            "1859/1859 [==============================] - 13s 7ms/step - loss: 0.2228 - binary_accuracy: 0.8908 - accuracy: 0.8908 - val_loss: 1.1262 - val_binary_accuracy: 0.6938 - val_accuracy: 0.6938\n",
            "Epoch 18/20\n",
            "1859/1859 [==============================] - 13s 7ms/step - loss: 0.2057 - binary_accuracy: 0.8998 - accuracy: 0.8998 - val_loss: 1.2049 - val_binary_accuracy: 0.6939 - val_accuracy: 0.6939\n",
            "Epoch 19/20\n",
            "1859/1859 [==============================] - 13s 7ms/step - loss: 0.1868 - binary_accuracy: 0.9097 - accuracy: 0.9097 - val_loss: 1.2446 - val_binary_accuracy: 0.6939 - val_accuracy: 0.6939\n",
            "Epoch 20/20\n",
            "1859/1859 [==============================] - 13s 7ms/step - loss: 0.1811 - binary_accuracy: 0.9143 - accuracy: 0.9143 - val_loss: 1.3346 - val_binary_accuracy: 0.6939 - val_accuracy: 0.6939\n"
          ],
          "name": "stdout"
        }
      ]
    },
    {
      "cell_type": "code",
      "metadata": {
        "id": "T3EJuI6LCusa",
        "outputId": "da3fc66b-6fdb-47af-f063-f4e5b42cb07f",
        "colab": {
          "base_uri": "https://localhost:8080/"
        }
      },
      "source": [
        "model.evaluate(x=X_test, y=y_test)"
      ],
      "execution_count": 200,
      "outputs": [
        {
          "output_type": "stream",
          "text": [
            "498/498 [==============================] - 2s 3ms/step - loss: 1.4406 - binary_accuracy: 0.6823 - accuracy: 0.6823\n"
          ],
          "name": "stdout"
        },
        {
          "output_type": "execute_result",
          "data": {
            "text/plain": [
              "[1.440642237663269, 0.6822518110275269, 0.6822518110275269]"
            ]
          },
          "metadata": {
            "tags": []
          },
          "execution_count": 200
        }
      ]
    },
    {
      "cell_type": "code",
      "metadata": {
        "id": "EwRVolrHCv7f",
        "outputId": "92fab1dc-ea68-43f1-82a8-db3b1b3cfc3d",
        "colab": {
          "base_uri": "https://localhost:8080/",
          "height": 294
        }
      },
      "source": [
        "# Plot loss\n",
        "plt.figure(figsize=(20, 4))\n",
        "\n",
        "plt.subplot(1, 2, 1)\n",
        "plt.title('Loss')\n",
        "plt.plot(history.history['loss'], label='Training', linewidth=2)\n",
        "plt.plot(history.history['val_loss'], label='Validation', linewidth=2)\n",
        "plt.legend()\n",
        "plt.xlabel('Epoch')\n",
        "plt.ylabel('Loss')\n",
        "plt.grid(True)\n",
        "\n",
        "plt.subplot(1, 2, 2)\n",
        "plt.title('Accuracy')\n",
        "plt.plot(history.history['accuracy'], label='Training', linewidth=2)\n",
        "plt.plot(history.history['val_accuracy'], label='Validation', linewidth=2)\n",
        "plt.legend()\n",
        "plt.xlabel('Epoch')\n",
        "plt.ylabel('Accuracy')\n",
        "plt.grid(True)\n",
        "\n",
        "plt.show()"
      ],
      "execution_count": 201,
      "outputs": [
        {
          "output_type": "display_data",
          "data": {
            "image/png": "[encoded data removed]",
            "text/plain": [
              "<Figure size 1440x288 with 2 Axes>"
            ]
          },
          "metadata": {
            "tags": [],
            "needs_background": "light"
          }
        }
      ]
    },
    {
      "cell_type": "markdown",
      "metadata": {
        "id": "U-_PDsamFBG2"
      },
      "source": [
        "# Modelo 6 de Elena con otros datos"
      ]
    },
    {
      "cell_type": "code",
      "metadata": {
        "id": "7y3r1AkeEhNU"
      },
      "source": [
        "model = Sequential()\n",
        "model.add(Embedding(input_length=max_len, input_dim=max_words, output_dim=64, trainable=True))\n",
        "model.add(LSTM(units=64))\n",
        "model.add(Dropout(0.5))\n",
        "model.add(Dense(units=32, activation='relu'))\n",
        "model.add(Dropout(0.5))\n",
        "model.add(Dense(units=16, activation='relu'))\n",
        "model.add(Dropout(0.5))\n",
        "model.add(Dense(units=1, activation='sigmoid'))"
      ],
      "execution_count": 202,
      "outputs": []
    },
    {
      "cell_type": "code",
      "metadata": {
        "id": "cNCF1u5FFFiN"
      },
      "source": [
        "model.compile(loss=tf.keras.losses.BinaryCrossentropy(from_logits=False), optimizer='adam', \n",
        "              metrics=[tf.metrics.BinaryAccuracy(), 'accuracy'])"
      ],
      "execution_count": 203,
      "outputs": []
    },
    {
      "cell_type": "code",
      "metadata": {
        "id": "3VYaVgl2FHh4",
        "outputId": "66c8842d-7c94-4605-e3ce-2c81facc1bcd",
        "colab": {
          "base_uri": "https://localhost:8080/"
        }
      },
      "source": [
        "history = model.fit(X_train, y_train, epochs=20, batch_size=16, validation_split=0.2)"
      ],
      "execution_count": 205,
      "outputs": [
        {
          "output_type": "stream",
          "text": [
            "Epoch 1/20\n",
            "1859/1859 [==============================] - 12s 6ms/step - loss: 0.6261 - binary_accuracy: 0.6378 - accuracy: 0.6378 - val_loss: 0.5388 - val_binary_accuracy: 0.7230 - val_accuracy: 0.7230\n",
            "Epoch 2/20\n",
            "1859/1859 [==============================] - 10s 5ms/step - loss: 0.5414 - binary_accuracy: 0.7373 - accuracy: 0.7373 - val_loss: 0.5305 - val_binary_accuracy: 0.7266 - val_accuracy: 0.7266\n",
            "Epoch 3/20\n",
            "1859/1859 [==============================] - 10s 5ms/step - loss: 0.5252 - binary_accuracy: 0.7491 - accuracy: 0.7491 - val_loss: 0.5287 - val_binary_accuracy: 0.7331 - val_accuracy: 0.7331\n",
            "Epoch 4/20\n",
            "1859/1859 [==============================] - 10s 5ms/step - loss: 0.5153 - binary_accuracy: 0.7502 - accuracy: 0.7502 - val_loss: 0.5329 - val_binary_accuracy: 0.7317 - val_accuracy: 0.7317\n",
            "Epoch 5/20\n",
            "1859/1859 [==============================] - 10s 5ms/step - loss: 0.4954 - binary_accuracy: 0.7614 - accuracy: 0.7614 - val_loss: 0.5344 - val_binary_accuracy: 0.7301 - val_accuracy: 0.7301\n",
            "Epoch 6/20\n",
            "1859/1859 [==============================] - 10s 5ms/step - loss: 0.4858 - binary_accuracy: 0.7681 - accuracy: 0.7681 - val_loss: 0.5496 - val_binary_accuracy: 0.7228 - val_accuracy: 0.7228\n",
            "Epoch 7/20\n",
            "1859/1859 [==============================] - 10s 5ms/step - loss: 0.4745 - binary_accuracy: 0.7751 - accuracy: 0.7751 - val_loss: 0.5613 - val_binary_accuracy: 0.7288 - val_accuracy: 0.7288\n",
            "Epoch 8/20\n",
            "1859/1859 [==============================] - 10s 5ms/step - loss: 0.4634 - binary_accuracy: 0.7814 - accuracy: 0.7814 - val_loss: 0.5628 - val_binary_accuracy: 0.7192 - val_accuracy: 0.7192\n",
            "Epoch 9/20\n",
            "1859/1859 [==============================] - 10s 5ms/step - loss: 0.4485 - binary_accuracy: 0.7823 - accuracy: 0.7823 - val_loss: 0.5773 - val_binary_accuracy: 0.7156 - val_accuracy: 0.7156\n",
            "Epoch 10/20\n",
            "1859/1859 [==============================] - 10s 5ms/step - loss: 0.4286 - binary_accuracy: 0.7983 - accuracy: 0.7983 - val_loss: 0.5929 - val_binary_accuracy: 0.7172 - val_accuracy: 0.7172\n",
            "Epoch 11/20\n",
            "1859/1859 [==============================] - 10s 5ms/step - loss: 0.4141 - binary_accuracy: 0.8017 - accuracy: 0.8017 - val_loss: 0.6234 - val_binary_accuracy: 0.7097 - val_accuracy: 0.7097\n",
            "Epoch 12/20\n",
            "1859/1859 [==============================] - 10s 5ms/step - loss: 0.4016 - binary_accuracy: 0.8098 - accuracy: 0.8098 - val_loss: 0.6571 - val_binary_accuracy: 0.7067 - val_accuracy: 0.7067\n",
            "Epoch 13/20\n",
            "1859/1859 [==============================] - 10s 5ms/step - loss: 0.3819 - binary_accuracy: 0.8147 - accuracy: 0.8147 - val_loss: 0.6680 - val_binary_accuracy: 0.6973 - val_accuracy: 0.6973\n",
            "Epoch 14/20\n",
            "1859/1859 [==============================] - 10s 5ms/step - loss: 0.3782 - binary_accuracy: 0.8187 - accuracy: 0.8187 - val_loss: 0.8001 - val_binary_accuracy: 0.7054 - val_accuracy: 0.7054\n",
            "Epoch 15/20\n",
            "1859/1859 [==============================] - 10s 5ms/step - loss: 0.3628 - binary_accuracy: 0.8210 - accuracy: 0.8210 - val_loss: 0.9076 - val_binary_accuracy: 0.6946 - val_accuracy: 0.6946\n",
            "Epoch 16/20\n",
            "1859/1859 [==============================] - 10s 5ms/step - loss: 0.3506 - binary_accuracy: 0.8316 - accuracy: 0.8316 - val_loss: 0.8818 - val_binary_accuracy: 0.6951 - val_accuracy: 0.6951\n",
            "Epoch 17/20\n",
            "1859/1859 [==============================] - 10s 5ms/step - loss: 0.3315 - binary_accuracy: 0.8395 - accuracy: 0.8395 - val_loss: 0.9255 - val_binary_accuracy: 0.6942 - val_accuracy: 0.6942\n",
            "Epoch 18/20\n",
            "1859/1859 [==============================] - 10s 5ms/step - loss: 0.3164 - binary_accuracy: 0.8461 - accuracy: 0.8461 - val_loss: 0.9454 - val_binary_accuracy: 0.6845 - val_accuracy: 0.6845\n",
            "Epoch 19/20\n",
            "1859/1859 [==============================] - 10s 5ms/step - loss: 0.3068 - binary_accuracy: 0.8510 - accuracy: 0.8510 - val_loss: 1.0960 - val_binary_accuracy: 0.6915 - val_accuracy: 0.6915\n",
            "Epoch 20/20\n",
            "1859/1859 [==============================] - 10s 5ms/step - loss: 0.2889 - binary_accuracy: 0.8598 - accuracy: 0.8598 - val_loss: 1.0917 - val_binary_accuracy: 0.6910 - val_accuracy: 0.6910\n"
          ],
          "name": "stdout"
        }
      ]
    },
    {
      "cell_type": "code",
      "metadata": {
        "id": "5AC83tFNFKjS",
        "outputId": "9f6f1d4e-39a3-4e0a-b0bb-cd477ff27519",
        "colab": {
          "base_uri": "https://localhost:8080/"
        }
      },
      "source": [
        "model.evaluate(x=X_test, y=y_test)"
      ],
      "execution_count": 206,
      "outputs": [
        {
          "output_type": "stream",
          "text": [
            "498/498 [==============================] - 1s 3ms/step - loss: 1.0911 - binary_accuracy: 0.6895 - accuracy: 0.6895\n"
          ],
          "name": "stdout"
        },
        {
          "output_type": "execute_result",
          "data": {
            "text/plain": [
              "[1.0911160707473755, 0.6895318031311035, 0.6895318031311035]"
            ]
          },
          "metadata": {
            "tags": []
          },
          "execution_count": 206
        }
      ]
    },
    {
      "cell_type": "code",
      "metadata": {
        "id": "VwVtC9RsFfC0",
        "outputId": "f9ee4031-8181-40a8-c069-79a2bec1b196",
        "colab": {
          "base_uri": "https://localhost:8080/",
          "height": 294
        }
      },
      "source": [
        "# Plot loss\n",
        "plt.figure(figsize=(20, 4))\n",
        "\n",
        "plt.subplot(1, 2, 1)\n",
        "plt.title('Loss')\n",
        "plt.plot(history.history['loss'], label='Training', linewidth=2)\n",
        "plt.plot(history.history['val_loss'], label='Validation', linewidth=2)\n",
        "plt.legend()\n",
        "plt.xlabel('Epoch')\n",
        "plt.ylabel('Loss')\n",
        "plt.grid(True)\n",
        "\n",
        "plt.subplot(1, 2, 2)\n",
        "plt.title('Accuracy')\n",
        "plt.plot(history.history['accuracy'], label='Training', linewidth=2)\n",
        "plt.plot(history.history['val_accuracy'], label='Validation', linewidth=2)\n",
        "plt.legend()\n",
        "plt.xlabel('Epoch')\n",
        "plt.ylabel('Accuracy')\n",
        "plt.grid(True)\n",
        "\n",
        "plt.show()"
      ],
      "execution_count": 207,
      "outputs": [
        {
          "output_type": "display_data",
          "data": {
            "image/png": "[encoded data removed]",
            "text/plain": [
              "<Figure size 1440x288 with 2 Axes>"
            ]
          },
          "metadata": {
            "tags": [],
            "needs_background": "light"
          }
        }
      ]
    },
    {
      "cell_type": "code",
      "metadata": {
        "id": "fPYjNQvoFr-D"
      },
      "source": [
        ""
      ],
      "execution_count": null,
      "outputs": []
    },
    {
      "cell_type": "markdown",
      "metadata": {
        "id": "TTwMHX3KHbWE"
      },
      "source": [
        "# Bidirectional Modelo arriba"
      ]
    },
    {
      "cell_type": "markdown",
      "metadata": {
        "id": "IoLtJ6YfGmz1"
      },
      "source": [
        "# Modelo 5 de Elena con otros datos"
      ]
    },
    {
      "cell_type": "code",
      "metadata": {
        "id": "Ay7b_wRPGpiS"
      },
      "source": [
        "model = Sequential()\n",
        "model.add(Embedding(input_length=max_len, input_dim=max_words, output_dim=12, trainable=True))\n",
        "model.add(LSTM(units=12))\n",
        "model.add(Dropout(0.5))\n",
        "model.add(Dense(units=24, activation='relu'))\n",
        "model.add(Dropout(0.5))\n",
        "model.add(Dense(units=12, activation='relu'))\n",
        "model.add(Dropout(0.5))\n",
        "model.add(Dense(units=1, activation='sigmoid'))"
      ],
      "execution_count": 209,
      "outputs": []
    },
    {
      "cell_type": "code",
      "metadata": {
        "id": "GUa4929ZGuNE"
      },
      "source": [
        "model.compile(loss=tf.keras.losses.BinaryCrossentropy(from_logits=False), optimizer='adam', \n",
        "              metrics=[tf.metrics.BinaryAccuracy(), 'accuracy'])"
      ],
      "execution_count": 210,
      "outputs": []
    },
    {
      "cell_type": "code",
      "metadata": {
        "id": "o1rM9zuKGxDa",
        "outputId": "5cd243b3-a342-4e50-8fc3-8826e7415d2f",
        "colab": {
          "base_uri": "https://localhost:8080/"
        }
      },
      "source": [
        "history = model.fit(X_train, y_train, epochs=20, batch_size=16, validation_split=0.2)"
      ],
      "execution_count": 211,
      "outputs": [
        {
          "output_type": "stream",
          "text": [
            "Epoch 1/20\n",
            "1859/1859 [==============================] - 11s 5ms/step - loss: 0.6556 - binary_accuracy: 0.5918 - accuracy: 0.5918 - val_loss: 0.5390 - val_binary_accuracy: 0.7220 - val_accuracy: 0.7220\n",
            "Epoch 2/20\n",
            "1859/1859 [==============================] - 9s 5ms/step - loss: 0.5628 - binary_accuracy: 0.7291 - accuracy: 0.7291 - val_loss: 0.5283 - val_binary_accuracy: 0.7309 - val_accuracy: 0.7309\n",
            "Epoch 3/20\n",
            "1859/1859 [==============================] - 9s 5ms/step - loss: 0.5476 - binary_accuracy: 0.7396 - accuracy: 0.7396 - val_loss: 0.5261 - val_binary_accuracy: 0.7343 - val_accuracy: 0.7343\n",
            "Epoch 4/20\n",
            "1859/1859 [==============================] - 9s 5ms/step - loss: 0.5299 - binary_accuracy: 0.7428 - accuracy: 0.7428 - val_loss: 0.5295 - val_binary_accuracy: 0.7305 - val_accuracy: 0.7305\n",
            "Epoch 5/20\n",
            "1859/1859 [==============================] - 9s 5ms/step - loss: 0.5264 - binary_accuracy: 0.7477 - accuracy: 0.7477 - val_loss: 0.5340 - val_binary_accuracy: 0.7313 - val_accuracy: 0.7313\n",
            "Epoch 6/20\n",
            "1859/1859 [==============================] - 9s 5ms/step - loss: 0.5140 - binary_accuracy: 0.7513 - accuracy: 0.7513 - val_loss: 0.5301 - val_binary_accuracy: 0.7285 - val_accuracy: 0.7285\n",
            "Epoch 7/20\n",
            "1859/1859 [==============================] - 9s 5ms/step - loss: 0.5115 - binary_accuracy: 0.7536 - accuracy: 0.7536 - val_loss: 0.5287 - val_binary_accuracy: 0.7282 - val_accuracy: 0.7282\n",
            "Epoch 8/20\n",
            "1859/1859 [==============================] - 9s 5ms/step - loss: 0.5058 - binary_accuracy: 0.7569 - accuracy: 0.7569 - val_loss: 0.5287 - val_binary_accuracy: 0.7279 - val_accuracy: 0.7279\n",
            "Epoch 9/20\n",
            "1859/1859 [==============================] - 9s 5ms/step - loss: 0.5002 - binary_accuracy: 0.7592 - accuracy: 0.7592 - val_loss: 0.5385 - val_binary_accuracy: 0.7294 - val_accuracy: 0.7294\n",
            "Epoch 10/20\n",
            "1859/1859 [==============================] - 9s 5ms/step - loss: 0.4949 - binary_accuracy: 0.7620 - accuracy: 0.7620 - val_loss: 0.5427 - val_binary_accuracy: 0.7273 - val_accuracy: 0.7273\n",
            "Epoch 11/20\n",
            "1859/1859 [==============================] - 9s 5ms/step - loss: 0.4877 - binary_accuracy: 0.7660 - accuracy: 0.7660 - val_loss: 0.5497 - val_binary_accuracy: 0.7249 - val_accuracy: 0.7249\n",
            "Epoch 12/20\n",
            "1859/1859 [==============================] - 9s 5ms/step - loss: 0.4829 - binary_accuracy: 0.7713 - accuracy: 0.7713 - val_loss: 0.5614 - val_binary_accuracy: 0.7286 - val_accuracy: 0.7286\n",
            "Epoch 13/20\n",
            "1859/1859 [==============================] - 9s 5ms/step - loss: 0.4866 - binary_accuracy: 0.7717 - accuracy: 0.7717 - val_loss: 0.5498 - val_binary_accuracy: 0.7244 - val_accuracy: 0.7244\n",
            "Epoch 14/20\n",
            "1859/1859 [==============================] - 9s 5ms/step - loss: 0.4806 - binary_accuracy: 0.7750 - accuracy: 0.7750 - val_loss: 0.5671 - val_binary_accuracy: 0.7180 - val_accuracy: 0.7180\n",
            "Epoch 15/20\n",
            "1859/1859 [==============================] - 9s 5ms/step - loss: 0.4678 - binary_accuracy: 0.7794 - accuracy: 0.7794 - val_loss: 0.5639 - val_binary_accuracy: 0.7197 - val_accuracy: 0.7197\n",
            "Epoch 16/20\n",
            "1859/1859 [==============================] - 9s 5ms/step - loss: 0.4684 - binary_accuracy: 0.7825 - accuracy: 0.7825 - val_loss: 0.5744 - val_binary_accuracy: 0.7191 - val_accuracy: 0.7191\n",
            "Epoch 17/20\n",
            "1859/1859 [==============================] - 9s 5ms/step - loss: 0.4624 - binary_accuracy: 0.7863 - accuracy: 0.7863 - val_loss: 0.5729 - val_binary_accuracy: 0.7187 - val_accuracy: 0.7187\n",
            "Epoch 18/20\n",
            "1859/1859 [==============================] - 9s 5ms/step - loss: 0.4518 - binary_accuracy: 0.7896 - accuracy: 0.7896 - val_loss: 0.6003 - val_binary_accuracy: 0.7193 - val_accuracy: 0.7193\n",
            "Epoch 19/20\n",
            "1859/1859 [==============================] - 9s 5ms/step - loss: 0.4532 - binary_accuracy: 0.7866 - accuracy: 0.7866 - val_loss: 0.5950 - val_binary_accuracy: 0.7137 - val_accuracy: 0.7137\n",
            "Epoch 20/20\n",
            "1859/1859 [==============================] - 9s 5ms/step - loss: 0.4458 - binary_accuracy: 0.7952 - accuracy: 0.7952 - val_loss: 0.5934 - val_binary_accuracy: 0.7098 - val_accuracy: 0.7098\n"
          ],
          "name": "stdout"
        }
      ]
    },
    {
      "cell_type": "code",
      "metadata": {
        "id": "ecmG-aLVG0yc",
        "outputId": "e36a4d56-d052-427f-f4d3-441c55416af0",
        "colab": {
          "base_uri": "https://localhost:8080/"
        }
      },
      "source": [
        "model.evaluate(x=X_test, y=y_test)"
      ],
      "execution_count": 217,
      "outputs": [
        {
          "output_type": "stream",
          "text": [
            "498/498 [==============================] - 1s 2ms/step - loss: 0.6078 - binary_accuracy: 0.7141 - accuracy: 0.7141\n"
          ],
          "name": "stdout"
        },
        {
          "output_type": "execute_result",
          "data": {
            "text/plain": [
              "[0.6077851057052612, 0.7141333222389221, 0.7141333222389221]"
            ]
          },
          "metadata": {
            "tags": []
          },
          "execution_count": 217
        }
      ]
    },
    {
      "cell_type": "code",
      "metadata": {
        "id": "GxfWVBZDG4TL",
        "outputId": "c70126fc-f54f-423e-c24b-272078e8f5b2",
        "colab": {
          "base_uri": "https://localhost:8080/",
          "height": 294
        }
      },
      "source": [
        "# Plot loss\n",
        "plt.figure(figsize=(20, 4))\n",
        "\n",
        "plt.subplot(1, 2, 1)\n",
        "plt.title('Loss')\n",
        "plt.plot(history.history['loss'], label='Training', linewidth=2)\n",
        "plt.plot(history.history['val_loss'], label='Validation', linewidth=2)\n",
        "plt.legend()\n",
        "plt.xlabel('Epoch')\n",
        "plt.ylabel('Loss')\n",
        "plt.grid(True)\n",
        "\n",
        "plt.subplot(1, 2, 2)\n",
        "plt.title('Accuracy')\n",
        "plt.plot(history.history['accuracy'], label='Training', linewidth=2)\n",
        "plt.plot(history.history['val_accuracy'], label='Validation', linewidth=2)\n",
        "plt.legend()\n",
        "plt.xlabel('Epoch')\n",
        "plt.ylabel('Accuracy')\n",
        "plt.grid(True)\n",
        "\n",
        "plt.show()"
      ],
      "execution_count": 218,
      "outputs": [
        {
          "output_type": "display_data",
          "data": {
            "image/png": "[encoded data removed]",
            "text/plain": [
              "<Figure size 1440x288 with 2 Axes>"
            ]
          },
          "metadata": {
            "tags": [],
            "needs_background": "light"
          }
        }
      ]
    },
    {
      "cell_type": "markdown",
      "metadata": {
        "id": "EB_KohJyHe7Z"
      },
      "source": [
        "## Con bidirectional"
      ]
    },
    {
      "cell_type": "code",
      "metadata": {
        "id": "QmW7lF8cIAuA"
      },
      "source": [
        "model = Sequential()\n",
        "model.add(Embedding(input_length=max_len, input_dim=max_words, output_dim=12, trainable=True))\n",
        "model.add(Bidirectional(LSTM(units=12)))\n",
        "model.add(Dropout(0.5))\n",
        "model.add(Dense(units=24, activation='relu'))\n",
        "model.add(Dropout(0.5))\n",
        "model.add(Dense(units=12, activation='relu'))\n",
        "model.add(Dropout(0.5))\n",
        "model.add(Dense(units=1, activation='sigmoid'))"
      ],
      "execution_count": 219,
      "outputs": []
    },
    {
      "cell_type": "code",
      "metadata": {
        "id": "9AO5LjOQICwy"
      },
      "source": [
        "model.compile(loss=tf.keras.losses.BinaryCrossentropy(from_logits=False), optimizer='adam', \n",
        "              metrics=[tf.metrics.BinaryAccuracy(), 'accuracy'])"
      ],
      "execution_count": 220,
      "outputs": []
    },
    {
      "cell_type": "code",
      "metadata": {
        "id": "0BSzvch2IFDZ",
        "outputId": "e08f692e-bd8c-4627-cd66-f21f09a0d22e",
        "colab": {
          "base_uri": "https://localhost:8080/"
        }
      },
      "source": [
        "history = model.fit(X_train, y_train, epochs=20, batch_size=16, validation_split=0.2)"
      ],
      "execution_count": 221,
      "outputs": [
        {
          "output_type": "stream",
          "text": [
            "Epoch 1/20\n",
            "1859/1859 [==============================] - 16s 7ms/step - loss: 0.6445 - binary_accuracy: 0.6203 - accuracy: 0.6203 - val_loss: 0.5400 - val_binary_accuracy: 0.7279 - val_accuracy: 0.7279\n",
            "Epoch 2/20\n",
            "1859/1859 [==============================] - 13s 7ms/step - loss: 0.5639 - binary_accuracy: 0.7322 - accuracy: 0.7322 - val_loss: 0.5341 - val_binary_accuracy: 0.7339 - val_accuracy: 0.7339\n",
            "Epoch 3/20\n",
            "1859/1859 [==============================] - 13s 7ms/step - loss: 0.5563 - binary_accuracy: 0.7340 - accuracy: 0.7340 - val_loss: 0.5326 - val_binary_accuracy: 0.7345 - val_accuracy: 0.7345\n",
            "Epoch 4/20\n",
            "1859/1859 [==============================] - 13s 7ms/step - loss: 0.5418 - binary_accuracy: 0.7421 - accuracy: 0.7421 - val_loss: 0.5293 - val_binary_accuracy: 0.7293 - val_accuracy: 0.7293\n",
            "Epoch 5/20\n",
            "1859/1859 [==============================] - 13s 7ms/step - loss: 0.5371 - binary_accuracy: 0.7428 - accuracy: 0.7428 - val_loss: 0.5307 - val_binary_accuracy: 0.7304 - val_accuracy: 0.7304\n",
            "Epoch 6/20\n",
            "1859/1859 [==============================] - 13s 7ms/step - loss: 0.5266 - binary_accuracy: 0.7463 - accuracy: 0.7463 - val_loss: 0.5310 - val_binary_accuracy: 0.7312 - val_accuracy: 0.7312\n",
            "Epoch 7/20\n",
            "1859/1859 [==============================] - 13s 7ms/step - loss: 0.5183 - binary_accuracy: 0.7525 - accuracy: 0.7525 - val_loss: 0.5355 - val_binary_accuracy: 0.7289 - val_accuracy: 0.7289\n",
            "Epoch 8/20\n",
            "1859/1859 [==============================] - 13s 7ms/step - loss: 0.5138 - binary_accuracy: 0.7545 - accuracy: 0.7545 - val_loss: 0.5418 - val_binary_accuracy: 0.7301 - val_accuracy: 0.7301\n",
            "Epoch 9/20\n",
            "1859/1859 [==============================] - 13s 7ms/step - loss: 0.5023 - binary_accuracy: 0.7633 - accuracy: 0.7633 - val_loss: 0.5402 - val_binary_accuracy: 0.7294 - val_accuracy: 0.7294\n",
            "Epoch 10/20\n",
            "1859/1859 [==============================] - 13s 7ms/step - loss: 0.4970 - binary_accuracy: 0.7647 - accuracy: 0.7647 - val_loss: 0.5408 - val_binary_accuracy: 0.7251 - val_accuracy: 0.7251\n",
            "Epoch 11/20\n",
            "1859/1859 [==============================] - 13s 7ms/step - loss: 0.5012 - binary_accuracy: 0.7605 - accuracy: 0.7605 - val_loss: 0.5455 - val_binary_accuracy: 0.7258 - val_accuracy: 0.7258\n",
            "Epoch 12/20\n",
            "1859/1859 [==============================] - 13s 7ms/step - loss: 0.4877 - binary_accuracy: 0.7651 - accuracy: 0.7651 - val_loss: 0.5474 - val_binary_accuracy: 0.7265 - val_accuracy: 0.7265\n",
            "Epoch 13/20\n",
            "1859/1859 [==============================] - 13s 7ms/step - loss: 0.4889 - binary_accuracy: 0.7710 - accuracy: 0.7710 - val_loss: 0.5605 - val_binary_accuracy: 0.7188 - val_accuracy: 0.7188\n",
            "Epoch 14/20\n",
            "1859/1859 [==============================] - 13s 7ms/step - loss: 0.4798 - binary_accuracy: 0.7749 - accuracy: 0.7749 - val_loss: 0.5722 - val_binary_accuracy: 0.7214 - val_accuracy: 0.7214\n",
            "Epoch 15/20\n",
            "1859/1859 [==============================] - 13s 7ms/step - loss: 0.4758 - binary_accuracy: 0.7774 - accuracy: 0.7774 - val_loss: 0.5856 - val_binary_accuracy: 0.7166 - val_accuracy: 0.7166\n",
            "Epoch 16/20\n",
            "1859/1859 [==============================] - 13s 7ms/step - loss: 0.4695 - binary_accuracy: 0.7725 - accuracy: 0.7725 - val_loss: 0.5687 - val_binary_accuracy: 0.7208 - val_accuracy: 0.7208\n",
            "Epoch 17/20\n",
            "1859/1859 [==============================] - 13s 7ms/step - loss: 0.4664 - binary_accuracy: 0.7807 - accuracy: 0.7807 - val_loss: 0.5763 - val_binary_accuracy: 0.7183 - val_accuracy: 0.7183\n",
            "Epoch 18/20\n",
            "1859/1859 [==============================] - 13s 7ms/step - loss: 0.4547 - binary_accuracy: 0.7856 - accuracy: 0.7856 - val_loss: 0.6052 - val_binary_accuracy: 0.7188 - val_accuracy: 0.7188\n",
            "Epoch 19/20\n",
            "1859/1859 [==============================] - 13s 7ms/step - loss: 0.4557 - binary_accuracy: 0.7804 - accuracy: 0.7804 - val_loss: 0.6052 - val_binary_accuracy: 0.7189 - val_accuracy: 0.7189\n",
            "Epoch 20/20\n",
            "1859/1859 [==============================] - 13s 7ms/step - loss: 0.4562 - binary_accuracy: 0.7824 - accuracy: 0.7824 - val_loss: 0.6082 - val_binary_accuracy: 0.7154 - val_accuracy: 0.7154\n"
          ],
          "name": "stdout"
        }
      ]
    },
    {
      "cell_type": "code",
      "metadata": {
        "id": "k1TpvTZAIGkS",
        "outputId": "72862445-0936-4f33-86e1-9edc66844c89",
        "colab": {
          "base_uri": "https://localhost:8080/"
        }
      },
      "source": [
        "model.evaluate(x=X_test, y=y_test)"
      ],
      "execution_count": 222,
      "outputs": [
        {
          "output_type": "stream",
          "text": [
            "498/498 [==============================] - 1s 3ms/step - loss: 0.6274 - binary_accuracy: 0.7128 - accuracy: 0.7128\n"
          ],
          "name": "stdout"
        },
        {
          "output_type": "execute_result",
          "data": {
            "text/plain": [
              "[0.6274280548095703, 0.7128153443336487, 0.7128153443336487]"
            ]
          },
          "metadata": {
            "tags": []
          },
          "execution_count": 222
        }
      ]
    },
    {
      "cell_type": "code",
      "metadata": {
        "id": "igKYuMqGIJ-J",
        "outputId": "08c6d2da-d3af-4175-a7d1-7156a518b28a",
        "colab": {
          "base_uri": "https://localhost:8080/",
          "height": 294
        }
      },
      "source": [
        "# Plot loss\n",
        "plt.figure(figsize=(20, 4))\n",
        "\n",
        "plt.subplot(1, 2, 1)\n",
        "plt.title('Loss')\n",
        "plt.plot(history.history['loss'], label='Training', linewidth=2)\n",
        "plt.plot(history.history['val_loss'], label='Validation', linewidth=2)\n",
        "plt.legend()\n",
        "plt.xlabel('Epoch')\n",
        "plt.ylabel('Loss')\n",
        "plt.grid(True)\n",
        "\n",
        "plt.subplot(1, 2, 2)\n",
        "plt.title('Accuracy')\n",
        "plt.plot(history.history['accuracy'], label='Training', linewidth=2)\n",
        "plt.plot(history.history['val_accuracy'], label='Validation', linewidth=2)\n",
        "plt.legend()\n",
        "plt.xlabel('Epoch')\n",
        "plt.ylabel('Accuracy')\n",
        "plt.grid(True)\n",
        "\n",
        "plt.show()"
      ],
      "execution_count": 223,
      "outputs": [
        {
          "output_type": "display_data",
          "data": {
            "image/png": "[encoded data removed]",
            "text/plain": [
              "<Figure size 1440x288 with 2 Axes>"
            ]
          },
          "metadata": {
            "tags": [],
            "needs_background": "light"
          }
        }
      ]
    },
    {
      "cell_type": "markdown",
      "metadata": {
        "id": "JZ7HSkPaIVmh"
      },
      "source": [
        "## from logits = True"
      ]
    },
    {
      "cell_type": "code",
      "metadata": {
        "id": "rmPbyTMaIP2z"
      },
      "source": [
        "model = Sequential()\n",
        "model.add(Embedding(input_length=max_len, input_dim=max_words, output_dim=12, trainable=True))\n",
        "model.add(Bidirectional(LSTM(units=12)))\n",
        "model.add(Dropout(0.5))\n",
        "model.add(Dense(units=24, activation='relu'))\n",
        "model.add(Dropout(0.5))\n",
        "model.add(Dense(units=12, activation='relu'))\n",
        "model.add(Dropout(0.5))\n",
        "model.add(Dense(units=1, activation='sigmoid'))"
      ],
      "execution_count": 224,
      "outputs": []
    },
    {
      "cell_type": "code",
      "metadata": {
        "id": "fR0u-cBsIY3K"
      },
      "source": [
        "model.compile(loss=tf.keras.losses.BinaryCrossentropy(from_logits=True), optimizer='adam', \n",
        "              metrics=[tf.metrics.BinaryAccuracy(), 'accuracy'])"
      ],
      "execution_count": 225,
      "outputs": []
    },
    {
      "cell_type": "code",
      "metadata": {
        "id": "xXlBBK2dIcZe",
        "outputId": "eb863576-c4d0-4837-add5-cce16d219431",
        "colab": {
          "base_uri": "https://localhost:8080/"
        }
      },
      "source": [
        "history = model.fit(X_train, y_train, epochs=20, batch_size=16, validation_split=0.2)"
      ],
      "execution_count": 226,
      "outputs": [
        {
          "output_type": "stream",
          "text": [
            "Epoch 1/20\n",
            "1859/1859 [==============================] - 16s 7ms/step - loss: 0.6479 - binary_accuracy: 0.6008 - accuracy: 0.6008 - val_loss: 0.5377 - val_binary_accuracy: 0.7279 - val_accuracy: 0.7279\n",
            "Epoch 2/20\n",
            "1859/1859 [==============================] - 13s 7ms/step - loss: 0.5583 - binary_accuracy: 0.7252 - accuracy: 0.7252 - val_loss: 0.5287 - val_binary_accuracy: 0.7327 - val_accuracy: 0.7327\n",
            "Epoch 3/20\n",
            "1859/1859 [==============================] - 13s 7ms/step - loss: 0.5395 - binary_accuracy: 0.7351 - accuracy: 0.7351 - val_loss: 0.5292 - val_binary_accuracy: 0.7297 - val_accuracy: 0.7297\n",
            "Epoch 4/20\n",
            "1859/1859 [==============================] - 13s 7ms/step - loss: 0.5290 - binary_accuracy: 0.7442 - accuracy: 0.7442 - val_loss: 0.5350 - val_binary_accuracy: 0.7306 - val_accuracy: 0.7306\n",
            "Epoch 5/20\n",
            "1859/1859 [==============================] - 13s 7ms/step - loss: 0.5165 - binary_accuracy: 0.7476 - accuracy: 0.7476 - val_loss: 0.5268 - val_binary_accuracy: 0.7328 - val_accuracy: 0.7328\n",
            "Epoch 6/20\n",
            "1859/1859 [==============================] - 13s 7ms/step - loss: 0.5116 - binary_accuracy: 0.7500 - accuracy: 0.7500 - val_loss: 0.5334 - val_binary_accuracy: 0.7331 - val_accuracy: 0.7331\n",
            "Epoch 7/20\n",
            "1859/1859 [==============================] - 13s 7ms/step - loss: 0.5021 - binary_accuracy: 0.7573 - accuracy: 0.7573 - val_loss: 0.5320 - val_binary_accuracy: 0.7310 - val_accuracy: 0.7310\n",
            "Epoch 8/20\n",
            "1859/1859 [==============================] - 13s 7ms/step - loss: 0.5051 - binary_accuracy: 0.7519 - accuracy: 0.7519 - val_loss: 0.5317 - val_binary_accuracy: 0.7308 - val_accuracy: 0.7308\n",
            "Epoch 9/20\n",
            "1859/1859 [==============================] - 13s 7ms/step - loss: 0.4966 - binary_accuracy: 0.7579 - accuracy: 0.7579 - val_loss: 0.5364 - val_binary_accuracy: 0.7321 - val_accuracy: 0.7321\n",
            "Epoch 10/20\n",
            "1859/1859 [==============================] - 13s 7ms/step - loss: 0.4861 - binary_accuracy: 0.7686 - accuracy: 0.7686 - val_loss: 0.5518 - val_binary_accuracy: 0.7357 - val_accuracy: 0.7357\n",
            "Epoch 11/20\n",
            "1859/1859 [==============================] - 13s 7ms/step - loss: 0.4866 - binary_accuracy: 0.7592 - accuracy: 0.7592 - val_loss: 0.5551 - val_binary_accuracy: 0.7305 - val_accuracy: 0.7305\n",
            "Epoch 12/20\n",
            "1859/1859 [==============================] - 13s 7ms/step - loss: 0.4805 - binary_accuracy: 0.7619 - accuracy: 0.7619 - val_loss: 0.5505 - val_binary_accuracy: 0.7298 - val_accuracy: 0.7298\n",
            "Epoch 13/20\n",
            "1859/1859 [==============================] - 13s 7ms/step - loss: 0.4772 - binary_accuracy: 0.7661 - accuracy: 0.7661 - val_loss: 0.5719 - val_binary_accuracy: 0.7288 - val_accuracy: 0.7288\n",
            "Epoch 14/20\n",
            "1859/1859 [==============================] - 13s 7ms/step - loss: 0.4788 - binary_accuracy: 0.7602 - accuracy: 0.7602 - val_loss: 0.5678 - val_binary_accuracy: 0.7285 - val_accuracy: 0.7285\n",
            "Epoch 15/20\n",
            "1859/1859 [==============================] - 13s 7ms/step - loss: 0.4687 - binary_accuracy: 0.7693 - accuracy: 0.7693 - val_loss: 0.5661 - val_binary_accuracy: 0.7253 - val_accuracy: 0.7253\n",
            "Epoch 16/20\n",
            "1859/1859 [==============================] - 13s 7ms/step - loss: 0.4654 - binary_accuracy: 0.7683 - accuracy: 0.7683 - val_loss: 0.6359 - val_binary_accuracy: 0.7226 - val_accuracy: 0.7226\n",
            "Epoch 17/20\n",
            "1859/1859 [==============================] - 13s 7ms/step - loss: 0.4545 - binary_accuracy: 0.7699 - accuracy: 0.7699 - val_loss: 0.6008 - val_binary_accuracy: 0.7141 - val_accuracy: 0.7141\n",
            "Epoch 18/20\n",
            "1859/1859 [==============================] - 13s 7ms/step - loss: 0.4559 - binary_accuracy: 0.7725 - accuracy: 0.7725 - val_loss: 0.6115 - val_binary_accuracy: 0.7168 - val_accuracy: 0.7168\n",
            "Epoch 19/20\n",
            "1859/1859 [==============================] - 13s 7ms/step - loss: 0.4438 - binary_accuracy: 0.7809 - accuracy: 0.7809 - val_loss: 0.6643 - val_binary_accuracy: 0.7201 - val_accuracy: 0.7201\n",
            "Epoch 20/20\n",
            "1859/1859 [==============================] - 13s 7ms/step - loss: 0.4391 - binary_accuracy: 0.7793 - accuracy: 0.7793 - val_loss: 0.6253 - val_binary_accuracy: 0.7168 - val_accuracy: 0.7168\n"
          ],
          "name": "stdout"
        }
      ]
    },
    {
      "cell_type": "code",
      "metadata": {
        "id": "y1A5ao5CIfs2",
        "outputId": "9d3215d8-3140-420e-b033-1f4b1267011c",
        "colab": {
          "base_uri": "https://localhost:8080/"
        }
      },
      "source": [
        "model.evaluate(x=X_test, y=y_test)"
      ],
      "execution_count": 227,
      "outputs": [
        {
          "output_type": "stream",
          "text": [
            "498/498 [==============================] - 2s 3ms/step - loss: 0.6627 - binary_accuracy: 0.7163 - accuracy: 0.7163\n"
          ],
          "name": "stdout"
        },
        {
          "output_type": "execute_result",
          "data": {
            "text/plain": [
              "[0.6626832485198975, 0.7162671089172363, 0.7162671089172363]"
            ]
          },
          "metadata": {
            "tags": []
          },
          "execution_count": 227
        }
      ]
    },
    {
      "cell_type": "code",
      "metadata": {
        "id": "2YUbPW2vIg_5",
        "outputId": "c5994887-ab13-4911-82d3-722069359481",
        "colab": {
          "base_uri": "https://localhost:8080/",
          "height": 230
        }
      },
      "source": [
        "# Plot loss\n",
        "plt.figure(figsize=(20, 4))\n",
        "\n",
        "plt.subplot(1, 2, 1)\n",
        "plt.title('Loss')\n",
        "plt.plot(history.history['loss'], label='Training', linewidth=2)\n",
        "plt.plot(history.history['val_loss'], label='Validation', linewidth=2)\n",
        "plt.legend()\n",
        "plt.xlabel('Epoch')\n",
        "plt.ylabel('Loss')\n",
        "plt.grid(True)\n",
        "\n",
        "plt.subplot(1, 2, 2)\n",
        "plt.title('Accuracy')\n",
        "plt.plot(history.history['accuracy'], label='Training', linewidth=2)\n",
        "plt.plot(history.history['val_accuracy'], label='Validation', linewidth=2)\n",
        "plt.legend()\n",
        "plt.xlabel('Epoch')\n",
        "plt.ylabel('Accuracy')\n",
        "plt.grid(True)\n",
        "\n",
        "plt.show()"
      ],
      "execution_count": 228,
      "outputs": [
        {
          "output_type": "display_data",
          "data": {
            "image/png": "[encoded data removed]",
            "text/plain": [
              "<Figure size 1440x288 with 2 Axes>"
            ]
          },
          "metadata": {
            "tags": [],
            "needs_background": "light"
          }
        }
      ]
    },
    {
      "cell_type": "markdown",
      "metadata": {
        "id": "5jO4jBfNK17W"
      },
      "source": [
        "## Con rmsprop"
      ]
    },
    {
      "cell_type": "code",
      "metadata": {
        "id": "0WQBOIKlKHX2"
      },
      "source": [
        "model = Sequential()\n",
        "model.add(Embedding(input_length=max_len, input_dim=max_words, output_dim=12, trainable=True))\n",
        "model.add(Bidirectional(LSTM(units=12)))\n",
        "model.add(Dropout(0.5))\n",
        "model.add(Dense(units=24, activation='relu'))\n",
        "model.add(Dropout(0.5))\n",
        "model.add(Dense(units=12, activation='relu'))\n",
        "model.add(Dropout(0.5))\n",
        "model.add(Dense(units=1, activation='sigmoid'))"
      ],
      "execution_count": 233,
      "outputs": []
    },
    {
      "cell_type": "code",
      "metadata": {
        "id": "cp9r4mQaK4KI"
      },
      "source": [
        "model.compile(loss=tf.keras.losses.BinaryCrossentropy(from_logits=True), optimizer='rmsprop', \n",
        "              metrics=[tf.metrics.BinaryAccuracy(), 'accuracy'])"
      ],
      "execution_count": 234,
      "outputs": []
    },
    {
      "cell_type": "code",
      "metadata": {
        "id": "jEIQ2FBeK64t",
        "outputId": "87488c27-c5b9-48f3-d75d-622a292f8419",
        "colab": {
          "base_uri": "https://localhost:8080/"
        }
      },
      "source": [
        "history = model.fit(X_train, y_train, epochs=20, batch_size=16, validation_split=0.2)"
      ],
      "execution_count": 235,
      "outputs": [
        {
          "output_type": "stream",
          "text": [
            "Epoch 1/20\n",
            "1859/1859 [==============================] - 17s 7ms/step - loss: 0.6538 - binary_accuracy: 0.5954 - accuracy: 0.5954 - val_loss: 0.5382 - val_binary_accuracy: 0.7274 - val_accuracy: 0.7274\n",
            "Epoch 2/20\n",
            "1859/1859 [==============================] - 13s 7ms/step - loss: 0.5533 - binary_accuracy: 0.7297 - accuracy: 0.7297 - val_loss: 0.5305 - val_binary_accuracy: 0.7292 - val_accuracy: 0.7292\n",
            "Epoch 3/20\n",
            "1859/1859 [==============================] - 13s 7ms/step - loss: 0.5517 - binary_accuracy: 0.7305 - accuracy: 0.7305 - val_loss: 0.5352 - val_binary_accuracy: 0.7300 - val_accuracy: 0.7300\n",
            "Epoch 4/20\n",
            "1859/1859 [==============================] - 13s 7ms/step - loss: 0.5429 - binary_accuracy: 0.7373 - accuracy: 0.7373 - val_loss: 0.5360 - val_binary_accuracy: 0.7339 - val_accuracy: 0.7339\n",
            "Epoch 5/20\n",
            "1859/1859 [==============================] - 13s 7ms/step - loss: 0.5473 - binary_accuracy: 0.7322 - accuracy: 0.7322 - val_loss: 0.5284 - val_binary_accuracy: 0.7305 - val_accuracy: 0.7305\n",
            "Epoch 6/20\n",
            "1859/1859 [==============================] - 13s 7ms/step - loss: 0.5444 - binary_accuracy: 0.7372 - accuracy: 0.7372 - val_loss: 0.5333 - val_binary_accuracy: 0.7359 - val_accuracy: 0.7359\n",
            "Epoch 7/20\n",
            "1859/1859 [==============================] - 14s 7ms/step - loss: 0.5399 - binary_accuracy: 0.7451 - accuracy: 0.7451 - val_loss: 0.5280 - val_binary_accuracy: 0.7353 - val_accuracy: 0.7353\n",
            "Epoch 8/20\n",
            "1859/1859 [==============================] - 13s 7ms/step - loss: 0.5333 - binary_accuracy: 0.7470 - accuracy: 0.7470 - val_loss: 0.5305 - val_binary_accuracy: 0.7336 - val_accuracy: 0.7336\n",
            "Epoch 9/20\n",
            "1859/1859 [==============================] - 13s 7ms/step - loss: 0.5311 - binary_accuracy: 0.7475 - accuracy: 0.7475 - val_loss: 0.5276 - val_binary_accuracy: 0.7324 - val_accuracy: 0.7324\n",
            "Epoch 10/20\n",
            "1859/1859 [==============================] - 13s 7ms/step - loss: 0.5271 - binary_accuracy: 0.7482 - accuracy: 0.7482 - val_loss: 0.5320 - val_binary_accuracy: 0.7335 - val_accuracy: 0.7335\n",
            "Epoch 11/20\n",
            "1859/1859 [==============================] - 13s 7ms/step - loss: 0.5346 - binary_accuracy: 0.7485 - accuracy: 0.7485 - val_loss: 0.5284 - val_binary_accuracy: 0.7378 - val_accuracy: 0.7378\n",
            "Epoch 12/20\n",
            "1859/1859 [==============================] - 13s 7ms/step - loss: 0.5339 - binary_accuracy: 0.7479 - accuracy: 0.7479 - val_loss: 0.5289 - val_binary_accuracy: 0.7364 - val_accuracy: 0.7364\n",
            "Epoch 13/20\n",
            "1859/1859 [==============================] - 13s 7ms/step - loss: 0.5333 - binary_accuracy: 0.7538 - accuracy: 0.7538 - val_loss: 0.5646 - val_binary_accuracy: 0.7355 - val_accuracy: 0.7355\n",
            "Epoch 14/20\n",
            "1859/1859 [==============================] - 13s 7ms/step - loss: 0.5255 - binary_accuracy: 0.7497 - accuracy: 0.7497 - val_loss: 0.5326 - val_binary_accuracy: 0.7337 - val_accuracy: 0.7337\n",
            "Epoch 15/20\n",
            "1859/1859 [==============================] - 13s 7ms/step - loss: 0.5205 - binary_accuracy: 0.7558 - accuracy: 0.7558 - val_loss: 0.5309 - val_binary_accuracy: 0.7355 - val_accuracy: 0.7355\n",
            "Epoch 16/20\n",
            "1859/1859 [==============================] - 13s 7ms/step - loss: 0.5236 - binary_accuracy: 0.7552 - accuracy: 0.7552 - val_loss: 0.5362 - val_binary_accuracy: 0.7270 - val_accuracy: 0.7270\n",
            "Epoch 17/20\n",
            "1859/1859 [==============================] - 13s 7ms/step - loss: 0.5235 - binary_accuracy: 0.7550 - accuracy: 0.7550 - val_loss: 0.5446 - val_binary_accuracy: 0.7331 - val_accuracy: 0.7331\n",
            "Epoch 18/20\n",
            "1859/1859 [==============================] - 13s 7ms/step - loss: 0.5237 - binary_accuracy: 0.7539 - accuracy: 0.7539 - val_loss: 0.5454 - val_binary_accuracy: 0.7347 - val_accuracy: 0.7347\n",
            "Epoch 19/20\n",
            "1859/1859 [==============================] - 13s 7ms/step - loss: 0.5266 - binary_accuracy: 0.7545 - accuracy: 0.7545 - val_loss: 0.5336 - val_binary_accuracy: 0.7310 - val_accuracy: 0.7310\n",
            "Epoch 20/20\n",
            "1859/1859 [==============================] - 13s 7ms/step - loss: 0.5316 - binary_accuracy: 0.7488 - accuracy: 0.7488 - val_loss: 0.5665 - val_binary_accuracy: 0.7275 - val_accuracy: 0.7275\n"
          ],
          "name": "stdout"
        }
      ]
    },
    {
      "cell_type": "code",
      "metadata": {
        "id": "h_gv_q-IK9Gy",
        "outputId": "8bbdf5bf-6e21-46cb-8101-611fb170d8bb",
        "colab": {
          "base_uri": "https://localhost:8080/"
        }
      },
      "source": [
        "model.evaluate(x=X_test, y=y_test)"
      ],
      "execution_count": 236,
      "outputs": [
        {
          "output_type": "stream",
          "text": [
            "498/498 [==============================] - 2s 3ms/step - loss: 0.5739 - binary_accuracy: 0.7244 - accuracy: 0.7244\n"
          ],
          "name": "stdout"
        },
        {
          "output_type": "execute_result",
          "data": {
            "text/plain": [
              "[0.5739234089851379, 0.724425733089447, 0.724425733089447]"
            ]
          },
          "metadata": {
            "tags": []
          },
          "execution_count": 236
        }
      ]
    },
    {
      "cell_type": "code",
      "metadata": {
        "id": "3EBOqt0DLBSk",
        "outputId": "41e1ea35-fa3c-4703-f4c2-2aedc2bfbdd9",
        "colab": {
          "base_uri": "https://localhost:8080/",
          "height": 294
        }
      },
      "source": [
        "# Plot loss\n",
        "plt.figure(figsize=(20, 4))\n",
        "\n",
        "plt.subplot(1, 2, 1)\n",
        "plt.title('Loss')\n",
        "plt.plot(history.history['loss'], label='Training', linewidth=2)\n",
        "plt.plot(history.history['val_loss'], label='Validation', linewidth=2)\n",
        "plt.legend()\n",
        "plt.xlabel('Epoch')\n",
        "plt.ylabel('Loss')\n",
        "plt.grid(True)\n",
        "\n",
        "plt.subplot(1, 2, 2)\n",
        "plt.title('Accuracy')\n",
        "plt.plot(history.history['accuracy'], label='Training', linewidth=2)\n",
        "plt.plot(history.history['val_accuracy'], label='Validation', linewidth=2)\n",
        "plt.legend()\n",
        "plt.xlabel('Epoch')\n",
        "plt.ylabel('Accuracy')\n",
        "plt.grid(True)\n",
        "\n",
        "plt.show()"
      ],
      "execution_count": 237,
      "outputs": [
        {
          "output_type": "display_data",
          "data": {
            "image/png": "[encoded data removed]",
            "text/plain": [
              "<Figure size 1440x288 with 2 Axes>"
            ]
          },
          "metadata": {
            "tags": [],
            "needs_background": "light"
          }
        }
      ]
    },
    {
      "cell_type": "markdown",
      "metadata": {
        "id": "yoWUQBgwMW3L"
      },
      "source": [
        "## Con batch size = 32"
      ]
    },
    {
      "cell_type": "code",
      "metadata": {
        "id": "vsPMruzbMU41"
      },
      "source": [
        "model = Sequential()\n",
        "model.add(Embedding(input_length=max_len, input_dim=max_words, output_dim=12, trainable=True))\n",
        "model.add(Bidirectional(LSTM(units=12)))\n",
        "model.add(Dropout(0.5))\n",
        "model.add(Dense(units=24, activation='relu'))\n",
        "model.add(Dropout(0.5))\n",
        "model.add(Dense(units=12, activation='relu'))\n",
        "model.add(Dropout(0.5))\n",
        "model.add(Dense(units=1, activation='sigmoid'))"
      ],
      "execution_count": 238,
      "outputs": []
    },
    {
      "cell_type": "code",
      "metadata": {
        "id": "RC6ney3_MBX_"
      },
      "source": [
        "model.compile(loss=tf.keras.losses.BinaryCrossentropy(from_logits=True), optimizer='rmsprop', \n",
        "              metrics=[tf.metrics.BinaryAccuracy(), 'accuracy'])"
      ],
      "execution_count": 239,
      "outputs": []
    },
    {
      "cell_type": "code",
      "metadata": {
        "id": "FVzLl5rVMciF",
        "outputId": "2464134b-7fed-469f-b609-7cc60b34cd4d",
        "colab": {
          "base_uri": "https://localhost:8080/"
        }
      },
      "source": [
        "history = model.fit(X_train, y_train, epochs=20, batch_size=32, validation_split=0.2)"
      ],
      "execution_count": 240,
      "outputs": [
        {
          "output_type": "stream",
          "text": [
            "Epoch 1/20\n",
            "930/930 [==============================] - 12s 8ms/step - loss: 0.6594 - binary_accuracy: 0.5884 - accuracy: 0.5884 - val_loss: 0.5356 - val_binary_accuracy: 0.7288 - val_accuracy: 0.7288\n",
            "Epoch 2/20\n",
            "930/930 [==============================] - 7s 7ms/step - loss: 0.5594 - binary_accuracy: 0.7352 - accuracy: 0.7352 - val_loss: 0.5279 - val_binary_accuracy: 0.7324 - val_accuracy: 0.7324\n",
            "Epoch 3/20\n",
            "930/930 [==============================] - 7s 7ms/step - loss: 0.5429 - binary_accuracy: 0.7400 - accuracy: 0.7400 - val_loss: 0.5251 - val_binary_accuracy: 0.7285 - val_accuracy: 0.7285\n",
            "Epoch 4/20\n",
            "930/930 [==============================] - 7s 7ms/step - loss: 0.5426 - binary_accuracy: 0.7400 - accuracy: 0.7400 - val_loss: 0.5250 - val_binary_accuracy: 0.7285 - val_accuracy: 0.7285\n",
            "Epoch 5/20\n",
            "930/930 [==============================] - 7s 7ms/step - loss: 0.5385 - binary_accuracy: 0.7454 - accuracy: 0.7454 - val_loss: 0.5310 - val_binary_accuracy: 0.7321 - val_accuracy: 0.7321\n",
            "Epoch 6/20\n",
            "930/930 [==============================] - 7s 7ms/step - loss: 0.5328 - binary_accuracy: 0.7463 - accuracy: 0.7463 - val_loss: 0.5231 - val_binary_accuracy: 0.7279 - val_accuracy: 0.7279\n",
            "Epoch 7/20\n",
            "930/930 [==============================] - 7s 8ms/step - loss: 0.5273 - binary_accuracy: 0.7441 - accuracy: 0.7441 - val_loss: 0.5298 - val_binary_accuracy: 0.7286 - val_accuracy: 0.7286\n",
            "Epoch 8/20\n",
            "930/930 [==============================] - 7s 7ms/step - loss: 0.5242 - binary_accuracy: 0.7500 - accuracy: 0.7500 - val_loss: 0.5256 - val_binary_accuracy: 0.7294 - val_accuracy: 0.7294\n",
            "Epoch 9/20\n",
            "930/930 [==============================] - 7s 8ms/step - loss: 0.5177 - binary_accuracy: 0.7507 - accuracy: 0.7507 - val_loss: 0.5242 - val_binary_accuracy: 0.7322 - val_accuracy: 0.7322\n",
            "Epoch 10/20\n",
            "930/930 [==============================] - 7s 7ms/step - loss: 0.5218 - binary_accuracy: 0.7504 - accuracy: 0.7504 - val_loss: 0.5307 - val_binary_accuracy: 0.7251 - val_accuracy: 0.7251\n",
            "Epoch 11/20\n",
            "930/930 [==============================] - 7s 7ms/step - loss: 0.5224 - binary_accuracy: 0.7492 - accuracy: 0.7492 - val_loss: 0.5256 - val_binary_accuracy: 0.7310 - val_accuracy: 0.7310\n",
            "Epoch 12/20\n",
            "930/930 [==============================] - 7s 7ms/step - loss: 0.5157 - binary_accuracy: 0.7530 - accuracy: 0.7530 - val_loss: 0.5281 - val_binary_accuracy: 0.7314 - val_accuracy: 0.7314\n",
            "Epoch 13/20\n",
            "930/930 [==============================] - 7s 8ms/step - loss: 0.5062 - binary_accuracy: 0.7564 - accuracy: 0.7564 - val_loss: 0.5301 - val_binary_accuracy: 0.7294 - val_accuracy: 0.7294\n",
            "Epoch 14/20\n",
            "930/930 [==============================] - 7s 8ms/step - loss: 0.5146 - binary_accuracy: 0.7524 - accuracy: 0.7524 - val_loss: 0.5336 - val_binary_accuracy: 0.7283 - val_accuracy: 0.7283\n",
            "Epoch 15/20\n",
            "930/930 [==============================] - 7s 7ms/step - loss: 0.5132 - binary_accuracy: 0.7503 - accuracy: 0.7503 - val_loss: 0.5360 - val_binary_accuracy: 0.7290 - val_accuracy: 0.7290\n",
            "Epoch 16/20\n",
            "930/930 [==============================] - 7s 7ms/step - loss: 0.5174 - binary_accuracy: 0.7539 - accuracy: 0.7539 - val_loss: 0.5345 - val_binary_accuracy: 0.7254 - val_accuracy: 0.7254\n",
            "Epoch 17/20\n",
            "930/930 [==============================] - 7s 7ms/step - loss: 0.5121 - binary_accuracy: 0.7566 - accuracy: 0.7566 - val_loss: 0.5365 - val_binary_accuracy: 0.7275 - val_accuracy: 0.7275\n",
            "Epoch 18/20\n",
            "930/930 [==============================] - 7s 8ms/step - loss: 0.5066 - binary_accuracy: 0.7617 - accuracy: 0.7617 - val_loss: 0.5330 - val_binary_accuracy: 0.7236 - val_accuracy: 0.7236\n",
            "Epoch 19/20\n",
            "930/930 [==============================] - 7s 8ms/step - loss: 0.5122 - binary_accuracy: 0.7595 - accuracy: 0.7595 - val_loss: 0.5379 - val_binary_accuracy: 0.7321 - val_accuracy: 0.7321\n",
            "Epoch 20/20\n",
            "930/930 [==============================] - 7s 7ms/step - loss: 0.5086 - binary_accuracy: 0.7586 - accuracy: 0.7586 - val_loss: 0.5640 - val_binary_accuracy: 0.7165 - val_accuracy: 0.7165\n"
          ],
          "name": "stdout"
        }
      ]
    },
    {
      "cell_type": "code",
      "metadata": {
        "id": "pq09kndoMhQe",
        "outputId": "ec23f362-036e-4984-f233-429859bcf30b",
        "colab": {
          "base_uri": "https://localhost:8080/"
        }
      },
      "source": [
        "model.evaluate(x=X_test, y=y_test)"
      ],
      "execution_count": 241,
      "outputs": [
        {
          "output_type": "stream",
          "text": [
            "498/498 [==============================] - 2s 3ms/step - loss: 0.5734 - binary_accuracy: 0.7177 - accuracy: 0.7177\n"
          ],
          "name": "stdout"
        },
        {
          "output_type": "execute_result",
          "data": {
            "text/plain": [
              "[0.5733956694602966, 0.717710554599762, 0.717710554599762]"
            ]
          },
          "metadata": {
            "tags": []
          },
          "execution_count": 241
        }
      ]
    },
    {
      "cell_type": "code",
      "metadata": {
        "id": "QzQ6unB3MjB6",
        "outputId": "26ea20ac-c17a-40a9-8914-eb57803b6a80",
        "colab": {
          "base_uri": "https://localhost:8080/",
          "height": 230
        }
      },
      "source": [
        "# Plot loss\n",
        "plt.figure(figsize=(20, 4))\n",
        "\n",
        "plt.subplot(1, 2, 1)\n",
        "plt.title('Loss')\n",
        "plt.plot(history.history['loss'], label='Training', linewidth=2)\n",
        "plt.plot(history.history['val_loss'], label='Validation', linewidth=2)\n",
        "plt.legend()\n",
        "plt.xlabel('Epoch')\n",
        "plt.ylabel('Loss')\n",
        "plt.grid(True)\n",
        "\n",
        "plt.subplot(1, 2, 2)\n",
        "plt.title('Accuracy')\n",
        "plt.plot(history.history['accuracy'], label='Training', linewidth=2)\n",
        "plt.plot(history.history['val_accuracy'], label='Validation', linewidth=2)\n",
        "plt.legend()\n",
        "plt.xlabel('Epoch')\n",
        "plt.ylabel('Accuracy')\n",
        "plt.grid(True)\n",
        "\n",
        "plt.show()"
      ],
      "execution_count": 242,
      "outputs": [
        {
          "output_type": "display_data",
          "data": {
            "image/png": "[encoded data removed]",
            "text/plain": [
              "<Figure size 1440x288 with 2 Axes>"
            ]
          },
          "metadata": {
            "tags": [],
            "needs_background": "light"
          }
        }
      ]
    },
    {
      "cell_type": "markdown",
      "metadata": {
        "id": "S0QKYSCJNR59"
      },
      "source": [
        "## Con batch size = 64"
      ]
    },
    {
      "cell_type": "code",
      "metadata": {
        "id": "LiJ7YxlWNPQI"
      },
      "source": [
        "model = Sequential()\n",
        "model.add(Embedding(input_length=max_len, input_dim=max_words, output_dim=12, trainable=True))\n",
        "model.add(Bidirectional(LSTM(units=12)))\n",
        "model.add(Dropout(0.5))\n",
        "model.add(Dense(units=24, activation='relu'))\n",
        "model.add(Dropout(0.5))\n",
        "model.add(Dense(units=12, activation='relu'))\n",
        "model.add(Dropout(0.5))\n",
        "model.add(Dense(units=1, activation='sigmoid'))"
      ],
      "execution_count": 243,
      "outputs": []
    },
    {
      "cell_type": "code",
      "metadata": {
        "id": "Dt2NH7C2NG39"
      },
      "source": [
        "model.compile(loss=tf.keras.losses.BinaryCrossentropy(from_logits=True), optimizer='rmsprop', \n",
        "              metrics=[tf.metrics.BinaryAccuracy(), 'accuracy'])"
      ],
      "execution_count": 244,
      "outputs": []
    },
    {
      "cell_type": "code",
      "metadata": {
        "id": "YqC6zJHWNVKy",
        "outputId": "8c3543be-25d7-4a26-f532-c97a0a25a11c",
        "colab": {
          "base_uri": "https://localhost:8080/"
        }
      },
      "source": [
        "history = model.fit(X_train, y_train, epochs=20, batch_size=64, validation_split=0.2)"
      ],
      "execution_count": 245,
      "outputs": [
        {
          "output_type": "stream",
          "text": [
            "Epoch 1/20\n",
            "465/465 [==============================] - 7s 9ms/step - loss: 0.6717 - binary_accuracy: 0.5657 - accuracy: 0.5657 - val_loss: 0.5451 - val_binary_accuracy: 0.7275 - val_accuracy: 0.7275\n",
            "Epoch 2/20\n",
            "465/465 [==============================] - 3s 7ms/step - loss: 0.5646 - binary_accuracy: 0.7256 - accuracy: 0.7256 - val_loss: 0.5303 - val_binary_accuracy: 0.7310 - val_accuracy: 0.7310\n",
            "Epoch 3/20\n",
            "465/465 [==============================] - 4s 8ms/step - loss: 0.5459 - binary_accuracy: 0.7333 - accuracy: 0.7333 - val_loss: 0.5262 - val_binary_accuracy: 0.7335 - val_accuracy: 0.7335\n",
            "Epoch 4/20\n",
            "465/465 [==============================] - 3s 7ms/step - loss: 0.5439 - binary_accuracy: 0.7381 - accuracy: 0.7381 - val_loss: 0.5241 - val_binary_accuracy: 0.7324 - val_accuracy: 0.7324\n",
            "Epoch 5/20\n",
            "465/465 [==============================] - 3s 7ms/step - loss: 0.5340 - binary_accuracy: 0.7421 - accuracy: 0.7421 - val_loss: 0.5237 - val_binary_accuracy: 0.7335 - val_accuracy: 0.7335\n",
            "Epoch 6/20\n",
            "465/465 [==============================] - 3s 7ms/step - loss: 0.5305 - binary_accuracy: 0.7481 - accuracy: 0.7481 - val_loss: 0.5297 - val_binary_accuracy: 0.7266 - val_accuracy: 0.7266\n",
            "Epoch 7/20\n",
            "465/465 [==============================] - 4s 8ms/step - loss: 0.5352 - binary_accuracy: 0.7405 - accuracy: 0.7405 - val_loss: 0.5273 - val_binary_accuracy: 0.7294 - val_accuracy: 0.7294\n",
            "Epoch 8/20\n",
            "465/465 [==============================] - 3s 7ms/step - loss: 0.5261 - binary_accuracy: 0.7419 - accuracy: 0.7419 - val_loss: 0.5237 - val_binary_accuracy: 0.7353 - val_accuracy: 0.7353\n",
            "Epoch 9/20\n",
            "465/465 [==============================] - 3s 7ms/step - loss: 0.5260 - binary_accuracy: 0.7427 - accuracy: 0.7427 - val_loss: 0.5292 - val_binary_accuracy: 0.7292 - val_accuracy: 0.7292\n",
            "Epoch 10/20\n",
            "465/465 [==============================] - 3s 7ms/step - loss: 0.5133 - binary_accuracy: 0.7470 - accuracy: 0.7470 - val_loss: 0.5273 - val_binary_accuracy: 0.7308 - val_accuracy: 0.7308\n",
            "Epoch 11/20\n",
            "465/465 [==============================] - 3s 7ms/step - loss: 0.5136 - binary_accuracy: 0.7498 - accuracy: 0.7498 - val_loss: 0.5260 - val_binary_accuracy: 0.7282 - val_accuracy: 0.7282\n",
            "Epoch 12/20\n",
            "465/465 [==============================] - 3s 7ms/step - loss: 0.5141 - binary_accuracy: 0.7447 - accuracy: 0.7447 - val_loss: 0.5266 - val_binary_accuracy: 0.7313 - val_accuracy: 0.7313\n",
            "Epoch 13/20\n",
            "465/465 [==============================] - 3s 8ms/step - loss: 0.5130 - binary_accuracy: 0.7490 - accuracy: 0.7490 - val_loss: 0.5270 - val_binary_accuracy: 0.7333 - val_accuracy: 0.7333\n",
            "Epoch 14/20\n",
            "465/465 [==============================] - 3s 7ms/step - loss: 0.5114 - binary_accuracy: 0.7443 - accuracy: 0.7443 - val_loss: 0.5360 - val_binary_accuracy: 0.7304 - val_accuracy: 0.7304\n",
            "Epoch 15/20\n",
            "465/465 [==============================] - 3s 7ms/step - loss: 0.5082 - binary_accuracy: 0.7478 - accuracy: 0.7478 - val_loss: 0.5395 - val_binary_accuracy: 0.7270 - val_accuracy: 0.7270\n",
            "Epoch 16/20\n",
            "465/465 [==============================] - 3s 7ms/step - loss: 0.5050 - binary_accuracy: 0.7537 - accuracy: 0.7537 - val_loss: 0.5502 - val_binary_accuracy: 0.7306 - val_accuracy: 0.7306\n",
            "Epoch 17/20\n",
            "465/465 [==============================] - 4s 8ms/step - loss: 0.5005 - binary_accuracy: 0.7498 - accuracy: 0.7498 - val_loss: 0.5340 - val_binary_accuracy: 0.7341 - val_accuracy: 0.7341\n",
            "Epoch 18/20\n",
            "465/465 [==============================] - 3s 7ms/step - loss: 0.5027 - binary_accuracy: 0.7516 - accuracy: 0.7516 - val_loss: 0.5379 - val_binary_accuracy: 0.7335 - val_accuracy: 0.7335\n",
            "Epoch 19/20\n",
            "465/465 [==============================] - 4s 8ms/step - loss: 0.5022 - binary_accuracy: 0.7563 - accuracy: 0.7563 - val_loss: 0.5446 - val_binary_accuracy: 0.7347 - val_accuracy: 0.7347\n",
            "Epoch 20/20\n",
            "465/465 [==============================] - 4s 8ms/step - loss: 0.4966 - binary_accuracy: 0.7521 - accuracy: 0.7521 - val_loss: 0.5398 - val_binary_accuracy: 0.7259 - val_accuracy: 0.7259\n"
          ],
          "name": "stdout"
        }
      ]
    },
    {
      "cell_type": "code",
      "metadata": {
        "id": "2WGzTglhNZU_",
        "outputId": "b6741970-1e36-48be-8dfb-7c150d45f295",
        "colab": {
          "base_uri": "https://localhost:8080/"
        }
      },
      "source": [
        "model.evaluate(x=X_test, y=y_test)"
      ],
      "execution_count": 246,
      "outputs": [
        {
          "output_type": "stream",
          "text": [
            "498/498 [==============================] - 2s 3ms/step - loss: 0.5504 - binary_accuracy: 0.7251 - accuracy: 0.7251\n"
          ],
          "name": "stdout"
        },
        {
          "output_type": "execute_result",
          "data": {
            "text/plain": [
              "[0.5504375696182251, 0.7251161336898804, 0.7251161336898804]"
            ]
          },
          "metadata": {
            "tags": []
          },
          "execution_count": 246
        }
      ]
    },
    {
      "cell_type": "code",
      "metadata": {
        "id": "GzBpVd5JNcG7",
        "outputId": "bd898b4c-961e-4e54-f779-6d9b17e7c991",
        "colab": {
          "base_uri": "https://localhost:8080/",
          "height": 230
        }
      },
      "source": [
        "# Plot loss\n",
        "plt.figure(figsize=(20, 4))\n",
        "\n",
        "plt.subplot(1, 2, 1)\n",
        "plt.title('Loss')\n",
        "plt.plot(history.history['loss'], label='Training', linewidth=2)\n",
        "plt.plot(history.history['val_loss'], label='Validation', linewidth=2)\n",
        "plt.legend()\n",
        "plt.xlabel('Epoch')\n",
        "plt.ylabel('Loss')\n",
        "plt.grid(True)\n",
        "\n",
        "plt.subplot(1, 2, 2)\n",
        "plt.title('Accuracy')\n",
        "plt.plot(history.history['accuracy'], label='Training', linewidth=2)\n",
        "plt.plot(history.history['val_accuracy'], label='Validation', linewidth=2)\n",
        "plt.legend()\n",
        "plt.xlabel('Epoch')\n",
        "plt.ylabel('Accuracy')\n",
        "plt.grid(True)\n",
        "\n",
        "plt.show()"
      ],
      "execution_count": 247,
      "outputs": [
        {
          "output_type": "display_data",
          "data": {
            "image/png": "[encoded data removed]",
            "text/plain": [
              "<Figure size 1440x288 with 2 Axes>"
            ]
          },
          "metadata": {
            "tags": [],
            "needs_background": "light"
          }
        }
      ]
    },
    {
      "cell_type": "markdown",
      "metadata": {
        "id": "XhhYxWTPN0OE"
      },
      "source": [
        "## Con más épocas = 50"
      ]
    },
    {
      "cell_type": "code",
      "metadata": {
        "id": "FH0Di1zaNvJF"
      },
      "source": [
        "model = Sequential()\n",
        "model.add(Embedding(input_length=max_len, input_dim=max_words, output_dim=12, trainable=True))\n",
        "model.add(Bidirectional(LSTM(units=12)))\n",
        "model.add(Dropout(0.5))\n",
        "model.add(Dense(units=24, activation='relu'))\n",
        "model.add(Dropout(0.5))\n",
        "model.add(Dense(units=12, activation='relu'))\n",
        "model.add(Dropout(0.5))\n",
        "model.add(Dense(units=1, activation='sigmoid'))"
      ],
      "execution_count": 248,
      "outputs": []
    },
    {
      "cell_type": "code",
      "metadata": {
        "id": "6N8LjrTkN36g"
      },
      "source": [
        "model.compile(loss=tf.keras.losses.BinaryCrossentropy(from_logits=True), optimizer='rmsprop', \n",
        "              metrics=[tf.metrics.BinaryAccuracy(), 'accuracy'])"
      ],
      "execution_count": 249,
      "outputs": []
    },
    {
      "cell_type": "code",
      "metadata": {
        "id": "KwJhhrvKN5dd",
        "outputId": "049f6343-0ef4-4fef-daab-ccf31c723b3f",
        "colab": {
          "base_uri": "https://localhost:8080/"
        }
      },
      "source": [
        "history = model.fit(X_train, y_train, epochs=50, batch_size=64, validation_split=0.2)"
      ],
      "execution_count": 250,
      "outputs": [
        {
          "output_type": "stream",
          "text": [
            "Epoch 1/50\n",
            "465/465 [==============================] - 7s 9ms/step - loss: 0.6791 - binary_accuracy: 0.5546 - accuracy: 0.5546 - val_loss: 0.5454 - val_binary_accuracy: 0.7250 - val_accuracy: 0.7250\n",
            "Epoch 2/50\n",
            "465/465 [==============================] - 3s 7ms/step - loss: 0.5665 - binary_accuracy: 0.7302 - accuracy: 0.7302 - val_loss: 0.5318 - val_binary_accuracy: 0.7308 - val_accuracy: 0.7308\n",
            "Epoch 3/50\n",
            "465/465 [==============================] - 3s 7ms/step - loss: 0.5528 - binary_accuracy: 0.7359 - accuracy: 0.7359 - val_loss: 0.5267 - val_binary_accuracy: 0.7340 - val_accuracy: 0.7340\n",
            "Epoch 4/50\n",
            "465/465 [==============================] - 3s 7ms/step - loss: 0.5400 - binary_accuracy: 0.7428 - accuracy: 0.7428 - val_loss: 0.5232 - val_binary_accuracy: 0.7322 - val_accuracy: 0.7322\n",
            "Epoch 5/50\n",
            "465/465 [==============================] - 3s 7ms/step - loss: 0.5348 - binary_accuracy: 0.7411 - accuracy: 0.7411 - val_loss: 0.5228 - val_binary_accuracy: 0.7320 - val_accuracy: 0.7320\n",
            "Epoch 6/50\n",
            "465/465 [==============================] - 3s 7ms/step - loss: 0.5358 - binary_accuracy: 0.7450 - accuracy: 0.7450 - val_loss: 0.5232 - val_binary_accuracy: 0.7327 - val_accuracy: 0.7327\n",
            "Epoch 7/50\n",
            "465/465 [==============================] - 3s 7ms/step - loss: 0.5328 - binary_accuracy: 0.7424 - accuracy: 0.7424 - val_loss: 0.5267 - val_binary_accuracy: 0.7324 - val_accuracy: 0.7324\n",
            "Epoch 8/50\n",
            "465/465 [==============================] - 3s 7ms/step - loss: 0.5235 - binary_accuracy: 0.7487 - accuracy: 0.7487 - val_loss: 0.5358 - val_binary_accuracy: 0.7322 - val_accuracy: 0.7322\n",
            "Epoch 9/50\n",
            "465/465 [==============================] - 3s 7ms/step - loss: 0.5213 - binary_accuracy: 0.7480 - accuracy: 0.7480 - val_loss: 0.5245 - val_binary_accuracy: 0.7327 - val_accuracy: 0.7327\n",
            "Epoch 10/50\n",
            "465/465 [==============================] - 3s 7ms/step - loss: 0.5206 - binary_accuracy: 0.7486 - accuracy: 0.7486 - val_loss: 0.5323 - val_binary_accuracy: 0.7275 - val_accuracy: 0.7275\n",
            "Epoch 11/50\n",
            "465/465 [==============================] - 3s 7ms/step - loss: 0.5160 - binary_accuracy: 0.7475 - accuracy: 0.7475 - val_loss: 0.5273 - val_binary_accuracy: 0.7333 - val_accuracy: 0.7333\n",
            "Epoch 12/50\n",
            "465/465 [==============================] - 3s 7ms/step - loss: 0.5144 - binary_accuracy: 0.7523 - accuracy: 0.7523 - val_loss: 0.5266 - val_binary_accuracy: 0.7341 - val_accuracy: 0.7341\n",
            "Epoch 13/50\n",
            "465/465 [==============================] - 3s 7ms/step - loss: 0.5097 - binary_accuracy: 0.7498 - accuracy: 0.7498 - val_loss: 0.5293 - val_binary_accuracy: 0.7336 - val_accuracy: 0.7336\n",
            "Epoch 14/50\n",
            "465/465 [==============================] - 3s 7ms/step - loss: 0.5093 - binary_accuracy: 0.7530 - accuracy: 0.7530 - val_loss: 0.5331 - val_binary_accuracy: 0.7335 - val_accuracy: 0.7335\n",
            "Epoch 15/50\n",
            "465/465 [==============================] - 3s 7ms/step - loss: 0.5168 - binary_accuracy: 0.7513 - accuracy: 0.7513 - val_loss: 0.5321 - val_binary_accuracy: 0.7341 - val_accuracy: 0.7341\n",
            "Epoch 16/50\n",
            "465/465 [==============================] - 3s 7ms/step - loss: 0.5117 - binary_accuracy: 0.7554 - accuracy: 0.7554 - val_loss: 0.5367 - val_binary_accuracy: 0.7344 - val_accuracy: 0.7344\n",
            "Epoch 17/50\n",
            "465/465 [==============================] - 4s 8ms/step - loss: 0.5039 - binary_accuracy: 0.7525 - accuracy: 0.7525 - val_loss: 0.5288 - val_binary_accuracy: 0.7322 - val_accuracy: 0.7322\n",
            "Epoch 18/50\n",
            "465/465 [==============================] - 3s 7ms/step - loss: 0.5106 - binary_accuracy: 0.7508 - accuracy: 0.7508 - val_loss: 0.5301 - val_binary_accuracy: 0.7309 - val_accuracy: 0.7309\n",
            "Epoch 19/50\n",
            "465/465 [==============================] - 3s 7ms/step - loss: 0.5003 - binary_accuracy: 0.7607 - accuracy: 0.7607 - val_loss: 0.5375 - val_binary_accuracy: 0.7251 - val_accuracy: 0.7251\n",
            "Epoch 20/50\n",
            "465/465 [==============================] - 3s 7ms/step - loss: 0.4988 - binary_accuracy: 0.7565 - accuracy: 0.7565 - val_loss: 0.5349 - val_binary_accuracy: 0.7278 - val_accuracy: 0.7278\n",
            "Epoch 21/50\n",
            "465/465 [==============================] - 3s 7ms/step - loss: 0.5048 - binary_accuracy: 0.7513 - accuracy: 0.7513 - val_loss: 0.5398 - val_binary_accuracy: 0.7262 - val_accuracy: 0.7262\n",
            "Epoch 22/50\n",
            "465/465 [==============================] - 3s 7ms/step - loss: 0.4954 - binary_accuracy: 0.7605 - accuracy: 0.7605 - val_loss: 0.5700 - val_binary_accuracy: 0.7288 - val_accuracy: 0.7288\n",
            "Epoch 23/50\n",
            "465/465 [==============================] - 3s 7ms/step - loss: 0.4989 - binary_accuracy: 0.7593 - accuracy: 0.7593 - val_loss: 0.5382 - val_binary_accuracy: 0.7270 - val_accuracy: 0.7270\n",
            "Epoch 24/50\n",
            "465/465 [==============================] - 3s 8ms/step - loss: 0.4951 - binary_accuracy: 0.7600 - accuracy: 0.7600 - val_loss: 0.5424 - val_binary_accuracy: 0.7266 - val_accuracy: 0.7266\n",
            "Epoch 25/50\n",
            "465/465 [==============================] - 3s 7ms/step - loss: 0.4906 - binary_accuracy: 0.7636 - accuracy: 0.7636 - val_loss: 0.5376 - val_binary_accuracy: 0.7273 - val_accuracy: 0.7273\n",
            "Epoch 26/50\n",
            "465/465 [==============================] - 3s 7ms/step - loss: 0.4995 - binary_accuracy: 0.7620 - accuracy: 0.7620 - val_loss: 0.5370 - val_binary_accuracy: 0.7253 - val_accuracy: 0.7253\n",
            "Epoch 27/50\n",
            "465/465 [==============================] - 4s 8ms/step - loss: 0.4920 - binary_accuracy: 0.7664 - accuracy: 0.7664 - val_loss: 0.5487 - val_binary_accuracy: 0.7234 - val_accuracy: 0.7234\n",
            "Epoch 28/50\n",
            "465/465 [==============================] - 3s 7ms/step - loss: 0.4940 - binary_accuracy: 0.7637 - accuracy: 0.7637 - val_loss: 0.5429 - val_binary_accuracy: 0.7224 - val_accuracy: 0.7224\n",
            "Epoch 29/50\n",
            "465/465 [==============================] - 3s 7ms/step - loss: 0.4857 - binary_accuracy: 0.7666 - accuracy: 0.7666 - val_loss: 0.5455 - val_binary_accuracy: 0.7261 - val_accuracy: 0.7261\n",
            "Epoch 30/50\n",
            "465/465 [==============================] - 3s 7ms/step - loss: 0.4870 - binary_accuracy: 0.7699 - accuracy: 0.7699 - val_loss: 0.5496 - val_binary_accuracy: 0.7216 - val_accuracy: 0.7216\n",
            "Epoch 31/50\n",
            "465/465 [==============================] - 3s 7ms/step - loss: 0.4845 - binary_accuracy: 0.7664 - accuracy: 0.7664 - val_loss: 0.5425 - val_binary_accuracy: 0.7192 - val_accuracy: 0.7192\n",
            "Epoch 32/50\n",
            "465/465 [==============================] - 3s 8ms/step - loss: 0.4805 - binary_accuracy: 0.7653 - accuracy: 0.7653 - val_loss: 0.5587 - val_binary_accuracy: 0.7228 - val_accuracy: 0.7228\n",
            "Epoch 33/50\n",
            "465/465 [==============================] - 3s 7ms/step - loss: 0.4758 - binary_accuracy: 0.7697 - accuracy: 0.7697 - val_loss: 0.5561 - val_binary_accuracy: 0.7223 - val_accuracy: 0.7223\n",
            "Epoch 34/50\n",
            "465/465 [==============================] - 4s 8ms/step - loss: 0.4793 - binary_accuracy: 0.7676 - accuracy: 0.7676 - val_loss: 0.5855 - val_binary_accuracy: 0.7220 - val_accuracy: 0.7220\n",
            "Epoch 35/50\n",
            "465/465 [==============================] - 3s 7ms/step - loss: 0.4819 - binary_accuracy: 0.7680 - accuracy: 0.7680 - val_loss: 0.5435 - val_binary_accuracy: 0.7189 - val_accuracy: 0.7189\n",
            "Epoch 36/50\n",
            "465/465 [==============================] - 3s 7ms/step - loss: 0.4787 - binary_accuracy: 0.7698 - accuracy: 0.7698 - val_loss: 0.5725 - val_binary_accuracy: 0.7201 - val_accuracy: 0.7201\n",
            "Epoch 37/50\n",
            "465/465 [==============================] - 3s 8ms/step - loss: 0.4763 - binary_accuracy: 0.7760 - accuracy: 0.7760 - val_loss: 0.5764 - val_binary_accuracy: 0.7211 - val_accuracy: 0.7211\n",
            "Epoch 38/50\n",
            "465/465 [==============================] - 3s 7ms/step - loss: 0.4735 - binary_accuracy: 0.7732 - accuracy: 0.7732 - val_loss: 0.5738 - val_binary_accuracy: 0.7165 - val_accuracy: 0.7165\n",
            "Epoch 39/50\n",
            "465/465 [==============================] - 3s 7ms/step - loss: 0.4741 - binary_accuracy: 0.7707 - accuracy: 0.7707 - val_loss: 0.5750 - val_binary_accuracy: 0.7110 - val_accuracy: 0.7110\n",
            "Epoch 40/50\n",
            "465/465 [==============================] - 3s 7ms/step - loss: 0.4693 - binary_accuracy: 0.7736 - accuracy: 0.7736 - val_loss: 0.5565 - val_binary_accuracy: 0.7169 - val_accuracy: 0.7169\n",
            "Epoch 41/50\n",
            "465/465 [==============================] - 4s 8ms/step - loss: 0.4678 - binary_accuracy: 0.7733 - accuracy: 0.7733 - val_loss: 0.6176 - val_binary_accuracy: 0.7218 - val_accuracy: 0.7218\n",
            "Epoch 42/50\n",
            "465/465 [==============================] - 3s 7ms/step - loss: 0.4688 - binary_accuracy: 0.7777 - accuracy: 0.7777 - val_loss: 0.5706 - val_binary_accuracy: 0.7145 - val_accuracy: 0.7145\n",
            "Epoch 43/50\n",
            "465/465 [==============================] - 4s 8ms/step - loss: 0.4736 - binary_accuracy: 0.7781 - accuracy: 0.7781 - val_loss: 0.5802 - val_binary_accuracy: 0.7153 - val_accuracy: 0.7153\n",
            "Epoch 44/50\n",
            "465/465 [==============================] - 3s 7ms/step - loss: 0.4604 - binary_accuracy: 0.7837 - accuracy: 0.7837 - val_loss: 0.5812 - val_binary_accuracy: 0.7175 - val_accuracy: 0.7175\n",
            "Epoch 45/50\n",
            "465/465 [==============================] - 3s 7ms/step - loss: 0.4615 - binary_accuracy: 0.7786 - accuracy: 0.7786 - val_loss: 0.6367 - val_binary_accuracy: 0.7160 - val_accuracy: 0.7160\n",
            "Epoch 46/50\n",
            "465/465 [==============================] - 3s 7ms/step - loss: 0.4642 - binary_accuracy: 0.7813 - accuracy: 0.7813 - val_loss: 0.5695 - val_binary_accuracy: 0.7145 - val_accuracy: 0.7145\n",
            "Epoch 47/50\n",
            "465/465 [==============================] - 3s 7ms/step - loss: 0.4597 - binary_accuracy: 0.7804 - accuracy: 0.7804 - val_loss: 0.6092 - val_binary_accuracy: 0.7154 - val_accuracy: 0.7154\n",
            "Epoch 48/50\n",
            "465/465 [==============================] - 4s 8ms/step - loss: 0.4618 - binary_accuracy: 0.7823 - accuracy: 0.7823 - val_loss: 0.5970 - val_binary_accuracy: 0.7172 - val_accuracy: 0.7172\n",
            "Epoch 49/50\n",
            "465/465 [==============================] - 4s 8ms/step - loss: 0.4610 - binary_accuracy: 0.7813 - accuracy: 0.7813 - val_loss: 0.6041 - val_binary_accuracy: 0.7181 - val_accuracy: 0.7181\n",
            "Epoch 50/50\n",
            "465/465 [==============================] - 4s 8ms/step - loss: 0.4563 - binary_accuracy: 0.7858 - accuracy: 0.7858 - val_loss: 0.6173 - val_binary_accuracy: 0.7142 - val_accuracy: 0.7142\n"
          ],
          "name": "stdout"
        }
      ]
    },
    {
      "cell_type": "code",
      "metadata": {
        "id": "UymtfM5VN7sN",
        "outputId": "75feceb5-9268-458e-88ae-51728f22c4ed",
        "colab": {
          "base_uri": "https://localhost:8080/"
        }
      },
      "source": [
        "model.evaluate(x=X_test, y=y_test)"
      ],
      "execution_count": 251,
      "outputs": [
        {
          "output_type": "stream",
          "text": [
            "498/498 [==============================] - 2s 3ms/step - loss: 0.6378 - binary_accuracy: 0.7139 - accuracy: 0.7139\n"
          ],
          "name": "stdout"
        },
        {
          "output_type": "execute_result",
          "data": {
            "text/plain": [
              "[0.6378198266029358, 0.7138822674751282, 0.7138822674751282]"
            ]
          },
          "metadata": {
            "tags": []
          },
          "execution_count": 251
        }
      ]
    },
    {
      "cell_type": "code",
      "metadata": {
        "id": "xcIvWW5AN-Ha",
        "outputId": "4e87da55-4c7a-4f23-fd2a-380e361fcecd",
        "colab": {
          "base_uri": "https://localhost:8080/",
          "height": 228
        }
      },
      "source": [
        "# Plot loss\n",
        "plt.figure(figsize=(20, 4))\n",
        "\n",
        "plt.subplot(1, 2, 1)\n",
        "plt.title('Loss')\n",
        "plt.plot(history.history['loss'], label='Training', linewidth=2)\n",
        "plt.plot(history.history['val_loss'], label='Validation', linewidth=2)\n",
        "plt.legend()\n",
        "plt.xlabel('Epoch')\n",
        "plt.ylabel('Loss')\n",
        "plt.grid(True)\n",
        "\n",
        "plt.subplot(1, 2, 2)\n",
        "plt.title('Accuracy')\n",
        "plt.plot(history.history['accuracy'], label='Training', linewidth=2)\n",
        "plt.plot(history.history['val_accuracy'], label='Validation', linewidth=2)\n",
        "plt.legend()\n",
        "plt.xlabel('Epoch')\n",
        "plt.ylabel('Accuracy')\n",
        "plt.grid(True)\n",
        "\n",
        "plt.show()"
      ],
      "execution_count": 252,
      "outputs": [
        {
          "output_type": "display_data",
          "data": {
            "image/png": "[encoded data removed]",
            "text/plain": [
              "<Figure size 1440x288 with 2 Axes>"
            ]
          },
          "metadata": {
            "tags": [],
            "needs_background": "light"
          }
        }
      ]
    },
    {
      "cell_type": "code",
      "metadata": {
        "id": "wUuvCREXOqnz"
      },
      "source": [
        ""
      ],
      "execution_count": null,
      "outputs": []
    }
  ]
}